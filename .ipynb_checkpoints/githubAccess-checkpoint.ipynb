{
 "cells": [
  {
   "cell_type": "code",
   "execution_count": 1,
   "metadata": {},
   "outputs": [],
   "source": [
    "from github import Github\n",
    "import plotly.graph_objects as go\n",
    "import pandas as pd \n",
    "import numpy as np "
   ]
  },
  {
   "cell_type": "code",
   "execution_count": 11,
   "metadata": {},
   "outputs": [],
   "source": [
    "# Set up github access and get members from an organization\n",
    "g = Github(\"\")\n",
    "df = pd.DataFrame(columns=['Member'])\n",
    "memberList = []\n",
    "for member in g.get_organization(\"PyGithub\").get_members():\n",
    "    memberList.append(member.login)"
   ]
  },
  {
   "cell_type": "code",
   "execution_count": 13,
   "metadata": {},
   "outputs": [
    {
     "data": {
      "text/html": [
       "<div>\n",
       "<style scoped>\n",
       "    .dataframe tbody tr th:only-of-type {\n",
       "        vertical-align: middle;\n",
       "    }\n",
       "\n",
       "    .dataframe tbody tr th {\n",
       "        vertical-align: top;\n",
       "    }\n",
       "\n",
       "    .dataframe thead th {\n",
       "        text-align: right;\n",
       "    }\n",
       "</style>\n",
       "<table border=\"1\" class=\"dataframe\">\n",
       "  <thead>\n",
       "    <tr style=\"text-align: right;\">\n",
       "      <th></th>\n",
       "      <th>Username</th>\n",
       "      <th>Repository</th>\n",
       "      <th>DateCreated</th>\n",
       "      <th>Language</th>\n",
       "    </tr>\n",
       "  </thead>\n",
       "  <tbody>\n",
       "    <tr>\n",
       "      <th>0</th>\n",
       "      <td>adamtheturtle</td>\n",
       "      <td>ACDTools</td>\n",
       "      <td>2017</td>\n",
       "      <td>Shell</td>\n",
       "    </tr>\n",
       "    <tr>\n",
       "      <th>1</th>\n",
       "      <td>adamtheturtle</td>\n",
       "      <td>acd_cli</td>\n",
       "      <td>2017</td>\n",
       "      <td>Python</td>\n",
       "    </tr>\n",
       "    <tr>\n",
       "      <th>2</th>\n",
       "      <td>adamtheturtle</td>\n",
       "      <td>addict</td>\n",
       "      <td>2017</td>\n",
       "      <td>Python</td>\n",
       "    </tr>\n",
       "    <tr>\n",
       "      <th>3</th>\n",
       "      <td>adamtheturtle</td>\n",
       "      <td>Alfred-Extensions</td>\n",
       "      <td>2017</td>\n",
       "      <td>None</td>\n",
       "    </tr>\n",
       "    <tr>\n",
       "      <th>4</th>\n",
       "      <td>adamtheturtle</td>\n",
       "      <td>attrs</td>\n",
       "      <td>2016</td>\n",
       "      <td>Python</td>\n",
       "    </tr>\n",
       "    <tr>\n",
       "      <th>...</th>\n",
       "      <td>...</td>\n",
       "      <td>...</td>\n",
       "      <td>...</td>\n",
       "      <td>...</td>\n",
       "    </tr>\n",
       "    <tr>\n",
       "      <th>317</th>\n",
       "      <td>sfdye</td>\n",
       "      <td>WeasyPrint</td>\n",
       "      <td>2017</td>\n",
       "      <td>Python</td>\n",
       "    </tr>\n",
       "    <tr>\n",
       "      <th>318</th>\n",
       "      <td>sfdye</td>\n",
       "      <td>WeChatPlugin-MacOS</td>\n",
       "      <td>2017</td>\n",
       "      <td>Objective-C</td>\n",
       "    </tr>\n",
       "    <tr>\n",
       "      <th>319</th>\n",
       "      <td>sfdye</td>\n",
       "      <td>wedding</td>\n",
       "      <td>2018</td>\n",
       "      <td>JavaScript</td>\n",
       "    </tr>\n",
       "    <tr>\n",
       "      <th>320</th>\n",
       "      <td>sfdye</td>\n",
       "      <td>winfile</td>\n",
       "      <td>2018</td>\n",
       "      <td>C</td>\n",
       "    </tr>\n",
       "    <tr>\n",
       "      <th>321</th>\n",
       "      <td>sfdye</td>\n",
       "      <td>wrk</td>\n",
       "      <td>2018</td>\n",
       "      <td>C</td>\n",
       "    </tr>\n",
       "  </tbody>\n",
       "</table>\n",
       "<p>322 rows × 4 columns</p>\n",
       "</div>"
      ],
      "text/plain": [
       "          Username          Repository DateCreated     Language\n",
       "0    adamtheturtle            ACDTools        2017        Shell\n",
       "1    adamtheturtle             acd_cli        2017       Python\n",
       "2    adamtheturtle              addict        2017       Python\n",
       "3    adamtheturtle   Alfred-Extensions        2017         None\n",
       "4    adamtheturtle               attrs        2016       Python\n",
       "..             ...                 ...         ...          ...\n",
       "317          sfdye          WeasyPrint        2017       Python\n",
       "318          sfdye  WeChatPlugin-MacOS        2017  Objective-C\n",
       "319          sfdye             wedding        2018   JavaScript\n",
       "320          sfdye             winfile        2018            C\n",
       "321          sfdye                 wrk        2018            C\n",
       "\n",
       "[322 rows x 4 columns]"
      ]
     },
     "execution_count": 13,
     "metadata": {},
     "output_type": "execute_result"
    }
   ],
   "source": [
    "# Get all of the member's repositories\n",
    "df = pd.DataFrame(columns=['Username','Repository','DateCreated','Language'])\n",
    "for member in memberList:\n",
    "    currentUser = g.get_user(member)\n",
    "    for repo in currentUser.get_repos():\n",
    "        new_row = {'Username': member, 'Repository': repo.name, 'DateCreated': repo.created_at.year, 'Language':repo.language}\n",
    "        df = df.append(new_row, ignore_index=True)\n",
    "df"
   ]
  },
  {
   "cell_type": "code",
   "execution_count": 10,
   "metadata": {},
   "outputs": [
    {
     "data": {
      "text/html": [
       "<div>\n",
       "<style scoped>\n",
       "    .dataframe tbody tr th:only-of-type {\n",
       "        vertical-align: middle;\n",
       "    }\n",
       "\n",
       "    .dataframe tbody tr th {\n",
       "        vertical-align: top;\n",
       "    }\n",
       "\n",
       "    .dataframe thead th {\n",
       "        text-align: right;\n",
       "    }\n",
       "</style>\n",
       "<table border=\"1\" class=\"dataframe\">\n",
       "  <thead>\n",
       "    <tr style=\"text-align: right;\">\n",
       "      <th></th>\n",
       "      <th>Username</th>\n",
       "      <th>Repository</th>\n",
       "      <th>Date Created</th>\n",
       "      <th>Language</th>\n",
       "    </tr>\n",
       "  </thead>\n",
       "  <tbody>\n",
       "  </tbody>\n",
       "</table>\n",
       "</div>"
      ],
      "text/plain": [
       "Empty DataFrame\n",
       "Columns: [Username, Repository, Date Created, Language]\n",
       "Index: []"
      ]
     },
     "execution_count": 10,
     "metadata": {},
     "output_type": "execute_result"
    }
   ],
   "source": [
    "df.sort_values(by=['Username', 'DateCreated'])\n",
    "df"
   ]
  },
  {
   "cell_type": "code",
   "execution_count": null,
   "metadata": {},
   "outputs": [],
   "source": []
  }
 ],
 "metadata": {
  "kernelspec": {
   "display_name": "Python 3",
   "language": "python",
   "name": "python3"
  },
  "language_info": {
   "codemirror_mode": {
    "name": "ipython",
    "version": 3
   },
   "file_extension": ".py",
   "mimetype": "text/x-python",
   "name": "python",
   "nbconvert_exporter": "python",
   "pygments_lexer": "ipython3",
   "version": "3.7.4"
  }
 },
 "nbformat": 4,
 "nbformat_minor": 2
}
