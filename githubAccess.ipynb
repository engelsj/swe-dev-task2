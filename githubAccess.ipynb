{
 "cells": [
  {
   "cell_type": "code",
   "execution_count": 1,
   "metadata": {},
   "outputs": [],
   "source": [
    "from github import Github\n",
    "import plotly.express as px\n",
    "import plotly.graph_objects as go\n",
    "import pandas as pd \n",
    "import numpy as np "
   ]
  },
  {
   "cell_type": "code",
   "execution_count": 2,
   "metadata": {},
   "outputs": [],
   "source": [
    "# Set up github access and get members from an organization\n",
    "pd.set_option('display.max_rows', None)\n",
    "# Input github access token\n",
    "g = Github(\"6dec4a753453cdbf66d526d8a646004deea5d11c\")\n",
    "# Create a list of members \n",
    "memberList = []\n",
    "# Get every member from an organization \n",
    "for member in g.get_organization(\"PyGithub\").get_members():\n",
    "    memberList.append(member.login)"
   ]
  },
  {
   "cell_type": "code",
   "execution_count": 3,
   "metadata": {},
   "outputs": [],
   "source": [
    "# Get all of the member's repositories and add them to a dataframe\n",
    "df = pd.DataFrame(columns=['Username','Repository','DateCreated','Language', 'Size'])\n",
    "for member in memberList:\n",
    "    currentUser = g.get_user(member)\n",
    "    for repo in currentUser.get_repos():\n",
    "        new_row = {'Username': member.strip(), 'Repository': repo.name.strip(), 'DateCreated': repo.created_at.year, 'Language':repo.language, 'Size':repo.size, 'Contributors':repo.get_contributors().totalCount}\n",
    "        df = df.append(new_row, ignore_index=True)"
   ]
  },
  {
   "cell_type": "code",
   "execution_count": 8,
   "metadata": {},
   "outputs": [],
   "source": [
    "# add suppression to copying warning \n",
    "pd.options.mode.chained_assignment = None\n",
    "# Sort our dataframe by users and datecreated \n",
    "df = df.sort_values(by=['Username', 'DateCreated'])\n",
    "# Get rid of all of the empty repos or ones with no language \n",
    "df = df.loc[(df[['Size','Contributors']] != 0).all(axis=1)]\n",
    "df = df.loc[df.Language != 'None']\n",
    "# Shift our datecreated to years of experience by subtracting the year from their first year \n",
    "for member in memberList:\n",
    "    mask = (df['Username'] == member)\n",
    "    df['DateCreated'][mask] = df['DateCreated'] - (df.loc[df['Username'] == member])['DateCreated'].min()\n",
    "maxYear = df['DateCreated'].max()"
   ]
  },
  {
   "cell_type": "code",
   "execution_count": 82,
   "metadata": {},
   "outputs": [],
   "source": [
    "pd.set_option('precision', 0)\n",
    "# create a dataframe for each year \n",
    "dataframe_collection = [] \n",
    "for year in range(maxYear):\n",
    "    tempArray = df.loc[df['DateCreated'] == year]\n",
    "    tempArray = tempArray.drop(['Username', 'Repository',\"DateCreated\"], axis=1)\n",
    "    yearArray = pd.DataFrame(columns=['Language','Repositories','Average Size','Contributors'])\n",
    "    yearArray['Language'] = df.Language.unique()\n",
    "    uniqueValues = df.Language.unique()\n",
    "    # find the amount of times the languages is used, the mean of the repo, and the contributors that they interact with \n",
    "    for language in uniqueValues:\n",
    "        mask = (yearArray['Language'] == language)\n",
    "        yearArray['Repositories'][mask] = tempArray.loc[tempArray['Language'] == language].Language.count()\n",
    "        yearArray['Average Size'][mask] = tempArray.loc[tempArray['Language'] == language].Size.mean()\n",
    "        yearArray['Contributors'][mask] = tempArray.loc[tempArray['Language'] == language].Contributors.mean()\n",
    "        yearArray['Average Size'].fillna(0, inplace=True)\n",
    "        yearArray['Repositories'].fillna(0, inplace=True)\n",
    "        yearArray['Contributors'].fillna(0, inplace=True)\n",
    "    dataframe_collection.append(yearArray)"
   ]
  },
  {
   "cell_type": "code",
   "execution_count": 83,
   "metadata": {},
   "outputs": [],
   "source": [
    "# Combine each language into one value\n",
    "for dataIndex in range(len(dataframe_collection) - 1):\n",
    "    dataframe_collection[dataIndex + 1]['Repositories'] = dataframe_collection[dataIndex + 1]['Repositories'] + dataframe_collection[dataIndex]['Repositories']\n",
    "    dataframe_collection[dataIndex + 1]['Average Size'] = (dataframe_collection[dataIndex + 1]['Average Size'] + dataframe_collection[dataIndex]['Average Size']/2)\n",
    "    dataframe_collection[dataIndex + 1]['Contributors'] = (dataframe_collection[dataIndex + 1]['Contributors'] + dataframe_collection[dataIndex]['Contributors'])"
   ]
  },
  {
   "cell_type": "code",
   "execution_count": 84,
   "metadata": {},
   "outputs": [],
   "source": [
    "# Cleaning up some outliers \n",
    "outliers = ['None', 'Erlang', 'HCL', 'VimL','Go','Roff','Jupyter Notebook','Python']\n",
    "for dataIndex in range(len(dataframe_collection)):\n",
    "    for outlier in outliers:\n",
    "        dataframe_collection[dataIndex] = dataframe_collection[dataIndex].replace(to_replace=outlier, value=np.nan).dropna()\n",
    "        dataframe_collection[dataIndex]['Year'] = dataIndex\n",
    "finalDataBase = pd.concat(dataframe_collection)\n",
    "finalDataBase = finalDataBase.sort_values(by=['Language'])\n",
    "languages = finalDataBase.Language.unique()\n",
    "years = ['0','1','2','3','4','5','6','7','8']"
   ]
  },
  {
   "cell_type": "code",
   "execution_count": 85,
   "metadata": {},
   "outputs": [],
   "source": [
    "# make figure\n",
    "fig_dict = {\n",
    "    \"data\": [],\n",
    "    \"layout\": {},\n",
    "    \"frames\": []\n",
    "}"
   ]
  },
  {
   "cell_type": "code",
   "execution_count": 86,
   "metadata": {},
   "outputs": [],
   "source": [
    "years = np.arange(maxYear)\n",
    "fig_dict[\"layout\"][\"xaxis\"] = {\"range\": [0, 45], \"title\": \"Number of Active Repositories\"}\n",
    "fig_dict[\"layout\"][\"yaxis\"] = {\"title\": \"Number of Contributors\", \"range\": [0, 400]}\n",
    "fig_dict[\"layout\"][\"hovermode\"] = \"closest\"\n",
    "fig_dict[\"layout\"][\"sliders\"] = {\n",
    "    \"args\": [\n",
    "        \"transition\", {\n",
    "            \"duration\": 400,\n",
    "            \"easing\": \"cubic-in-out\"\n",
    "        }\n",
    "    ],\n",
    "    \"initialValue\": \"0\",\n",
    "    \"plotlycommand\": \"animate\",\n",
    "    \"values\": years,\n",
    "    \"visible\": True\n",
    "}"
   ]
  },
  {
   "cell_type": "code",
   "execution_count": 87,
   "metadata": {},
   "outputs": [],
   "source": [
    "# fill in most of layout\n",
    "fig_dict[\"layout\"][\"updatemenus\"] = [\n",
    "    {\n",
    "        \"buttons\": [\n",
    "            {\n",
    "                \"args\": [None, {\"frame\": {\"duration\": 500, \"redraw\": False},\n",
    "                                \"fromcurrent\": True, \"transition\": {\"duration\": 300,\n",
    "                                                                    \"easing\": \"quadratic-in-out\"}}],\n",
    "                \"label\": \"Play\",\n",
    "                \"method\": \"animate\"\n",
    "            },\n",
    "            {\n",
    "                \"args\": [[None], {\"frame\": {\"duration\": 0, \"redraw\": False},\n",
    "                                  \"mode\": \"immediate\",\n",
    "                                  \"transition\": {\"duration\": 0}}],\n",
    "                \"label\": \"Pause\",\n",
    "                \"method\": \"animate\"\n",
    "            }\n",
    "        ],\n",
    "        \"direction\": \"left\",\n",
    "        \"pad\": {\"r\": 10, \"t\": 87},\n",
    "        \"showactive\": False,\n",
    "        \"type\": \"buttons\",\n",
    "        \"x\": 0.1,\n",
    "        \"xanchor\": \"right\",\n",
    "        \"y\": 0,\n",
    "        \"yanchor\": \"top\"\n",
    "    }\n",
    "]\n",
    "\n",
    "sliders_dict = {\n",
    "    \"active\": 0,\n",
    "    \"yanchor\": \"top\",\n",
    "    \"xanchor\": \"left\",\n",
    "    \"currentvalue\": {\n",
    "        \"font\": {\"size\": 20},\n",
    "        \"prefix\": \"Years of Experience:\",\n",
    "        \"visible\": True,\n",
    "        \"xanchor\": \"right\"\n",
    "    },\n",
    "    \"transition\": {\"duration\": 300, \"easing\": \"cubic-in-out\"},\n",
    "    \"pad\": {\"b\": 10, \"t\": 50},\n",
    "    \"len\": 0.9,\n",
    "    \"x\": 0.1,\n",
    "    \"y\": 0,\n",
    "    \"steps\": []\n",
    "}"
   ]
  },
  {
   "cell_type": "code",
   "execution_count": 88,
   "metadata": {},
   "outputs": [],
   "source": [
    "year = 0\n",
    "for language in languages:\n",
    "    dataset_by_year = finalDataBase[finalDataBase[\"Year\"] == year]\n",
    "    dataset_by_year_and_language = dataset_by_year[dataset_by_year[\"Language\"] == language]\n",
    "    data_dict = {\n",
    "        \"x\": list(dataset_by_year_and_language[\"Repositories\"]),\n",
    "        \"y\": list(dataset_by_year_and_language[\"Contributors\"]),\n",
    "        \"mode\": \"markers\",\n",
    "        \"text\": list(dataset_by_year_and_language[\"Language\"]),\n",
    "        \"marker\": {\n",
    "            \"sizemode\": \"area\",\n",
    "            \"sizeref\": 30,\n",
    "            \"size\": list(dataset_by_year_and_language[\"Average Size\"])\n",
    "        },\n",
    "        \"name\": language\n",
    "    }\n",
    "    fig_dict[\"data\"].append(data_dict)"
   ]
  },
  {
   "cell_type": "code",
   "execution_count": 89,
   "metadata": {},
   "outputs": [],
   "source": [
    "dataset_by_year_and_language\n",
    "# make frames\n",
    "for year in years:\n",
    "    frame = {\"data\": [], \"name\": str(year)}\n",
    "    for language in languages:\n",
    "        dataset_by_year = finalDataBase[finalDataBase[\"Year\"] == int(year)]\n",
    "        dataset_by_year_and_language = dataset_by_year[dataset_by_year[\"Language\"] == language]\n",
    "        data_dict = {\n",
    "            \"x\": list(dataset_by_year_and_language[\"Repositories\"]),\n",
    "            \"y\": list(dataset_by_year_and_language[\"Contributors\"]),\n",
    "            \"mode\": \"markers\",\n",
    "            \"text\": list(dataset_by_year_and_language[\"Language\"]),\n",
    "            \"marker\": {\n",
    "                \"sizemode\": \"area\",\n",
    "                \"sizeref\": 30,\n",
    "                \"size\": list(dataset_by_year_and_language[\"Average Size\"])\n",
    "            },\n",
    "            \"name\": language\n",
    "        }\n",
    "        frame[\"data\"].append(data_dict)\n",
    "\n",
    "    fig_dict[\"frames\"].append(frame)\n",
    "    slider_step = {\"args\": [\n",
    "        [year],\n",
    "        {\"frame\": {\"duration\": 300, \"redraw\": False},\n",
    "         \"mode\": \"immediate\",\n",
    "         \"transition\": {\"duration\": 300}}\n",
    "    ],\n",
    "        \"label\": str(year),   \n",
    "        \"method\": \"animate\"}\n",
    "    sliders_dict[\"steps\"].append(slider_step)"
   ]
  },
  {
   "cell_type": "code",
   "execution_count": 90,
   "metadata": {
    "scrolled": true
   },
   "outputs": [
    {
     "data": {
      "application/vnd.plotly.v1+json": {
       "config": {
        "plotlyServerURL": "https://plot.ly"
       },
       "data": [
        {
         "marker": {
          "size": [
           104
          ],
          "sizemode": "area",
          "sizeref": 30
         },
         "mode": "markers",
         "name": "C",
         "text": [
          "C"
         ],
         "type": "scatter",
         "x": [
          1
         ],
         "y": [
          1
         ]
        },
        {
         "marker": {
          "size": [
           0
          ],
          "sizemode": "area",
          "sizeref": 30
         },
         "mode": "markers",
         "name": "C#",
         "text": [
          "C#"
         ],
         "type": "scatter",
         "x": [
          0
         ],
         "y": [
          0
         ]
        },
        {
         "marker": {
          "size": [
           0
          ],
          "sizemode": "area",
          "sizeref": 30
         },
         "mode": "markers",
         "name": "C++",
         "text": [
          "C++"
         ],
         "type": "scatter",
         "x": [
          0
         ],
         "y": [
          0
         ]
        },
        {
         "marker": {
          "size": [
           0
          ],
          "sizemode": "area",
          "sizeref": 30
         },
         "mode": "markers",
         "name": "CSS",
         "text": [
          "CSS"
         ],
         "type": "scatter",
         "x": [
          0
         ],
         "y": [
          0
         ]
        },
        {
         "marker": {
          "size": [
           0
          ],
          "sizemode": "area",
          "sizeref": 30
         },
         "mode": "markers",
         "name": "Emacs Lisp",
         "text": [
          "Emacs Lisp"
         ],
         "type": "scatter",
         "x": [
          0
         ],
         "y": [
          0
         ]
        },
        {
         "marker": {
          "size": [
           0
          ],
          "sizemode": "area",
          "sizeref": 30
         },
         "mode": "markers",
         "name": "HTML",
         "text": [
          "HTML"
         ],
         "type": "scatter",
         "x": [
          0
         ],
         "y": [
          0
         ]
        },
        {
         "marker": {
          "size": [
           0
          ],
          "sizemode": "area",
          "sizeref": 30
         },
         "mode": "markers",
         "name": "Java",
         "text": [
          "Java"
         ],
         "type": "scatter",
         "x": [
          0
         ],
         "y": [
          0
         ]
        },
        {
         "marker": {
          "size": [
           18081.5
          ],
          "sizemode": "area",
          "sizeref": 30
         },
         "mode": "markers",
         "name": "JavaScript",
         "text": [
          "JavaScript"
         ],
         "type": "scatter",
         "x": [
          4
         ],
         "y": [
          4.5
         ]
        },
        {
         "marker": {
          "size": [
           0
          ],
          "sizemode": "area",
          "sizeref": 30
         },
         "mode": "markers",
         "name": "Makefile",
         "text": [
          "Makefile"
         ],
         "type": "scatter",
         "x": [
          0
         ],
         "y": [
          0
         ]
        },
        {
         "marker": {
          "size": [
           0
          ],
          "sizemode": "area",
          "sizeref": 30
         },
         "mode": "markers",
         "name": "OCaml",
         "text": [
          "OCaml"
         ],
         "type": "scatter",
         "x": [
          0
         ],
         "y": [
          0
         ]
        },
        {
         "marker": {
          "size": [
           0
          ],
          "sizemode": "area",
          "sizeref": 30
         },
         "mode": "markers",
         "name": "Objective-C",
         "text": [
          "Objective-C"
         ],
         "type": "scatter",
         "x": [
          0
         ],
         "y": [
          0
         ]
        },
        {
         "marker": {
          "size": [
           0
          ],
          "sizemode": "area",
          "sizeref": 30
         },
         "mode": "markers",
         "name": "PHP",
         "text": [
          "PHP"
         ],
         "type": "scatter",
         "x": [
          0
         ],
         "y": [
          0
         ]
        },
        {
         "marker": {
          "size": [
           0
          ],
          "sizemode": "area",
          "sizeref": 30
         },
         "mode": "markers",
         "name": "Ruby",
         "text": [
          "Ruby"
         ],
         "type": "scatter",
         "x": [
          0
         ],
         "y": [
          0
         ]
        },
        {
         "marker": {
          "size": [
           0
          ],
          "sizemode": "area",
          "sizeref": 30
         },
         "mode": "markers",
         "name": "Rust",
         "text": [
          "Rust"
         ],
         "type": "scatter",
         "x": [
          0
         ],
         "y": [
          0
         ]
        },
        {
         "marker": {
          "size": [
           0
          ],
          "sizemode": "area",
          "sizeref": 30
         },
         "mode": "markers",
         "name": "Shell",
         "text": [
          "Shell"
         ],
         "type": "scatter",
         "x": [
          0
         ],
         "y": [
          0
         ]
        },
        {
         "marker": {
          "size": [
           0
          ],
          "sizemode": "area",
          "sizeref": 30
         },
         "mode": "markers",
         "name": "Swift",
         "text": [
          "Swift"
         ],
         "type": "scatter",
         "x": [
          0
         ],
         "y": [
          0
         ]
        },
        {
         "marker": {
          "size": [
           0
          ],
          "sizemode": "area",
          "sizeref": 30
         },
         "mode": "markers",
         "name": "Vue",
         "text": [
          "Vue"
         ],
         "type": "scatter",
         "x": [
          0
         ],
         "y": [
          0
         ]
        }
       ],
       "frames": [
        {
         "data": [
          {
           "marker": {
            "size": [
             104
            ],
            "sizemode": "area",
            "sizeref": 30
           },
           "mode": "markers",
           "name": "C",
           "text": [
            "C"
           ],
           "type": "scatter",
           "x": [
            1
           ],
           "y": [
            1
           ]
          },
          {
           "marker": {
            "size": [
             0
            ],
            "sizemode": "area",
            "sizeref": 30
           },
           "mode": "markers",
           "name": "C#",
           "text": [
            "C#"
           ],
           "type": "scatter",
           "x": [
            0
           ],
           "y": [
            0
           ]
          },
          {
           "marker": {
            "size": [
             0
            ],
            "sizemode": "area",
            "sizeref": 30
           },
           "mode": "markers",
           "name": "C++",
           "text": [
            "C++"
           ],
           "type": "scatter",
           "x": [
            0
           ],
           "y": [
            0
           ]
          },
          {
           "marker": {
            "size": [
             0
            ],
            "sizemode": "area",
            "sizeref": 30
           },
           "mode": "markers",
           "name": "CSS",
           "text": [
            "CSS"
           ],
           "type": "scatter",
           "x": [
            0
           ],
           "y": [
            0
           ]
          },
          {
           "marker": {
            "size": [
             0
            ],
            "sizemode": "area",
            "sizeref": 30
           },
           "mode": "markers",
           "name": "Emacs Lisp",
           "text": [
            "Emacs Lisp"
           ],
           "type": "scatter",
           "x": [
            0
           ],
           "y": [
            0
           ]
          },
          {
           "marker": {
            "size": [
             0
            ],
            "sizemode": "area",
            "sizeref": 30
           },
           "mode": "markers",
           "name": "HTML",
           "text": [
            "HTML"
           ],
           "type": "scatter",
           "x": [
            0
           ],
           "y": [
            0
           ]
          },
          {
           "marker": {
            "size": [
             0
            ],
            "sizemode": "area",
            "sizeref": 30
           },
           "mode": "markers",
           "name": "Java",
           "text": [
            "Java"
           ],
           "type": "scatter",
           "x": [
            0
           ],
           "y": [
            0
           ]
          },
          {
           "marker": {
            "size": [
             18081.5
            ],
            "sizemode": "area",
            "sizeref": 30
           },
           "mode": "markers",
           "name": "JavaScript",
           "text": [
            "JavaScript"
           ],
           "type": "scatter",
           "x": [
            4
           ],
           "y": [
            4.5
           ]
          },
          {
           "marker": {
            "size": [
             0
            ],
            "sizemode": "area",
            "sizeref": 30
           },
           "mode": "markers",
           "name": "Makefile",
           "text": [
            "Makefile"
           ],
           "type": "scatter",
           "x": [
            0
           ],
           "y": [
            0
           ]
          },
          {
           "marker": {
            "size": [
             0
            ],
            "sizemode": "area",
            "sizeref": 30
           },
           "mode": "markers",
           "name": "OCaml",
           "text": [
            "OCaml"
           ],
           "type": "scatter",
           "x": [
            0
           ],
           "y": [
            0
           ]
          },
          {
           "marker": {
            "size": [
             0
            ],
            "sizemode": "area",
            "sizeref": 30
           },
           "mode": "markers",
           "name": "Objective-C",
           "text": [
            "Objective-C"
           ],
           "type": "scatter",
           "x": [
            0
           ],
           "y": [
            0
           ]
          },
          {
           "marker": {
            "size": [
             0
            ],
            "sizemode": "area",
            "sizeref": 30
           },
           "mode": "markers",
           "name": "PHP",
           "text": [
            "PHP"
           ],
           "type": "scatter",
           "x": [
            0
           ],
           "y": [
            0
           ]
          },
          {
           "marker": {
            "size": [
             0
            ],
            "sizemode": "area",
            "sizeref": 30
           },
           "mode": "markers",
           "name": "Ruby",
           "text": [
            "Ruby"
           ],
           "type": "scatter",
           "x": [
            0
           ],
           "y": [
            0
           ]
          },
          {
           "marker": {
            "size": [
             0
            ],
            "sizemode": "area",
            "sizeref": 30
           },
           "mode": "markers",
           "name": "Rust",
           "text": [
            "Rust"
           ],
           "type": "scatter",
           "x": [
            0
           ],
           "y": [
            0
           ]
          },
          {
           "marker": {
            "size": [
             0
            ],
            "sizemode": "area",
            "sizeref": 30
           },
           "mode": "markers",
           "name": "Shell",
           "text": [
            "Shell"
           ],
           "type": "scatter",
           "x": [
            0
           ],
           "y": [
            0
           ]
          },
          {
           "marker": {
            "size": [
             0
            ],
            "sizemode": "area",
            "sizeref": 30
           },
           "mode": "markers",
           "name": "Swift",
           "text": [
            "Swift"
           ],
           "type": "scatter",
           "x": [
            0
           ],
           "y": [
            0
           ]
          },
          {
           "marker": {
            "size": [
             0
            ],
            "sizemode": "area",
            "sizeref": 30
           },
           "mode": "markers",
           "name": "Vue",
           "text": [
            "Vue"
           ],
           "type": "scatter",
           "x": [
            0
           ],
           "y": [
            0
           ]
          }
         ],
         "name": "0"
        },
        {
         "data": [
          {
           "marker": {
            "size": [
             52
            ],
            "sizemode": "area",
            "sizeref": 30
           },
           "mode": "markers",
           "name": "C",
           "text": [
            "C"
           ],
           "type": "scatter",
           "x": [
            1
           ],
           "y": [
            1
           ]
          },
          {
           "marker": {
            "size": [
             0
            ],
            "sizemode": "area",
            "sizeref": 30
           },
           "mode": "markers",
           "name": "C#",
           "text": [
            "C#"
           ],
           "type": "scatter",
           "x": [
            0
           ],
           "y": [
            0
           ]
          },
          {
           "marker": {
            "size": [
             0
            ],
            "sizemode": "area",
            "sizeref": 30
           },
           "mode": "markers",
           "name": "C++",
           "text": [
            "C++"
           ],
           "type": "scatter",
           "x": [
            0
           ],
           "y": [
            0
           ]
          },
          {
           "marker": {
            "size": [
             2371
            ],
            "sizemode": "area",
            "sizeref": 30
           },
           "mode": "markers",
           "name": "CSS",
           "text": [
            "CSS"
           ],
           "type": "scatter",
           "x": [
            1
           ],
           "y": [
            4
           ]
          },
          {
           "marker": {
            "size": [
             808
            ],
            "sizemode": "area",
            "sizeref": 30
           },
           "mode": "markers",
           "name": "Emacs Lisp",
           "text": [
            "Emacs Lisp"
           ],
           "type": "scatter",
           "x": [
            1
           ],
           "y": [
            1
           ]
          },
          {
           "marker": {
            "size": [
             0
            ],
            "sizemode": "area",
            "sizeref": 30
           },
           "mode": "markers",
           "name": "HTML",
           "text": [
            "HTML"
           ],
           "type": "scatter",
           "x": [
            0
           ],
           "y": [
            0
           ]
          },
          {
           "marker": {
            "size": [
             112
            ],
            "sizemode": "area",
            "sizeref": 30
           },
           "mode": "markers",
           "name": "Java",
           "text": [
            "Java"
           ],
           "type": "scatter",
           "x": [
            1
           ],
           "y": [
            1
           ]
          },
          {
           "marker": {
            "size": [
             9040.75
            ],
            "sizemode": "area",
            "sizeref": 30
           },
           "mode": "markers",
           "name": "JavaScript",
           "text": [
            "JavaScript"
           ],
           "type": "scatter",
           "x": [
            4
           ],
           "y": [
            4.5
           ]
          },
          {
           "marker": {
            "size": [
             0
            ],
            "sizemode": "area",
            "sizeref": 30
           },
           "mode": "markers",
           "name": "Makefile",
           "text": [
            "Makefile"
           ],
           "type": "scatter",
           "x": [
            0
           ],
           "y": [
            0
           ]
          },
          {
           "marker": {
            "size": [
             0
            ],
            "sizemode": "area",
            "sizeref": 30
           },
           "mode": "markers",
           "name": "OCaml",
           "text": [
            "OCaml"
           ],
           "type": "scatter",
           "x": [
            0
           ],
           "y": [
            0
           ]
          },
          {
           "marker": {
            "size": [
             0
            ],
            "sizemode": "area",
            "sizeref": 30
           },
           "mode": "markers",
           "name": "Objective-C",
           "text": [
            "Objective-C"
           ],
           "type": "scatter",
           "x": [
            0
           ],
           "y": [
            0
           ]
          },
          {
           "marker": {
            "size": [
             0
            ],
            "sizemode": "area",
            "sizeref": 30
           },
           "mode": "markers",
           "name": "PHP",
           "text": [
            "PHP"
           ],
           "type": "scatter",
           "x": [
            0
           ],
           "y": [
            0
           ]
          },
          {
           "marker": {
            "size": [
             124
            ],
            "sizemode": "area",
            "sizeref": 30
           },
           "mode": "markers",
           "name": "Ruby",
           "text": [
            "Ruby"
           ],
           "type": "scatter",
           "x": [
            1
           ],
           "y": [
            1
           ]
          },
          {
           "marker": {
            "size": [
             0
            ],
            "sizemode": "area",
            "sizeref": 30
           },
           "mode": "markers",
           "name": "Rust",
           "text": [
            "Rust"
           ],
           "type": "scatter",
           "x": [
            0
           ],
           "y": [
            0
           ]
          },
          {
           "marker": {
            "size": [
             108
            ],
            "sizemode": "area",
            "sizeref": 30
           },
           "mode": "markers",
           "name": "Shell",
           "text": [
            "Shell"
           ],
           "type": "scatter",
           "x": [
            1
           ],
           "y": [
            1
           ]
          },
          {
           "marker": {
            "size": [
             0
            ],
            "sizemode": "area",
            "sizeref": 30
           },
           "mode": "markers",
           "name": "Swift",
           "text": [
            "Swift"
           ],
           "type": "scatter",
           "x": [
            0
           ],
           "y": [
            0
           ]
          },
          {
           "marker": {
            "size": [
             1490
            ],
            "sizemode": "area",
            "sizeref": 30
           },
           "mode": "markers",
           "name": "Vue",
           "text": [
            "Vue"
           ],
           "type": "scatter",
           "x": [
            1
           ],
           "y": [
            1
           ]
          }
         ],
         "name": "1"
        },
        {
         "data": [
          {
           "marker": {
            "size": [
             18020.5
            ],
            "sizemode": "area",
            "sizeref": 30
           },
           "mode": "markers",
           "name": "C",
           "text": [
            "C"
           ],
           "type": "scatter",
           "x": [
            3
           ],
           "y": [
            63.5
           ]
          },
          {
           "marker": {
            "size": [
             0
            ],
            "sizemode": "area",
            "sizeref": 30
           },
           "mode": "markers",
           "name": "C#",
           "text": [
            "C#"
           ],
           "type": "scatter",
           "x": [
            0
           ],
           "y": [
            0
           ]
          },
          {
           "marker": {
            "size": [
             0
            ],
            "sizemode": "area",
            "sizeref": 30
           },
           "mode": "markers",
           "name": "C++",
           "text": [
            "C++"
           ],
           "type": "scatter",
           "x": [
            0
           ],
           "y": [
            0
           ]
          },
          {
           "marker": {
            "size": [
             1185.5
            ],
            "sizemode": "area",
            "sizeref": 30
           },
           "mode": "markers",
           "name": "CSS",
           "text": [
            "CSS"
           ],
           "type": "scatter",
           "x": [
            1
           ],
           "y": [
            4
           ]
          },
          {
           "marker": {
            "size": [
             404
            ],
            "sizemode": "area",
            "sizeref": 30
           },
           "mode": "markers",
           "name": "Emacs Lisp",
           "text": [
            "Emacs Lisp"
           ],
           "type": "scatter",
           "x": [
            1
           ],
           "y": [
            1
           ]
          },
          {
           "marker": {
            "size": [
             0
            ],
            "sizemode": "area",
            "sizeref": 30
           },
           "mode": "markers",
           "name": "HTML",
           "text": [
            "HTML"
           ],
           "type": "scatter",
           "x": [
            0
           ],
           "y": [
            0
           ]
          },
          {
           "marker": {
            "size": [
             56
            ],
            "sizemode": "area",
            "sizeref": 30
           },
           "mode": "markers",
           "name": "Java",
           "text": [
            "Java"
           ],
           "type": "scatter",
           "x": [
            1
           ],
           "y": [
            1
           ]
          },
          {
           "marker": {
            "size": [
             5013.041666666667
            ],
            "sizemode": "area",
            "sizeref": 30
           },
           "mode": "markers",
           "name": "JavaScript",
           "text": [
            "JavaScript"
           ],
           "type": "scatter",
           "x": [
            7
           ],
           "y": [
            5.5
           ]
          },
          {
           "marker": {
            "size": [
             0
            ],
            "sizemode": "area",
            "sizeref": 30
           },
           "mode": "markers",
           "name": "Makefile",
           "text": [
            "Makefile"
           ],
           "type": "scatter",
           "x": [
            0
           ],
           "y": [
            0
           ]
          },
          {
           "marker": {
            "size": [
             0
            ],
            "sizemode": "area",
            "sizeref": 30
           },
           "mode": "markers",
           "name": "OCaml",
           "text": [
            "OCaml"
           ],
           "type": "scatter",
           "x": [
            0
           ],
           "y": [
            0
           ]
          },
          {
           "marker": {
            "size": [
             2693
            ],
            "sizemode": "area",
            "sizeref": 30
           },
           "mode": "markers",
           "name": "Objective-C",
           "text": [
            "Objective-C"
           ],
           "type": "scatter",
           "x": [
            1
           ],
           "y": [
            23
           ]
          },
          {
           "marker": {
            "size": [
             0
            ],
            "sizemode": "area",
            "sizeref": 30
           },
           "mode": "markers",
           "name": "PHP",
           "text": [
            "PHP"
           ],
           "type": "scatter",
           "x": [
            0
           ],
           "y": [
            0
           ]
          },
          {
           "marker": {
            "size": [
             62
            ],
            "sizemode": "area",
            "sizeref": 30
           },
           "mode": "markers",
           "name": "Ruby",
           "text": [
            "Ruby"
           ],
           "type": "scatter",
           "x": [
            1
           ],
           "y": [
            1
           ]
          },
          {
           "marker": {
            "size": [
             0
            ],
            "sizemode": "area",
            "sizeref": 30
           },
           "mode": "markers",
           "name": "Rust",
           "text": [
            "Rust"
           ],
           "type": "scatter",
           "x": [
            0
           ],
           "y": [
            0
           ]
          },
          {
           "marker": {
            "size": [
             533
            ],
            "sizemode": "area",
            "sizeref": 30
           },
           "mode": "markers",
           "name": "Shell",
           "text": [
            "Shell"
           ],
           "type": "scatter",
           "x": [
            2
           ],
           "y": [
            2
           ]
          },
          {
           "marker": {
            "size": [
             0
            ],
            "sizemode": "area",
            "sizeref": 30
           },
           "mode": "markers",
           "name": "Swift",
           "text": [
            "Swift"
           ],
           "type": "scatter",
           "x": [
            0
           ],
           "y": [
            0
           ]
          },
          {
           "marker": {
            "size": [
             745
            ],
            "sizemode": "area",
            "sizeref": 30
           },
           "mode": "markers",
           "name": "Vue",
           "text": [
            "Vue"
           ],
           "type": "scatter",
           "x": [
            1
           ],
           "y": [
            1
           ]
          }
         ],
         "name": "2"
        },
        {
         "data": [
          {
           "marker": {
            "size": [
             9010.25
            ],
            "sizemode": "area",
            "sizeref": 30
           },
           "mode": "markers",
           "name": "C",
           "text": [
            "C"
           ],
           "type": "scatter",
           "x": [
            3
           ],
           "y": [
            63.5
           ]
          },
          {
           "marker": {
            "size": [
             0
            ],
            "sizemode": "area",
            "sizeref": 30
           },
           "mode": "markers",
           "name": "C#",
           "text": [
            "C#"
           ],
           "type": "scatter",
           "x": [
            0
           ],
           "y": [
            0
           ]
          },
          {
           "marker": {
            "size": [
             0
            ],
            "sizemode": "area",
            "sizeref": 30
           },
           "mode": "markers",
           "name": "C++",
           "text": [
            "C++"
           ],
           "type": "scatter",
           "x": [
            0
           ],
           "y": [
            0
           ]
          },
          {
           "marker": {
            "size": [
             592.75
            ],
            "sizemode": "area",
            "sizeref": 30
           },
           "mode": "markers",
           "name": "CSS",
           "text": [
            "CSS"
           ],
           "type": "scatter",
           "x": [
            1
           ],
           "y": [
            4
           ]
          },
          {
           "marker": {
            "size": [
             202
            ],
            "sizemode": "area",
            "sizeref": 30
           },
           "mode": "markers",
           "name": "Emacs Lisp",
           "text": [
            "Emacs Lisp"
           ],
           "type": "scatter",
           "x": [
            1
           ],
           "y": [
            1
           ]
          },
          {
           "marker": {
            "size": [
             0
            ],
            "sizemode": "area",
            "sizeref": 30
           },
           "mode": "markers",
           "name": "HTML",
           "text": [
            "HTML"
           ],
           "type": "scatter",
           "x": [
            0
           ],
           "y": [
            0
           ]
          },
          {
           "marker": {
            "size": [
             2012
            ],
            "sizemode": "area",
            "sizeref": 30
           },
           "mode": "markers",
           "name": "Java",
           "text": [
            "Java"
           ],
           "type": "scatter",
           "x": [
            2
           ],
           "y": [
            5
           ]
          },
          {
           "marker": {
            "size": [
             3981.1208333333334
            ],
            "sizemode": "area",
            "sizeref": 30
           },
           "mode": "markers",
           "name": "JavaScript",
           "text": [
            "JavaScript"
           ],
           "type": "scatter",
           "x": [
            12
           ],
           "y": [
            14.9
           ]
          },
          {
           "marker": {
            "size": [
             0
            ],
            "sizemode": "area",
            "sizeref": 30
           },
           "mode": "markers",
           "name": "Makefile",
           "text": [
            "Makefile"
           ],
           "type": "scatter",
           "x": [
            0
           ],
           "y": [
            0
           ]
          },
          {
           "marker": {
            "size": [
             0
            ],
            "sizemode": "area",
            "sizeref": 30
           },
           "mode": "markers",
           "name": "OCaml",
           "text": [
            "OCaml"
           ],
           "type": "scatter",
           "x": [
            0
           ],
           "y": [
            0
           ]
          },
          {
           "marker": {
            "size": [
             1346.5
            ],
            "sizemode": "area",
            "sizeref": 30
           },
           "mode": "markers",
           "name": "Objective-C",
           "text": [
            "Objective-C"
           ],
           "type": "scatter",
           "x": [
            1
           ],
           "y": [
            23
           ]
          },
          {
           "marker": {
            "size": [
             0
            ],
            "sizemode": "area",
            "sizeref": 30
           },
           "mode": "markers",
           "name": "PHP",
           "text": [
            "PHP"
           ],
           "type": "scatter",
           "x": [
            0
           ],
           "y": [
            0
           ]
          },
          {
           "marker": {
            "size": [
             31
            ],
            "sizemode": "area",
            "sizeref": 30
           },
           "mode": "markers",
           "name": "Ruby",
           "text": [
            "Ruby"
           ],
           "type": "scatter",
           "x": [
            1
           ],
           "y": [
            1
           ]
          },
          {
           "marker": {
            "size": [
             0
            ],
            "sizemode": "area",
            "sizeref": 30
           },
           "mode": "markers",
           "name": "Rust",
           "text": [
            "Rust"
           ],
           "type": "scatter",
           "x": [
            0
           ],
           "y": [
            0
           ]
          },
          {
           "marker": {
            "size": [
             313
            ],
            "sizemode": "area",
            "sizeref": 30
           },
           "mode": "markers",
           "name": "Shell",
           "text": [
            "Shell"
           ],
           "type": "scatter",
           "x": [
            6
           ],
           "y": [
            3.75
           ]
          },
          {
           "marker": {
            "size": [
             0
            ],
            "sizemode": "area",
            "sizeref": 30
           },
           "mode": "markers",
           "name": "Swift",
           "text": [
            "Swift"
           ],
           "type": "scatter",
           "x": [
            0
           ],
           "y": [
            0
           ]
          },
          {
           "marker": {
            "size": [
             372.5
            ],
            "sizemode": "area",
            "sizeref": 30
           },
           "mode": "markers",
           "name": "Vue",
           "text": [
            "Vue"
           ],
           "type": "scatter",
           "x": [
            1
           ],
           "y": [
            1
           ]
          }
         ],
         "name": "3"
        },
        {
         "data": [
          {
           "marker": {
            "size": [
             4505.125
            ],
            "sizemode": "area",
            "sizeref": 30
           },
           "mode": "markers",
           "name": "C",
           "text": [
            "C"
           ],
           "type": "scatter",
           "x": [
            3
           ],
           "y": [
            63.5
           ]
          },
          {
           "marker": {
            "size": [
             234063
            ],
            "sizemode": "area",
            "sizeref": 30
           },
           "mode": "markers",
           "name": "C#",
           "text": [
            "C#"
           ],
           "type": "scatter",
           "x": [
            1
           ],
           "y": [
            118
           ]
          },
          {
           "marker": {
            "size": [
             163184
            ],
            "sizemode": "area",
            "sizeref": 30
           },
           "mode": "markers",
           "name": "C++",
           "text": [
            "C++"
           ],
           "type": "scatter",
           "x": [
            2
           ],
           "y": [
            124
           ]
          },
          {
           "marker": {
            "size": [
             296.375
            ],
            "sizemode": "area",
            "sizeref": 30
           },
           "mode": "markers",
           "name": "CSS",
           "text": [
            "CSS"
           ],
           "type": "scatter",
           "x": [
            1
           ],
           "y": [
            4
           ]
          },
          {
           "marker": {
            "size": [
             101
            ],
            "sizemode": "area",
            "sizeref": 30
           },
           "mode": "markers",
           "name": "Emacs Lisp",
           "text": [
            "Emacs Lisp"
           ],
           "type": "scatter",
           "x": [
            1
           ],
           "y": [
            1
           ]
          },
          {
           "marker": {
            "size": [
             1131.3333333333333
            ],
            "sizemode": "area",
            "sizeref": 30
           },
           "mode": "markers",
           "name": "HTML",
           "text": [
            "HTML"
           ],
           "type": "scatter",
           "x": [
            3
           ],
           "y": [
            43.333333333333336
           ]
          },
          {
           "marker": {
            "size": [
             1139.1875
            ],
            "sizemode": "area",
            "sizeref": 30
           },
           "mode": "markers",
           "name": "Java",
           "text": [
            "Java"
           ],
           "type": "scatter",
           "x": [
            34
           ],
           "y": [
            11.84375
           ]
          },
          {
           "marker": {
            "size": [
             176663.22708333333
            ],
            "sizemode": "area",
            "sizeref": 30
           },
           "mode": "markers",
           "name": "JavaScript",
           "text": [
            "JavaScript"
           ],
           "type": "scatter",
           "x": [
            15
           ],
           "y": [
            273.2333333333333
           ]
          },
          {
           "marker": {
            "size": [
             356
            ],
            "sizemode": "area",
            "sizeref": 30
           },
           "mode": "markers",
           "name": "Makefile",
           "text": [
            "Makefile"
           ],
           "type": "scatter",
           "x": [
            1
           ],
           "y": [
            12
           ]
          },
          {
           "marker": {
            "size": [
             0
            ],
            "sizemode": "area",
            "sizeref": 30
           },
           "mode": "markers",
           "name": "OCaml",
           "text": [
            "OCaml"
           ],
           "type": "scatter",
           "x": [
            0
           ],
           "y": [
            0
           ]
          },
          {
           "marker": {
            "size": [
             673.25
            ],
            "sizemode": "area",
            "sizeref": 30
           },
           "mode": "markers",
           "name": "Objective-C",
           "text": [
            "Objective-C"
           ],
           "type": "scatter",
           "x": [
            1
           ],
           "y": [
            23
           ]
          },
          {
           "marker": {
            "size": [
             0
            ],
            "sizemode": "area",
            "sizeref": 30
           },
           "mode": "markers",
           "name": "PHP",
           "text": [
            "PHP"
           ],
           "type": "scatter",
           "x": [
            0
           ],
           "y": [
            0
           ]
          },
          {
           "marker": {
            "size": [
             15.5
            ],
            "sizemode": "area",
            "sizeref": 30
           },
           "mode": "markers",
           "name": "Ruby",
           "text": [
            "Ruby"
           ],
           "type": "scatter",
           "x": [
            1
           ],
           "y": [
            1
           ]
          },
          {
           "marker": {
            "size": [
             0
            ],
            "sizemode": "area",
            "sizeref": 30
           },
           "mode": "markers",
           "name": "Rust",
           "text": [
            "Rust"
           ],
           "type": "scatter",
           "x": [
            0
           ],
           "y": [
            0
           ]
          },
          {
           "marker": {
            "size": [
             3421.5
            ],
            "sizemode": "area",
            "sizeref": 30
           },
           "mode": "markers",
           "name": "Shell",
           "text": [
            "Shell"
           ],
           "type": "scatter",
           "x": [
            11
           ],
           "y": [
            10.55
           ]
          },
          {
           "marker": {
            "size": [
             0
            ],
            "sizemode": "area",
            "sizeref": 30
           },
           "mode": "markers",
           "name": "Swift",
           "text": [
            "Swift"
           ],
           "type": "scatter",
           "x": [
            0
           ],
           "y": [
            0
           ]
          },
          {
           "marker": {
            "size": [
             186.25
            ],
            "sizemode": "area",
            "sizeref": 30
           },
           "mode": "markers",
           "name": "Vue",
           "text": [
            "Vue"
           ],
           "type": "scatter",
           "x": [
            1
           ],
           "y": [
            1
           ]
          }
         ],
         "name": "4"
        },
        {
         "data": [
          {
           "marker": {
            "size": [
             2252.5625
            ],
            "sizemode": "area",
            "sizeref": 30
           },
           "mode": "markers",
           "name": "C",
           "text": [
            "C"
           ],
           "type": "scatter",
           "x": [
            3
           ],
           "y": [
            63.5
           ]
          },
          {
           "marker": {
            "size": [
             117031.5
            ],
            "sizemode": "area",
            "sizeref": 30
           },
           "mode": "markers",
           "name": "C#",
           "text": [
            "C#"
           ],
           "type": "scatter",
           "x": [
            1
           ],
           "y": [
            118
           ]
          },
          {
           "marker": {
            "size": [
             81592
            ],
            "sizemode": "area",
            "sizeref": 30
           },
           "mode": "markers",
           "name": "C++",
           "text": [
            "C++"
           ],
           "type": "scatter",
           "x": [
            2
           ],
           "y": [
            124
           ]
          },
          {
           "marker": {
            "size": [
             17335.1875
            ],
            "sizemode": "area",
            "sizeref": 30
           },
           "mode": "markers",
           "name": "CSS",
           "text": [
            "CSS"
           ],
           "type": "scatter",
           "x": [
            3
           ],
           "y": [
            50
           ]
          },
          {
           "marker": {
            "size": [
             50.5
            ],
            "sizemode": "area",
            "sizeref": 30
           },
           "mode": "markers",
           "name": "Emacs Lisp",
           "text": [
            "Emacs Lisp"
           ],
           "type": "scatter",
           "x": [
            1
           ],
           "y": [
            1
           ]
          },
          {
           "marker": {
            "size": [
             2596.6666666666665
            ],
            "sizemode": "area",
            "sizeref": 30
           },
           "mode": "markers",
           "name": "HTML",
           "text": [
            "HTML"
           ],
           "type": "scatter",
           "x": [
            4
           ],
           "y": [
            135.33333333333334
           ]
          },
          {
           "marker": {
            "size": [
             21724.260416666668
            ],
            "sizemode": "area",
            "sizeref": 30
           },
           "mode": "markers",
           "name": "Java",
           "text": [
            "Java"
           ],
           "type": "scatter",
           "x": [
            40
           ],
           "y": [
            117.67708333333333
           ]
          },
          {
           "marker": {
            "size": [
             122807.23854166667
            ],
            "sizemode": "area",
            "sizeref": 30
           },
           "mode": "markers",
           "name": "JavaScript",
           "text": [
            "JavaScript"
           ],
           "type": "scatter",
           "x": [
            23
           ],
           "y": [
            299.9833333333333
           ]
          },
          {
           "marker": {
            "size": [
             178
            ],
            "sizemode": "area",
            "sizeref": 30
           },
           "mode": "markers",
           "name": "Makefile",
           "text": [
            "Makefile"
           ],
           "type": "scatter",
           "x": [
            1
           ],
           "y": [
            12
           ]
          },
          {
           "marker": {
            "size": [
             0
            ],
            "sizemode": "area",
            "sizeref": 30
           },
           "mode": "markers",
           "name": "OCaml",
           "text": [
            "OCaml"
           ],
           "type": "scatter",
           "x": [
            0
           ],
           "y": [
            0
           ]
          },
          {
           "marker": {
            "size": [
             22089.625
            ],
            "sizemode": "area",
            "sizeref": 30
           },
           "mode": "markers",
           "name": "Objective-C",
           "text": [
            "Objective-C"
           ],
           "type": "scatter",
           "x": [
            2
           ],
           "y": [
            28
           ]
          },
          {
           "marker": {
            "size": [
             654
            ],
            "sizemode": "area",
            "sizeref": 30
           },
           "mode": "markers",
           "name": "PHP",
           "text": [
            "PHP"
           ],
           "type": "scatter",
           "x": [
            1
           ],
           "y": [
            2
           ]
          },
          {
           "marker": {
            "size": [
             1109.25
            ],
            "sizemode": "area",
            "sizeref": 30
           },
           "mode": "markers",
           "name": "Ruby",
           "text": [
            "Ruby"
           ],
           "type": "scatter",
           "x": [
            3
           ],
           "y": [
            17
           ]
          },
          {
           "marker": {
            "size": [
             138.5
            ],
            "sizemode": "area",
            "sizeref": 30
           },
           "mode": "markers",
           "name": "Rust",
           "text": [
            "Rust"
           ],
           "type": "scatter",
           "x": [
            2
           ],
           "y": [
            15.5
           ]
          },
          {
           "marker": {
            "size": [
             3662.75
            ],
            "sizemode": "area",
            "sizeref": 30
           },
           "mode": "markers",
           "name": "Shell",
           "text": [
            "Shell"
           ],
           "type": "scatter",
           "x": [
            18
           ],
           "y": [
            14.407142857142858
           ]
          },
          {
           "marker": {
            "size": [
             2128
            ],
            "sizemode": "area",
            "sizeref": 30
           },
           "mode": "markers",
           "name": "Swift",
           "text": [
            "Swift"
           ],
           "type": "scatter",
           "x": [
            1
           ],
           "y": [
            1
           ]
          },
          {
           "marker": {
            "size": [
             93.125
            ],
            "sizemode": "area",
            "sizeref": 30
           },
           "mode": "markers",
           "name": "Vue",
           "text": [
            "Vue"
           ],
           "type": "scatter",
           "x": [
            1
           ],
           "y": [
            1
           ]
          }
         ],
         "name": "5"
        },
        {
         "data": [
          {
           "marker": {
            "size": [
             41946.614583333336
            ],
            "sizemode": "area",
            "sizeref": 30
           },
           "mode": "markers",
           "name": "C",
           "text": [
            "C"
           ],
           "type": "scatter",
           "x": [
            9
           ],
           "y": [
            168.66666666666669
           ]
          },
          {
           "marker": {
            "size": [
             58515.75
            ],
            "sizemode": "area",
            "sizeref": 30
           },
           "mode": "markers",
           "name": "C#",
           "text": [
            "C#"
           ],
           "type": "scatter",
           "x": [
            1
           ],
           "y": [
            118
           ]
          },
          {
           "marker": {
            "size": [
             86640
            ],
            "sizemode": "area",
            "sizeref": 30
           },
           "mode": "markers",
           "name": "C++",
           "text": [
            "C++"
           ],
           "type": "scatter",
           "x": [
            5
           ],
           "y": [
            145
           ]
          },
          {
           "marker": {
            "size": [
             8667.59375
            ],
            "sizemode": "area",
            "sizeref": 30
           },
           "mode": "markers",
           "name": "CSS",
           "text": [
            "CSS"
           ],
           "type": "scatter",
           "x": [
            3
           ],
           "y": [
            50
           ]
          },
          {
           "marker": {
            "size": [
             25.25
            ],
            "sizemode": "area",
            "sizeref": 30
           },
           "mode": "markers",
           "name": "Emacs Lisp",
           "text": [
            "Emacs Lisp"
           ],
           "type": "scatter",
           "x": [
            1
           ],
           "y": [
            1
           ]
          },
          {
           "marker": {
            "size": [
             12967.533333333335
            ],
            "sizemode": "area",
            "sizeref": 30
           },
           "mode": "markers",
           "name": "HTML",
           "text": [
            "HTML"
           ],
           "type": "scatter",
           "x": [
            9
           ],
           "y": [
            152.73333333333335
           ]
          },
          {
           "marker": {
            "size": [
             10862.130208333334
            ],
            "sizemode": "area",
            "sizeref": 30
           },
           "mode": "markers",
           "name": "Java",
           "text": [
            "Java"
           ],
           "type": "scatter",
           "x": [
            40
           ],
           "y": [
            117.67708333333333
           ]
          },
          {
           "marker": {
            "size": [
             64441.2859375
            ],
            "sizemode": "area",
            "sizeref": 30
           },
           "mode": "markers",
           "name": "JavaScript",
           "text": [
            "JavaScript"
           ],
           "type": "scatter",
           "x": [
            26
           ],
           "y": [
            338.9833333333333
           ]
          },
          {
           "marker": {
            "size": [
             89
            ],
            "sizemode": "area",
            "sizeref": 30
           },
           "mode": "markers",
           "name": "Makefile",
           "text": [
            "Makefile"
           ],
           "type": "scatter",
           "x": [
            1
           ],
           "y": [
            12
           ]
          },
          {
           "marker": {
            "size": [
             187
            ],
            "sizemode": "area",
            "sizeref": 30
           },
           "mode": "markers",
           "name": "OCaml",
           "text": [
            "OCaml"
           ],
           "type": "scatter",
           "x": [
            1
           ],
           "y": [
            1
           ]
          },
          {
           "marker": {
            "size": [
             11044.8125
            ],
            "sizemode": "area",
            "sizeref": 30
           },
           "mode": "markers",
           "name": "Objective-C",
           "text": [
            "Objective-C"
           ],
           "type": "scatter",
           "x": [
            2
           ],
           "y": [
            28
           ]
          },
          {
           "marker": {
            "size": [
             327
            ],
            "sizemode": "area",
            "sizeref": 30
           },
           "mode": "markers",
           "name": "PHP",
           "text": [
            "PHP"
           ],
           "type": "scatter",
           "x": [
            1
           ],
           "y": [
            2
           ]
          },
          {
           "marker": {
            "size": [
             100415.625
            ],
            "sizemode": "area",
            "sizeref": 30
           },
           "mode": "markers",
           "name": "Ruby",
           "text": [
            "Ruby"
           ],
           "type": "scatter",
           "x": [
            7
           ],
           "y": [
            348.75
           ]
          },
          {
           "marker": {
            "size": [
             7380.25
            ],
            "sizemode": "area",
            "sizeref": 30
           },
           "mode": "markers",
           "name": "Rust",
           "text": [
            "Rust"
           ],
           "type": "scatter",
           "x": [
            3
           ],
           "y": [
            134.5
           ]
          },
          {
           "marker": {
            "size": [
             83627.375
            ],
            "sizemode": "area",
            "sizeref": 30
           },
           "mode": "markers",
           "name": "Shell",
           "text": [
            "Shell"
           ],
           "type": "scatter",
           "x": [
            19
           ],
           "y": [
            22.40714285714286
           ]
          },
          {
           "marker": {
            "size": [
             5450
            ],
            "sizemode": "area",
            "sizeref": 30
           },
           "mode": "markers",
           "name": "Swift",
           "text": [
            "Swift"
           ],
           "type": "scatter",
           "x": [
            2
           ],
           "y": [
            56
           ]
          },
          {
           "marker": {
            "size": [
             46.5625
            ],
            "sizemode": "area",
            "sizeref": 30
           },
           "mode": "markers",
           "name": "Vue",
           "text": [
            "Vue"
           ],
           "type": "scatter",
           "x": [
            1
           ],
           "y": [
            1
           ]
          }
         ],
         "name": "6"
        },
        {
         "data": [
          {
           "marker": {
            "size": [
             20973.307291666668
            ],
            "sizemode": "area",
            "sizeref": 30
           },
           "mode": "markers",
           "name": "C",
           "text": [
            "C"
           ],
           "type": "scatter",
           "x": [
            9
           ],
           "y": [
            168.66666666666669
           ]
          },
          {
           "marker": {
            "size": [
             29257.875
            ],
            "sizemode": "area",
            "sizeref": 30
           },
           "mode": "markers",
           "name": "C#",
           "text": [
            "C#"
           ],
           "type": "scatter",
           "x": [
            1
           ],
           "y": [
            118
           ]
          },
          {
           "marker": {
            "size": [
             43320
            ],
            "sizemode": "area",
            "sizeref": 30
           },
           "mode": "markers",
           "name": "C++",
           "text": [
            "C++"
           ],
           "type": "scatter",
           "x": [
            5
           ],
           "y": [
            145
           ]
          },
          {
           "marker": {
            "size": [
             4333.796875
            ],
            "sizemode": "area",
            "sizeref": 30
           },
           "mode": "markers",
           "name": "CSS",
           "text": [
            "CSS"
           ],
           "type": "scatter",
           "x": [
            3
           ],
           "y": [
            50
           ]
          },
          {
           "marker": {
            "size": [
             12.625
            ],
            "sizemode": "area",
            "sizeref": 30
           },
           "mode": "markers",
           "name": "Emacs Lisp",
           "text": [
            "Emacs Lisp"
           ],
           "type": "scatter",
           "x": [
            1
           ],
           "y": [
            1
           ]
          },
          {
           "marker": {
            "size": [
             6827.766666666667
            ],
            "sizemode": "area",
            "sizeref": 30
           },
           "mode": "markers",
           "name": "HTML",
           "text": [
            "HTML"
           ],
           "type": "scatter",
           "x": [
            10
           ],
           "y": [
            155.73333333333335
           ]
          },
          {
           "marker": {
            "size": [
             5431.065104166667
            ],
            "sizemode": "area",
            "sizeref": 30
           },
           "mode": "markers",
           "name": "Java",
           "text": [
            "Java"
           ],
           "type": "scatter",
           "x": [
            40
           ],
           "y": [
            117.67708333333333
           ]
          },
          {
           "marker": {
            "size": [
             32220.64296875
            ],
            "sizemode": "area",
            "sizeref": 30
           },
           "mode": "markers",
           "name": "JavaScript",
           "text": [
            "JavaScript"
           ],
           "type": "scatter",
           "x": [
            26
           ],
           "y": [
            338.9833333333333
           ]
          },
          {
           "marker": {
            "size": [
             44.5
            ],
            "sizemode": "area",
            "sizeref": 30
           },
           "mode": "markers",
           "name": "Makefile",
           "text": [
            "Makefile"
           ],
           "type": "scatter",
           "x": [
            1
           ],
           "y": [
            12
           ]
          },
          {
           "marker": {
            "size": [
             5518.833333333333
            ],
            "sizemode": "area",
            "sizeref": 30
           },
           "mode": "markers",
           "name": "OCaml",
           "text": [
            "OCaml"
           ],
           "type": "scatter",
           "x": [
            4
           ],
           "y": [
            2.333333333333333
           ]
          },
          {
           "marker": {
            "size": [
             5522.40625
            ],
            "sizemode": "area",
            "sizeref": 30
           },
           "mode": "markers",
           "name": "Objective-C",
           "text": [
            "Objective-C"
           ],
           "type": "scatter",
           "x": [
            2
           ],
           "y": [
            28
           ]
          },
          {
           "marker": {
            "size": [
             163.5
            ],
            "sizemode": "area",
            "sizeref": 30
           },
           "mode": "markers",
           "name": "PHP",
           "text": [
            "PHP"
           ],
           "type": "scatter",
           "x": [
            1
           ],
           "y": [
            2
           ]
          },
          {
           "marker": {
            "size": [
             50207.8125
            ],
            "sizemode": "area",
            "sizeref": 30
           },
           "mode": "markers",
           "name": "Ruby",
           "text": [
            "Ruby"
           ],
           "type": "scatter",
           "x": [
            7
           ],
           "y": [
            348.75
           ]
          },
          {
           "marker": {
            "size": [
             3690.125
            ],
            "sizemode": "area",
            "sizeref": 30
           },
           "mode": "markers",
           "name": "Rust",
           "text": [
            "Rust"
           ],
           "type": "scatter",
           "x": [
            3
           ],
           "y": [
            134.5
           ]
          },
          {
           "marker": {
            "size": [
             114578.6875
            ],
            "sizemode": "area",
            "sizeref": 30
           },
           "mode": "markers",
           "name": "Shell",
           "text": [
            "Shell"
           ],
           "type": "scatter",
           "x": [
            20
           ],
           "y": [
            348.40714285714284
           ]
          },
          {
           "marker": {
            "size": [
             2725
            ],
            "sizemode": "area",
            "sizeref": 30
           },
           "mode": "markers",
           "name": "Swift",
           "text": [
            "Swift"
           ],
           "type": "scatter",
           "x": [
            2
           ],
           "y": [
            56
           ]
          },
          {
           "marker": {
            "size": [
             23.28125
            ],
            "sizemode": "area",
            "sizeref": 30
           },
           "mode": "markers",
           "name": "Vue",
           "text": [
            "Vue"
           ],
           "type": "scatter",
           "x": [
            1
           ],
           "y": [
            1
           ]
          }
         ],
         "name": "7"
        },
        {
         "data": [
          {
           "marker": {
            "size": [
             10486.653645833334
            ],
            "sizemode": "area",
            "sizeref": 30
           },
           "mode": "markers",
           "name": "C",
           "text": [
            "C"
           ],
           "type": "scatter",
           "x": [
            9
           ],
           "y": [
            168.66666666666669
           ]
          },
          {
           "marker": {
            "size": [
             14628.9375
            ],
            "sizemode": "area",
            "sizeref": 30
           },
           "mode": "markers",
           "name": "C#",
           "text": [
            "C#"
           ],
           "type": "scatter",
           "x": [
            1
           ],
           "y": [
            118
           ]
          },
          {
           "marker": {
            "size": [
             21979
            ],
            "sizemode": "area",
            "sizeref": 30
           },
           "mode": "markers",
           "name": "C++",
           "text": [
            "C++"
           ],
           "type": "scatter",
           "x": [
            6
           ],
           "y": [
            146
           ]
          },
          {
           "marker": {
            "size": [
             2166.8984375
            ],
            "sizemode": "area",
            "sizeref": 30
           },
           "mode": "markers",
           "name": "CSS",
           "text": [
            "CSS"
           ],
           "type": "scatter",
           "x": [
            3
           ],
           "y": [
            50
           ]
          },
          {
           "marker": {
            "size": [
             6.3125
            ],
            "sizemode": "area",
            "sizeref": 30
           },
           "mode": "markers",
           "name": "Emacs Lisp",
           "text": [
            "Emacs Lisp"
           ],
           "type": "scatter",
           "x": [
            1
           ],
           "y": [
            1
           ]
          },
          {
           "marker": {
            "size": [
             3413.8833333333337
            ],
            "sizemode": "area",
            "sizeref": 30
           },
           "mode": "markers",
           "name": "HTML",
           "text": [
            "HTML"
           ],
           "type": "scatter",
           "x": [
            10
           ],
           "y": [
            155.73333333333335
           ]
          },
          {
           "marker": {
            "size": [
             2715.5325520833335
            ],
            "sizemode": "area",
            "sizeref": 30
           },
           "mode": "markers",
           "name": "Java",
           "text": [
            "Java"
           ],
           "type": "scatter",
           "x": [
            40
           ],
           "y": [
            117.67708333333333
           ]
          },
          {
           "marker": {
            "size": [
             20806.321484375
            ],
            "sizemode": "area",
            "sizeref": 30
           },
           "mode": "markers",
           "name": "JavaScript",
           "text": [
            "JavaScript"
           ],
           "type": "scatter",
           "x": [
            27
           ],
           "y": [
            339.9833333333333
           ]
          },
          {
           "marker": {
            "size": [
             22.25
            ],
            "sizemode": "area",
            "sizeref": 30
           },
           "mode": "markers",
           "name": "Makefile",
           "text": [
            "Makefile"
           ],
           "type": "scatter",
           "x": [
            1
           ],
           "y": [
            12
           ]
          },
          {
           "marker": {
            "size": [
             3736.4166666666665
            ],
            "sizemode": "area",
            "sizeref": 30
           },
           "mode": "markers",
           "name": "OCaml",
           "text": [
            "OCaml"
           ],
           "type": "scatter",
           "x": [
            5
           ],
           "y": [
            3.333333333333333
           ]
          },
          {
           "marker": {
            "size": [
             2761.203125
            ],
            "sizemode": "area",
            "sizeref": 30
           },
           "mode": "markers",
           "name": "Objective-C",
           "text": [
            "Objective-C"
           ],
           "type": "scatter",
           "x": [
            2
           ],
           "y": [
            28
           ]
          },
          {
           "marker": {
            "size": [
             81.75
            ],
            "sizemode": "area",
            "sizeref": 30
           },
           "mode": "markers",
           "name": "PHP",
           "text": [
            "PHP"
           ],
           "type": "scatter",
           "x": [
            1
           ],
           "y": [
            2
           ]
          },
          {
           "marker": {
            "size": [
             25103.90625
            ],
            "sizemode": "area",
            "sizeref": 30
           },
           "mode": "markers",
           "name": "Ruby",
           "text": [
            "Ruby"
           ],
           "type": "scatter",
           "x": [
            7
           ],
           "y": [
            348.75
           ]
          },
          {
           "marker": {
            "size": [
             1845.0625
            ],
            "sizemode": "area",
            "sizeref": 30
           },
           "mode": "markers",
           "name": "Rust",
           "text": [
            "Rust"
           ],
           "type": "scatter",
           "x": [
            3
           ],
           "y": [
            134.5
           ]
          },
          {
           "marker": {
            "size": [
             57289.34375
            ],
            "sizemode": "area",
            "sizeref": 30
           },
           "mode": "markers",
           "name": "Shell",
           "text": [
            "Shell"
           ],
           "type": "scatter",
           "x": [
            20
           ],
           "y": [
            348.40714285714284
           ]
          },
          {
           "marker": {
            "size": [
             1362.5
            ],
            "sizemode": "area",
            "sizeref": 30
           },
           "mode": "markers",
           "name": "Swift",
           "text": [
            "Swift"
           ],
           "type": "scatter",
           "x": [
            2
           ],
           "y": [
            56
           ]
          },
          {
           "marker": {
            "size": [
             11.640625
            ],
            "sizemode": "area",
            "sizeref": 30
           },
           "mode": "markers",
           "name": "Vue",
           "text": [
            "Vue"
           ],
           "type": "scatter",
           "x": [
            1
           ],
           "y": [
            1
           ]
          }
         ],
         "name": "8"
        }
       ],
       "layout": {
        "hovermode": "closest",
        "sliders": [
         {
          "active": 0,
          "currentvalue": {
           "font": {
            "size": 20
           },
           "prefix": "Years of Experience:",
           "visible": true,
           "xanchor": "right"
          },
          "len": 0.9,
          "pad": {
           "b": 10,
           "t": 50
          },
          "steps": [
           {
            "args": [
             [
              0
             ],
             {
              "frame": {
               "duration": 300,
               "redraw": false
              },
              "mode": "immediate",
              "transition": {
               "duration": 300
              }
             }
            ],
            "label": "0",
            "method": "animate"
           },
           {
            "args": [
             [
              1
             ],
             {
              "frame": {
               "duration": 300,
               "redraw": false
              },
              "mode": "immediate",
              "transition": {
               "duration": 300
              }
             }
            ],
            "label": "1",
            "method": "animate"
           },
           {
            "args": [
             [
              2
             ],
             {
              "frame": {
               "duration": 300,
               "redraw": false
              },
              "mode": "immediate",
              "transition": {
               "duration": 300
              }
             }
            ],
            "label": "2",
            "method": "animate"
           },
           {
            "args": [
             [
              3
             ],
             {
              "frame": {
               "duration": 300,
               "redraw": false
              },
              "mode": "immediate",
              "transition": {
               "duration": 300
              }
             }
            ],
            "label": "3",
            "method": "animate"
           },
           {
            "args": [
             [
              4
             ],
             {
              "frame": {
               "duration": 300,
               "redraw": false
              },
              "mode": "immediate",
              "transition": {
               "duration": 300
              }
             }
            ],
            "label": "4",
            "method": "animate"
           },
           {
            "args": [
             [
              5
             ],
             {
              "frame": {
               "duration": 300,
               "redraw": false
              },
              "mode": "immediate",
              "transition": {
               "duration": 300
              }
             }
            ],
            "label": "5",
            "method": "animate"
           },
           {
            "args": [
             [
              6
             ],
             {
              "frame": {
               "duration": 300,
               "redraw": false
              },
              "mode": "immediate",
              "transition": {
               "duration": 300
              }
             }
            ],
            "label": "6",
            "method": "animate"
           },
           {
            "args": [
             [
              7
             ],
             {
              "frame": {
               "duration": 300,
               "redraw": false
              },
              "mode": "immediate",
              "transition": {
               "duration": 300
              }
             }
            ],
            "label": "7",
            "method": "animate"
           },
           {
            "args": [
             [
              8
             ],
             {
              "frame": {
               "duration": 300,
               "redraw": false
              },
              "mode": "immediate",
              "transition": {
               "duration": 300
              }
             }
            ],
            "label": "8",
            "method": "animate"
           }
          ],
          "transition": {
           "duration": 300,
           "easing": "cubic-in-out"
          },
          "x": 0.1,
          "xanchor": "left",
          "y": 0,
          "yanchor": "top"
         }
        ],
        "template": {
         "data": {
          "bar": [
           {
            "error_x": {
             "color": "#2a3f5f"
            },
            "error_y": {
             "color": "#2a3f5f"
            },
            "marker": {
             "line": {
              "color": "#E5ECF6",
              "width": 0.5
             }
            },
            "type": "bar"
           }
          ],
          "barpolar": [
           {
            "marker": {
             "line": {
              "color": "#E5ECF6",
              "width": 0.5
             }
            },
            "type": "barpolar"
           }
          ],
          "carpet": [
           {
            "aaxis": {
             "endlinecolor": "#2a3f5f",
             "gridcolor": "white",
             "linecolor": "white",
             "minorgridcolor": "white",
             "startlinecolor": "#2a3f5f"
            },
            "baxis": {
             "endlinecolor": "#2a3f5f",
             "gridcolor": "white",
             "linecolor": "white",
             "minorgridcolor": "white",
             "startlinecolor": "#2a3f5f"
            },
            "type": "carpet"
           }
          ],
          "choropleth": [
           {
            "colorbar": {
             "outlinewidth": 0,
             "ticks": ""
            },
            "type": "choropleth"
           }
          ],
          "contour": [
           {
            "colorbar": {
             "outlinewidth": 0,
             "ticks": ""
            },
            "colorscale": [
             [
              0,
              "#0d0887"
             ],
             [
              0.1111111111111111,
              "#46039f"
             ],
             [
              0.2222222222222222,
              "#7201a8"
             ],
             [
              0.3333333333333333,
              "#9c179e"
             ],
             [
              0.4444444444444444,
              "#bd3786"
             ],
             [
              0.5555555555555556,
              "#d8576b"
             ],
             [
              0.6666666666666666,
              "#ed7953"
             ],
             [
              0.7777777777777778,
              "#fb9f3a"
             ],
             [
              0.8888888888888888,
              "#fdca26"
             ],
             [
              1,
              "#f0f921"
             ]
            ],
            "type": "contour"
           }
          ],
          "contourcarpet": [
           {
            "colorbar": {
             "outlinewidth": 0,
             "ticks": ""
            },
            "type": "contourcarpet"
           }
          ],
          "heatmap": [
           {
            "colorbar": {
             "outlinewidth": 0,
             "ticks": ""
            },
            "colorscale": [
             [
              0,
              "#0d0887"
             ],
             [
              0.1111111111111111,
              "#46039f"
             ],
             [
              0.2222222222222222,
              "#7201a8"
             ],
             [
              0.3333333333333333,
              "#9c179e"
             ],
             [
              0.4444444444444444,
              "#bd3786"
             ],
             [
              0.5555555555555556,
              "#d8576b"
             ],
             [
              0.6666666666666666,
              "#ed7953"
             ],
             [
              0.7777777777777778,
              "#fb9f3a"
             ],
             [
              0.8888888888888888,
              "#fdca26"
             ],
             [
              1,
              "#f0f921"
             ]
            ],
            "type": "heatmap"
           }
          ],
          "heatmapgl": [
           {
            "colorbar": {
             "outlinewidth": 0,
             "ticks": ""
            },
            "colorscale": [
             [
              0,
              "#0d0887"
             ],
             [
              0.1111111111111111,
              "#46039f"
             ],
             [
              0.2222222222222222,
              "#7201a8"
             ],
             [
              0.3333333333333333,
              "#9c179e"
             ],
             [
              0.4444444444444444,
              "#bd3786"
             ],
             [
              0.5555555555555556,
              "#d8576b"
             ],
             [
              0.6666666666666666,
              "#ed7953"
             ],
             [
              0.7777777777777778,
              "#fb9f3a"
             ],
             [
              0.8888888888888888,
              "#fdca26"
             ],
             [
              1,
              "#f0f921"
             ]
            ],
            "type": "heatmapgl"
           }
          ],
          "histogram": [
           {
            "marker": {
             "colorbar": {
              "outlinewidth": 0,
              "ticks": ""
             }
            },
            "type": "histogram"
           }
          ],
          "histogram2d": [
           {
            "colorbar": {
             "outlinewidth": 0,
             "ticks": ""
            },
            "colorscale": [
             [
              0,
              "#0d0887"
             ],
             [
              0.1111111111111111,
              "#46039f"
             ],
             [
              0.2222222222222222,
              "#7201a8"
             ],
             [
              0.3333333333333333,
              "#9c179e"
             ],
             [
              0.4444444444444444,
              "#bd3786"
             ],
             [
              0.5555555555555556,
              "#d8576b"
             ],
             [
              0.6666666666666666,
              "#ed7953"
             ],
             [
              0.7777777777777778,
              "#fb9f3a"
             ],
             [
              0.8888888888888888,
              "#fdca26"
             ],
             [
              1,
              "#f0f921"
             ]
            ],
            "type": "histogram2d"
           }
          ],
          "histogram2dcontour": [
           {
            "colorbar": {
             "outlinewidth": 0,
             "ticks": ""
            },
            "colorscale": [
             [
              0,
              "#0d0887"
             ],
             [
              0.1111111111111111,
              "#46039f"
             ],
             [
              0.2222222222222222,
              "#7201a8"
             ],
             [
              0.3333333333333333,
              "#9c179e"
             ],
             [
              0.4444444444444444,
              "#bd3786"
             ],
             [
              0.5555555555555556,
              "#d8576b"
             ],
             [
              0.6666666666666666,
              "#ed7953"
             ],
             [
              0.7777777777777778,
              "#fb9f3a"
             ],
             [
              0.8888888888888888,
              "#fdca26"
             ],
             [
              1,
              "#f0f921"
             ]
            ],
            "type": "histogram2dcontour"
           }
          ],
          "mesh3d": [
           {
            "colorbar": {
             "outlinewidth": 0,
             "ticks": ""
            },
            "type": "mesh3d"
           }
          ],
          "parcoords": [
           {
            "line": {
             "colorbar": {
              "outlinewidth": 0,
              "ticks": ""
             }
            },
            "type": "parcoords"
           }
          ],
          "pie": [
           {
            "automargin": true,
            "type": "pie"
           }
          ],
          "scatter": [
           {
            "marker": {
             "colorbar": {
              "outlinewidth": 0,
              "ticks": ""
             }
            },
            "type": "scatter"
           }
          ],
          "scatter3d": [
           {
            "line": {
             "colorbar": {
              "outlinewidth": 0,
              "ticks": ""
             }
            },
            "marker": {
             "colorbar": {
              "outlinewidth": 0,
              "ticks": ""
             }
            },
            "type": "scatter3d"
           }
          ],
          "scattercarpet": [
           {
            "marker": {
             "colorbar": {
              "outlinewidth": 0,
              "ticks": ""
             }
            },
            "type": "scattercarpet"
           }
          ],
          "scattergeo": [
           {
            "marker": {
             "colorbar": {
              "outlinewidth": 0,
              "ticks": ""
             }
            },
            "type": "scattergeo"
           }
          ],
          "scattergl": [
           {
            "marker": {
             "colorbar": {
              "outlinewidth": 0,
              "ticks": ""
             }
            },
            "type": "scattergl"
           }
          ],
          "scattermapbox": [
           {
            "marker": {
             "colorbar": {
              "outlinewidth": 0,
              "ticks": ""
             }
            },
            "type": "scattermapbox"
           }
          ],
          "scatterpolar": [
           {
            "marker": {
             "colorbar": {
              "outlinewidth": 0,
              "ticks": ""
             }
            },
            "type": "scatterpolar"
           }
          ],
          "scatterpolargl": [
           {
            "marker": {
             "colorbar": {
              "outlinewidth": 0,
              "ticks": ""
             }
            },
            "type": "scatterpolargl"
           }
          ],
          "scatterternary": [
           {
            "marker": {
             "colorbar": {
              "outlinewidth": 0,
              "ticks": ""
             }
            },
            "type": "scatterternary"
           }
          ],
          "surface": [
           {
            "colorbar": {
             "outlinewidth": 0,
             "ticks": ""
            },
            "colorscale": [
             [
              0,
              "#0d0887"
             ],
             [
              0.1111111111111111,
              "#46039f"
             ],
             [
              0.2222222222222222,
              "#7201a8"
             ],
             [
              0.3333333333333333,
              "#9c179e"
             ],
             [
              0.4444444444444444,
              "#bd3786"
             ],
             [
              0.5555555555555556,
              "#d8576b"
             ],
             [
              0.6666666666666666,
              "#ed7953"
             ],
             [
              0.7777777777777778,
              "#fb9f3a"
             ],
             [
              0.8888888888888888,
              "#fdca26"
             ],
             [
              1,
              "#f0f921"
             ]
            ],
            "type": "surface"
           }
          ],
          "table": [
           {
            "cells": {
             "fill": {
              "color": "#EBF0F8"
             },
             "line": {
              "color": "white"
             }
            },
            "header": {
             "fill": {
              "color": "#C8D4E3"
             },
             "line": {
              "color": "white"
             }
            },
            "type": "table"
           }
          ]
         },
         "layout": {
          "annotationdefaults": {
           "arrowcolor": "#2a3f5f",
           "arrowhead": 0,
           "arrowwidth": 1
          },
          "coloraxis": {
           "colorbar": {
            "outlinewidth": 0,
            "ticks": ""
           }
          },
          "colorscale": {
           "diverging": [
            [
             0,
             "#8e0152"
            ],
            [
             0.1,
             "#c51b7d"
            ],
            [
             0.2,
             "#de77ae"
            ],
            [
             0.3,
             "#f1b6da"
            ],
            [
             0.4,
             "#fde0ef"
            ],
            [
             0.5,
             "#f7f7f7"
            ],
            [
             0.6,
             "#e6f5d0"
            ],
            [
             0.7,
             "#b8e186"
            ],
            [
             0.8,
             "#7fbc41"
            ],
            [
             0.9,
             "#4d9221"
            ],
            [
             1,
             "#276419"
            ]
           ],
           "sequential": [
            [
             0,
             "#0d0887"
            ],
            [
             0.1111111111111111,
             "#46039f"
            ],
            [
             0.2222222222222222,
             "#7201a8"
            ],
            [
             0.3333333333333333,
             "#9c179e"
            ],
            [
             0.4444444444444444,
             "#bd3786"
            ],
            [
             0.5555555555555556,
             "#d8576b"
            ],
            [
             0.6666666666666666,
             "#ed7953"
            ],
            [
             0.7777777777777778,
             "#fb9f3a"
            ],
            [
             0.8888888888888888,
             "#fdca26"
            ],
            [
             1,
             "#f0f921"
            ]
           ],
           "sequentialminus": [
            [
             0,
             "#0d0887"
            ],
            [
             0.1111111111111111,
             "#46039f"
            ],
            [
             0.2222222222222222,
             "#7201a8"
            ],
            [
             0.3333333333333333,
             "#9c179e"
            ],
            [
             0.4444444444444444,
             "#bd3786"
            ],
            [
             0.5555555555555556,
             "#d8576b"
            ],
            [
             0.6666666666666666,
             "#ed7953"
            ],
            [
             0.7777777777777778,
             "#fb9f3a"
            ],
            [
             0.8888888888888888,
             "#fdca26"
            ],
            [
             1,
             "#f0f921"
            ]
           ]
          },
          "colorway": [
           "#636efa",
           "#EF553B",
           "#00cc96",
           "#ab63fa",
           "#FFA15A",
           "#19d3f3",
           "#FF6692",
           "#B6E880",
           "#FF97FF",
           "#FECB52"
          ],
          "font": {
           "color": "#2a3f5f"
          },
          "geo": {
           "bgcolor": "white",
           "lakecolor": "white",
           "landcolor": "#E5ECF6",
           "showlakes": true,
           "showland": true,
           "subunitcolor": "white"
          },
          "hoverlabel": {
           "align": "left"
          },
          "hovermode": "closest",
          "mapbox": {
           "style": "light"
          },
          "paper_bgcolor": "white",
          "plot_bgcolor": "#E5ECF6",
          "polar": {
           "angularaxis": {
            "gridcolor": "white",
            "linecolor": "white",
            "ticks": ""
           },
           "bgcolor": "#E5ECF6",
           "radialaxis": {
            "gridcolor": "white",
            "linecolor": "white",
            "ticks": ""
           }
          },
          "scene": {
           "xaxis": {
            "backgroundcolor": "#E5ECF6",
            "gridcolor": "white",
            "gridwidth": 2,
            "linecolor": "white",
            "showbackground": true,
            "ticks": "",
            "zerolinecolor": "white"
           },
           "yaxis": {
            "backgroundcolor": "#E5ECF6",
            "gridcolor": "white",
            "gridwidth": 2,
            "linecolor": "white",
            "showbackground": true,
            "ticks": "",
            "zerolinecolor": "white"
           },
           "zaxis": {
            "backgroundcolor": "#E5ECF6",
            "gridcolor": "white",
            "gridwidth": 2,
            "linecolor": "white",
            "showbackground": true,
            "ticks": "",
            "zerolinecolor": "white"
           }
          },
          "shapedefaults": {
           "line": {
            "color": "#2a3f5f"
           }
          },
          "ternary": {
           "aaxis": {
            "gridcolor": "white",
            "linecolor": "white",
            "ticks": ""
           },
           "baxis": {
            "gridcolor": "white",
            "linecolor": "white",
            "ticks": ""
           },
           "bgcolor": "#E5ECF6",
           "caxis": {
            "gridcolor": "white",
            "linecolor": "white",
            "ticks": ""
           }
          },
          "title": {
           "x": 0.05
          },
          "xaxis": {
           "automargin": true,
           "gridcolor": "white",
           "linecolor": "white",
           "ticks": "",
           "title": {
            "standoff": 15
           },
           "zerolinecolor": "white",
           "zerolinewidth": 2
          },
          "yaxis": {
           "automargin": true,
           "gridcolor": "white",
           "linecolor": "white",
           "ticks": "",
           "title": {
            "standoff": 15
           },
           "zerolinecolor": "white",
           "zerolinewidth": 2
          }
         }
        },
        "updatemenus": [
         {
          "buttons": [
           {
            "args": [
             null,
             {
              "frame": {
               "duration": 500,
               "redraw": false
              },
              "fromcurrent": true,
              "transition": {
               "duration": 300,
               "easing": "quadratic-in-out"
              }
             }
            ],
            "label": "Play",
            "method": "animate"
           },
           {
            "args": [
             [
              null
             ],
             {
              "frame": {
               "duration": 0,
               "redraw": false
              },
              "mode": "immediate",
              "transition": {
               "duration": 0
              }
             }
            ],
            "label": "Pause",
            "method": "animate"
           }
          ],
          "direction": "left",
          "pad": {
           "r": 10,
           "t": 87
          },
          "showactive": false,
          "type": "buttons",
          "x": 0.1,
          "xanchor": "right",
          "y": 0,
          "yanchor": "top"
         }
        ],
        "xaxis": {
         "range": [
          0,
          45
         ],
         "title": {
          "text": "Number of Active Repositories"
         }
        },
        "yaxis": {
         "range": [
          0,
          400
         ],
         "title": {
          "text": "Number of Contributors"
         }
        }
       }
      },
      "text/html": [
       "<div>\n",
       "        \n",
       "        \n",
       "            <div id=\"ced9fa35-d7ca-4b6e-aa01-5849eb668b49\" class=\"plotly-graph-div\" style=\"height:525px; width:100%;\"></div>\n",
       "            <script type=\"text/javascript\">\n",
       "                require([\"plotly\"], function(Plotly) {\n",
       "                    window.PLOTLYENV=window.PLOTLYENV || {};\n",
       "                    \n",
       "                if (document.getElementById(\"ced9fa35-d7ca-4b6e-aa01-5849eb668b49\")) {\n",
       "                    Plotly.newPlot(\n",
       "                        'ced9fa35-d7ca-4b6e-aa01-5849eb668b49',\n",
       "                        [{\"marker\": {\"size\": [104.0], \"sizemode\": \"area\", \"sizeref\": 30}, \"mode\": \"markers\", \"name\": \"C\", \"text\": [\"C\"], \"type\": \"scatter\", \"x\": [1], \"y\": [1.0]}, {\"marker\": {\"size\": [0.0], \"sizemode\": \"area\", \"sizeref\": 30}, \"mode\": \"markers\", \"name\": \"C#\", \"text\": [\"C#\"], \"type\": \"scatter\", \"x\": [0], \"y\": [0.0]}, {\"marker\": {\"size\": [0.0], \"sizemode\": \"area\", \"sizeref\": 30}, \"mode\": \"markers\", \"name\": \"C++\", \"text\": [\"C++\"], \"type\": \"scatter\", \"x\": [0], \"y\": [0.0]}, {\"marker\": {\"size\": [0.0], \"sizemode\": \"area\", \"sizeref\": 30}, \"mode\": \"markers\", \"name\": \"CSS\", \"text\": [\"CSS\"], \"type\": \"scatter\", \"x\": [0], \"y\": [0.0]}, {\"marker\": {\"size\": [0.0], \"sizemode\": \"area\", \"sizeref\": 30}, \"mode\": \"markers\", \"name\": \"Emacs Lisp\", \"text\": [\"Emacs Lisp\"], \"type\": \"scatter\", \"x\": [0], \"y\": [0.0]}, {\"marker\": {\"size\": [0.0], \"sizemode\": \"area\", \"sizeref\": 30}, \"mode\": \"markers\", \"name\": \"HTML\", \"text\": [\"HTML\"], \"type\": \"scatter\", \"x\": [0], \"y\": [0.0]}, {\"marker\": {\"size\": [0.0], \"sizemode\": \"area\", \"sizeref\": 30}, \"mode\": \"markers\", \"name\": \"Java\", \"text\": [\"Java\"], \"type\": \"scatter\", \"x\": [0], \"y\": [0.0]}, {\"marker\": {\"size\": [18081.5], \"sizemode\": \"area\", \"sizeref\": 30}, \"mode\": \"markers\", \"name\": \"JavaScript\", \"text\": [\"JavaScript\"], \"type\": \"scatter\", \"x\": [4], \"y\": [4.5]}, {\"marker\": {\"size\": [0.0], \"sizemode\": \"area\", \"sizeref\": 30}, \"mode\": \"markers\", \"name\": \"Makefile\", \"text\": [\"Makefile\"], \"type\": \"scatter\", \"x\": [0], \"y\": [0.0]}, {\"marker\": {\"size\": [0.0], \"sizemode\": \"area\", \"sizeref\": 30}, \"mode\": \"markers\", \"name\": \"OCaml\", \"text\": [\"OCaml\"], \"type\": \"scatter\", \"x\": [0], \"y\": [0.0]}, {\"marker\": {\"size\": [0.0], \"sizemode\": \"area\", \"sizeref\": 30}, \"mode\": \"markers\", \"name\": \"Objective-C\", \"text\": [\"Objective-C\"], \"type\": \"scatter\", \"x\": [0], \"y\": [0.0]}, {\"marker\": {\"size\": [0.0], \"sizemode\": \"area\", \"sizeref\": 30}, \"mode\": \"markers\", \"name\": \"PHP\", \"text\": [\"PHP\"], \"type\": \"scatter\", \"x\": [0], \"y\": [0.0]}, {\"marker\": {\"size\": [0.0], \"sizemode\": \"area\", \"sizeref\": 30}, \"mode\": \"markers\", \"name\": \"Ruby\", \"text\": [\"Ruby\"], \"type\": \"scatter\", \"x\": [0], \"y\": [0.0]}, {\"marker\": {\"size\": [0.0], \"sizemode\": \"area\", \"sizeref\": 30}, \"mode\": \"markers\", \"name\": \"Rust\", \"text\": [\"Rust\"], \"type\": \"scatter\", \"x\": [0], \"y\": [0.0]}, {\"marker\": {\"size\": [0.0], \"sizemode\": \"area\", \"sizeref\": 30}, \"mode\": \"markers\", \"name\": \"Shell\", \"text\": [\"Shell\"], \"type\": \"scatter\", \"x\": [0], \"y\": [0.0]}, {\"marker\": {\"size\": [0.0], \"sizemode\": \"area\", \"sizeref\": 30}, \"mode\": \"markers\", \"name\": \"Swift\", \"text\": [\"Swift\"], \"type\": \"scatter\", \"x\": [0], \"y\": [0.0]}, {\"marker\": {\"size\": [0.0], \"sizemode\": \"area\", \"sizeref\": 30}, \"mode\": \"markers\", \"name\": \"Vue\", \"text\": [\"Vue\"], \"type\": \"scatter\", \"x\": [0], \"y\": [0.0]}],\n",
       "                        {\"hovermode\": \"closest\", \"sliders\": [{\"active\": 0, \"currentvalue\": {\"font\": {\"size\": 20}, \"prefix\": \"Years of Experience:\", \"visible\": true, \"xanchor\": \"right\"}, \"len\": 0.9, \"pad\": {\"b\": 10, \"t\": 50}, \"steps\": [{\"args\": [[0], {\"frame\": {\"duration\": 300, \"redraw\": false}, \"mode\": \"immediate\", \"transition\": {\"duration\": 300}}], \"label\": \"0\", \"method\": \"animate\"}, {\"args\": [[1], {\"frame\": {\"duration\": 300, \"redraw\": false}, \"mode\": \"immediate\", \"transition\": {\"duration\": 300}}], \"label\": \"1\", \"method\": \"animate\"}, {\"args\": [[2], {\"frame\": {\"duration\": 300, \"redraw\": false}, \"mode\": \"immediate\", \"transition\": {\"duration\": 300}}], \"label\": \"2\", \"method\": \"animate\"}, {\"args\": [[3], {\"frame\": {\"duration\": 300, \"redraw\": false}, \"mode\": \"immediate\", \"transition\": {\"duration\": 300}}], \"label\": \"3\", \"method\": \"animate\"}, {\"args\": [[4], {\"frame\": {\"duration\": 300, \"redraw\": false}, \"mode\": \"immediate\", \"transition\": {\"duration\": 300}}], \"label\": \"4\", \"method\": \"animate\"}, {\"args\": [[5], {\"frame\": {\"duration\": 300, \"redraw\": false}, \"mode\": \"immediate\", \"transition\": {\"duration\": 300}}], \"label\": \"5\", \"method\": \"animate\"}, {\"args\": [[6], {\"frame\": {\"duration\": 300, \"redraw\": false}, \"mode\": \"immediate\", \"transition\": {\"duration\": 300}}], \"label\": \"6\", \"method\": \"animate\"}, {\"args\": [[7], {\"frame\": {\"duration\": 300, \"redraw\": false}, \"mode\": \"immediate\", \"transition\": {\"duration\": 300}}], \"label\": \"7\", \"method\": \"animate\"}, {\"args\": [[8], {\"frame\": {\"duration\": 300, \"redraw\": false}, \"mode\": \"immediate\", \"transition\": {\"duration\": 300}}], \"label\": \"8\", \"method\": \"animate\"}], \"transition\": {\"duration\": 300, \"easing\": \"cubic-in-out\"}, \"x\": 0.1, \"xanchor\": \"left\", \"y\": 0, \"yanchor\": \"top\"}], \"template\": {\"data\": {\"bar\": [{\"error_x\": {\"color\": \"#2a3f5f\"}, \"error_y\": {\"color\": \"#2a3f5f\"}, \"marker\": {\"line\": {\"color\": \"#E5ECF6\", \"width\": 0.5}}, \"type\": \"bar\"}], \"barpolar\": [{\"marker\": {\"line\": {\"color\": \"#E5ECF6\", \"width\": 0.5}}, \"type\": \"barpolar\"}], \"carpet\": [{\"aaxis\": {\"endlinecolor\": \"#2a3f5f\", \"gridcolor\": \"white\", \"linecolor\": \"white\", \"minorgridcolor\": \"white\", \"startlinecolor\": \"#2a3f5f\"}, \"baxis\": {\"endlinecolor\": \"#2a3f5f\", \"gridcolor\": \"white\", \"linecolor\": \"white\", \"minorgridcolor\": \"white\", \"startlinecolor\": \"#2a3f5f\"}, \"type\": \"carpet\"}], \"choropleth\": [{\"colorbar\": {\"outlinewidth\": 0, \"ticks\": \"\"}, \"type\": \"choropleth\"}], \"contour\": [{\"colorbar\": {\"outlinewidth\": 0, \"ticks\": \"\"}, \"colorscale\": [[0.0, \"#0d0887\"], [0.1111111111111111, \"#46039f\"], [0.2222222222222222, \"#7201a8\"], [0.3333333333333333, \"#9c179e\"], [0.4444444444444444, \"#bd3786\"], [0.5555555555555556, \"#d8576b\"], [0.6666666666666666, \"#ed7953\"], [0.7777777777777778, \"#fb9f3a\"], [0.8888888888888888, \"#fdca26\"], [1.0, \"#f0f921\"]], \"type\": \"contour\"}], \"contourcarpet\": [{\"colorbar\": {\"outlinewidth\": 0, \"ticks\": \"\"}, \"type\": \"contourcarpet\"}], \"heatmap\": [{\"colorbar\": {\"outlinewidth\": 0, \"ticks\": \"\"}, \"colorscale\": [[0.0, \"#0d0887\"], [0.1111111111111111, \"#46039f\"], [0.2222222222222222, \"#7201a8\"], [0.3333333333333333, \"#9c179e\"], [0.4444444444444444, \"#bd3786\"], [0.5555555555555556, \"#d8576b\"], [0.6666666666666666, \"#ed7953\"], [0.7777777777777778, \"#fb9f3a\"], [0.8888888888888888, \"#fdca26\"], [1.0, \"#f0f921\"]], \"type\": \"heatmap\"}], \"heatmapgl\": [{\"colorbar\": {\"outlinewidth\": 0, \"ticks\": \"\"}, \"colorscale\": [[0.0, \"#0d0887\"], [0.1111111111111111, \"#46039f\"], [0.2222222222222222, \"#7201a8\"], [0.3333333333333333, \"#9c179e\"], [0.4444444444444444, \"#bd3786\"], [0.5555555555555556, \"#d8576b\"], [0.6666666666666666, \"#ed7953\"], [0.7777777777777778, \"#fb9f3a\"], [0.8888888888888888, \"#fdca26\"], [1.0, \"#f0f921\"]], \"type\": \"heatmapgl\"}], \"histogram\": [{\"marker\": {\"colorbar\": {\"outlinewidth\": 0, \"ticks\": \"\"}}, \"type\": \"histogram\"}], \"histogram2d\": [{\"colorbar\": {\"outlinewidth\": 0, \"ticks\": \"\"}, \"colorscale\": [[0.0, \"#0d0887\"], [0.1111111111111111, \"#46039f\"], [0.2222222222222222, \"#7201a8\"], [0.3333333333333333, \"#9c179e\"], [0.4444444444444444, \"#bd3786\"], [0.5555555555555556, \"#d8576b\"], [0.6666666666666666, \"#ed7953\"], [0.7777777777777778, \"#fb9f3a\"], [0.8888888888888888, \"#fdca26\"], [1.0, \"#f0f921\"]], \"type\": \"histogram2d\"}], \"histogram2dcontour\": [{\"colorbar\": {\"outlinewidth\": 0, \"ticks\": \"\"}, \"colorscale\": [[0.0, \"#0d0887\"], [0.1111111111111111, \"#46039f\"], [0.2222222222222222, \"#7201a8\"], [0.3333333333333333, \"#9c179e\"], [0.4444444444444444, \"#bd3786\"], [0.5555555555555556, \"#d8576b\"], [0.6666666666666666, \"#ed7953\"], [0.7777777777777778, \"#fb9f3a\"], [0.8888888888888888, \"#fdca26\"], [1.0, \"#f0f921\"]], \"type\": \"histogram2dcontour\"}], \"mesh3d\": [{\"colorbar\": {\"outlinewidth\": 0, \"ticks\": \"\"}, \"type\": \"mesh3d\"}], \"parcoords\": [{\"line\": {\"colorbar\": {\"outlinewidth\": 0, \"ticks\": \"\"}}, \"type\": \"parcoords\"}], \"pie\": [{\"automargin\": true, \"type\": \"pie\"}], \"scatter\": [{\"marker\": {\"colorbar\": {\"outlinewidth\": 0, \"ticks\": \"\"}}, \"type\": \"scatter\"}], \"scatter3d\": [{\"line\": {\"colorbar\": {\"outlinewidth\": 0, \"ticks\": \"\"}}, \"marker\": {\"colorbar\": {\"outlinewidth\": 0, \"ticks\": \"\"}}, \"type\": \"scatter3d\"}], \"scattercarpet\": [{\"marker\": {\"colorbar\": {\"outlinewidth\": 0, \"ticks\": \"\"}}, \"type\": \"scattercarpet\"}], \"scattergeo\": [{\"marker\": {\"colorbar\": {\"outlinewidth\": 0, \"ticks\": \"\"}}, \"type\": \"scattergeo\"}], \"scattergl\": [{\"marker\": {\"colorbar\": {\"outlinewidth\": 0, \"ticks\": \"\"}}, \"type\": \"scattergl\"}], \"scattermapbox\": [{\"marker\": {\"colorbar\": {\"outlinewidth\": 0, \"ticks\": \"\"}}, \"type\": \"scattermapbox\"}], \"scatterpolar\": [{\"marker\": {\"colorbar\": {\"outlinewidth\": 0, \"ticks\": \"\"}}, \"type\": \"scatterpolar\"}], \"scatterpolargl\": [{\"marker\": {\"colorbar\": {\"outlinewidth\": 0, \"ticks\": \"\"}}, \"type\": \"scatterpolargl\"}], \"scatterternary\": [{\"marker\": {\"colorbar\": {\"outlinewidth\": 0, \"ticks\": \"\"}}, \"type\": \"scatterternary\"}], \"surface\": [{\"colorbar\": {\"outlinewidth\": 0, \"ticks\": \"\"}, \"colorscale\": [[0.0, \"#0d0887\"], [0.1111111111111111, \"#46039f\"], [0.2222222222222222, \"#7201a8\"], [0.3333333333333333, \"#9c179e\"], [0.4444444444444444, \"#bd3786\"], [0.5555555555555556, \"#d8576b\"], [0.6666666666666666, \"#ed7953\"], [0.7777777777777778, \"#fb9f3a\"], [0.8888888888888888, \"#fdca26\"], [1.0, \"#f0f921\"]], \"type\": \"surface\"}], \"table\": [{\"cells\": {\"fill\": {\"color\": \"#EBF0F8\"}, \"line\": {\"color\": \"white\"}}, \"header\": {\"fill\": {\"color\": \"#C8D4E3\"}, \"line\": {\"color\": \"white\"}}, \"type\": \"table\"}]}, \"layout\": {\"annotationdefaults\": {\"arrowcolor\": \"#2a3f5f\", \"arrowhead\": 0, \"arrowwidth\": 1}, \"coloraxis\": {\"colorbar\": {\"outlinewidth\": 0, \"ticks\": \"\"}}, \"colorscale\": {\"diverging\": [[0, \"#8e0152\"], [0.1, \"#c51b7d\"], [0.2, \"#de77ae\"], [0.3, \"#f1b6da\"], [0.4, \"#fde0ef\"], [0.5, \"#f7f7f7\"], [0.6, \"#e6f5d0\"], [0.7, \"#b8e186\"], [0.8, \"#7fbc41\"], [0.9, \"#4d9221\"], [1, \"#276419\"]], \"sequential\": [[0.0, \"#0d0887\"], [0.1111111111111111, \"#46039f\"], [0.2222222222222222, \"#7201a8\"], [0.3333333333333333, \"#9c179e\"], [0.4444444444444444, \"#bd3786\"], [0.5555555555555556, \"#d8576b\"], [0.6666666666666666, \"#ed7953\"], [0.7777777777777778, \"#fb9f3a\"], [0.8888888888888888, \"#fdca26\"], [1.0, \"#f0f921\"]], \"sequentialminus\": [[0.0, \"#0d0887\"], [0.1111111111111111, \"#46039f\"], [0.2222222222222222, \"#7201a8\"], [0.3333333333333333, \"#9c179e\"], [0.4444444444444444, \"#bd3786\"], [0.5555555555555556, \"#d8576b\"], [0.6666666666666666, \"#ed7953\"], [0.7777777777777778, \"#fb9f3a\"], [0.8888888888888888, \"#fdca26\"], [1.0, \"#f0f921\"]]}, \"colorway\": [\"#636efa\", \"#EF553B\", \"#00cc96\", \"#ab63fa\", \"#FFA15A\", \"#19d3f3\", \"#FF6692\", \"#B6E880\", \"#FF97FF\", \"#FECB52\"], \"font\": {\"color\": \"#2a3f5f\"}, \"geo\": {\"bgcolor\": \"white\", \"lakecolor\": \"white\", \"landcolor\": \"#E5ECF6\", \"showlakes\": true, \"showland\": true, \"subunitcolor\": \"white\"}, \"hoverlabel\": {\"align\": \"left\"}, \"hovermode\": \"closest\", \"mapbox\": {\"style\": \"light\"}, \"paper_bgcolor\": \"white\", \"plot_bgcolor\": \"#E5ECF6\", \"polar\": {\"angularaxis\": {\"gridcolor\": \"white\", \"linecolor\": \"white\", \"ticks\": \"\"}, \"bgcolor\": \"#E5ECF6\", \"radialaxis\": {\"gridcolor\": \"white\", \"linecolor\": \"white\", \"ticks\": \"\"}}, \"scene\": {\"xaxis\": {\"backgroundcolor\": \"#E5ECF6\", \"gridcolor\": \"white\", \"gridwidth\": 2, \"linecolor\": \"white\", \"showbackground\": true, \"ticks\": \"\", \"zerolinecolor\": \"white\"}, \"yaxis\": {\"backgroundcolor\": \"#E5ECF6\", \"gridcolor\": \"white\", \"gridwidth\": 2, \"linecolor\": \"white\", \"showbackground\": true, \"ticks\": \"\", \"zerolinecolor\": \"white\"}, \"zaxis\": {\"backgroundcolor\": \"#E5ECF6\", \"gridcolor\": \"white\", \"gridwidth\": 2, \"linecolor\": \"white\", \"showbackground\": true, \"ticks\": \"\", \"zerolinecolor\": \"white\"}}, \"shapedefaults\": {\"line\": {\"color\": \"#2a3f5f\"}}, \"ternary\": {\"aaxis\": {\"gridcolor\": \"white\", \"linecolor\": \"white\", \"ticks\": \"\"}, \"baxis\": {\"gridcolor\": \"white\", \"linecolor\": \"white\", \"ticks\": \"\"}, \"bgcolor\": \"#E5ECF6\", \"caxis\": {\"gridcolor\": \"white\", \"linecolor\": \"white\", \"ticks\": \"\"}}, \"title\": {\"x\": 0.05}, \"xaxis\": {\"automargin\": true, \"gridcolor\": \"white\", \"linecolor\": \"white\", \"ticks\": \"\", \"title\": {\"standoff\": 15}, \"zerolinecolor\": \"white\", \"zerolinewidth\": 2}, \"yaxis\": {\"automargin\": true, \"gridcolor\": \"white\", \"linecolor\": \"white\", \"ticks\": \"\", \"title\": {\"standoff\": 15}, \"zerolinecolor\": \"white\", \"zerolinewidth\": 2}}}, \"updatemenus\": [{\"buttons\": [{\"args\": [null, {\"frame\": {\"duration\": 500, \"redraw\": false}, \"fromcurrent\": true, \"transition\": {\"duration\": 300, \"easing\": \"quadratic-in-out\"}}], \"label\": \"Play\", \"method\": \"animate\"}, {\"args\": [[null], {\"frame\": {\"duration\": 0, \"redraw\": false}, \"mode\": \"immediate\", \"transition\": {\"duration\": 0}}], \"label\": \"Pause\", \"method\": \"animate\"}], \"direction\": \"left\", \"pad\": {\"r\": 10, \"t\": 87}, \"showactive\": false, \"type\": \"buttons\", \"x\": 0.1, \"xanchor\": \"right\", \"y\": 0, \"yanchor\": \"top\"}], \"xaxis\": {\"range\": [0, 45], \"title\": {\"text\": \"Number of Active Repositories\"}}, \"yaxis\": {\"range\": [0, 400], \"title\": {\"text\": \"Number of Contributors\"}}},\n",
       "                        {\"responsive\": true}\n",
       "                    ).then(function(){\n",
       "                            Plotly.addFrames('ced9fa35-d7ca-4b6e-aa01-5849eb668b49', [{\"data\": [{\"marker\": {\"size\": [104.0], \"sizemode\": \"area\", \"sizeref\": 30}, \"mode\": \"markers\", \"name\": \"C\", \"text\": [\"C\"], \"x\": [1], \"y\": [1.0], \"type\": \"scatter\"}, {\"marker\": {\"size\": [0.0], \"sizemode\": \"area\", \"sizeref\": 30}, \"mode\": \"markers\", \"name\": \"C#\", \"text\": [\"C#\"], \"x\": [0], \"y\": [0.0], \"type\": \"scatter\"}, {\"marker\": {\"size\": [0.0], \"sizemode\": \"area\", \"sizeref\": 30}, \"mode\": \"markers\", \"name\": \"C++\", \"text\": [\"C++\"], \"x\": [0], \"y\": [0.0], \"type\": \"scatter\"}, {\"marker\": {\"size\": [0.0], \"sizemode\": \"area\", \"sizeref\": 30}, \"mode\": \"markers\", \"name\": \"CSS\", \"text\": [\"CSS\"], \"x\": [0], \"y\": [0.0], \"type\": \"scatter\"}, {\"marker\": {\"size\": [0.0], \"sizemode\": \"area\", \"sizeref\": 30}, \"mode\": \"markers\", \"name\": \"Emacs Lisp\", \"text\": [\"Emacs Lisp\"], \"x\": [0], \"y\": [0.0], \"type\": \"scatter\"}, {\"marker\": {\"size\": [0.0], \"sizemode\": \"area\", \"sizeref\": 30}, \"mode\": \"markers\", \"name\": \"HTML\", \"text\": [\"HTML\"], \"x\": [0], \"y\": [0.0], \"type\": \"scatter\"}, {\"marker\": {\"size\": [0.0], \"sizemode\": \"area\", \"sizeref\": 30}, \"mode\": \"markers\", \"name\": \"Java\", \"text\": [\"Java\"], \"x\": [0], \"y\": [0.0], \"type\": \"scatter\"}, {\"marker\": {\"size\": [18081.5], \"sizemode\": \"area\", \"sizeref\": 30}, \"mode\": \"markers\", \"name\": \"JavaScript\", \"text\": [\"JavaScript\"], \"x\": [4], \"y\": [4.5], \"type\": \"scatter\"}, {\"marker\": {\"size\": [0.0], \"sizemode\": \"area\", \"sizeref\": 30}, \"mode\": \"markers\", \"name\": \"Makefile\", \"text\": [\"Makefile\"], \"x\": [0], \"y\": [0.0], \"type\": \"scatter\"}, {\"marker\": {\"size\": [0.0], \"sizemode\": \"area\", \"sizeref\": 30}, \"mode\": \"markers\", \"name\": \"OCaml\", \"text\": [\"OCaml\"], \"x\": [0], \"y\": [0.0], \"type\": \"scatter\"}, {\"marker\": {\"size\": [0.0], \"sizemode\": \"area\", \"sizeref\": 30}, \"mode\": \"markers\", \"name\": \"Objective-C\", \"text\": [\"Objective-C\"], \"x\": [0], \"y\": [0.0], \"type\": \"scatter\"}, {\"marker\": {\"size\": [0.0], \"sizemode\": \"area\", \"sizeref\": 30}, \"mode\": \"markers\", \"name\": \"PHP\", \"text\": [\"PHP\"], \"x\": [0], \"y\": [0.0], \"type\": \"scatter\"}, {\"marker\": {\"size\": [0.0], \"sizemode\": \"area\", \"sizeref\": 30}, \"mode\": \"markers\", \"name\": \"Ruby\", \"text\": [\"Ruby\"], \"x\": [0], \"y\": [0.0], \"type\": \"scatter\"}, {\"marker\": {\"size\": [0.0], \"sizemode\": \"area\", \"sizeref\": 30}, \"mode\": \"markers\", \"name\": \"Rust\", \"text\": [\"Rust\"], \"x\": [0], \"y\": [0.0], \"type\": \"scatter\"}, {\"marker\": {\"size\": [0.0], \"sizemode\": \"area\", \"sizeref\": 30}, \"mode\": \"markers\", \"name\": \"Shell\", \"text\": [\"Shell\"], \"x\": [0], \"y\": [0.0], \"type\": \"scatter\"}, {\"marker\": {\"size\": [0.0], \"sizemode\": \"area\", \"sizeref\": 30}, \"mode\": \"markers\", \"name\": \"Swift\", \"text\": [\"Swift\"], \"x\": [0], \"y\": [0.0], \"type\": \"scatter\"}, {\"marker\": {\"size\": [0.0], \"sizemode\": \"area\", \"sizeref\": 30}, \"mode\": \"markers\", \"name\": \"Vue\", \"text\": [\"Vue\"], \"x\": [0], \"y\": [0.0], \"type\": \"scatter\"}], \"name\": \"0\"}, {\"data\": [{\"marker\": {\"size\": [52.0], \"sizemode\": \"area\", \"sizeref\": 30}, \"mode\": \"markers\", \"name\": \"C\", \"text\": [\"C\"], \"x\": [1], \"y\": [1.0], \"type\": \"scatter\"}, {\"marker\": {\"size\": [0.0], \"sizemode\": \"area\", \"sizeref\": 30}, \"mode\": \"markers\", \"name\": \"C#\", \"text\": [\"C#\"], \"x\": [0], \"y\": [0.0], \"type\": \"scatter\"}, {\"marker\": {\"size\": [0.0], \"sizemode\": \"area\", \"sizeref\": 30}, \"mode\": \"markers\", \"name\": \"C++\", \"text\": [\"C++\"], \"x\": [0], \"y\": [0.0], \"type\": \"scatter\"}, {\"marker\": {\"size\": [2371.0], \"sizemode\": \"area\", \"sizeref\": 30}, \"mode\": \"markers\", \"name\": \"CSS\", \"text\": [\"CSS\"], \"x\": [1], \"y\": [4.0], \"type\": \"scatter\"}, {\"marker\": {\"size\": [808.0], \"sizemode\": \"area\", \"sizeref\": 30}, \"mode\": \"markers\", \"name\": \"Emacs Lisp\", \"text\": [\"Emacs Lisp\"], \"x\": [1], \"y\": [1.0], \"type\": \"scatter\"}, {\"marker\": {\"size\": [0.0], \"sizemode\": \"area\", \"sizeref\": 30}, \"mode\": \"markers\", \"name\": \"HTML\", \"text\": [\"HTML\"], \"x\": [0], \"y\": [0.0], \"type\": \"scatter\"}, {\"marker\": {\"size\": [112.0], \"sizemode\": \"area\", \"sizeref\": 30}, \"mode\": \"markers\", \"name\": \"Java\", \"text\": [\"Java\"], \"x\": [1], \"y\": [1.0], \"type\": \"scatter\"}, {\"marker\": {\"size\": [9040.75], \"sizemode\": \"area\", \"sizeref\": 30}, \"mode\": \"markers\", \"name\": \"JavaScript\", \"text\": [\"JavaScript\"], \"x\": [4], \"y\": [4.5], \"type\": \"scatter\"}, {\"marker\": {\"size\": [0.0], \"sizemode\": \"area\", \"sizeref\": 30}, \"mode\": \"markers\", \"name\": \"Makefile\", \"text\": [\"Makefile\"], \"x\": [0], \"y\": [0.0], \"type\": \"scatter\"}, {\"marker\": {\"size\": [0.0], \"sizemode\": \"area\", \"sizeref\": 30}, \"mode\": \"markers\", \"name\": \"OCaml\", \"text\": [\"OCaml\"], \"x\": [0], \"y\": [0.0], \"type\": \"scatter\"}, {\"marker\": {\"size\": [0.0], \"sizemode\": \"area\", \"sizeref\": 30}, \"mode\": \"markers\", \"name\": \"Objective-C\", \"text\": [\"Objective-C\"], \"x\": [0], \"y\": [0.0], \"type\": \"scatter\"}, {\"marker\": {\"size\": [0.0], \"sizemode\": \"area\", \"sizeref\": 30}, \"mode\": \"markers\", \"name\": \"PHP\", \"text\": [\"PHP\"], \"x\": [0], \"y\": [0.0], \"type\": \"scatter\"}, {\"marker\": {\"size\": [124.0], \"sizemode\": \"area\", \"sizeref\": 30}, \"mode\": \"markers\", \"name\": \"Ruby\", \"text\": [\"Ruby\"], \"x\": [1], \"y\": [1.0], \"type\": \"scatter\"}, {\"marker\": {\"size\": [0.0], \"sizemode\": \"area\", \"sizeref\": 30}, \"mode\": \"markers\", \"name\": \"Rust\", \"text\": [\"Rust\"], \"x\": [0], \"y\": [0.0], \"type\": \"scatter\"}, {\"marker\": {\"size\": [108.0], \"sizemode\": \"area\", \"sizeref\": 30}, \"mode\": \"markers\", \"name\": \"Shell\", \"text\": [\"Shell\"], \"x\": [1], \"y\": [1.0], \"type\": \"scatter\"}, {\"marker\": {\"size\": [0.0], \"sizemode\": \"area\", \"sizeref\": 30}, \"mode\": \"markers\", \"name\": \"Swift\", \"text\": [\"Swift\"], \"x\": [0], \"y\": [0.0], \"type\": \"scatter\"}, {\"marker\": {\"size\": [1490.0], \"sizemode\": \"area\", \"sizeref\": 30}, \"mode\": \"markers\", \"name\": \"Vue\", \"text\": [\"Vue\"], \"x\": [1], \"y\": [1.0], \"type\": \"scatter\"}], \"name\": \"1\"}, {\"data\": [{\"marker\": {\"size\": [18020.5], \"sizemode\": \"area\", \"sizeref\": 30}, \"mode\": \"markers\", \"name\": \"C\", \"text\": [\"C\"], \"x\": [3], \"y\": [63.5], \"type\": \"scatter\"}, {\"marker\": {\"size\": [0.0], \"sizemode\": \"area\", \"sizeref\": 30}, \"mode\": \"markers\", \"name\": \"C#\", \"text\": [\"C#\"], \"x\": [0], \"y\": [0.0], \"type\": \"scatter\"}, {\"marker\": {\"size\": [0.0], \"sizemode\": \"area\", \"sizeref\": 30}, \"mode\": \"markers\", \"name\": \"C++\", \"text\": [\"C++\"], \"x\": [0], \"y\": [0.0], \"type\": \"scatter\"}, {\"marker\": {\"size\": [1185.5], \"sizemode\": \"area\", \"sizeref\": 30}, \"mode\": \"markers\", \"name\": \"CSS\", \"text\": [\"CSS\"], \"x\": [1], \"y\": [4.0], \"type\": \"scatter\"}, {\"marker\": {\"size\": [404.0], \"sizemode\": \"area\", \"sizeref\": 30}, \"mode\": \"markers\", \"name\": \"Emacs Lisp\", \"text\": [\"Emacs Lisp\"], \"x\": [1], \"y\": [1.0], \"type\": \"scatter\"}, {\"marker\": {\"size\": [0.0], \"sizemode\": \"area\", \"sizeref\": 30}, \"mode\": \"markers\", \"name\": \"HTML\", \"text\": [\"HTML\"], \"x\": [0], \"y\": [0.0], \"type\": \"scatter\"}, {\"marker\": {\"size\": [56.0], \"sizemode\": \"area\", \"sizeref\": 30}, \"mode\": \"markers\", \"name\": \"Java\", \"text\": [\"Java\"], \"x\": [1], \"y\": [1.0], \"type\": \"scatter\"}, {\"marker\": {\"size\": [5013.041666666667], \"sizemode\": \"area\", \"sizeref\": 30}, \"mode\": \"markers\", \"name\": \"JavaScript\", \"text\": [\"JavaScript\"], \"x\": [7], \"y\": [5.5], \"type\": \"scatter\"}, {\"marker\": {\"size\": [0.0], \"sizemode\": \"area\", \"sizeref\": 30}, \"mode\": \"markers\", \"name\": \"Makefile\", \"text\": [\"Makefile\"], \"x\": [0], \"y\": [0.0], \"type\": \"scatter\"}, {\"marker\": {\"size\": [0.0], \"sizemode\": \"area\", \"sizeref\": 30}, \"mode\": \"markers\", \"name\": \"OCaml\", \"text\": [\"OCaml\"], \"x\": [0], \"y\": [0.0], \"type\": \"scatter\"}, {\"marker\": {\"size\": [2693.0], \"sizemode\": \"area\", \"sizeref\": 30}, \"mode\": \"markers\", \"name\": \"Objective-C\", \"text\": [\"Objective-C\"], \"x\": [1], \"y\": [23.0], \"type\": \"scatter\"}, {\"marker\": {\"size\": [0.0], \"sizemode\": \"area\", \"sizeref\": 30}, \"mode\": \"markers\", \"name\": \"PHP\", \"text\": [\"PHP\"], \"x\": [0], \"y\": [0.0], \"type\": \"scatter\"}, {\"marker\": {\"size\": [62.0], \"sizemode\": \"area\", \"sizeref\": 30}, \"mode\": \"markers\", \"name\": \"Ruby\", \"text\": [\"Ruby\"], \"x\": [1], \"y\": [1.0], \"type\": \"scatter\"}, {\"marker\": {\"size\": [0.0], \"sizemode\": \"area\", \"sizeref\": 30}, \"mode\": \"markers\", \"name\": \"Rust\", \"text\": [\"Rust\"], \"x\": [0], \"y\": [0.0], \"type\": \"scatter\"}, {\"marker\": {\"size\": [533.0], \"sizemode\": \"area\", \"sizeref\": 30}, \"mode\": \"markers\", \"name\": \"Shell\", \"text\": [\"Shell\"], \"x\": [2], \"y\": [2.0], \"type\": \"scatter\"}, {\"marker\": {\"size\": [0.0], \"sizemode\": \"area\", \"sizeref\": 30}, \"mode\": \"markers\", \"name\": \"Swift\", \"text\": [\"Swift\"], \"x\": [0], \"y\": [0.0], \"type\": \"scatter\"}, {\"marker\": {\"size\": [745.0], \"sizemode\": \"area\", \"sizeref\": 30}, \"mode\": \"markers\", \"name\": \"Vue\", \"text\": [\"Vue\"], \"x\": [1], \"y\": [1.0], \"type\": \"scatter\"}], \"name\": \"2\"}, {\"data\": [{\"marker\": {\"size\": [9010.25], \"sizemode\": \"area\", \"sizeref\": 30}, \"mode\": \"markers\", \"name\": \"C\", \"text\": [\"C\"], \"x\": [3], \"y\": [63.5], \"type\": \"scatter\"}, {\"marker\": {\"size\": [0.0], \"sizemode\": \"area\", \"sizeref\": 30}, \"mode\": \"markers\", \"name\": \"C#\", \"text\": [\"C#\"], \"x\": [0], \"y\": [0.0], \"type\": \"scatter\"}, {\"marker\": {\"size\": [0.0], \"sizemode\": \"area\", \"sizeref\": 30}, \"mode\": \"markers\", \"name\": \"C++\", \"text\": [\"C++\"], \"x\": [0], \"y\": [0.0], \"type\": \"scatter\"}, {\"marker\": {\"size\": [592.75], \"sizemode\": \"area\", \"sizeref\": 30}, \"mode\": \"markers\", \"name\": \"CSS\", \"text\": [\"CSS\"], \"x\": [1], \"y\": [4.0], \"type\": \"scatter\"}, {\"marker\": {\"size\": [202.0], \"sizemode\": \"area\", \"sizeref\": 30}, \"mode\": \"markers\", \"name\": \"Emacs Lisp\", \"text\": [\"Emacs Lisp\"], \"x\": [1], \"y\": [1.0], \"type\": \"scatter\"}, {\"marker\": {\"size\": [0.0], \"sizemode\": \"area\", \"sizeref\": 30}, \"mode\": \"markers\", \"name\": \"HTML\", \"text\": [\"HTML\"], \"x\": [0], \"y\": [0.0], \"type\": \"scatter\"}, {\"marker\": {\"size\": [2012.0], \"sizemode\": \"area\", \"sizeref\": 30}, \"mode\": \"markers\", \"name\": \"Java\", \"text\": [\"Java\"], \"x\": [2], \"y\": [5.0], \"type\": \"scatter\"}, {\"marker\": {\"size\": [3981.1208333333334], \"sizemode\": \"area\", \"sizeref\": 30}, \"mode\": \"markers\", \"name\": \"JavaScript\", \"text\": [\"JavaScript\"], \"x\": [12], \"y\": [14.9], \"type\": \"scatter\"}, {\"marker\": {\"size\": [0.0], \"sizemode\": \"area\", \"sizeref\": 30}, \"mode\": \"markers\", \"name\": \"Makefile\", \"text\": [\"Makefile\"], \"x\": [0], \"y\": [0.0], \"type\": \"scatter\"}, {\"marker\": {\"size\": [0.0], \"sizemode\": \"area\", \"sizeref\": 30}, \"mode\": \"markers\", \"name\": \"OCaml\", \"text\": [\"OCaml\"], \"x\": [0], \"y\": [0.0], \"type\": \"scatter\"}, {\"marker\": {\"size\": [1346.5], \"sizemode\": \"area\", \"sizeref\": 30}, \"mode\": \"markers\", \"name\": \"Objective-C\", \"text\": [\"Objective-C\"], \"x\": [1], \"y\": [23.0], \"type\": \"scatter\"}, {\"marker\": {\"size\": [0.0], \"sizemode\": \"area\", \"sizeref\": 30}, \"mode\": \"markers\", \"name\": \"PHP\", \"text\": [\"PHP\"], \"x\": [0], \"y\": [0.0], \"type\": \"scatter\"}, {\"marker\": {\"size\": [31.0], \"sizemode\": \"area\", \"sizeref\": 30}, \"mode\": \"markers\", \"name\": \"Ruby\", \"text\": [\"Ruby\"], \"x\": [1], \"y\": [1.0], \"type\": \"scatter\"}, {\"marker\": {\"size\": [0.0], \"sizemode\": \"area\", \"sizeref\": 30}, \"mode\": \"markers\", \"name\": \"Rust\", \"text\": [\"Rust\"], \"x\": [0], \"y\": [0.0], \"type\": \"scatter\"}, {\"marker\": {\"size\": [313.0], \"sizemode\": \"area\", \"sizeref\": 30}, \"mode\": \"markers\", \"name\": \"Shell\", \"text\": [\"Shell\"], \"x\": [6], \"y\": [3.75], \"type\": \"scatter\"}, {\"marker\": {\"size\": [0.0], \"sizemode\": \"area\", \"sizeref\": 30}, \"mode\": \"markers\", \"name\": \"Swift\", \"text\": [\"Swift\"], \"x\": [0], \"y\": [0.0], \"type\": \"scatter\"}, {\"marker\": {\"size\": [372.5], \"sizemode\": \"area\", \"sizeref\": 30}, \"mode\": \"markers\", \"name\": \"Vue\", \"text\": [\"Vue\"], \"x\": [1], \"y\": [1.0], \"type\": \"scatter\"}], \"name\": \"3\"}, {\"data\": [{\"marker\": {\"size\": [4505.125], \"sizemode\": \"area\", \"sizeref\": 30}, \"mode\": \"markers\", \"name\": \"C\", \"text\": [\"C\"], \"x\": [3], \"y\": [63.5], \"type\": \"scatter\"}, {\"marker\": {\"size\": [234063.0], \"sizemode\": \"area\", \"sizeref\": 30}, \"mode\": \"markers\", \"name\": \"C#\", \"text\": [\"C#\"], \"x\": [1], \"y\": [118.0], \"type\": \"scatter\"}, {\"marker\": {\"size\": [163184.0], \"sizemode\": \"area\", \"sizeref\": 30}, \"mode\": \"markers\", \"name\": \"C++\", \"text\": [\"C++\"], \"x\": [2], \"y\": [124.0], \"type\": \"scatter\"}, {\"marker\": {\"size\": [296.375], \"sizemode\": \"area\", \"sizeref\": 30}, \"mode\": \"markers\", \"name\": \"CSS\", \"text\": [\"CSS\"], \"x\": [1], \"y\": [4.0], \"type\": \"scatter\"}, {\"marker\": {\"size\": [101.0], \"sizemode\": \"area\", \"sizeref\": 30}, \"mode\": \"markers\", \"name\": \"Emacs Lisp\", \"text\": [\"Emacs Lisp\"], \"x\": [1], \"y\": [1.0], \"type\": \"scatter\"}, {\"marker\": {\"size\": [1131.3333333333333], \"sizemode\": \"area\", \"sizeref\": 30}, \"mode\": \"markers\", \"name\": \"HTML\", \"text\": [\"HTML\"], \"x\": [3], \"y\": [43.333333333333336], \"type\": \"scatter\"}, {\"marker\": {\"size\": [1139.1875], \"sizemode\": \"area\", \"sizeref\": 30}, \"mode\": \"markers\", \"name\": \"Java\", \"text\": [\"Java\"], \"x\": [34], \"y\": [11.84375], \"type\": \"scatter\"}, {\"marker\": {\"size\": [176663.22708333333], \"sizemode\": \"area\", \"sizeref\": 30}, \"mode\": \"markers\", \"name\": \"JavaScript\", \"text\": [\"JavaScript\"], \"x\": [15], \"y\": [273.2333333333333], \"type\": \"scatter\"}, {\"marker\": {\"size\": [356.0], \"sizemode\": \"area\", \"sizeref\": 30}, \"mode\": \"markers\", \"name\": \"Makefile\", \"text\": [\"Makefile\"], \"x\": [1], \"y\": [12.0], \"type\": \"scatter\"}, {\"marker\": {\"size\": [0.0], \"sizemode\": \"area\", \"sizeref\": 30}, \"mode\": \"markers\", \"name\": \"OCaml\", \"text\": [\"OCaml\"], \"x\": [0], \"y\": [0.0], \"type\": \"scatter\"}, {\"marker\": {\"size\": [673.25], \"sizemode\": \"area\", \"sizeref\": 30}, \"mode\": \"markers\", \"name\": \"Objective-C\", \"text\": [\"Objective-C\"], \"x\": [1], \"y\": [23.0], \"type\": \"scatter\"}, {\"marker\": {\"size\": [0.0], \"sizemode\": \"area\", \"sizeref\": 30}, \"mode\": \"markers\", \"name\": \"PHP\", \"text\": [\"PHP\"], \"x\": [0], \"y\": [0.0], \"type\": \"scatter\"}, {\"marker\": {\"size\": [15.5], \"sizemode\": \"area\", \"sizeref\": 30}, \"mode\": \"markers\", \"name\": \"Ruby\", \"text\": [\"Ruby\"], \"x\": [1], \"y\": [1.0], \"type\": \"scatter\"}, {\"marker\": {\"size\": [0.0], \"sizemode\": \"area\", \"sizeref\": 30}, \"mode\": \"markers\", \"name\": \"Rust\", \"text\": [\"Rust\"], \"x\": [0], \"y\": [0.0], \"type\": \"scatter\"}, {\"marker\": {\"size\": [3421.5], \"sizemode\": \"area\", \"sizeref\": 30}, \"mode\": \"markers\", \"name\": \"Shell\", \"text\": [\"Shell\"], \"x\": [11], \"y\": [10.55], \"type\": \"scatter\"}, {\"marker\": {\"size\": [0.0], \"sizemode\": \"area\", \"sizeref\": 30}, \"mode\": \"markers\", \"name\": \"Swift\", \"text\": [\"Swift\"], \"x\": [0], \"y\": [0.0], \"type\": \"scatter\"}, {\"marker\": {\"size\": [186.25], \"sizemode\": \"area\", \"sizeref\": 30}, \"mode\": \"markers\", \"name\": \"Vue\", \"text\": [\"Vue\"], \"x\": [1], \"y\": [1.0], \"type\": \"scatter\"}], \"name\": \"4\"}, {\"data\": [{\"marker\": {\"size\": [2252.5625], \"sizemode\": \"area\", \"sizeref\": 30}, \"mode\": \"markers\", \"name\": \"C\", \"text\": [\"C\"], \"x\": [3], \"y\": [63.5], \"type\": \"scatter\"}, {\"marker\": {\"size\": [117031.5], \"sizemode\": \"area\", \"sizeref\": 30}, \"mode\": \"markers\", \"name\": \"C#\", \"text\": [\"C#\"], \"x\": [1], \"y\": [118.0], \"type\": \"scatter\"}, {\"marker\": {\"size\": [81592.0], \"sizemode\": \"area\", \"sizeref\": 30}, \"mode\": \"markers\", \"name\": \"C++\", \"text\": [\"C++\"], \"x\": [2], \"y\": [124.0], \"type\": \"scatter\"}, {\"marker\": {\"size\": [17335.1875], \"sizemode\": \"area\", \"sizeref\": 30}, \"mode\": \"markers\", \"name\": \"CSS\", \"text\": [\"CSS\"], \"x\": [3], \"y\": [50.0], \"type\": \"scatter\"}, {\"marker\": {\"size\": [50.5], \"sizemode\": \"area\", \"sizeref\": 30}, \"mode\": \"markers\", \"name\": \"Emacs Lisp\", \"text\": [\"Emacs Lisp\"], \"x\": [1], \"y\": [1.0], \"type\": \"scatter\"}, {\"marker\": {\"size\": [2596.6666666666665], \"sizemode\": \"area\", \"sizeref\": 30}, \"mode\": \"markers\", \"name\": \"HTML\", \"text\": [\"HTML\"], \"x\": [4], \"y\": [135.33333333333334], \"type\": \"scatter\"}, {\"marker\": {\"size\": [21724.260416666668], \"sizemode\": \"area\", \"sizeref\": 30}, \"mode\": \"markers\", \"name\": \"Java\", \"text\": [\"Java\"], \"x\": [40], \"y\": [117.67708333333333], \"type\": \"scatter\"}, {\"marker\": {\"size\": [122807.23854166667], \"sizemode\": \"area\", \"sizeref\": 30}, \"mode\": \"markers\", \"name\": \"JavaScript\", \"text\": [\"JavaScript\"], \"x\": [23], \"y\": [299.9833333333333], \"type\": \"scatter\"}, {\"marker\": {\"size\": [178.0], \"sizemode\": \"area\", \"sizeref\": 30}, \"mode\": \"markers\", \"name\": \"Makefile\", \"text\": [\"Makefile\"], \"x\": [1], \"y\": [12.0], \"type\": \"scatter\"}, {\"marker\": {\"size\": [0.0], \"sizemode\": \"area\", \"sizeref\": 30}, \"mode\": \"markers\", \"name\": \"OCaml\", \"text\": [\"OCaml\"], \"x\": [0], \"y\": [0.0], \"type\": \"scatter\"}, {\"marker\": {\"size\": [22089.625], \"sizemode\": \"area\", \"sizeref\": 30}, \"mode\": \"markers\", \"name\": \"Objective-C\", \"text\": [\"Objective-C\"], \"x\": [2], \"y\": [28.0], \"type\": \"scatter\"}, {\"marker\": {\"size\": [654.0], \"sizemode\": \"area\", \"sizeref\": 30}, \"mode\": \"markers\", \"name\": \"PHP\", \"text\": [\"PHP\"], \"x\": [1], \"y\": [2.0], \"type\": \"scatter\"}, {\"marker\": {\"size\": [1109.25], \"sizemode\": \"area\", \"sizeref\": 30}, \"mode\": \"markers\", \"name\": \"Ruby\", \"text\": [\"Ruby\"], \"x\": [3], \"y\": [17.0], \"type\": \"scatter\"}, {\"marker\": {\"size\": [138.5], \"sizemode\": \"area\", \"sizeref\": 30}, \"mode\": \"markers\", \"name\": \"Rust\", \"text\": [\"Rust\"], \"x\": [2], \"y\": [15.5], \"type\": \"scatter\"}, {\"marker\": {\"size\": [3662.75], \"sizemode\": \"area\", \"sizeref\": 30}, \"mode\": \"markers\", \"name\": \"Shell\", \"text\": [\"Shell\"], \"x\": [18], \"y\": [14.407142857142858], \"type\": \"scatter\"}, {\"marker\": {\"size\": [2128.0], \"sizemode\": \"area\", \"sizeref\": 30}, \"mode\": \"markers\", \"name\": \"Swift\", \"text\": [\"Swift\"], \"x\": [1], \"y\": [1.0], \"type\": \"scatter\"}, {\"marker\": {\"size\": [93.125], \"sizemode\": \"area\", \"sizeref\": 30}, \"mode\": \"markers\", \"name\": \"Vue\", \"text\": [\"Vue\"], \"x\": [1], \"y\": [1.0], \"type\": \"scatter\"}], \"name\": \"5\"}, {\"data\": [{\"marker\": {\"size\": [41946.614583333336], \"sizemode\": \"area\", \"sizeref\": 30}, \"mode\": \"markers\", \"name\": \"C\", \"text\": [\"C\"], \"x\": [9], \"y\": [168.66666666666669], \"type\": \"scatter\"}, {\"marker\": {\"size\": [58515.75], \"sizemode\": \"area\", \"sizeref\": 30}, \"mode\": \"markers\", \"name\": \"C#\", \"text\": [\"C#\"], \"x\": [1], \"y\": [118.0], \"type\": \"scatter\"}, {\"marker\": {\"size\": [86640.0], \"sizemode\": \"area\", \"sizeref\": 30}, \"mode\": \"markers\", \"name\": \"C++\", \"text\": [\"C++\"], \"x\": [5], \"y\": [145.0], \"type\": \"scatter\"}, {\"marker\": {\"size\": [8667.59375], \"sizemode\": \"area\", \"sizeref\": 30}, \"mode\": \"markers\", \"name\": \"CSS\", \"text\": [\"CSS\"], \"x\": [3], \"y\": [50.0], \"type\": \"scatter\"}, {\"marker\": {\"size\": [25.25], \"sizemode\": \"area\", \"sizeref\": 30}, \"mode\": \"markers\", \"name\": \"Emacs Lisp\", \"text\": [\"Emacs Lisp\"], \"x\": [1], \"y\": [1.0], \"type\": \"scatter\"}, {\"marker\": {\"size\": [12967.533333333335], \"sizemode\": \"area\", \"sizeref\": 30}, \"mode\": \"markers\", \"name\": \"HTML\", \"text\": [\"HTML\"], \"x\": [9], \"y\": [152.73333333333335], \"type\": \"scatter\"}, {\"marker\": {\"size\": [10862.130208333334], \"sizemode\": \"area\", \"sizeref\": 30}, \"mode\": \"markers\", \"name\": \"Java\", \"text\": [\"Java\"], \"x\": [40], \"y\": [117.67708333333333], \"type\": \"scatter\"}, {\"marker\": {\"size\": [64441.2859375], \"sizemode\": \"area\", \"sizeref\": 30}, \"mode\": \"markers\", \"name\": \"JavaScript\", \"text\": [\"JavaScript\"], \"x\": [26], \"y\": [338.9833333333333], \"type\": \"scatter\"}, {\"marker\": {\"size\": [89.0], \"sizemode\": \"area\", \"sizeref\": 30}, \"mode\": \"markers\", \"name\": \"Makefile\", \"text\": [\"Makefile\"], \"x\": [1], \"y\": [12.0], \"type\": \"scatter\"}, {\"marker\": {\"size\": [187.0], \"sizemode\": \"area\", \"sizeref\": 30}, \"mode\": \"markers\", \"name\": \"OCaml\", \"text\": [\"OCaml\"], \"x\": [1], \"y\": [1.0], \"type\": \"scatter\"}, {\"marker\": {\"size\": [11044.8125], \"sizemode\": \"area\", \"sizeref\": 30}, \"mode\": \"markers\", \"name\": \"Objective-C\", \"text\": [\"Objective-C\"], \"x\": [2], \"y\": [28.0], \"type\": \"scatter\"}, {\"marker\": {\"size\": [327.0], \"sizemode\": \"area\", \"sizeref\": 30}, \"mode\": \"markers\", \"name\": \"PHP\", \"text\": [\"PHP\"], \"x\": [1], \"y\": [2.0], \"type\": \"scatter\"}, {\"marker\": {\"size\": [100415.625], \"sizemode\": \"area\", \"sizeref\": 30}, \"mode\": \"markers\", \"name\": \"Ruby\", \"text\": [\"Ruby\"], \"x\": [7], \"y\": [348.75], \"type\": \"scatter\"}, {\"marker\": {\"size\": [7380.25], \"sizemode\": \"area\", \"sizeref\": 30}, \"mode\": \"markers\", \"name\": \"Rust\", \"text\": [\"Rust\"], \"x\": [3], \"y\": [134.5], \"type\": \"scatter\"}, {\"marker\": {\"size\": [83627.375], \"sizemode\": \"area\", \"sizeref\": 30}, \"mode\": \"markers\", \"name\": \"Shell\", \"text\": [\"Shell\"], \"x\": [19], \"y\": [22.40714285714286], \"type\": \"scatter\"}, {\"marker\": {\"size\": [5450.0], \"sizemode\": \"area\", \"sizeref\": 30}, \"mode\": \"markers\", \"name\": \"Swift\", \"text\": [\"Swift\"], \"x\": [2], \"y\": [56.0], \"type\": \"scatter\"}, {\"marker\": {\"size\": [46.5625], \"sizemode\": \"area\", \"sizeref\": 30}, \"mode\": \"markers\", \"name\": \"Vue\", \"text\": [\"Vue\"], \"x\": [1], \"y\": [1.0], \"type\": \"scatter\"}], \"name\": \"6\"}, {\"data\": [{\"marker\": {\"size\": [20973.307291666668], \"sizemode\": \"area\", \"sizeref\": 30}, \"mode\": \"markers\", \"name\": \"C\", \"text\": [\"C\"], \"x\": [9], \"y\": [168.66666666666669], \"type\": \"scatter\"}, {\"marker\": {\"size\": [29257.875], \"sizemode\": \"area\", \"sizeref\": 30}, \"mode\": \"markers\", \"name\": \"C#\", \"text\": [\"C#\"], \"x\": [1], \"y\": [118.0], \"type\": \"scatter\"}, {\"marker\": {\"size\": [43320.0], \"sizemode\": \"area\", \"sizeref\": 30}, \"mode\": \"markers\", \"name\": \"C++\", \"text\": [\"C++\"], \"x\": [5], \"y\": [145.0], \"type\": \"scatter\"}, {\"marker\": {\"size\": [4333.796875], \"sizemode\": \"area\", \"sizeref\": 30}, \"mode\": \"markers\", \"name\": \"CSS\", \"text\": [\"CSS\"], \"x\": [3], \"y\": [50.0], \"type\": \"scatter\"}, {\"marker\": {\"size\": [12.625], \"sizemode\": \"area\", \"sizeref\": 30}, \"mode\": \"markers\", \"name\": \"Emacs Lisp\", \"text\": [\"Emacs Lisp\"], \"x\": [1], \"y\": [1.0], \"type\": \"scatter\"}, {\"marker\": {\"size\": [6827.766666666667], \"sizemode\": \"area\", \"sizeref\": 30}, \"mode\": \"markers\", \"name\": \"HTML\", \"text\": [\"HTML\"], \"x\": [10], \"y\": [155.73333333333335], \"type\": \"scatter\"}, {\"marker\": {\"size\": [5431.065104166667], \"sizemode\": \"area\", \"sizeref\": 30}, \"mode\": \"markers\", \"name\": \"Java\", \"text\": [\"Java\"], \"x\": [40], \"y\": [117.67708333333333], \"type\": \"scatter\"}, {\"marker\": {\"size\": [32220.64296875], \"sizemode\": \"area\", \"sizeref\": 30}, \"mode\": \"markers\", \"name\": \"JavaScript\", \"text\": [\"JavaScript\"], \"x\": [26], \"y\": [338.9833333333333], \"type\": \"scatter\"}, {\"marker\": {\"size\": [44.5], \"sizemode\": \"area\", \"sizeref\": 30}, \"mode\": \"markers\", \"name\": \"Makefile\", \"text\": [\"Makefile\"], \"x\": [1], \"y\": [12.0], \"type\": \"scatter\"}, {\"marker\": {\"size\": [5518.833333333333], \"sizemode\": \"area\", \"sizeref\": 30}, \"mode\": \"markers\", \"name\": \"OCaml\", \"text\": [\"OCaml\"], \"x\": [4], \"y\": [2.333333333333333], \"type\": \"scatter\"}, {\"marker\": {\"size\": [5522.40625], \"sizemode\": \"area\", \"sizeref\": 30}, \"mode\": \"markers\", \"name\": \"Objective-C\", \"text\": [\"Objective-C\"], \"x\": [2], \"y\": [28.0], \"type\": \"scatter\"}, {\"marker\": {\"size\": [163.5], \"sizemode\": \"area\", \"sizeref\": 30}, \"mode\": \"markers\", \"name\": \"PHP\", \"text\": [\"PHP\"], \"x\": [1], \"y\": [2.0], \"type\": \"scatter\"}, {\"marker\": {\"size\": [50207.8125], \"sizemode\": \"area\", \"sizeref\": 30}, \"mode\": \"markers\", \"name\": \"Ruby\", \"text\": [\"Ruby\"], \"x\": [7], \"y\": [348.75], \"type\": \"scatter\"}, {\"marker\": {\"size\": [3690.125], \"sizemode\": \"area\", \"sizeref\": 30}, \"mode\": \"markers\", \"name\": \"Rust\", \"text\": [\"Rust\"], \"x\": [3], \"y\": [134.5], \"type\": \"scatter\"}, {\"marker\": {\"size\": [114578.6875], \"sizemode\": \"area\", \"sizeref\": 30}, \"mode\": \"markers\", \"name\": \"Shell\", \"text\": [\"Shell\"], \"x\": [20], \"y\": [348.40714285714284], \"type\": \"scatter\"}, {\"marker\": {\"size\": [2725.0], \"sizemode\": \"area\", \"sizeref\": 30}, \"mode\": \"markers\", \"name\": \"Swift\", \"text\": [\"Swift\"], \"x\": [2], \"y\": [56.0], \"type\": \"scatter\"}, {\"marker\": {\"size\": [23.28125], \"sizemode\": \"area\", \"sizeref\": 30}, \"mode\": \"markers\", \"name\": \"Vue\", \"text\": [\"Vue\"], \"x\": [1], \"y\": [1.0], \"type\": \"scatter\"}], \"name\": \"7\"}, {\"data\": [{\"marker\": {\"size\": [10486.653645833334], \"sizemode\": \"area\", \"sizeref\": 30}, \"mode\": \"markers\", \"name\": \"C\", \"text\": [\"C\"], \"x\": [9], \"y\": [168.66666666666669], \"type\": \"scatter\"}, {\"marker\": {\"size\": [14628.9375], \"sizemode\": \"area\", \"sizeref\": 30}, \"mode\": \"markers\", \"name\": \"C#\", \"text\": [\"C#\"], \"x\": [1], \"y\": [118.0], \"type\": \"scatter\"}, {\"marker\": {\"size\": [21979.0], \"sizemode\": \"area\", \"sizeref\": 30}, \"mode\": \"markers\", \"name\": \"C++\", \"text\": [\"C++\"], \"x\": [6], \"y\": [146.0], \"type\": \"scatter\"}, {\"marker\": {\"size\": [2166.8984375], \"sizemode\": \"area\", \"sizeref\": 30}, \"mode\": \"markers\", \"name\": \"CSS\", \"text\": [\"CSS\"], \"x\": [3], \"y\": [50.0], \"type\": \"scatter\"}, {\"marker\": {\"size\": [6.3125], \"sizemode\": \"area\", \"sizeref\": 30}, \"mode\": \"markers\", \"name\": \"Emacs Lisp\", \"text\": [\"Emacs Lisp\"], \"x\": [1], \"y\": [1.0], \"type\": \"scatter\"}, {\"marker\": {\"size\": [3413.8833333333337], \"sizemode\": \"area\", \"sizeref\": 30}, \"mode\": \"markers\", \"name\": \"HTML\", \"text\": [\"HTML\"], \"x\": [10], \"y\": [155.73333333333335], \"type\": \"scatter\"}, {\"marker\": {\"size\": [2715.5325520833335], \"sizemode\": \"area\", \"sizeref\": 30}, \"mode\": \"markers\", \"name\": \"Java\", \"text\": [\"Java\"], \"x\": [40], \"y\": [117.67708333333333], \"type\": \"scatter\"}, {\"marker\": {\"size\": [20806.321484375], \"sizemode\": \"area\", \"sizeref\": 30}, \"mode\": \"markers\", \"name\": \"JavaScript\", \"text\": [\"JavaScript\"], \"x\": [27], \"y\": [339.9833333333333], \"type\": \"scatter\"}, {\"marker\": {\"size\": [22.25], \"sizemode\": \"area\", \"sizeref\": 30}, \"mode\": \"markers\", \"name\": \"Makefile\", \"text\": [\"Makefile\"], \"x\": [1], \"y\": [12.0], \"type\": \"scatter\"}, {\"marker\": {\"size\": [3736.4166666666665], \"sizemode\": \"area\", \"sizeref\": 30}, \"mode\": \"markers\", \"name\": \"OCaml\", \"text\": [\"OCaml\"], \"x\": [5], \"y\": [3.333333333333333], \"type\": \"scatter\"}, {\"marker\": {\"size\": [2761.203125], \"sizemode\": \"area\", \"sizeref\": 30}, \"mode\": \"markers\", \"name\": \"Objective-C\", \"text\": [\"Objective-C\"], \"x\": [2], \"y\": [28.0], \"type\": \"scatter\"}, {\"marker\": {\"size\": [81.75], \"sizemode\": \"area\", \"sizeref\": 30}, \"mode\": \"markers\", \"name\": \"PHP\", \"text\": [\"PHP\"], \"x\": [1], \"y\": [2.0], \"type\": \"scatter\"}, {\"marker\": {\"size\": [25103.90625], \"sizemode\": \"area\", \"sizeref\": 30}, \"mode\": \"markers\", \"name\": \"Ruby\", \"text\": [\"Ruby\"], \"x\": [7], \"y\": [348.75], \"type\": \"scatter\"}, {\"marker\": {\"size\": [1845.0625], \"sizemode\": \"area\", \"sizeref\": 30}, \"mode\": \"markers\", \"name\": \"Rust\", \"text\": [\"Rust\"], \"x\": [3], \"y\": [134.5], \"type\": \"scatter\"}, {\"marker\": {\"size\": [57289.34375], \"sizemode\": \"area\", \"sizeref\": 30}, \"mode\": \"markers\", \"name\": \"Shell\", \"text\": [\"Shell\"], \"x\": [20], \"y\": [348.40714285714284], \"type\": \"scatter\"}, {\"marker\": {\"size\": [1362.5], \"sizemode\": \"area\", \"sizeref\": 30}, \"mode\": \"markers\", \"name\": \"Swift\", \"text\": [\"Swift\"], \"x\": [2], \"y\": [56.0], \"type\": \"scatter\"}, {\"marker\": {\"size\": [11.640625], \"sizemode\": \"area\", \"sizeref\": 30}, \"mode\": \"markers\", \"name\": \"Vue\", \"text\": [\"Vue\"], \"x\": [1], \"y\": [1.0], \"type\": \"scatter\"}], \"name\": \"8\"}]);\n",
       "                        }).then(function(){\n",
       "                            \n",
       "var gd = document.getElementById('ced9fa35-d7ca-4b6e-aa01-5849eb668b49');\n",
       "var x = new MutationObserver(function (mutations, observer) {{\n",
       "        var display = window.getComputedStyle(gd).display;\n",
       "        if (!display || display === 'none') {{\n",
       "            console.log([gd, 'removed!']);\n",
       "            Plotly.purge(gd);\n",
       "            observer.disconnect();\n",
       "        }}\n",
       "}});\n",
       "\n",
       "// Listen for the removal of the full notebook cells\n",
       "var notebookContainer = gd.closest('#notebook-container');\n",
       "if (notebookContainer) {{\n",
       "    x.observe(notebookContainer, {childList: true});\n",
       "}}\n",
       "\n",
       "// Listen for the clearing of the current output cell\n",
       "var outputEl = gd.closest('.output');\n",
       "if (outputEl) {{\n",
       "    x.observe(outputEl, {childList: true});\n",
       "}}\n",
       "\n",
       "                        })\n",
       "                };\n",
       "                });\n",
       "            </script>\n",
       "        </div>"
      ]
     },
     "metadata": {},
     "output_type": "display_data"
    }
   ],
   "source": [
    "import plotly.offline as plot\n",
    "fig_dict[\"layout\"][\"sliders\"] = [sliders_dict]\n",
    "fig = go.Figure(fig_dict)\n",
    "fig"
   ]
  },
  {
   "cell_type": "code",
   "execution_count": null,
   "metadata": {},
   "outputs": [],
   "source": []
  }
 ],
 "metadata": {
  "kernelspec": {
   "display_name": "Python 3",
   "language": "python",
   "name": "python3"
  },
  "language_info": {
   "codemirror_mode": {
    "name": "ipython",
    "version": 3
   },
   "file_extension": ".py",
   "mimetype": "text/x-python",
   "name": "python",
   "nbconvert_exporter": "python",
   "pygments_lexer": "ipython3",
   "version": "3.7.4"
  }
 },
 "nbformat": 4,
 "nbformat_minor": 2
}
