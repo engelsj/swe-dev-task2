{
 "cells": [
  {
   "cell_type": "code",
   "execution_count": 1,
   "metadata": {},
   "outputs": [],
   "source": [
    "from github import Github\n",
    "from plotly.offline import plot\n",
    "from IPython.display import display, HTML\n",
    "import plotly.express as px\n",
    "import plotly.graph_objects as go\n",
    "import pandas as pd \n",
    "import numpy as np "
   ]
  },
  {
   "cell_type": "code",
   "execution_count": 2,
   "metadata": {},
   "outputs": [],
   "source": [
    "# Set up github access and get members from an organization\n",
    "pd.set_option('display.max_rows', None)\n",
    "# Input github access token\n",
    "g = Github(\"6dec4a753453cdbf66d526d8a646004deea5d11c\")\n",
    "# Create a list of members \n",
    "memberList = []\n",
    "# Get every member from an organization \n",
    "for member in g.get_organization(\"PyGithub\").get_members():\n",
    "    memberList.append(member.login)"
   ]
  },
  {
   "cell_type": "code",
   "execution_count": 3,
   "metadata": {},
   "outputs": [],
   "source": [
    "# Get all of the member's repositories and add them to a dataframe\n",
    "df = pd.DataFrame(columns=['Username','Repository','DateCreated','Language', 'Size'])\n",
    "for member in memberList:\n",
    "    currentUser = g.get_user(member)\n",
    "    for repo in currentUser.get_repos():\n",
    "        new_row = {'Username': member.strip(), 'Repository': repo.name.strip(), 'DateCreated': repo.created_at.year, 'Language':repo.language, 'Size':repo.size, 'Contributors':repo.get_contributors().totalCount}\n",
    "        df = df.append(new_row, ignore_index=True)"
   ]
  },
  {
   "cell_type": "code",
   "execution_count": 45,
   "metadata": {},
   "outputs": [],
   "source": [
    "# add suppression to copying warning \n",
    "pd.options.mode.chained_assignment = None\n",
    "# Sort our dataframe by users and datecreated \n",
    "df = df.sort_values(by=['Username', 'DateCreated'])\n",
    "# Get rid of all of the empty repos or ones with no language \n",
    "df = df.loc[(df[['Size','Contributors']] != 0).all(axis=1)]\n",
    "df = df.loc[df.Language != 'None']\n",
    "# Shift our datecreated to years of experience by subtracting the year from their first year \n",
    "for member in memberList:\n",
    "    mask = (df['Username'] == member)\n",
    "    df['DateCreated'][mask] = df['DateCreated'] - (df.loc[df['Username'] == member])['DateCreated'].min()\n",
    "maxYear = df['DateCreated'].max()"
   ]
  },
  {
   "cell_type": "code",
   "execution_count": 46,
   "metadata": {},
   "outputs": [],
   "source": [
    "pd.set_option('precision', 0)\n",
    "# create a dataframe for each year \n",
    "dataframe_collection = [] \n",
    "for year in range(maxYear):\n",
    "    tempArray = df.loc[df['DateCreated'] == year]\n",
    "    tempArray = tempArray.drop(['Username', 'Repository',\"DateCreated\"], axis=1)\n",
    "    yearArray = pd.DataFrame(columns=['Language','Repositories','Average Size','Contributors'])\n",
    "    yearArray['Language'] = df.Language.unique()\n",
    "    uniqueValues = df.Language.unique()\n",
    "    # find the amount of times the languages is used, the mean of the repo, and the contributors that they interact with \n",
    "    for language in uniqueValues:\n",
    "        mask = (yearArray['Language'] == language)\n",
    "        yearArray['Repositories'][mask] = tempArray.loc[tempArray['Language'] == language].Language.count()\n",
    "        yearArray['Average Size'][mask] = tempArray.loc[tempArray['Language'] == language].Size.mean()\n",
    "        yearArray['Contributors'][mask] = tempArray.loc[tempArray['Language'] == language].Contributors.mean()\n",
    "        yearArray['Average Size'].fillna(0, inplace=True)\n",
    "        yearArray['Repositories'].fillna(0, inplace=True)\n",
    "        yearArray['Contributors'].fillna(0, inplace=True)\n",
    "    dataframe_collection.append(yearArray)"
   ]
  },
  {
   "cell_type": "code",
   "execution_count": 47,
   "metadata": {},
   "outputs": [],
   "source": [
    "# Combine each language into one value\n",
    "for dataIndex in range(len(dataframe_collection) - 1):\n",
    "    dataframe_collection[dataIndex + 1]['Repositories'] = dataframe_collection[dataIndex + 1]['Repositories'] + dataframe_collection[dataIndex]['Repositories']\n",
    "    dataframe_collection[dataIndex + 1]['Average Size'] = (dataframe_collection[dataIndex + 1]['Average Size'] + dataframe_collection[dataIndex]['Average Size']/2)\n",
    "    dataframe_collection[dataIndex + 1]['Contributors'] = (dataframe_collection[dataIndex + 1]['Contributors'] + dataframe_collection[dataIndex]['Contributors'])"
   ]
  },
  {
   "cell_type": "code",
   "execution_count": 62,
   "metadata": {},
   "outputs": [],
   "source": [
    "# Cleaning up some outliers \n",
    "outliers = ['None', 'Erlang', 'HCL', 'VimL','Go','Roff','Jupyter Notebook','Python']\n",
    "for dataIndex in range(len(dataframe_collection)):\n",
    "    for outlier in outliers:\n",
    "        dataframe_collection[dataIndex] = dataframe_collection[dataIndex].replace(to_replace=outlier, value=np.nan).dropna()\n",
    "        dataframe_collection[dataIndex]['Year'] = dataIndex\n",
    "finalDataBase = pd.concat(dataframe_collection)\n",
    "finalDataBase = finalDataBase.sort_values(by=['Language'])\n",
    "languages = finalDataBase.Language.unique()\n",
    "years = ['0','1','2','3','4','5','6','7','8']"
   ]
  },
  {
   "cell_type": "code",
   "execution_count": 63,
   "metadata": {},
   "outputs": [],
   "source": [
    "# make figure\n",
    "fig_dict = {\n",
    "    \"data\": [],\n",
    "    \"layout\": {},\n",
    "    \"frames\": []\n",
    "}"
   ]
  },
  {
   "cell_type": "code",
   "execution_count": 64,
   "metadata": {},
   "outputs": [],
   "source": [
    "years = np.arange(maxYear)\n",
    "fig_dict[\"layout\"][\"xaxis\"] = {\"range\": [0, 45], \"title\": \"Number of Active Repositories\"}\n",
    "fig_dict[\"layout\"][\"yaxis\"] = {\"title\": \"Number of Contributors\", \"range\": [0, 400]}\n",
    "fig_dict[\"layout\"][\"hovermode\"] = \"closest\"\n",
    "fig_dict[\"layout\"][\"sliders\"] = {\n",
    "    \"args\": [\n",
    "        \"transition\", {\n",
    "            \"duration\": 400,\n",
    "            \"easing\": \"cubic-in-out\"\n",
    "        }\n",
    "    ],\n",
    "    \"initialValue\": \"0\",\n",
    "    \"plotlycommand\": \"animate\",\n",
    "    \"values\": years,\n",
    "    \"visible\": True\n",
    "}"
   ]
  },
  {
   "cell_type": "code",
   "execution_count": 65,
   "metadata": {},
   "outputs": [],
   "source": [
    "# fill in most of layout\n",
    "fig_dict[\"layout\"][\"updatemenus\"] = [\n",
    "    {\n",
    "        \"buttons\": [\n",
    "            {\n",
    "                \"args\": [None, {\"frame\": {\"duration\": 500, \"redraw\": False},\n",
    "                                \"fromcurrent\": True, \"transition\": {\"duration\": 300,\n",
    "                                                                    \"easing\": \"quadratic-in-out\"}}],\n",
    "                \"label\": \"Play\",\n",
    "                \"method\": \"animate\"\n",
    "            },\n",
    "            {\n",
    "                \"args\": [[None], {\"frame\": {\"duration\": 0, \"redraw\": False},\n",
    "                                  \"mode\": \"immediate\",\n",
    "                                  \"transition\": {\"duration\": 0}}],\n",
    "                \"label\": \"Pause\",\n",
    "                \"method\": \"animate\"\n",
    "            }\n",
    "        ],\n",
    "        \"direction\": \"left\",\n",
    "        \"pad\": {\"r\": 10, \"t\": 87},\n",
    "        \"showactive\": False,\n",
    "        \"type\": \"buttons\",\n",
    "        \"x\": 0.1,\n",
    "        \"xanchor\": \"right\",\n",
    "        \"y\": 0,\n",
    "        \"yanchor\": \"top\"\n",
    "    }\n",
    "]\n",
    "\n",
    "sliders_dict = {\n",
    "    \"active\": 0,\n",
    "    \"yanchor\": \"top\",\n",
    "    \"xanchor\": \"left\",\n",
    "    \"currentvalue\": {\n",
    "        \"font\": {\"size\": 20},\n",
    "        \"prefix\": \"Years of Experience:\",\n",
    "        \"visible\": True,\n",
    "        \"xanchor\": \"right\"\n",
    "    },\n",
    "    \"transition\": {\"duration\": 300, \"easing\": \"cubic-in-out\"},\n",
    "    \"pad\": {\"b\": 10, \"t\": 50},\n",
    "    \"len\": 0.9,\n",
    "    \"x\": 0.1,\n",
    "    \"y\": 0,\n",
    "    \"steps\": []\n",
    "}"
   ]
  },
  {
   "cell_type": "code",
   "execution_count": 66,
   "metadata": {},
   "outputs": [],
   "source": [
    "year = 0\n",
    "for language in languages:\n",
    "    dataset_by_year = finalDataBase[finalDataBase[\"Year\"] == year]\n",
    "    dataset_by_year_and_language = dataset_by_year[dataset_by_year[\"Language\"] == language]\n",
    "    data_dict = {\n",
    "        \"x\": list(dataset_by_year_and_language[\"Repositories\"]),\n",
    "        \"y\": list(dataset_by_year_and_language[\"Contributors\"]),\n",
    "        \"mode\": \"markers\",\n",
    "        \"text\": list(dataset_by_year_and_language[\"Language\"]),\n",
    "        \"marker\": {\n",
    "            \"sizemode\": \"area\",\n",
    "            \"sizeref\": 5,\n",
    "            \"size\": list(dataset_by_year_and_language[\"Average Size\"])\n",
    "        },\n",
    "        \"name\": language\n",
    "    }\n",
    "    fig_dict[\"data\"].append(data_dict)"
   ]
  },
  {
   "cell_type": "code",
   "execution_count": 67,
   "metadata": {},
   "outputs": [],
   "source": [
    "dataset_by_year_and_language\n",
    "# make frames\n",
    "for year in years:\n",
    "    frame = {\"data\": [], \"name\": str(year)}\n",
    "    for language in languages:\n",
    "        dataset_by_year = finalDataBase[finalDataBase[\"Year\"] == int(year)]\n",
    "        dataset_by_year_and_language = dataset_by_year[dataset_by_year[\"Language\"] == language]\n",
    "        data_dict = {\n",
    "            \"x\": list(dataset_by_year_and_language[\"Repositories\"]),\n",
    "            \"y\": list(dataset_by_year_and_language[\"Contributors\"]),\n",
    "            \"mode\": \"markers\",\n",
    "            \"text\": list(dataset_by_year_and_language[\"Language\"]),\n",
    "            \"marker\": {\n",
    "                \"sizemode\": \"area\",\n",
    "                \"sizeref\": 5,\n",
    "                \"size\": list(dataset_by_year_and_language[\"Average Size\"])\n",
    "            },\n",
    "            \"name\": language\n",
    "        }\n",
    "        frame[\"data\"].append(data_dict)\n",
    "\n",
    "    fig_dict[\"frames\"].append(frame)\n",
    "    slider_step = {\"args\": [\n",
    "        [year],\n",
    "        {\"frame\": {\"duration\": 300, \"redraw\": False},\n",
    "         \"mode\": \"immediate\",\n",
    "         \"transition\": {\"duration\": 300}}\n",
    "    ],\n",
    "        \"label\": str(year),   \n",
    "        \"method\": \"animate\"}\n",
    "    sliders_dict[\"steps\"].append(slider_step)"
   ]
  },
  {
   "cell_type": "code",
   "execution_count": 68,
   "metadata": {
    "scrolled": true
   },
   "outputs": [
    {
     "data": {
      "text/plain": [
       "'temp-plot.html'"
      ]
     },
     "execution_count": 68,
     "metadata": {},
     "output_type": "execute_result"
    }
   ],
   "source": [
    "fig_dict[\"layout\"][\"sliders\"] = [sliders_dict]\n",
    "fig = go.Figure(fig_dict)\n",
    "plot(fig)"
   ]
  },
  {
   "cell_type": "code",
   "execution_count": null,
   "metadata": {},
   "outputs": [],
   "source": []
  }
 ],
 "metadata": {
  "kernelspec": {
   "display_name": "Python 3",
   "language": "python",
   "name": "python3"
  },
  "language_info": {
   "codemirror_mode": {
    "name": "ipython",
    "version": 3
   },
   "file_extension": ".py",
   "mimetype": "text/x-python",
   "name": "python",
   "nbconvert_exporter": "python",
   "pygments_lexer": "ipython3",
   "version": "3.7.4"
  }
 },
 "nbformat": 4,
 "nbformat_minor": 4
}
