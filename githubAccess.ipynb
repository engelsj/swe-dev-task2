{
 "cells": [
  {
   "cell_type": "code",
   "execution_count": 1,
   "metadata": {},
   "outputs": [],
   "source": [
    "from github import Github\n",
    "import plotly.express as px\n",
    "import plotly.graph_objects as go\n",
    "import pandas as pd \n",
    "import numpy as np "
   ]
  },
  {
   "cell_type": "code",
   "execution_count": 2,
   "metadata": {},
   "outputs": [],
   "source": [
    "# Set up github access and get members from an organization\n",
    "pd.set_option('display.max_rows', None)\n",
    "g = Github(\"6dec4a753453cdbf66d526d8a646004deea5d11c\")\n",
    "df = pd.DataFrame(columns=['Member'])\n",
    "memberList = []\n",
    "for member in g.get_organization(\"PyGithub\").get_members():\n",
    "    memberList.append(member.login)"
   ]
  },
  {
   "cell_type": "code",
   "execution_count": 3,
   "metadata": {},
   "outputs": [],
   "source": [
    "# Get all of the member's repositories\n",
    "df = pd.DataFrame(columns=['Username','Repository','DateCreated','Language', 'Size'])\n",
    "for member in memberList:\n",
    "    currentUser = g.get_user(member)\n",
    "    for repo in currentUser.get_repos():\n",
    "        new_row = {'Username': member.strip(), 'Repository': repo.name.strip(), 'DateCreated': repo.created_at.year, 'Language':repo.language, 'Size':repo.size, 'Contributors':repo.get_contributors().totalCount}\n",
    "        df = df.append(new_row, ignore_index=True)"
   ]
  },
  {
   "cell_type": "code",
   "execution_count": 4,
   "metadata": {},
   "outputs": [
    {
     "name": "stderr",
     "output_type": "stream",
     "text": [
      "/Users/jackengels1/opt/miniconda3/lib/python3.7/site-packages/ipykernel_launcher.py:6: SettingWithCopyWarning:\n",
      "\n",
      "\n",
      "A value is trying to be set on a copy of a slice from a DataFrame\n",
      "\n",
      "See the caveats in the documentation: http://pandas.pydata.org/pandas-docs/stable/user_guide/indexing.html#returning-a-view-versus-a-copy\n",
      "\n"
     ]
    }
   ],
   "source": [
    "df = df.sort_values(by=['Username', 'DateCreated'])\n",
    "df = df[(df[['Size','Contributors']] != 0).all(axis=1)]\n",
    "df = df[df.Language != 'None']\n",
    "for member in memberList:\n",
    "    mask = (df['Username'] == member)\n",
    "    df['DateCreated'][mask] = df['DateCreated'] - (df.loc[df['Username'] == member])['DateCreated'].min()\n",
    "maxYear = df['DateCreated'].max()"
   ]
  },
  {
   "cell_type": "code",
   "execution_count": 5,
   "metadata": {},
   "outputs": [
    {
     "name": "stderr",
     "output_type": "stream",
     "text": [
      "/Users/jackengels1/opt/miniconda3/lib/python3.7/site-packages/ipykernel_launcher.py:11: SettingWithCopyWarning:\n",
      "\n",
      "\n",
      "A value is trying to be set on a copy of a slice from a DataFrame\n",
      "\n",
      "See the caveats in the documentation: http://pandas.pydata.org/pandas-docs/stable/user_guide/indexing.html#returning-a-view-versus-a-copy\n",
      "\n",
      "/Users/jackengels1/opt/miniconda3/lib/python3.7/site-packages/ipykernel_launcher.py:12: SettingWithCopyWarning:\n",
      "\n",
      "\n",
      "A value is trying to be set on a copy of a slice from a DataFrame\n",
      "\n",
      "See the caveats in the documentation: http://pandas.pydata.org/pandas-docs/stable/user_guide/indexing.html#returning-a-view-versus-a-copy\n",
      "\n",
      "/Users/jackengels1/opt/miniconda3/lib/python3.7/site-packages/ipykernel_launcher.py:13: SettingWithCopyWarning:\n",
      "\n",
      "\n",
      "A value is trying to be set on a copy of a slice from a DataFrame\n",
      "\n",
      "See the caveats in the documentation: http://pandas.pydata.org/pandas-docs/stable/user_guide/indexing.html#returning-a-view-versus-a-copy\n",
      "\n",
      "/Users/jackengels1/opt/miniconda3/lib/python3.7/site-packages/ipykernel_launcher.py:13: SettingWithCopyWarning:\n",
      "\n",
      "\n",
      "A value is trying to be set on a copy of a slice from a DataFrame\n",
      "\n",
      "See the caveats in the documentation: http://pandas.pydata.org/pandas-docs/stable/user_guide/indexing.html#returning-a-view-versus-a-copy\n",
      "\n",
      "/Users/jackengels1/opt/miniconda3/lib/python3.7/site-packages/ipykernel_launcher.py:11: SettingWithCopyWarning:\n",
      "\n",
      "\n",
      "A value is trying to be set on a copy of a slice from a DataFrame\n",
      "\n",
      "See the caveats in the documentation: http://pandas.pydata.org/pandas-docs/stable/user_guide/indexing.html#returning-a-view-versus-a-copy\n",
      "\n",
      "/Users/jackengels1/opt/miniconda3/lib/python3.7/site-packages/ipykernel_launcher.py:12: SettingWithCopyWarning:\n",
      "\n",
      "\n",
      "A value is trying to be set on a copy of a slice from a DataFrame\n",
      "\n",
      "See the caveats in the documentation: http://pandas.pydata.org/pandas-docs/stable/user_guide/indexing.html#returning-a-view-versus-a-copy\n",
      "\n",
      "/Users/jackengels1/opt/miniconda3/lib/python3.7/site-packages/ipykernel_launcher.py:13: SettingWithCopyWarning:\n",
      "\n",
      "\n",
      "A value is trying to be set on a copy of a slice from a DataFrame\n",
      "\n",
      "See the caveats in the documentation: http://pandas.pydata.org/pandas-docs/stable/user_guide/indexing.html#returning-a-view-versus-a-copy\n",
      "\n",
      "/Users/jackengels1/opt/miniconda3/lib/python3.7/site-packages/ipykernel_launcher.py:13: SettingWithCopyWarning:\n",
      "\n",
      "\n",
      "A value is trying to be set on a copy of a slice from a DataFrame\n",
      "\n",
      "See the caveats in the documentation: http://pandas.pydata.org/pandas-docs/stable/user_guide/indexing.html#returning-a-view-versus-a-copy\n",
      "\n",
      "/Users/jackengels1/opt/miniconda3/lib/python3.7/site-packages/ipykernel_launcher.py:11: SettingWithCopyWarning:\n",
      "\n",
      "\n",
      "A value is trying to be set on a copy of a slice from a DataFrame\n",
      "\n",
      "See the caveats in the documentation: http://pandas.pydata.org/pandas-docs/stable/user_guide/indexing.html#returning-a-view-versus-a-copy\n",
      "\n",
      "/Users/jackengels1/opt/miniconda3/lib/python3.7/site-packages/ipykernel_launcher.py:12: SettingWithCopyWarning:\n",
      "\n",
      "\n",
      "A value is trying to be set on a copy of a slice from a DataFrame\n",
      "\n",
      "See the caveats in the documentation: http://pandas.pydata.org/pandas-docs/stable/user_guide/indexing.html#returning-a-view-versus-a-copy\n",
      "\n",
      "/Users/jackengels1/opt/miniconda3/lib/python3.7/site-packages/ipykernel_launcher.py:13: SettingWithCopyWarning:\n",
      "\n",
      "\n",
      "A value is trying to be set on a copy of a slice from a DataFrame\n",
      "\n",
      "See the caveats in the documentation: http://pandas.pydata.org/pandas-docs/stable/user_guide/indexing.html#returning-a-view-versus-a-copy\n",
      "\n",
      "/Users/jackengels1/opt/miniconda3/lib/python3.7/site-packages/ipykernel_launcher.py:13: SettingWithCopyWarning:\n",
      "\n",
      "\n",
      "A value is trying to be set on a copy of a slice from a DataFrame\n",
      "\n",
      "See the caveats in the documentation: http://pandas.pydata.org/pandas-docs/stable/user_guide/indexing.html#returning-a-view-versus-a-copy\n",
      "\n",
      "/Users/jackengels1/opt/miniconda3/lib/python3.7/site-packages/ipykernel_launcher.py:11: SettingWithCopyWarning:\n",
      "\n",
      "\n",
      "A value is trying to be set on a copy of a slice from a DataFrame\n",
      "\n",
      "See the caveats in the documentation: http://pandas.pydata.org/pandas-docs/stable/user_guide/indexing.html#returning-a-view-versus-a-copy\n",
      "\n",
      "/Users/jackengels1/opt/miniconda3/lib/python3.7/site-packages/ipykernel_launcher.py:11: SettingWithCopyWarning:\n",
      "\n",
      "\n",
      "A value is trying to be set on a copy of a slice from a DataFrame\n",
      "\n",
      "See the caveats in the documentation: http://pandas.pydata.org/pandas-docs/stable/user_guide/indexing.html#returning-a-view-versus-a-copy\n",
      "\n",
      "/Users/jackengels1/opt/miniconda3/lib/python3.7/site-packages/ipykernel_launcher.py:12: SettingWithCopyWarning:\n",
      "\n",
      "\n",
      "A value is trying to be set on a copy of a slice from a DataFrame\n",
      "\n",
      "See the caveats in the documentation: http://pandas.pydata.org/pandas-docs/stable/user_guide/indexing.html#returning-a-view-versus-a-copy\n",
      "\n",
      "/Users/jackengels1/opt/miniconda3/lib/python3.7/site-packages/ipykernel_launcher.py:13: SettingWithCopyWarning:\n",
      "\n",
      "\n",
      "A value is trying to be set on a copy of a slice from a DataFrame\n",
      "\n",
      "See the caveats in the documentation: http://pandas.pydata.org/pandas-docs/stable/user_guide/indexing.html#returning-a-view-versus-a-copy\n",
      "\n",
      "/Users/jackengels1/opt/miniconda3/lib/python3.7/site-packages/ipykernel_launcher.py:13: SettingWithCopyWarning:\n",
      "\n",
      "\n",
      "A value is trying to be set on a copy of a slice from a DataFrame\n",
      "\n",
      "See the caveats in the documentation: http://pandas.pydata.org/pandas-docs/stable/user_guide/indexing.html#returning-a-view-versus-a-copy\n",
      "\n",
      "/Users/jackengels1/opt/miniconda3/lib/python3.7/site-packages/ipykernel_launcher.py:11: SettingWithCopyWarning:\n",
      "\n",
      "\n",
      "A value is trying to be set on a copy of a slice from a DataFrame\n",
      "\n",
      "See the caveats in the documentation: http://pandas.pydata.org/pandas-docs/stable/user_guide/indexing.html#returning-a-view-versus-a-copy\n",
      "\n",
      "/Users/jackengels1/opt/miniconda3/lib/python3.7/site-packages/ipykernel_launcher.py:12: SettingWithCopyWarning:\n",
      "\n",
      "\n",
      "A value is trying to be set on a copy of a slice from a DataFrame\n",
      "\n",
      "See the caveats in the documentation: http://pandas.pydata.org/pandas-docs/stable/user_guide/indexing.html#returning-a-view-versus-a-copy\n",
      "\n",
      "/Users/jackengels1/opt/miniconda3/lib/python3.7/site-packages/ipykernel_launcher.py:13: SettingWithCopyWarning:\n",
      "\n",
      "\n",
      "A value is trying to be set on a copy of a slice from a DataFrame\n",
      "\n",
      "See the caveats in the documentation: http://pandas.pydata.org/pandas-docs/stable/user_guide/indexing.html#returning-a-view-versus-a-copy\n",
      "\n"
     ]
    }
   ],
   "source": [
    "pd.set_option('precision', 0)\n",
    "dataframe_collection = [] \n",
    "for year in range(maxYear):\n",
    "    tempArray = df.loc[df['DateCreated'] == year]\n",
    "    tempArray = tempArray.drop(['Username', 'Repository',\"DateCreated\"], axis=1)\n",
    "    yearArray = pd.DataFrame(columns=['Language','Repositories','Average Size','Contributors'])\n",
    "    yearArray['Language'] = df.Language.unique()\n",
    "    uniqueValues = df.Language.unique()\n",
    "    for language in uniqueValues:\n",
    "        mask = (yearArray['Language'] == language)\n",
    "        yearArray['Repositories'][mask] = tempArray.loc[tempArray['Language'] == language].Language.count()\n",
    "        yearArray['Average Size'][mask] = tempArray.loc[tempArray['Language'] == language].Size.mean()\n",
    "        yearArray['Contributors'][mask] = tempArray.loc[tempArray['Language'] == language].Contributors.mean()\n",
    "        yearArray['Average Size'].fillna(0, inplace=True)\n",
    "        yearArray['Repositories'].fillna(0, inplace=True)\n",
    "        yearArray['Contributors'].fillna(0, inplace=True)\n",
    "    dataframe_collection.append(yearArray)"
   ]
  },
  {
   "cell_type": "code",
   "execution_count": 6,
   "metadata": {},
   "outputs": [],
   "source": [
    "for dataIndex in range(len(dataframe_collection) - 1):\n",
    "    dataframe_collection[dataIndex + 1]['Repositories'] = dataframe_collection[dataIndex + 1]['Repositories'] + dataframe_collection[dataIndex]['Repositories']\n",
    "    dataframe_collection[dataIndex + 1]['Average Size'] = (dataframe_collection[dataIndex + 1]['Average Size'] + dataframe_collection[dataIndex]['Average Size']/2)\n",
    "    dataframe_collection[dataIndex + 1]['Contributors'] = dataframe_collection[dataIndex + 1]['Contributors'] + dataframe_collection[dataIndex]['Contributors']"
   ]
  },
  {
   "cell_type": "code",
   "execution_count": 54,
   "metadata": {},
   "outputs": [
    {
     "data": {
      "text/html": [
       "<div>\n",
       "<style scoped>\n",
       "    .dataframe tbody tr th:only-of-type {\n",
       "        vertical-align: middle;\n",
       "    }\n",
       "\n",
       "    .dataframe tbody tr th {\n",
       "        vertical-align: top;\n",
       "    }\n",
       "\n",
       "    .dataframe thead th {\n",
       "        text-align: right;\n",
       "    }\n",
       "</style>\n",
       "<table border=\"1\" class=\"dataframe\">\n",
       "  <thead>\n",
       "    <tr style=\"text-align: right;\">\n",
       "      <th></th>\n",
       "      <th>Language</th>\n",
       "      <th>Repositories</th>\n",
       "      <th>Average Size</th>\n",
       "      <th>Contributors</th>\n",
       "      <th>Year</th>\n",
       "    </tr>\n",
       "  </thead>\n",
       "  <tbody>\n",
       "    <tr>\n",
       "      <th>0</th>\n",
       "      <td>C</td>\n",
       "      <td>1</td>\n",
       "      <td>104</td>\n",
       "      <td>1</td>\n",
       "      <td>0</td>\n",
       "    </tr>\n",
       "    <tr>\n",
       "      <th>0</th>\n",
       "      <td>C</td>\n",
       "      <td>3</td>\n",
       "      <td>9010</td>\n",
       "      <td>64</td>\n",
       "      <td>3</td>\n",
       "    </tr>\n",
       "    <tr>\n",
       "      <th>0</th>\n",
       "      <td>C</td>\n",
       "      <td>3</td>\n",
       "      <td>4505</td>\n",
       "      <td>64</td>\n",
       "      <td>4</td>\n",
       "    </tr>\n",
       "    <tr>\n",
       "      <th>0</th>\n",
       "      <td>C</td>\n",
       "      <td>3</td>\n",
       "      <td>2253</td>\n",
       "      <td>64</td>\n",
       "      <td>5</td>\n",
       "    </tr>\n",
       "    <tr>\n",
       "      <th>0</th>\n",
       "      <td>C</td>\n",
       "      <td>1</td>\n",
       "      <td>52</td>\n",
       "      <td>1</td>\n",
       "      <td>1</td>\n",
       "    </tr>\n",
       "    <tr>\n",
       "      <th>0</th>\n",
       "      <td>C</td>\n",
       "      <td>9</td>\n",
       "      <td>41947</td>\n",
       "      <td>168</td>\n",
       "      <td>6</td>\n",
       "    </tr>\n",
       "    <tr>\n",
       "      <th>0</th>\n",
       "      <td>C</td>\n",
       "      <td>3</td>\n",
       "      <td>18020</td>\n",
       "      <td>64</td>\n",
       "      <td>2</td>\n",
       "    </tr>\n",
       "    <tr>\n",
       "      <th>0</th>\n",
       "      <td>C</td>\n",
       "      <td>9</td>\n",
       "      <td>20973</td>\n",
       "      <td>168</td>\n",
       "      <td>7</td>\n",
       "    </tr>\n",
       "    <tr>\n",
       "      <th>0</th>\n",
       "      <td>C</td>\n",
       "      <td>9</td>\n",
       "      <td>10487</td>\n",
       "      <td>168</td>\n",
       "      <td>8</td>\n",
       "    </tr>\n",
       "    <tr>\n",
       "      <th>16</th>\n",
       "      <td>C#</td>\n",
       "      <td>1</td>\n",
       "      <td>58516</td>\n",
       "      <td>118</td>\n",
       "      <td>6</td>\n",
       "    </tr>\n",
       "    <tr>\n",
       "      <th>16</th>\n",
       "      <td>C#</td>\n",
       "      <td>0</td>\n",
       "      <td>0</td>\n",
       "      <td>0</td>\n",
       "      <td>1</td>\n",
       "    </tr>\n",
       "    <tr>\n",
       "      <th>16</th>\n",
       "      <td>C#</td>\n",
       "      <td>0</td>\n",
       "      <td>0</td>\n",
       "      <td>0</td>\n",
       "      <td>2</td>\n",
       "    </tr>\n",
       "    <tr>\n",
       "      <th>16</th>\n",
       "      <td>C#</td>\n",
       "      <td>1</td>\n",
       "      <td>14629</td>\n",
       "      <td>118</td>\n",
       "      <td>8</td>\n",
       "    </tr>\n",
       "    <tr>\n",
       "      <th>16</th>\n",
       "      <td>C#</td>\n",
       "      <td>0</td>\n",
       "      <td>0</td>\n",
       "      <td>0</td>\n",
       "      <td>3</td>\n",
       "    </tr>\n",
       "    <tr>\n",
       "      <th>16</th>\n",
       "      <td>C#</td>\n",
       "      <td>1</td>\n",
       "      <td>234063</td>\n",
       "      <td>118</td>\n",
       "      <td>4</td>\n",
       "    </tr>\n",
       "    <tr>\n",
       "      <th>16</th>\n",
       "      <td>C#</td>\n",
       "      <td>0</td>\n",
       "      <td>0</td>\n",
       "      <td>0</td>\n",
       "      <td>0</td>\n",
       "    </tr>\n",
       "    <tr>\n",
       "      <th>16</th>\n",
       "      <td>C#</td>\n",
       "      <td>1</td>\n",
       "      <td>29258</td>\n",
       "      <td>118</td>\n",
       "      <td>7</td>\n",
       "    </tr>\n",
       "    <tr>\n",
       "      <th>16</th>\n",
       "      <td>C#</td>\n",
       "      <td>1</td>\n",
       "      <td>117032</td>\n",
       "      <td>118</td>\n",
       "      <td>5</td>\n",
       "    </tr>\n",
       "    <tr>\n",
       "      <th>14</th>\n",
       "      <td>C++</td>\n",
       "      <td>2</td>\n",
       "      <td>81592</td>\n",
       "      <td>124</td>\n",
       "      <td>5</td>\n",
       "    </tr>\n",
       "    <tr>\n",
       "      <th>14</th>\n",
       "      <td>C++</td>\n",
       "      <td>6</td>\n",
       "      <td>21979</td>\n",
       "      <td>146</td>\n",
       "      <td>8</td>\n",
       "    </tr>\n",
       "    <tr>\n",
       "      <th>14</th>\n",
       "      <td>C++</td>\n",
       "      <td>0</td>\n",
       "      <td>0</td>\n",
       "      <td>0</td>\n",
       "      <td>2</td>\n",
       "    </tr>\n",
       "    <tr>\n",
       "      <th>14</th>\n",
       "      <td>C++</td>\n",
       "      <td>0</td>\n",
       "      <td>0</td>\n",
       "      <td>0</td>\n",
       "      <td>3</td>\n",
       "    </tr>\n",
       "    <tr>\n",
       "      <th>14</th>\n",
       "      <td>C++</td>\n",
       "      <td>5</td>\n",
       "      <td>43320</td>\n",
       "      <td>145</td>\n",
       "      <td>7</td>\n",
       "    </tr>\n",
       "    <tr>\n",
       "      <th>14</th>\n",
       "      <td>C++</td>\n",
       "      <td>5</td>\n",
       "      <td>86640</td>\n",
       "      <td>145</td>\n",
       "      <td>6</td>\n",
       "    </tr>\n",
       "    <tr>\n",
       "      <th>14</th>\n",
       "      <td>C++</td>\n",
       "      <td>2</td>\n",
       "      <td>163184</td>\n",
       "      <td>124</td>\n",
       "      <td>4</td>\n",
       "    </tr>\n",
       "    <tr>\n",
       "      <th>14</th>\n",
       "      <td>C++</td>\n",
       "      <td>0</td>\n",
       "      <td>0</td>\n",
       "      <td>0</td>\n",
       "      <td>0</td>\n",
       "    </tr>\n",
       "    <tr>\n",
       "      <th>14</th>\n",
       "      <td>C++</td>\n",
       "      <td>0</td>\n",
       "      <td>0</td>\n",
       "      <td>0</td>\n",
       "      <td>1</td>\n",
       "    </tr>\n",
       "    <tr>\n",
       "      <th>21</th>\n",
       "      <td>CSS</td>\n",
       "      <td>1</td>\n",
       "      <td>593</td>\n",
       "      <td>4</td>\n",
       "      <td>3</td>\n",
       "    </tr>\n",
       "    <tr>\n",
       "      <th>21</th>\n",
       "      <td>CSS</td>\n",
       "      <td>3</td>\n",
       "      <td>2167</td>\n",
       "      <td>50</td>\n",
       "      <td>8</td>\n",
       "    </tr>\n",
       "    <tr>\n",
       "      <th>21</th>\n",
       "      <td>CSS</td>\n",
       "      <td>3</td>\n",
       "      <td>8668</td>\n",
       "      <td>50</td>\n",
       "      <td>6</td>\n",
       "    </tr>\n",
       "    <tr>\n",
       "      <th>21</th>\n",
       "      <td>CSS</td>\n",
       "      <td>3</td>\n",
       "      <td>17335</td>\n",
       "      <td>50</td>\n",
       "      <td>5</td>\n",
       "    </tr>\n",
       "    <tr>\n",
       "      <th>21</th>\n",
       "      <td>CSS</td>\n",
       "      <td>3</td>\n",
       "      <td>4334</td>\n",
       "      <td>50</td>\n",
       "      <td>7</td>\n",
       "    </tr>\n",
       "    <tr>\n",
       "      <th>21</th>\n",
       "      <td>CSS</td>\n",
       "      <td>1</td>\n",
       "      <td>1186</td>\n",
       "      <td>4</td>\n",
       "      <td>2</td>\n",
       "    </tr>\n",
       "    <tr>\n",
       "      <th>21</th>\n",
       "      <td>CSS</td>\n",
       "      <td>1</td>\n",
       "      <td>2371</td>\n",
       "      <td>4</td>\n",
       "      <td>1</td>\n",
       "    </tr>\n",
       "    <tr>\n",
       "      <th>21</th>\n",
       "      <td>CSS</td>\n",
       "      <td>1</td>\n",
       "      <td>296</td>\n",
       "      <td>4</td>\n",
       "      <td>4</td>\n",
       "    </tr>\n",
       "    <tr>\n",
       "      <th>21</th>\n",
       "      <td>CSS</td>\n",
       "      <td>0</td>\n",
       "      <td>0</td>\n",
       "      <td>0</td>\n",
       "      <td>0</td>\n",
       "    </tr>\n",
       "    <tr>\n",
       "      <th>15</th>\n",
       "      <td>HTML</td>\n",
       "      <td>0</td>\n",
       "      <td>0</td>\n",
       "      <td>0</td>\n",
       "      <td>2</td>\n",
       "    </tr>\n",
       "    <tr>\n",
       "      <th>15</th>\n",
       "      <td>HTML</td>\n",
       "      <td>9</td>\n",
       "      <td>12968</td>\n",
       "      <td>153</td>\n",
       "      <td>6</td>\n",
       "    </tr>\n",
       "    <tr>\n",
       "      <th>15</th>\n",
       "      <td>HTML</td>\n",
       "      <td>0</td>\n",
       "      <td>0</td>\n",
       "      <td>0</td>\n",
       "      <td>0</td>\n",
       "    </tr>\n",
       "    <tr>\n",
       "      <th>15</th>\n",
       "      <td>HTML</td>\n",
       "      <td>10</td>\n",
       "      <td>3414</td>\n",
       "      <td>156</td>\n",
       "      <td>8</td>\n",
       "    </tr>\n",
       "    <tr>\n",
       "      <th>15</th>\n",
       "      <td>HTML</td>\n",
       "      <td>3</td>\n",
       "      <td>1131</td>\n",
       "      <td>43</td>\n",
       "      <td>4</td>\n",
       "    </tr>\n",
       "    <tr>\n",
       "      <th>15</th>\n",
       "      <td>HTML</td>\n",
       "      <td>10</td>\n",
       "      <td>6828</td>\n",
       "      <td>156</td>\n",
       "      <td>7</td>\n",
       "    </tr>\n",
       "    <tr>\n",
       "      <th>15</th>\n",
       "      <td>HTML</td>\n",
       "      <td>0</td>\n",
       "      <td>0</td>\n",
       "      <td>0</td>\n",
       "      <td>3</td>\n",
       "    </tr>\n",
       "    <tr>\n",
       "      <th>15</th>\n",
       "      <td>HTML</td>\n",
       "      <td>4</td>\n",
       "      <td>2597</td>\n",
       "      <td>135</td>\n",
       "      <td>5</td>\n",
       "    </tr>\n",
       "    <tr>\n",
       "      <th>15</th>\n",
       "      <td>HTML</td>\n",
       "      <td>0</td>\n",
       "      <td>0</td>\n",
       "      <td>0</td>\n",
       "      <td>1</td>\n",
       "    </tr>\n",
       "    <tr>\n",
       "      <th>2</th>\n",
       "      <td>Java</td>\n",
       "      <td>40</td>\n",
       "      <td>2716</td>\n",
       "      <td>118</td>\n",
       "      <td>8</td>\n",
       "    </tr>\n",
       "    <tr>\n",
       "      <th>2</th>\n",
       "      <td>Java</td>\n",
       "      <td>1</td>\n",
       "      <td>112</td>\n",
       "      <td>1</td>\n",
       "      <td>1</td>\n",
       "    </tr>\n",
       "    <tr>\n",
       "      <th>2</th>\n",
       "      <td>Java</td>\n",
       "      <td>1</td>\n",
       "      <td>56</td>\n",
       "      <td>1</td>\n",
       "      <td>2</td>\n",
       "    </tr>\n",
       "    <tr>\n",
       "      <th>2</th>\n",
       "      <td>Java</td>\n",
       "      <td>40</td>\n",
       "      <td>21724</td>\n",
       "      <td>118</td>\n",
       "      <td>5</td>\n",
       "    </tr>\n",
       "    <tr>\n",
       "      <th>2</th>\n",
       "      <td>Java</td>\n",
       "      <td>34</td>\n",
       "      <td>1139</td>\n",
       "      <td>12</td>\n",
       "      <td>4</td>\n",
       "    </tr>\n",
       "    <tr>\n",
       "      <th>2</th>\n",
       "      <td>Java</td>\n",
       "      <td>40</td>\n",
       "      <td>5431</td>\n",
       "      <td>118</td>\n",
       "      <td>7</td>\n",
       "    </tr>\n",
       "    <tr>\n",
       "      <th>2</th>\n",
       "      <td>Java</td>\n",
       "      <td>40</td>\n",
       "      <td>10862</td>\n",
       "      <td>118</td>\n",
       "      <td>6</td>\n",
       "    </tr>\n",
       "    <tr>\n",
       "      <th>2</th>\n",
       "      <td>Java</td>\n",
       "      <td>2</td>\n",
       "      <td>2012</td>\n",
       "      <td>5</td>\n",
       "      <td>3</td>\n",
       "    </tr>\n",
       "    <tr>\n",
       "      <th>2</th>\n",
       "      <td>Java</td>\n",
       "      <td>0</td>\n",
       "      <td>0</td>\n",
       "      <td>0</td>\n",
       "      <td>0</td>\n",
       "    </tr>\n",
       "    <tr>\n",
       "      <th>8</th>\n",
       "      <td>JavaScript</td>\n",
       "      <td>26</td>\n",
       "      <td>32221</td>\n",
       "      <td>339</td>\n",
       "      <td>7</td>\n",
       "    </tr>\n",
       "    <tr>\n",
       "      <th>8</th>\n",
       "      <td>JavaScript</td>\n",
       "      <td>4</td>\n",
       "      <td>9041</td>\n",
       "      <td>4</td>\n",
       "      <td>1</td>\n",
       "    </tr>\n",
       "    <tr>\n",
       "      <th>8</th>\n",
       "      <td>JavaScript</td>\n",
       "      <td>26</td>\n",
       "      <td>64441</td>\n",
       "      <td>339</td>\n",
       "      <td>6</td>\n",
       "    </tr>\n",
       "    <tr>\n",
       "      <th>8</th>\n",
       "      <td>JavaScript</td>\n",
       "      <td>12</td>\n",
       "      <td>3981</td>\n",
       "      <td>15</td>\n",
       "      <td>3</td>\n",
       "    </tr>\n",
       "    <tr>\n",
       "      <th>8</th>\n",
       "      <td>JavaScript</td>\n",
       "      <td>15</td>\n",
       "      <td>176663</td>\n",
       "      <td>273</td>\n",
       "      <td>4</td>\n",
       "    </tr>\n",
       "    <tr>\n",
       "      <th>8</th>\n",
       "      <td>JavaScript</td>\n",
       "      <td>7</td>\n",
       "      <td>5013</td>\n",
       "      <td>6</td>\n",
       "      <td>2</td>\n",
       "    </tr>\n",
       "    <tr>\n",
       "      <th>8</th>\n",
       "      <td>JavaScript</td>\n",
       "      <td>23</td>\n",
       "      <td>122807</td>\n",
       "      <td>300</td>\n",
       "      <td>5</td>\n",
       "    </tr>\n",
       "    <tr>\n",
       "      <th>8</th>\n",
       "      <td>JavaScript</td>\n",
       "      <td>27</td>\n",
       "      <td>20806</td>\n",
       "      <td>340</td>\n",
       "      <td>8</td>\n",
       "    </tr>\n",
       "    <tr>\n",
       "      <th>8</th>\n",
       "      <td>JavaScript</td>\n",
       "      <td>4</td>\n",
       "      <td>18082</td>\n",
       "      <td>4</td>\n",
       "      <td>0</td>\n",
       "    </tr>\n",
       "    <tr>\n",
       "      <th>20</th>\n",
       "      <td>OCaml</td>\n",
       "      <td>0</td>\n",
       "      <td>0</td>\n",
       "      <td>0</td>\n",
       "      <td>0</td>\n",
       "    </tr>\n",
       "    <tr>\n",
       "      <th>20</th>\n",
       "      <td>OCaml</td>\n",
       "      <td>0</td>\n",
       "      <td>0</td>\n",
       "      <td>0</td>\n",
       "      <td>5</td>\n",
       "    </tr>\n",
       "    <tr>\n",
       "      <th>20</th>\n",
       "      <td>OCaml</td>\n",
       "      <td>1</td>\n",
       "      <td>187</td>\n",
       "      <td>1</td>\n",
       "      <td>6</td>\n",
       "    </tr>\n",
       "    <tr>\n",
       "      <th>20</th>\n",
       "      <td>OCaml</td>\n",
       "      <td>0</td>\n",
       "      <td>0</td>\n",
       "      <td>0</td>\n",
       "      <td>3</td>\n",
       "    </tr>\n",
       "    <tr>\n",
       "      <th>20</th>\n",
       "      <td>OCaml</td>\n",
       "      <td>4</td>\n",
       "      <td>5519</td>\n",
       "      <td>2</td>\n",
       "      <td>7</td>\n",
       "    </tr>\n",
       "    <tr>\n",
       "      <th>20</th>\n",
       "      <td>OCaml</td>\n",
       "      <td>0</td>\n",
       "      <td>0</td>\n",
       "      <td>0</td>\n",
       "      <td>2</td>\n",
       "    </tr>\n",
       "    <tr>\n",
       "      <th>20</th>\n",
       "      <td>OCaml</td>\n",
       "      <td>5</td>\n",
       "      <td>3736</td>\n",
       "      <td>3</td>\n",
       "      <td>8</td>\n",
       "    </tr>\n",
       "    <tr>\n",
       "      <th>20</th>\n",
       "      <td>OCaml</td>\n",
       "      <td>0</td>\n",
       "      <td>0</td>\n",
       "      <td>0</td>\n",
       "      <td>1</td>\n",
       "    </tr>\n",
       "    <tr>\n",
       "      <th>20</th>\n",
       "      <td>OCaml</td>\n",
       "      <td>0</td>\n",
       "      <td>0</td>\n",
       "      <td>0</td>\n",
       "      <td>4</td>\n",
       "    </tr>\n",
       "    <tr>\n",
       "      <th>22</th>\n",
       "      <td>Objective-C</td>\n",
       "      <td>2</td>\n",
       "      <td>11045</td>\n",
       "      <td>28</td>\n",
       "      <td>6</td>\n",
       "    </tr>\n",
       "    <tr>\n",
       "      <th>22</th>\n",
       "      <td>Objective-C</td>\n",
       "      <td>2</td>\n",
       "      <td>5522</td>\n",
       "      <td>28</td>\n",
       "      <td>7</td>\n",
       "    </tr>\n",
       "    <tr>\n",
       "      <th>22</th>\n",
       "      <td>Objective-C</td>\n",
       "      <td>2</td>\n",
       "      <td>22090</td>\n",
       "      <td>28</td>\n",
       "      <td>5</td>\n",
       "    </tr>\n",
       "    <tr>\n",
       "      <th>22</th>\n",
       "      <td>Objective-C</td>\n",
       "      <td>0</td>\n",
       "      <td>0</td>\n",
       "      <td>0</td>\n",
       "      <td>1</td>\n",
       "    </tr>\n",
       "    <tr>\n",
       "      <th>22</th>\n",
       "      <td>Objective-C</td>\n",
       "      <td>2</td>\n",
       "      <td>2761</td>\n",
       "      <td>28</td>\n",
       "      <td>8</td>\n",
       "    </tr>\n",
       "    <tr>\n",
       "      <th>22</th>\n",
       "      <td>Objective-C</td>\n",
       "      <td>0</td>\n",
       "      <td>0</td>\n",
       "      <td>0</td>\n",
       "      <td>0</td>\n",
       "    </tr>\n",
       "    <tr>\n",
       "      <th>22</th>\n",
       "      <td>Objective-C</td>\n",
       "      <td>1</td>\n",
       "      <td>1346</td>\n",
       "      <td>23</td>\n",
       "      <td>3</td>\n",
       "    </tr>\n",
       "    <tr>\n",
       "      <th>22</th>\n",
       "      <td>Objective-C</td>\n",
       "      <td>1</td>\n",
       "      <td>673</td>\n",
       "      <td>23</td>\n",
       "      <td>4</td>\n",
       "    </tr>\n",
       "    <tr>\n",
       "      <th>22</th>\n",
       "      <td>Objective-C</td>\n",
       "      <td>1</td>\n",
       "      <td>2693</td>\n",
       "      <td>23</td>\n",
       "      <td>2</td>\n",
       "    </tr>\n",
       "    <tr>\n",
       "      <th>7</th>\n",
       "      <td>Ruby</td>\n",
       "      <td>1</td>\n",
       "      <td>124</td>\n",
       "      <td>1</td>\n",
       "      <td>1</td>\n",
       "    </tr>\n",
       "    <tr>\n",
       "      <th>7</th>\n",
       "      <td>Ruby</td>\n",
       "      <td>1</td>\n",
       "      <td>16</td>\n",
       "      <td>1</td>\n",
       "      <td>4</td>\n",
       "    </tr>\n",
       "    <tr>\n",
       "      <th>7</th>\n",
       "      <td>Ruby</td>\n",
       "      <td>1</td>\n",
       "      <td>31</td>\n",
       "      <td>1</td>\n",
       "      <td>3</td>\n",
       "    </tr>\n",
       "    <tr>\n",
       "      <th>7</th>\n",
       "      <td>Ruby</td>\n",
       "      <td>0</td>\n",
       "      <td>0</td>\n",
       "      <td>0</td>\n",
       "      <td>0</td>\n",
       "    </tr>\n",
       "    <tr>\n",
       "      <th>7</th>\n",
       "      <td>Ruby</td>\n",
       "      <td>7</td>\n",
       "      <td>100416</td>\n",
       "      <td>348</td>\n",
       "      <td>6</td>\n",
       "    </tr>\n",
       "    <tr>\n",
       "      <th>7</th>\n",
       "      <td>Ruby</td>\n",
       "      <td>1</td>\n",
       "      <td>62</td>\n",
       "      <td>1</td>\n",
       "      <td>2</td>\n",
       "    </tr>\n",
       "    <tr>\n",
       "      <th>7</th>\n",
       "      <td>Ruby</td>\n",
       "      <td>3</td>\n",
       "      <td>1109</td>\n",
       "      <td>17</td>\n",
       "      <td>5</td>\n",
       "    </tr>\n",
       "    <tr>\n",
       "      <th>7</th>\n",
       "      <td>Ruby</td>\n",
       "      <td>7</td>\n",
       "      <td>25104</td>\n",
       "      <td>348</td>\n",
       "      <td>8</td>\n",
       "    </tr>\n",
       "    <tr>\n",
       "      <th>7</th>\n",
       "      <td>Ruby</td>\n",
       "      <td>7</td>\n",
       "      <td>50208</td>\n",
       "      <td>348</td>\n",
       "      <td>7</td>\n",
       "    </tr>\n",
       "    <tr>\n",
       "      <th>10</th>\n",
       "      <td>Rust</td>\n",
       "      <td>0</td>\n",
       "      <td>0</td>\n",
       "      <td>0</td>\n",
       "      <td>0</td>\n",
       "    </tr>\n",
       "    <tr>\n",
       "      <th>10</th>\n",
       "      <td>Rust</td>\n",
       "      <td>3</td>\n",
       "      <td>1845</td>\n",
       "      <td>134</td>\n",
       "      <td>8</td>\n",
       "    </tr>\n",
       "    <tr>\n",
       "      <th>10</th>\n",
       "      <td>Rust</td>\n",
       "      <td>0</td>\n",
       "      <td>0</td>\n",
       "      <td>0</td>\n",
       "      <td>3</td>\n",
       "    </tr>\n",
       "    <tr>\n",
       "      <th>10</th>\n",
       "      <td>Rust</td>\n",
       "      <td>0</td>\n",
       "      <td>0</td>\n",
       "      <td>0</td>\n",
       "      <td>2</td>\n",
       "    </tr>\n",
       "    <tr>\n",
       "      <th>10</th>\n",
       "      <td>Rust</td>\n",
       "      <td>0</td>\n",
       "      <td>0</td>\n",
       "      <td>0</td>\n",
       "      <td>1</td>\n",
       "    </tr>\n",
       "    <tr>\n",
       "      <th>10</th>\n",
       "      <td>Rust</td>\n",
       "      <td>3</td>\n",
       "      <td>3690</td>\n",
       "      <td>134</td>\n",
       "      <td>7</td>\n",
       "    </tr>\n",
       "    <tr>\n",
       "      <th>10</th>\n",
       "      <td>Rust</td>\n",
       "      <td>2</td>\n",
       "      <td>138</td>\n",
       "      <td>16</td>\n",
       "      <td>5</td>\n",
       "    </tr>\n",
       "    <tr>\n",
       "      <th>10</th>\n",
       "      <td>Rust</td>\n",
       "      <td>0</td>\n",
       "      <td>0</td>\n",
       "      <td>0</td>\n",
       "      <td>4</td>\n",
       "    </tr>\n",
       "    <tr>\n",
       "      <th>10</th>\n",
       "      <td>Rust</td>\n",
       "      <td>3</td>\n",
       "      <td>7380</td>\n",
       "      <td>134</td>\n",
       "      <td>6</td>\n",
       "    </tr>\n",
       "    <tr>\n",
       "      <th>4</th>\n",
       "      <td>Shell</td>\n",
       "      <td>2</td>\n",
       "      <td>533</td>\n",
       "      <td>2</td>\n",
       "      <td>2</td>\n",
       "    </tr>\n",
       "    <tr>\n",
       "      <th>4</th>\n",
       "      <td>Shell</td>\n",
       "      <td>18</td>\n",
       "      <td>3662</td>\n",
       "      <td>14</td>\n",
       "      <td>5</td>\n",
       "    </tr>\n",
       "    <tr>\n",
       "      <th>4</th>\n",
       "      <td>Shell</td>\n",
       "      <td>19</td>\n",
       "      <td>83627</td>\n",
       "      <td>22</td>\n",
       "      <td>6</td>\n",
       "    </tr>\n",
       "    <tr>\n",
       "      <th>4</th>\n",
       "      <td>Shell</td>\n",
       "      <td>0</td>\n",
       "      <td>0</td>\n",
       "      <td>0</td>\n",
       "      <td>0</td>\n",
       "    </tr>\n",
       "    <tr>\n",
       "      <th>4</th>\n",
       "      <td>Shell</td>\n",
       "      <td>20</td>\n",
       "      <td>57289</td>\n",
       "      <td>348</td>\n",
       "      <td>8</td>\n",
       "    </tr>\n",
       "    <tr>\n",
       "      <th>4</th>\n",
       "      <td>Shell</td>\n",
       "      <td>6</td>\n",
       "      <td>313</td>\n",
       "      <td>4</td>\n",
       "      <td>3</td>\n",
       "    </tr>\n",
       "    <tr>\n",
       "      <th>4</th>\n",
       "      <td>Shell</td>\n",
       "      <td>11</td>\n",
       "      <td>3422</td>\n",
       "      <td>11</td>\n",
       "      <td>4</td>\n",
       "    </tr>\n",
       "    <tr>\n",
       "      <th>4</th>\n",
       "      <td>Shell</td>\n",
       "      <td>20</td>\n",
       "      <td>114579</td>\n",
       "      <td>348</td>\n",
       "      <td>7</td>\n",
       "    </tr>\n",
       "    <tr>\n",
       "      <th>4</th>\n",
       "      <td>Shell</td>\n",
       "      <td>1</td>\n",
       "      <td>108</td>\n",
       "      <td>1</td>\n",
       "      <td>1</td>\n",
       "    </tr>\n",
       "    <tr>\n",
       "      <th>18</th>\n",
       "      <td>Swift</td>\n",
       "      <td>0</td>\n",
       "      <td>0</td>\n",
       "      <td>0</td>\n",
       "      <td>4</td>\n",
       "    </tr>\n",
       "    <tr>\n",
       "      <th>18</th>\n",
       "      <td>Swift</td>\n",
       "      <td>0</td>\n",
       "      <td>0</td>\n",
       "      <td>0</td>\n",
       "      <td>2</td>\n",
       "    </tr>\n",
       "    <tr>\n",
       "      <th>18</th>\n",
       "      <td>Swift</td>\n",
       "      <td>0</td>\n",
       "      <td>0</td>\n",
       "      <td>0</td>\n",
       "      <td>3</td>\n",
       "    </tr>\n",
       "    <tr>\n",
       "      <th>18</th>\n",
       "      <td>Swift</td>\n",
       "      <td>0</td>\n",
       "      <td>0</td>\n",
       "      <td>0</td>\n",
       "      <td>0</td>\n",
       "    </tr>\n",
       "    <tr>\n",
       "      <th>18</th>\n",
       "      <td>Swift</td>\n",
       "      <td>0</td>\n",
       "      <td>0</td>\n",
       "      <td>0</td>\n",
       "      <td>1</td>\n",
       "    </tr>\n",
       "    <tr>\n",
       "      <th>18</th>\n",
       "      <td>Swift</td>\n",
       "      <td>2</td>\n",
       "      <td>5450</td>\n",
       "      <td>56</td>\n",
       "      <td>6</td>\n",
       "    </tr>\n",
       "    <tr>\n",
       "      <th>18</th>\n",
       "      <td>Swift</td>\n",
       "      <td>2</td>\n",
       "      <td>2725</td>\n",
       "      <td>56</td>\n",
       "      <td>7</td>\n",
       "    </tr>\n",
       "    <tr>\n",
       "      <th>18</th>\n",
       "      <td>Swift</td>\n",
       "      <td>2</td>\n",
       "      <td>1362</td>\n",
       "      <td>56</td>\n",
       "      <td>8</td>\n",
       "    </tr>\n",
       "    <tr>\n",
       "      <th>18</th>\n",
       "      <td>Swift</td>\n",
       "      <td>1</td>\n",
       "      <td>2128</td>\n",
       "      <td>1</td>\n",
       "      <td>5</td>\n",
       "    </tr>\n",
       "  </tbody>\n",
       "</table>\n",
       "</div>"
      ],
      "text/plain": [
       "       Language  Repositories  Average Size  Contributors  Year\n",
       "0             C             1           104             1     0\n",
       "0             C             3          9010            64     3\n",
       "0             C             3          4505            64     4\n",
       "0             C             3          2253            64     5\n",
       "0             C             1            52             1     1\n",
       "0             C             9         41947           168     6\n",
       "0             C             3         18020            64     2\n",
       "0             C             9         20973           168     7\n",
       "0             C             9         10487           168     8\n",
       "16           C#             1         58516           118     6\n",
       "16           C#             0             0             0     1\n",
       "16           C#             0             0             0     2\n",
       "16           C#             1         14629           118     8\n",
       "16           C#             0             0             0     3\n",
       "16           C#             1        234063           118     4\n",
       "16           C#             0             0             0     0\n",
       "16           C#             1         29258           118     7\n",
       "16           C#             1        117032           118     5\n",
       "14          C++             2         81592           124     5\n",
       "14          C++             6         21979           146     8\n",
       "14          C++             0             0             0     2\n",
       "14          C++             0             0             0     3\n",
       "14          C++             5         43320           145     7\n",
       "14          C++             5         86640           145     6\n",
       "14          C++             2        163184           124     4\n",
       "14          C++             0             0             0     0\n",
       "14          C++             0             0             0     1\n",
       "21          CSS             1           593             4     3\n",
       "21          CSS             3          2167            50     8\n",
       "21          CSS             3          8668            50     6\n",
       "21          CSS             3         17335            50     5\n",
       "21          CSS             3          4334            50     7\n",
       "21          CSS             1          1186             4     2\n",
       "21          CSS             1          2371             4     1\n",
       "21          CSS             1           296             4     4\n",
       "21          CSS             0             0             0     0\n",
       "15         HTML             0             0             0     2\n",
       "15         HTML             9         12968           153     6\n",
       "15         HTML             0             0             0     0\n",
       "15         HTML            10          3414           156     8\n",
       "15         HTML             3          1131            43     4\n",
       "15         HTML            10          6828           156     7\n",
       "15         HTML             0             0             0     3\n",
       "15         HTML             4          2597           135     5\n",
       "15         HTML             0             0             0     1\n",
       "2          Java            40          2716           118     8\n",
       "2          Java             1           112             1     1\n",
       "2          Java             1            56             1     2\n",
       "2          Java            40         21724           118     5\n",
       "2          Java            34          1139            12     4\n",
       "2          Java            40          5431           118     7\n",
       "2          Java            40         10862           118     6\n",
       "2          Java             2          2012             5     3\n",
       "2          Java             0             0             0     0\n",
       "8    JavaScript            26         32221           339     7\n",
       "8    JavaScript             4          9041             4     1\n",
       "8    JavaScript            26         64441           339     6\n",
       "8    JavaScript            12          3981            15     3\n",
       "8    JavaScript            15        176663           273     4\n",
       "8    JavaScript             7          5013             6     2\n",
       "8    JavaScript            23        122807           300     5\n",
       "8    JavaScript            27         20806           340     8\n",
       "8    JavaScript             4         18082             4     0\n",
       "20        OCaml             0             0             0     0\n",
       "20        OCaml             0             0             0     5\n",
       "20        OCaml             1           187             1     6\n",
       "20        OCaml             0             0             0     3\n",
       "20        OCaml             4          5519             2     7\n",
       "20        OCaml             0             0             0     2\n",
       "20        OCaml             5          3736             3     8\n",
       "20        OCaml             0             0             0     1\n",
       "20        OCaml             0             0             0     4\n",
       "22  Objective-C             2         11045            28     6\n",
       "22  Objective-C             2          5522            28     7\n",
       "22  Objective-C             2         22090            28     5\n",
       "22  Objective-C             0             0             0     1\n",
       "22  Objective-C             2          2761            28     8\n",
       "22  Objective-C             0             0             0     0\n",
       "22  Objective-C             1          1346            23     3\n",
       "22  Objective-C             1           673            23     4\n",
       "22  Objective-C             1          2693            23     2\n",
       "7          Ruby             1           124             1     1\n",
       "7          Ruby             1            16             1     4\n",
       "7          Ruby             1            31             1     3\n",
       "7          Ruby             0             0             0     0\n",
       "7          Ruby             7        100416           348     6\n",
       "7          Ruby             1            62             1     2\n",
       "7          Ruby             3          1109            17     5\n",
       "7          Ruby             7         25104           348     8\n",
       "7          Ruby             7         50208           348     7\n",
       "10         Rust             0             0             0     0\n",
       "10         Rust             3          1845           134     8\n",
       "10         Rust             0             0             0     3\n",
       "10         Rust             0             0             0     2\n",
       "10         Rust             0             0             0     1\n",
       "10         Rust             3          3690           134     7\n",
       "10         Rust             2           138            16     5\n",
       "10         Rust             0             0             0     4\n",
       "10         Rust             3          7380           134     6\n",
       "4         Shell             2           533             2     2\n",
       "4         Shell            18          3662            14     5\n",
       "4         Shell            19         83627            22     6\n",
       "4         Shell             0             0             0     0\n",
       "4         Shell            20         57289           348     8\n",
       "4         Shell             6           313             4     3\n",
       "4         Shell            11          3422            11     4\n",
       "4         Shell            20        114579           348     7\n",
       "4         Shell             1           108             1     1\n",
       "18        Swift             0             0             0     4\n",
       "18        Swift             0             0             0     2\n",
       "18        Swift             0             0             0     3\n",
       "18        Swift             0             0             0     0\n",
       "18        Swift             0             0             0     1\n",
       "18        Swift             2          5450            56     6\n",
       "18        Swift             2          2725            56     7\n",
       "18        Swift             2          1362            56     8\n",
       "18        Swift             1          2128             1     5"
      ]
     },
     "metadata": {},
     "output_type": "display_data"
    }
   ],
   "source": [
    "# Cleaning up some outliers \n",
    "for dataIndex in range(len(dataframe_collection)):\n",
    "    dataframe_collection[dataIndex] = dataframe_collection[dataIndex].replace(to_replace='None', value=np.nan).dropna()\n",
    "    dataframe_collection[dataIndex] = dataframe_collection[dataIndex].replace(to_replace='Emacs Lisp', value=np.nan).dropna()\n",
    "    dataframe_collection[dataIndex] = dataframe_collection[dataIndex].replace(to_replace='Erlang', value=np.nan).dropna()\n",
    "    dataframe_collection[dataIndex] = dataframe_collection[dataIndex].replace(to_replace='PHP', value=np.nan).dropna()\n",
    "    dataframe_collection[dataIndex] = dataframe_collection[dataIndex].replace(to_replace='HCL', value=np.nan).dropna()\n",
    "    dataframe_collection[dataIndex] = dataframe_collection[dataIndex].replace(to_replace='Makefile', value=np.nan).dropna()\n",
    "    dataframe_collection[dataIndex] = dataframe_collection[dataIndex].replace(to_replace='VimL', value=np.nan).dropna()\n",
    "    dataframe_collection[dataIndex] = dataframe_collection[dataIndex].replace(to_replace='Vue', value=np.nan).dropna()\n",
    "    dataframe_collection[dataIndex] = dataframe_collection[dataIndex].replace(to_replace='Go', value=np.nan).dropna()\n",
    "    dataframe_collection[dataIndex] = dataframe_collection[dataIndex].replace(to_replace='Roff', value=np.nan).dropna()\n",
    "    dataframe_collection[dataIndex] = dataframe_collection[dataIndex].replace(to_replace='Jupyter Notebook', value=np.nan).dropna()\n",
    "    dataframe_collection[dataIndex] = dataframe_collection[dataIndex].replace(to_replace='Python', value=np.nan).dropna()\n",
    "    dataframe_collection[dataIndex] = dataframe_collection[dataIndex].replace(to_replace='Java', value=np.nan).dropna()\n",
    "    dataframe_collection[dataIndex]['Year'] = dataIndex\n",
    "finalDataBase = pd.concat(dataframe_collection)\n",
    "finalDataBase = finalDataBase.sort_values(by=['Language'])\n",
    "languages = finalDataBase.Language.unique()\n",
    "years = ['0','1','2','3','4','5','6','7','8']\n",
    "display(finalDataBase)"
   ]
  },
  {
   "cell_type": "code",
   "execution_count": 55,
   "metadata": {},
   "outputs": [],
   "source": [
    "# make figure\n",
    "fig_dict = {\n",
    "    \"data\": [],\n",
    "    \"layout\": {},\n",
    "    \"frames\": []\n",
    "}"
   ]
  },
  {
   "cell_type": "code",
   "execution_count": 71,
   "metadata": {},
   "outputs": [],
   "source": [
    "years = np.arange(maxYear)\n",
    "fig_dict[\"layout\"][\"xaxis\"] = {\"range\": [0, 45], \"title\": \"Number of Active Repositories\"}\n",
    "fig_dict[\"layout\"][\"yaxis\"] = {\"title\": \"Number of Contributors\", \"range\": [0, 400]}\n",
    "fig_dict[\"layout\"][\"hovermode\"] = \"closest\"\n",
    "fig_dict[\"layout\"][\"sliders\"] = {\n",
    "    \"args\": [\n",
    "        \"transition\", {\n",
    "            \"duration\": 400,\n",
    "            \"easing\": \"cubic-in-out\"\n",
    "        }\n",
    "    ],\n",
    "    \"initialValue\": \"0\",\n",
    "    \"plotlycommand\": \"animate\",\n",
    "    \"values\": years,\n",
    "    \"visible\": True\n",
    "}"
   ]
  },
  {
   "cell_type": "code",
   "execution_count": 72,
   "metadata": {},
   "outputs": [],
   "source": [
    "# fill in most of layout\n",
    "fig_dict[\"layout\"][\"updatemenus\"] = [\n",
    "    {\n",
    "        \"buttons\": [\n",
    "            {\n",
    "                \"args\": [None, {\"frame\": {\"duration\": 500, \"redraw\": False},\n",
    "                                \"fromcurrent\": True, \"transition\": {\"duration\": 300,\n",
    "                                                                    \"easing\": \"quadratic-in-out\"}}],\n",
    "                \"label\": \"Play\",\n",
    "                \"method\": \"animate\"\n",
    "            },\n",
    "            {\n",
    "                \"args\": [[None], {\"frame\": {\"duration\": 0, \"redraw\": False},\n",
    "                                  \"mode\": \"immediate\",\n",
    "                                  \"transition\": {\"duration\": 0}}],\n",
    "                \"label\": \"Pause\",\n",
    "                \"method\": \"animate\"\n",
    "            }\n",
    "        ],\n",
    "        \"direction\": \"left\",\n",
    "        \"pad\": {\"r\": 10, \"t\": 87},\n",
    "        \"showactive\": False,\n",
    "        \"type\": \"buttons\",\n",
    "        \"x\": 0.1,\n",
    "        \"xanchor\": \"right\",\n",
    "        \"y\": 0,\n",
    "        \"yanchor\": \"top\"\n",
    "    }\n",
    "]\n",
    "\n",
    "sliders_dict = {\n",
    "    \"active\": 0,\n",
    "    \"yanchor\": \"top\",\n",
    "    \"xanchor\": \"left\",\n",
    "    \"currentvalue\": {\n",
    "        \"font\": {\"size\": 20},\n",
    "        \"prefix\": \"Year:\",\n",
    "        \"visible\": True,\n",
    "        \"xanchor\": \"right\"\n",
    "    },\n",
    "    \"transition\": {\"duration\": 300, \"easing\": \"cubic-in-out\"},\n",
    "    \"pad\": {\"b\": 10, \"t\": 50},\n",
    "    \"len\": 0.9,\n",
    "    \"x\": 0.1,\n",
    "    \"y\": 0,\n",
    "    \"steps\": []\n",
    "}"
   ]
  },
  {
   "cell_type": "code",
   "execution_count": 73,
   "metadata": {},
   "outputs": [],
   "source": [
    "year = 0\n",
    "for language in languages:\n",
    "    dataset_by_year = finalDataBase[finalDataBase[\"Year\"] == year]\n",
    "    dataset_by_year_and_language = dataset_by_year[dataset_by_year[\"Language\"] == language]\n",
    "    data_dict = {\n",
    "        \"x\": list(dataset_by_year_and_language[\"Repositories\"]),\n",
    "        \"y\": list(dataset_by_year_and_language[\"Contributors\"]),\n",
    "        \"mode\": \"markers\",\n",
    "        \"text\": list(dataset_by_year_and_language[\"Language\"]),\n",
    "        \"marker\": {\n",
    "            \"sizemode\": \"area\",\n",
    "            \"sizeref\": 30,\n",
    "            \"size\": list(dataset_by_year_and_language[\"Average Size\"])\n",
    "        },\n",
    "        \"name\": language\n",
    "    }\n",
    "    fig_dict[\"data\"].append(data_dict)"
   ]
  },
  {
   "cell_type": "code",
   "execution_count": 74,
   "metadata": {},
   "outputs": [],
   "source": [
    "dataset_by_year_and_language\n",
    "# make frames\n",
    "for year in years:\n",
    "    frame = {\"data\": [], \"name\": str(year)}\n",
    "    for language in languages:\n",
    "        dataset_by_year = finalDataBase[finalDataBase[\"Year\"] == int(year)]\n",
    "        dataset_by_year_and_language = dataset_by_year[dataset_by_year[\"Language\"] == language]\n",
    "        data_dict = {\n",
    "            \"x\": list(dataset_by_year_and_language[\"Repositories\"]),\n",
    "            \"y\": list(dataset_by_year_and_language[\"Contributors\"]),\n",
    "            \"mode\": \"markers\",\n",
    "            \"text\": list(dataset_by_year_and_language[\"Language\"]),\n",
    "            \"marker\": {\n",
    "                \"sizemode\": \"area\",\n",
    "                \"sizeref\": 30,\n",
    "                \"size\": list(dataset_by_year_and_language[\"Average Size\"])\n",
    "            },\n",
    "            \"name\": language\n",
    "        }\n",
    "        frame[\"data\"].append(data_dict)\n",
    "\n",
    "    fig_dict[\"frames\"].append(frame)\n",
    "    slider_step = {\"args\": [\n",
    "        [year],\n",
    "        {\"frame\": {\"duration\": 300, \"redraw\": False},\n",
    "         \"mode\": \"immediate\",\n",
    "         \"transition\": {\"duration\": 300}}\n",
    "    ],\n",
    "        \"label\": str(year),   \n",
    "        \"method\": \"animate\"}\n",
    "    sliders_dict[\"steps\"].append(slider_step)"
   ]
  },
  {
   "cell_type": "code",
   "execution_count": 75,
   "metadata": {},
   "outputs": [
    {
     "data": {
      "application/vnd.plotly.v1+json": {
       "config": {
        "plotlyServerURL": "https://plot.ly"
       },
       "data": [
        {
         "marker": {
          "size": [
           104
          ],
          "sizemode": "area",
          "sizeref": 30
         },
         "mode": "markers",
         "name": "C",
         "text": [
          "C"
         ],
         "type": "scatter",
         "x": [
          1
         ],
         "y": [
          1
         ]
        },
        {
         "marker": {
          "size": [
           0
          ],
          "sizemode": "area",
          "sizeref": 30
         },
         "mode": "markers",
         "name": "C#",
         "text": [
          "C#"
         ],
         "type": "scatter",
         "x": [
          0
         ],
         "y": [
          0
         ]
        },
        {
         "marker": {
          "size": [
           0
          ],
          "sizemode": "area",
          "sizeref": 30
         },
         "mode": "markers",
         "name": "C++",
         "text": [
          "C++"
         ],
         "type": "scatter",
         "x": [
          0
         ],
         "y": [
          0
         ]
        },
        {
         "marker": {
          "size": [
           0
          ],
          "sizemode": "area",
          "sizeref": 30
         },
         "mode": "markers",
         "name": "CSS",
         "text": [
          "CSS"
         ],
         "type": "scatter",
         "x": [
          0
         ],
         "y": [
          0
         ]
        },
        {
         "marker": {
          "size": [
           0
          ],
          "sizemode": "area",
          "sizeref": 30
         },
         "mode": "markers",
         "name": "HTML",
         "text": [
          "HTML"
         ],
         "type": "scatter",
         "x": [
          0
         ],
         "y": [
          0
         ]
        },
        {
         "marker": {
          "size": [
           0
          ],
          "sizemode": "area",
          "sizeref": 30
         },
         "mode": "markers",
         "name": "Java",
         "text": [
          "Java"
         ],
         "type": "scatter",
         "x": [
          0
         ],
         "y": [
          0
         ]
        },
        {
         "marker": {
          "size": [
           18081.5
          ],
          "sizemode": "area",
          "sizeref": 30
         },
         "mode": "markers",
         "name": "JavaScript",
         "text": [
          "JavaScript"
         ],
         "type": "scatter",
         "x": [
          4
         ],
         "y": [
          4.5
         ]
        },
        {
         "marker": {
          "size": [
           0
          ],
          "sizemode": "area",
          "sizeref": 30
         },
         "mode": "markers",
         "name": "OCaml",
         "text": [
          "OCaml"
         ],
         "type": "scatter",
         "x": [
          0
         ],
         "y": [
          0
         ]
        },
        {
         "marker": {
          "size": [
           0
          ],
          "sizemode": "area",
          "sizeref": 30
         },
         "mode": "markers",
         "name": "Objective-C",
         "text": [
          "Objective-C"
         ],
         "type": "scatter",
         "x": [
          0
         ],
         "y": [
          0
         ]
        },
        {
         "marker": {
          "size": [
           0
          ],
          "sizemode": "area",
          "sizeref": 30
         },
         "mode": "markers",
         "name": "Ruby",
         "text": [
          "Ruby"
         ],
         "type": "scatter",
         "x": [
          0
         ],
         "y": [
          0
         ]
        },
        {
         "marker": {
          "size": [
           0
          ],
          "sizemode": "area",
          "sizeref": 30
         },
         "mode": "markers",
         "name": "Rust",
         "text": [
          "Rust"
         ],
         "type": "scatter",
         "x": [
          0
         ],
         "y": [
          0
         ]
        },
        {
         "marker": {
          "size": [
           0
          ],
          "sizemode": "area",
          "sizeref": 30
         },
         "mode": "markers",
         "name": "Shell",
         "text": [
          "Shell"
         ],
         "type": "scatter",
         "x": [
          0
         ],
         "y": [
          0
         ]
        },
        {
         "marker": {
          "size": [
           0
          ],
          "sizemode": "area",
          "sizeref": 30
         },
         "mode": "markers",
         "name": "Swift",
         "text": [
          "Swift"
         ],
         "type": "scatter",
         "x": [
          0
         ],
         "y": [
          0
         ]
        },
        {
         "marker": {
          "size": [
           104
          ],
          "sizemode": "area",
          "sizeref": 30
         },
         "mode": "markers",
         "name": "C",
         "text": [
          "C"
         ],
         "type": "scatter",
         "x": [
          1
         ],
         "y": [
          1
         ]
        },
        {
         "marker": {
          "size": [
           0
          ],
          "sizemode": "area",
          "sizeref": 30
         },
         "mode": "markers",
         "name": "C#",
         "text": [
          "C#"
         ],
         "type": "scatter",
         "x": [
          0
         ],
         "y": [
          0
         ]
        },
        {
         "marker": {
          "size": [
           0
          ],
          "sizemode": "area",
          "sizeref": 30
         },
         "mode": "markers",
         "name": "C++",
         "text": [
          "C++"
         ],
         "type": "scatter",
         "x": [
          0
         ],
         "y": [
          0
         ]
        },
        {
         "marker": {
          "size": [
           0
          ],
          "sizemode": "area",
          "sizeref": 30
         },
         "mode": "markers",
         "name": "CSS",
         "text": [
          "CSS"
         ],
         "type": "scatter",
         "x": [
          0
         ],
         "y": [
          0
         ]
        },
        {
         "marker": {
          "size": [
           0
          ],
          "sizemode": "area",
          "sizeref": 30
         },
         "mode": "markers",
         "name": "HTML",
         "text": [
          "HTML"
         ],
         "type": "scatter",
         "x": [
          0
         ],
         "y": [
          0
         ]
        },
        {
         "marker": {
          "size": [
           0
          ],
          "sizemode": "area",
          "sizeref": 30
         },
         "mode": "markers",
         "name": "Java",
         "text": [
          "Java"
         ],
         "type": "scatter",
         "x": [
          0
         ],
         "y": [
          0
         ]
        },
        {
         "marker": {
          "size": [
           18081.5
          ],
          "sizemode": "area",
          "sizeref": 30
         },
         "mode": "markers",
         "name": "JavaScript",
         "text": [
          "JavaScript"
         ],
         "type": "scatter",
         "x": [
          4
         ],
         "y": [
          4.5
         ]
        },
        {
         "marker": {
          "size": [
           0
          ],
          "sizemode": "area",
          "sizeref": 30
         },
         "mode": "markers",
         "name": "OCaml",
         "text": [
          "OCaml"
         ],
         "type": "scatter",
         "x": [
          0
         ],
         "y": [
          0
         ]
        },
        {
         "marker": {
          "size": [
           0
          ],
          "sizemode": "area",
          "sizeref": 30
         },
         "mode": "markers",
         "name": "Objective-C",
         "text": [
          "Objective-C"
         ],
         "type": "scatter",
         "x": [
          0
         ],
         "y": [
          0
         ]
        },
        {
         "marker": {
          "size": [
           0
          ],
          "sizemode": "area",
          "sizeref": 30
         },
         "mode": "markers",
         "name": "Ruby",
         "text": [
          "Ruby"
         ],
         "type": "scatter",
         "x": [
          0
         ],
         "y": [
          0
         ]
        },
        {
         "marker": {
          "size": [
           0
          ],
          "sizemode": "area",
          "sizeref": 30
         },
         "mode": "markers",
         "name": "Rust",
         "text": [
          "Rust"
         ],
         "type": "scatter",
         "x": [
          0
         ],
         "y": [
          0
         ]
        },
        {
         "marker": {
          "size": [
           0
          ],
          "sizemode": "area",
          "sizeref": 30
         },
         "mode": "markers",
         "name": "Shell",
         "text": [
          "Shell"
         ],
         "type": "scatter",
         "x": [
          0
         ],
         "y": [
          0
         ]
        },
        {
         "marker": {
          "size": [
           0
          ],
          "sizemode": "area",
          "sizeref": 30
         },
         "mode": "markers",
         "name": "Swift",
         "text": [
          "Swift"
         ],
         "type": "scatter",
         "x": [
          0
         ],
         "y": [
          0
         ]
        },
        {
         "marker": {
          "size": [
           104
          ],
          "sizemode": "area",
          "sizeref": 30
         },
         "mode": "markers",
         "name": "C",
         "text": [
          "C"
         ],
         "type": "scatter",
         "x": [
          1
         ],
         "y": [
          1
         ]
        },
        {
         "marker": {
          "size": [
           0
          ],
          "sizemode": "area",
          "sizeref": 30
         },
         "mode": "markers",
         "name": "C#",
         "text": [
          "C#"
         ],
         "type": "scatter",
         "x": [
          0
         ],
         "y": [
          0
         ]
        },
        {
         "marker": {
          "size": [
           0
          ],
          "sizemode": "area",
          "sizeref": 30
         },
         "mode": "markers",
         "name": "C++",
         "text": [
          "C++"
         ],
         "type": "scatter",
         "x": [
          0
         ],
         "y": [
          0
         ]
        },
        {
         "marker": {
          "size": [
           0
          ],
          "sizemode": "area",
          "sizeref": 30
         },
         "mode": "markers",
         "name": "CSS",
         "text": [
          "CSS"
         ],
         "type": "scatter",
         "x": [
          0
         ],
         "y": [
          0
         ]
        },
        {
         "marker": {
          "size": [
           0
          ],
          "sizemode": "area",
          "sizeref": 30
         },
         "mode": "markers",
         "name": "HTML",
         "text": [
          "HTML"
         ],
         "type": "scatter",
         "x": [
          0
         ],
         "y": [
          0
         ]
        },
        {
         "marker": {
          "size": [
           0
          ],
          "sizemode": "area",
          "sizeref": 30
         },
         "mode": "markers",
         "name": "Java",
         "text": [
          "Java"
         ],
         "type": "scatter",
         "x": [
          0
         ],
         "y": [
          0
         ]
        },
        {
         "marker": {
          "size": [
           18081.5
          ],
          "sizemode": "area",
          "sizeref": 30
         },
         "mode": "markers",
         "name": "JavaScript",
         "text": [
          "JavaScript"
         ],
         "type": "scatter",
         "x": [
          4
         ],
         "y": [
          4.5
         ]
        },
        {
         "marker": {
          "size": [
           0
          ],
          "sizemode": "area",
          "sizeref": 30
         },
         "mode": "markers",
         "name": "OCaml",
         "text": [
          "OCaml"
         ],
         "type": "scatter",
         "x": [
          0
         ],
         "y": [
          0
         ]
        },
        {
         "marker": {
          "size": [
           0
          ],
          "sizemode": "area",
          "sizeref": 30
         },
         "mode": "markers",
         "name": "Objective-C",
         "text": [
          "Objective-C"
         ],
         "type": "scatter",
         "x": [
          0
         ],
         "y": [
          0
         ]
        },
        {
         "marker": {
          "size": [
           0
          ],
          "sizemode": "area",
          "sizeref": 30
         },
         "mode": "markers",
         "name": "Ruby",
         "text": [
          "Ruby"
         ],
         "type": "scatter",
         "x": [
          0
         ],
         "y": [
          0
         ]
        },
        {
         "marker": {
          "size": [
           0
          ],
          "sizemode": "area",
          "sizeref": 30
         },
         "mode": "markers",
         "name": "Rust",
         "text": [
          "Rust"
         ],
         "type": "scatter",
         "x": [
          0
         ],
         "y": [
          0
         ]
        },
        {
         "marker": {
          "size": [
           0
          ],
          "sizemode": "area",
          "sizeref": 30
         },
         "mode": "markers",
         "name": "Shell",
         "text": [
          "Shell"
         ],
         "type": "scatter",
         "x": [
          0
         ],
         "y": [
          0
         ]
        },
        {
         "marker": {
          "size": [
           0
          ],
          "sizemode": "area",
          "sizeref": 30
         },
         "mode": "markers",
         "name": "Swift",
         "text": [
          "Swift"
         ],
         "type": "scatter",
         "x": [
          0
         ],
         "y": [
          0
         ]
        },
        {
         "marker": {
          "size": [
           104
          ],
          "sizemode": "area",
          "sizeref": 30
         },
         "mode": "markers",
         "name": "C",
         "text": [
          "C"
         ],
         "type": "scatter",
         "x": [
          1
         ],
         "y": [
          1
         ]
        },
        {
         "marker": {
          "size": [
           0
          ],
          "sizemode": "area",
          "sizeref": 30
         },
         "mode": "markers",
         "name": "C#",
         "text": [
          "C#"
         ],
         "type": "scatter",
         "x": [
          0
         ],
         "y": [
          0
         ]
        },
        {
         "marker": {
          "size": [
           0
          ],
          "sizemode": "area",
          "sizeref": 30
         },
         "mode": "markers",
         "name": "C++",
         "text": [
          "C++"
         ],
         "type": "scatter",
         "x": [
          0
         ],
         "y": [
          0
         ]
        },
        {
         "marker": {
          "size": [
           0
          ],
          "sizemode": "area",
          "sizeref": 30
         },
         "mode": "markers",
         "name": "CSS",
         "text": [
          "CSS"
         ],
         "type": "scatter",
         "x": [
          0
         ],
         "y": [
          0
         ]
        },
        {
         "marker": {
          "size": [
           0
          ],
          "sizemode": "area",
          "sizeref": 30
         },
         "mode": "markers",
         "name": "HTML",
         "text": [
          "HTML"
         ],
         "type": "scatter",
         "x": [
          0
         ],
         "y": [
          0
         ]
        },
        {
         "marker": {
          "size": [
           0
          ],
          "sizemode": "area",
          "sizeref": 30
         },
         "mode": "markers",
         "name": "Java",
         "text": [
          "Java"
         ],
         "type": "scatter",
         "x": [
          0
         ],
         "y": [
          0
         ]
        },
        {
         "marker": {
          "size": [
           18081.5
          ],
          "sizemode": "area",
          "sizeref": 30
         },
         "mode": "markers",
         "name": "JavaScript",
         "text": [
          "JavaScript"
         ],
         "type": "scatter",
         "x": [
          4
         ],
         "y": [
          4.5
         ]
        },
        {
         "marker": {
          "size": [
           0
          ],
          "sizemode": "area",
          "sizeref": 30
         },
         "mode": "markers",
         "name": "OCaml",
         "text": [
          "OCaml"
         ],
         "type": "scatter",
         "x": [
          0
         ],
         "y": [
          0
         ]
        },
        {
         "marker": {
          "size": [
           0
          ],
          "sizemode": "area",
          "sizeref": 30
         },
         "mode": "markers",
         "name": "Objective-C",
         "text": [
          "Objective-C"
         ],
         "type": "scatter",
         "x": [
          0
         ],
         "y": [
          0
         ]
        },
        {
         "marker": {
          "size": [
           0
          ],
          "sizemode": "area",
          "sizeref": 30
         },
         "mode": "markers",
         "name": "Ruby",
         "text": [
          "Ruby"
         ],
         "type": "scatter",
         "x": [
          0
         ],
         "y": [
          0
         ]
        },
        {
         "marker": {
          "size": [
           0
          ],
          "sizemode": "area",
          "sizeref": 30
         },
         "mode": "markers",
         "name": "Rust",
         "text": [
          "Rust"
         ],
         "type": "scatter",
         "x": [
          0
         ],
         "y": [
          0
         ]
        },
        {
         "marker": {
          "size": [
           0
          ],
          "sizemode": "area",
          "sizeref": 30
         },
         "mode": "markers",
         "name": "Shell",
         "text": [
          "Shell"
         ],
         "type": "scatter",
         "x": [
          0
         ],
         "y": [
          0
         ]
        },
        {
         "marker": {
          "size": [
           0
          ],
          "sizemode": "area",
          "sizeref": 30
         },
         "mode": "markers",
         "name": "Swift",
         "text": [
          "Swift"
         ],
         "type": "scatter",
         "x": [
          0
         ],
         "y": [
          0
         ]
        }
       ],
       "frames": [
        {
         "data": [
          {
           "marker": {
            "size": [
             104
            ],
            "sizemode": "area",
            "sizeref": 30
           },
           "mode": "markers",
           "name": "C",
           "text": [
            "C"
           ],
           "type": "scatter",
           "x": [
            1
           ],
           "y": [
            1
           ]
          },
          {
           "marker": {
            "size": [
             0
            ],
            "sizemode": "area",
            "sizeref": 30
           },
           "mode": "markers",
           "name": "C#",
           "text": [
            "C#"
           ],
           "type": "scatter",
           "x": [
            0
           ],
           "y": [
            0
           ]
          },
          {
           "marker": {
            "size": [
             0
            ],
            "sizemode": "area",
            "sizeref": 30
           },
           "mode": "markers",
           "name": "C++",
           "text": [
            "C++"
           ],
           "type": "scatter",
           "x": [
            0
           ],
           "y": [
            0
           ]
          },
          {
           "marker": {
            "size": [
             0
            ],
            "sizemode": "area",
            "sizeref": 30
           },
           "mode": "markers",
           "name": "CSS",
           "text": [
            "CSS"
           ],
           "type": "scatter",
           "x": [
            0
           ],
           "y": [
            0
           ]
          },
          {
           "marker": {
            "size": [
             0
            ],
            "sizemode": "area",
            "sizeref": 30
           },
           "mode": "markers",
           "name": "HTML",
           "text": [
            "HTML"
           ],
           "type": "scatter",
           "x": [
            0
           ],
           "y": [
            0
           ]
          },
          {
           "marker": {
            "size": [
             0
            ],
            "sizemode": "area",
            "sizeref": 30
           },
           "mode": "markers",
           "name": "Java",
           "text": [
            "Java"
           ],
           "type": "scatter",
           "x": [
            0
           ],
           "y": [
            0
           ]
          },
          {
           "marker": {
            "size": [
             18081.5
            ],
            "sizemode": "area",
            "sizeref": 30
           },
           "mode": "markers",
           "name": "JavaScript",
           "text": [
            "JavaScript"
           ],
           "type": "scatter",
           "x": [
            4
           ],
           "y": [
            4.5
           ]
          },
          {
           "marker": {
            "size": [
             0
            ],
            "sizemode": "area",
            "sizeref": 30
           },
           "mode": "markers",
           "name": "OCaml",
           "text": [
            "OCaml"
           ],
           "type": "scatter",
           "x": [
            0
           ],
           "y": [
            0
           ]
          },
          {
           "marker": {
            "size": [
             0
            ],
            "sizemode": "area",
            "sizeref": 30
           },
           "mode": "markers",
           "name": "Objective-C",
           "text": [
            "Objective-C"
           ],
           "type": "scatter",
           "x": [
            0
           ],
           "y": [
            0
           ]
          },
          {
           "marker": {
            "size": [
             0
            ],
            "sizemode": "area",
            "sizeref": 30
           },
           "mode": "markers",
           "name": "Ruby",
           "text": [
            "Ruby"
           ],
           "type": "scatter",
           "x": [
            0
           ],
           "y": [
            0
           ]
          },
          {
           "marker": {
            "size": [
             0
            ],
            "sizemode": "area",
            "sizeref": 30
           },
           "mode": "markers",
           "name": "Rust",
           "text": [
            "Rust"
           ],
           "type": "scatter",
           "x": [
            0
           ],
           "y": [
            0
           ]
          },
          {
           "marker": {
            "size": [
             0
            ],
            "sizemode": "area",
            "sizeref": 30
           },
           "mode": "markers",
           "name": "Shell",
           "text": [
            "Shell"
           ],
           "type": "scatter",
           "x": [
            0
           ],
           "y": [
            0
           ]
          },
          {
           "marker": {
            "size": [
             0
            ],
            "sizemode": "area",
            "sizeref": 30
           },
           "mode": "markers",
           "name": "Swift",
           "text": [
            "Swift"
           ],
           "type": "scatter",
           "x": [
            0
           ],
           "y": [
            0
           ]
          }
         ],
         "name": "0"
        },
        {
         "data": [
          {
           "marker": {
            "size": [
             52
            ],
            "sizemode": "area",
            "sizeref": 30
           },
           "mode": "markers",
           "name": "C",
           "text": [
            "C"
           ],
           "type": "scatter",
           "x": [
            1
           ],
           "y": [
            1
           ]
          },
          {
           "marker": {
            "size": [
             0
            ],
            "sizemode": "area",
            "sizeref": 30
           },
           "mode": "markers",
           "name": "C#",
           "text": [
            "C#"
           ],
           "type": "scatter",
           "x": [
            0
           ],
           "y": [
            0
           ]
          },
          {
           "marker": {
            "size": [
             0
            ],
            "sizemode": "area",
            "sizeref": 30
           },
           "mode": "markers",
           "name": "C++",
           "text": [
            "C++"
           ],
           "type": "scatter",
           "x": [
            0
           ],
           "y": [
            0
           ]
          },
          {
           "marker": {
            "size": [
             2371
            ],
            "sizemode": "area",
            "sizeref": 30
           },
           "mode": "markers",
           "name": "CSS",
           "text": [
            "CSS"
           ],
           "type": "scatter",
           "x": [
            1
           ],
           "y": [
            4
           ]
          },
          {
           "marker": {
            "size": [
             0
            ],
            "sizemode": "area",
            "sizeref": 30
           },
           "mode": "markers",
           "name": "HTML",
           "text": [
            "HTML"
           ],
           "type": "scatter",
           "x": [
            0
           ],
           "y": [
            0
           ]
          },
          {
           "marker": {
            "size": [
             112
            ],
            "sizemode": "area",
            "sizeref": 30
           },
           "mode": "markers",
           "name": "Java",
           "text": [
            "Java"
           ],
           "type": "scatter",
           "x": [
            1
           ],
           "y": [
            1
           ]
          },
          {
           "marker": {
            "size": [
             9040.75
            ],
            "sizemode": "area",
            "sizeref": 30
           },
           "mode": "markers",
           "name": "JavaScript",
           "text": [
            "JavaScript"
           ],
           "type": "scatter",
           "x": [
            4
           ],
           "y": [
            4.5
           ]
          },
          {
           "marker": {
            "size": [
             0
            ],
            "sizemode": "area",
            "sizeref": 30
           },
           "mode": "markers",
           "name": "OCaml",
           "text": [
            "OCaml"
           ],
           "type": "scatter",
           "x": [
            0
           ],
           "y": [
            0
           ]
          },
          {
           "marker": {
            "size": [
             0
            ],
            "sizemode": "area",
            "sizeref": 30
           },
           "mode": "markers",
           "name": "Objective-C",
           "text": [
            "Objective-C"
           ],
           "type": "scatter",
           "x": [
            0
           ],
           "y": [
            0
           ]
          },
          {
           "marker": {
            "size": [
             124
            ],
            "sizemode": "area",
            "sizeref": 30
           },
           "mode": "markers",
           "name": "Ruby",
           "text": [
            "Ruby"
           ],
           "type": "scatter",
           "x": [
            1
           ],
           "y": [
            1
           ]
          },
          {
           "marker": {
            "size": [
             0
            ],
            "sizemode": "area",
            "sizeref": 30
           },
           "mode": "markers",
           "name": "Rust",
           "text": [
            "Rust"
           ],
           "type": "scatter",
           "x": [
            0
           ],
           "y": [
            0
           ]
          },
          {
           "marker": {
            "size": [
             108
            ],
            "sizemode": "area",
            "sizeref": 30
           },
           "mode": "markers",
           "name": "Shell",
           "text": [
            "Shell"
           ],
           "type": "scatter",
           "x": [
            1
           ],
           "y": [
            1
           ]
          },
          {
           "marker": {
            "size": [
             0
            ],
            "sizemode": "area",
            "sizeref": 30
           },
           "mode": "markers",
           "name": "Swift",
           "text": [
            "Swift"
           ],
           "type": "scatter",
           "x": [
            0
           ],
           "y": [
            0
           ]
          }
         ],
         "name": "1"
        },
        {
         "data": [
          {
           "marker": {
            "size": [
             18020.5
            ],
            "sizemode": "area",
            "sizeref": 30
           },
           "mode": "markers",
           "name": "C",
           "text": [
            "C"
           ],
           "type": "scatter",
           "x": [
            3
           ],
           "y": [
            63.5
           ]
          },
          {
           "marker": {
            "size": [
             0
            ],
            "sizemode": "area",
            "sizeref": 30
           },
           "mode": "markers",
           "name": "C#",
           "text": [
            "C#"
           ],
           "type": "scatter",
           "x": [
            0
           ],
           "y": [
            0
           ]
          },
          {
           "marker": {
            "size": [
             0
            ],
            "sizemode": "area",
            "sizeref": 30
           },
           "mode": "markers",
           "name": "C++",
           "text": [
            "C++"
           ],
           "type": "scatter",
           "x": [
            0
           ],
           "y": [
            0
           ]
          },
          {
           "marker": {
            "size": [
             1185.5
            ],
            "sizemode": "area",
            "sizeref": 30
           },
           "mode": "markers",
           "name": "CSS",
           "text": [
            "CSS"
           ],
           "type": "scatter",
           "x": [
            1
           ],
           "y": [
            4
           ]
          },
          {
           "marker": {
            "size": [
             0
            ],
            "sizemode": "area",
            "sizeref": 30
           },
           "mode": "markers",
           "name": "HTML",
           "text": [
            "HTML"
           ],
           "type": "scatter",
           "x": [
            0
           ],
           "y": [
            0
           ]
          },
          {
           "marker": {
            "size": [
             56
            ],
            "sizemode": "area",
            "sizeref": 30
           },
           "mode": "markers",
           "name": "Java",
           "text": [
            "Java"
           ],
           "type": "scatter",
           "x": [
            1
           ],
           "y": [
            1
           ]
          },
          {
           "marker": {
            "size": [
             5013.041666666667
            ],
            "sizemode": "area",
            "sizeref": 30
           },
           "mode": "markers",
           "name": "JavaScript",
           "text": [
            "JavaScript"
           ],
           "type": "scatter",
           "x": [
            7
           ],
           "y": [
            5.5
           ]
          },
          {
           "marker": {
            "size": [
             0
            ],
            "sizemode": "area",
            "sizeref": 30
           },
           "mode": "markers",
           "name": "OCaml",
           "text": [
            "OCaml"
           ],
           "type": "scatter",
           "x": [
            0
           ],
           "y": [
            0
           ]
          },
          {
           "marker": {
            "size": [
             2693
            ],
            "sizemode": "area",
            "sizeref": 30
           },
           "mode": "markers",
           "name": "Objective-C",
           "text": [
            "Objective-C"
           ],
           "type": "scatter",
           "x": [
            1
           ],
           "y": [
            23
           ]
          },
          {
           "marker": {
            "size": [
             62
            ],
            "sizemode": "area",
            "sizeref": 30
           },
           "mode": "markers",
           "name": "Ruby",
           "text": [
            "Ruby"
           ],
           "type": "scatter",
           "x": [
            1
           ],
           "y": [
            1
           ]
          },
          {
           "marker": {
            "size": [
             0
            ],
            "sizemode": "area",
            "sizeref": 30
           },
           "mode": "markers",
           "name": "Rust",
           "text": [
            "Rust"
           ],
           "type": "scatter",
           "x": [
            0
           ],
           "y": [
            0
           ]
          },
          {
           "marker": {
            "size": [
             533
            ],
            "sizemode": "area",
            "sizeref": 30
           },
           "mode": "markers",
           "name": "Shell",
           "text": [
            "Shell"
           ],
           "type": "scatter",
           "x": [
            2
           ],
           "y": [
            2
           ]
          },
          {
           "marker": {
            "size": [
             0
            ],
            "sizemode": "area",
            "sizeref": 30
           },
           "mode": "markers",
           "name": "Swift",
           "text": [
            "Swift"
           ],
           "type": "scatter",
           "x": [
            0
           ],
           "y": [
            0
           ]
          }
         ],
         "name": "2"
        },
        {
         "data": [
          {
           "marker": {
            "size": [
             9010.25
            ],
            "sizemode": "area",
            "sizeref": 30
           },
           "mode": "markers",
           "name": "C",
           "text": [
            "C"
           ],
           "type": "scatter",
           "x": [
            3
           ],
           "y": [
            63.5
           ]
          },
          {
           "marker": {
            "size": [
             0
            ],
            "sizemode": "area",
            "sizeref": 30
           },
           "mode": "markers",
           "name": "C#",
           "text": [
            "C#"
           ],
           "type": "scatter",
           "x": [
            0
           ],
           "y": [
            0
           ]
          },
          {
           "marker": {
            "size": [
             0
            ],
            "sizemode": "area",
            "sizeref": 30
           },
           "mode": "markers",
           "name": "C++",
           "text": [
            "C++"
           ],
           "type": "scatter",
           "x": [
            0
           ],
           "y": [
            0
           ]
          },
          {
           "marker": {
            "size": [
             592.75
            ],
            "sizemode": "area",
            "sizeref": 30
           },
           "mode": "markers",
           "name": "CSS",
           "text": [
            "CSS"
           ],
           "type": "scatter",
           "x": [
            1
           ],
           "y": [
            4
           ]
          },
          {
           "marker": {
            "size": [
             0
            ],
            "sizemode": "area",
            "sizeref": 30
           },
           "mode": "markers",
           "name": "HTML",
           "text": [
            "HTML"
           ],
           "type": "scatter",
           "x": [
            0
           ],
           "y": [
            0
           ]
          },
          {
           "marker": {
            "size": [
             2012
            ],
            "sizemode": "area",
            "sizeref": 30
           },
           "mode": "markers",
           "name": "Java",
           "text": [
            "Java"
           ],
           "type": "scatter",
           "x": [
            2
           ],
           "y": [
            5
           ]
          },
          {
           "marker": {
            "size": [
             3981.1208333333334
            ],
            "sizemode": "area",
            "sizeref": 30
           },
           "mode": "markers",
           "name": "JavaScript",
           "text": [
            "JavaScript"
           ],
           "type": "scatter",
           "x": [
            12
           ],
           "y": [
            14.9
           ]
          },
          {
           "marker": {
            "size": [
             0
            ],
            "sizemode": "area",
            "sizeref": 30
           },
           "mode": "markers",
           "name": "OCaml",
           "text": [
            "OCaml"
           ],
           "type": "scatter",
           "x": [
            0
           ],
           "y": [
            0
           ]
          },
          {
           "marker": {
            "size": [
             1346.5
            ],
            "sizemode": "area",
            "sizeref": 30
           },
           "mode": "markers",
           "name": "Objective-C",
           "text": [
            "Objective-C"
           ],
           "type": "scatter",
           "x": [
            1
           ],
           "y": [
            23
           ]
          },
          {
           "marker": {
            "size": [
             31
            ],
            "sizemode": "area",
            "sizeref": 30
           },
           "mode": "markers",
           "name": "Ruby",
           "text": [
            "Ruby"
           ],
           "type": "scatter",
           "x": [
            1
           ],
           "y": [
            1
           ]
          },
          {
           "marker": {
            "size": [
             0
            ],
            "sizemode": "area",
            "sizeref": 30
           },
           "mode": "markers",
           "name": "Rust",
           "text": [
            "Rust"
           ],
           "type": "scatter",
           "x": [
            0
           ],
           "y": [
            0
           ]
          },
          {
           "marker": {
            "size": [
             313
            ],
            "sizemode": "area",
            "sizeref": 30
           },
           "mode": "markers",
           "name": "Shell",
           "text": [
            "Shell"
           ],
           "type": "scatter",
           "x": [
            6
           ],
           "y": [
            3.75
           ]
          },
          {
           "marker": {
            "size": [
             0
            ],
            "sizemode": "area",
            "sizeref": 30
           },
           "mode": "markers",
           "name": "Swift",
           "text": [
            "Swift"
           ],
           "type": "scatter",
           "x": [
            0
           ],
           "y": [
            0
           ]
          }
         ],
         "name": "3"
        },
        {
         "data": [
          {
           "marker": {
            "size": [
             4505.125
            ],
            "sizemode": "area",
            "sizeref": 30
           },
           "mode": "markers",
           "name": "C",
           "text": [
            "C"
           ],
           "type": "scatter",
           "x": [
            3
           ],
           "y": [
            63.5
           ]
          },
          {
           "marker": {
            "size": [
             234063
            ],
            "sizemode": "area",
            "sizeref": 30
           },
           "mode": "markers",
           "name": "C#",
           "text": [
            "C#"
           ],
           "type": "scatter",
           "x": [
            1
           ],
           "y": [
            118
           ]
          },
          {
           "marker": {
            "size": [
             163184
            ],
            "sizemode": "area",
            "sizeref": 30
           },
           "mode": "markers",
           "name": "C++",
           "text": [
            "C++"
           ],
           "type": "scatter",
           "x": [
            2
           ],
           "y": [
            124
           ]
          },
          {
           "marker": {
            "size": [
             296.375
            ],
            "sizemode": "area",
            "sizeref": 30
           },
           "mode": "markers",
           "name": "CSS",
           "text": [
            "CSS"
           ],
           "type": "scatter",
           "x": [
            1
           ],
           "y": [
            4
           ]
          },
          {
           "marker": {
            "size": [
             1131.3333333333333
            ],
            "sizemode": "area",
            "sizeref": 30
           },
           "mode": "markers",
           "name": "HTML",
           "text": [
            "HTML"
           ],
           "type": "scatter",
           "x": [
            3
           ],
           "y": [
            43.333333333333336
           ]
          },
          {
           "marker": {
            "size": [
             1139.1875
            ],
            "sizemode": "area",
            "sizeref": 30
           },
           "mode": "markers",
           "name": "Java",
           "text": [
            "Java"
           ],
           "type": "scatter",
           "x": [
            34
           ],
           "y": [
            11.84375
           ]
          },
          {
           "marker": {
            "size": [
             176663.22708333333
            ],
            "sizemode": "area",
            "sizeref": 30
           },
           "mode": "markers",
           "name": "JavaScript",
           "text": [
            "JavaScript"
           ],
           "type": "scatter",
           "x": [
            15
           ],
           "y": [
            273.2333333333333
           ]
          },
          {
           "marker": {
            "size": [
             0
            ],
            "sizemode": "area",
            "sizeref": 30
           },
           "mode": "markers",
           "name": "OCaml",
           "text": [
            "OCaml"
           ],
           "type": "scatter",
           "x": [
            0
           ],
           "y": [
            0
           ]
          },
          {
           "marker": {
            "size": [
             673.25
            ],
            "sizemode": "area",
            "sizeref": 30
           },
           "mode": "markers",
           "name": "Objective-C",
           "text": [
            "Objective-C"
           ],
           "type": "scatter",
           "x": [
            1
           ],
           "y": [
            23
           ]
          },
          {
           "marker": {
            "size": [
             15.5
            ],
            "sizemode": "area",
            "sizeref": 30
           },
           "mode": "markers",
           "name": "Ruby",
           "text": [
            "Ruby"
           ],
           "type": "scatter",
           "x": [
            1
           ],
           "y": [
            1
           ]
          },
          {
           "marker": {
            "size": [
             0
            ],
            "sizemode": "area",
            "sizeref": 30
           },
           "mode": "markers",
           "name": "Rust",
           "text": [
            "Rust"
           ],
           "type": "scatter",
           "x": [
            0
           ],
           "y": [
            0
           ]
          },
          {
           "marker": {
            "size": [
             3421.5
            ],
            "sizemode": "area",
            "sizeref": 30
           },
           "mode": "markers",
           "name": "Shell",
           "text": [
            "Shell"
           ],
           "type": "scatter",
           "x": [
            11
           ],
           "y": [
            10.55
           ]
          },
          {
           "marker": {
            "size": [
             0
            ],
            "sizemode": "area",
            "sizeref": 30
           },
           "mode": "markers",
           "name": "Swift",
           "text": [
            "Swift"
           ],
           "type": "scatter",
           "x": [
            0
           ],
           "y": [
            0
           ]
          }
         ],
         "name": "4"
        },
        {
         "data": [
          {
           "marker": {
            "size": [
             2252.5625
            ],
            "sizemode": "area",
            "sizeref": 30
           },
           "mode": "markers",
           "name": "C",
           "text": [
            "C"
           ],
           "type": "scatter",
           "x": [
            3
           ],
           "y": [
            63.5
           ]
          },
          {
           "marker": {
            "size": [
             117031.5
            ],
            "sizemode": "area",
            "sizeref": 30
           },
           "mode": "markers",
           "name": "C#",
           "text": [
            "C#"
           ],
           "type": "scatter",
           "x": [
            1
           ],
           "y": [
            118
           ]
          },
          {
           "marker": {
            "size": [
             81592
            ],
            "sizemode": "area",
            "sizeref": 30
           },
           "mode": "markers",
           "name": "C++",
           "text": [
            "C++"
           ],
           "type": "scatter",
           "x": [
            2
           ],
           "y": [
            124
           ]
          },
          {
           "marker": {
            "size": [
             17335.1875
            ],
            "sizemode": "area",
            "sizeref": 30
           },
           "mode": "markers",
           "name": "CSS",
           "text": [
            "CSS"
           ],
           "type": "scatter",
           "x": [
            3
           ],
           "y": [
            49.5
           ]
          },
          {
           "marker": {
            "size": [
             2596.6666666666665
            ],
            "sizemode": "area",
            "sizeref": 30
           },
           "mode": "markers",
           "name": "HTML",
           "text": [
            "HTML"
           ],
           "type": "scatter",
           "x": [
            4
           ],
           "y": [
            135.33333333333334
           ]
          },
          {
           "marker": {
            "size": [
             21724.260416666668
            ],
            "sizemode": "area",
            "sizeref": 30
           },
           "mode": "markers",
           "name": "Java",
           "text": [
            "Java"
           ],
           "type": "scatter",
           "x": [
            40
           ],
           "y": [
            117.84375
           ]
          },
          {
           "marker": {
            "size": [
             122807.23854166667
            ],
            "sizemode": "area",
            "sizeref": 30
           },
           "mode": "markers",
           "name": "JavaScript",
           "text": [
            "JavaScript"
           ],
           "type": "scatter",
           "x": [
            23
           ],
           "y": [
            299.9833333333333
           ]
          },
          {
           "marker": {
            "size": [
             0
            ],
            "sizemode": "area",
            "sizeref": 30
           },
           "mode": "markers",
           "name": "OCaml",
           "text": [
            "OCaml"
           ],
           "type": "scatter",
           "x": [
            0
           ],
           "y": [
            0
           ]
          },
          {
           "marker": {
            "size": [
             22089.625
            ],
            "sizemode": "area",
            "sizeref": 30
           },
           "mode": "markers",
           "name": "Objective-C",
           "text": [
            "Objective-C"
           ],
           "type": "scatter",
           "x": [
            2
           ],
           "y": [
            28
           ]
          },
          {
           "marker": {
            "size": [
             1109.25
            ],
            "sizemode": "area",
            "sizeref": 30
           },
           "mode": "markers",
           "name": "Ruby",
           "text": [
            "Ruby"
           ],
           "type": "scatter",
           "x": [
            3
           ],
           "y": [
            17
           ]
          },
          {
           "marker": {
            "size": [
             138.5
            ],
            "sizemode": "area",
            "sizeref": 30
           },
           "mode": "markers",
           "name": "Rust",
           "text": [
            "Rust"
           ],
           "type": "scatter",
           "x": [
            2
           ],
           "y": [
            15.5
           ]
          },
          {
           "marker": {
            "size": [
             3662.464285714286
            ],
            "sizemode": "area",
            "sizeref": 30
           },
           "mode": "markers",
           "name": "Shell",
           "text": [
            "Shell"
           ],
           "type": "scatter",
           "x": [
            18
           ],
           "y": [
            14.407142857142858
           ]
          },
          {
           "marker": {
            "size": [
             2128
            ],
            "sizemode": "area",
            "sizeref": 30
           },
           "mode": "markers",
           "name": "Swift",
           "text": [
            "Swift"
           ],
           "type": "scatter",
           "x": [
            1
           ],
           "y": [
            1
           ]
          }
         ],
         "name": "5"
        },
        {
         "data": [
          {
           "marker": {
            "size": [
             41946.614583333336
            ],
            "sizemode": "area",
            "sizeref": 30
           },
           "mode": "markers",
           "name": "C",
           "text": [
            "C"
           ],
           "type": "scatter",
           "x": [
            9
           ],
           "y": [
            168.5
           ]
          },
          {
           "marker": {
            "size": [
             58515.75
            ],
            "sizemode": "area",
            "sizeref": 30
           },
           "mode": "markers",
           "name": "C#",
           "text": [
            "C#"
           ],
           "type": "scatter",
           "x": [
            1
           ],
           "y": [
            118
           ]
          },
          {
           "marker": {
            "size": [
             86640
            ],
            "sizemode": "area",
            "sizeref": 30
           },
           "mode": "markers",
           "name": "C++",
           "text": [
            "C++"
           ],
           "type": "scatter",
           "x": [
            5
           ],
           "y": [
            144.66666666666666
           ]
          },
          {
           "marker": {
            "size": [
             8667.59375
            ],
            "sizemode": "area",
            "sizeref": 30
           },
           "mode": "markers",
           "name": "CSS",
           "text": [
            "CSS"
           ],
           "type": "scatter",
           "x": [
            3
           ],
           "y": [
            49.5
           ]
          },
          {
           "marker": {
            "size": [
             12967.533333333335
            ],
            "sizemode": "area",
            "sizeref": 30
           },
           "mode": "markers",
           "name": "HTML",
           "text": [
            "HTML"
           ],
           "type": "scatter",
           "x": [
            9
           ],
           "y": [
            152.73333333333335
           ]
          },
          {
           "marker": {
            "size": [
             10862.130208333334
            ],
            "sizemode": "area",
            "sizeref": 30
           },
           "mode": "markers",
           "name": "Java",
           "text": [
            "Java"
           ],
           "type": "scatter",
           "x": [
            40
           ],
           "y": [
            117.84375
           ]
          },
          {
           "marker": {
            "size": [
             64441.2859375
            ],
            "sizemode": "area",
            "sizeref": 30
           },
           "mode": "markers",
           "name": "JavaScript",
           "text": [
            "JavaScript"
           ],
           "type": "scatter",
           "x": [
            26
           ],
           "y": [
            338.9833333333333
           ]
          },
          {
           "marker": {
            "size": [
             187
            ],
            "sizemode": "area",
            "sizeref": 30
           },
           "mode": "markers",
           "name": "OCaml",
           "text": [
            "OCaml"
           ],
           "type": "scatter",
           "x": [
            1
           ],
           "y": [
            1
           ]
          },
          {
           "marker": {
            "size": [
             11044.8125
            ],
            "sizemode": "area",
            "sizeref": 30
           },
           "mode": "markers",
           "name": "Objective-C",
           "text": [
            "Objective-C"
           ],
           "type": "scatter",
           "x": [
            2
           ],
           "y": [
            28
           ]
          },
          {
           "marker": {
            "size": [
             100415.625
            ],
            "sizemode": "area",
            "sizeref": 30
           },
           "mode": "markers",
           "name": "Ruby",
           "text": [
            "Ruby"
           ],
           "type": "scatter",
           "x": [
            7
           ],
           "y": [
            348.5
           ]
          },
          {
           "marker": {
            "size": [
             7380.25
            ],
            "sizemode": "area",
            "sizeref": 30
           },
           "mode": "markers",
           "name": "Rust",
           "text": [
            "Rust"
           ],
           "type": "scatter",
           "x": [
            3
           ],
           "y": [
            134.5
           ]
          },
          {
           "marker": {
            "size": [
             83627.23214285714
            ],
            "sizemode": "area",
            "sizeref": 30
           },
           "mode": "markers",
           "name": "Shell",
           "text": [
            "Shell"
           ],
           "type": "scatter",
           "x": [
            19
           ],
           "y": [
            22.40714285714286
           ]
          },
          {
           "marker": {
            "size": [
             5450
            ],
            "sizemode": "area",
            "sizeref": 30
           },
           "mode": "markers",
           "name": "Swift",
           "text": [
            "Swift"
           ],
           "type": "scatter",
           "x": [
            2
           ],
           "y": [
            56
           ]
          }
         ],
         "name": "6"
        },
        {
         "data": [
          {
           "marker": {
            "size": [
             20973.307291666668
            ],
            "sizemode": "area",
            "sizeref": 30
           },
           "mode": "markers",
           "name": "C",
           "text": [
            "C"
           ],
           "type": "scatter",
           "x": [
            9
           ],
           "y": [
            168.5
           ]
          },
          {
           "marker": {
            "size": [
             29257.875
            ],
            "sizemode": "area",
            "sizeref": 30
           },
           "mode": "markers",
           "name": "C#",
           "text": [
            "C#"
           ],
           "type": "scatter",
           "x": [
            1
           ],
           "y": [
            118
           ]
          },
          {
           "marker": {
            "size": [
             43320
            ],
            "sizemode": "area",
            "sizeref": 30
           },
           "mode": "markers",
           "name": "C++",
           "text": [
            "C++"
           ],
           "type": "scatter",
           "x": [
            5
           ],
           "y": [
            144.66666666666666
           ]
          },
          {
           "marker": {
            "size": [
             4333.796875
            ],
            "sizemode": "area",
            "sizeref": 30
           },
           "mode": "markers",
           "name": "CSS",
           "text": [
            "CSS"
           ],
           "type": "scatter",
           "x": [
            3
           ],
           "y": [
            49.5
           ]
          },
          {
           "marker": {
            "size": [
             6827.766666666667
            ],
            "sizemode": "area",
            "sizeref": 30
           },
           "mode": "markers",
           "name": "HTML",
           "text": [
            "HTML"
           ],
           "type": "scatter",
           "x": [
            10
           ],
           "y": [
            155.73333333333335
           ]
          },
          {
           "marker": {
            "size": [
             5431.065104166667
            ],
            "sizemode": "area",
            "sizeref": 30
           },
           "mode": "markers",
           "name": "Java",
           "text": [
            "Java"
           ],
           "type": "scatter",
           "x": [
            40
           ],
           "y": [
            117.84375
           ]
          },
          {
           "marker": {
            "size": [
             32220.64296875
            ],
            "sizemode": "area",
            "sizeref": 30
           },
           "mode": "markers",
           "name": "JavaScript",
           "text": [
            "JavaScript"
           ],
           "type": "scatter",
           "x": [
            26
           ],
           "y": [
            338.9833333333333
           ]
          },
          {
           "marker": {
            "size": [
             5518.833333333333
            ],
            "sizemode": "area",
            "sizeref": 30
           },
           "mode": "markers",
           "name": "OCaml",
           "text": [
            "OCaml"
           ],
           "type": "scatter",
           "x": [
            4
           ],
           "y": [
            2.333333333333333
           ]
          },
          {
           "marker": {
            "size": [
             5522.40625
            ],
            "sizemode": "area",
            "sizeref": 30
           },
           "mode": "markers",
           "name": "Objective-C",
           "text": [
            "Objective-C"
           ],
           "type": "scatter",
           "x": [
            2
           ],
           "y": [
            28
           ]
          },
          {
           "marker": {
            "size": [
             50207.8125
            ],
            "sizemode": "area",
            "sizeref": 30
           },
           "mode": "markers",
           "name": "Ruby",
           "text": [
            "Ruby"
           ],
           "type": "scatter",
           "x": [
            7
           ],
           "y": [
            348.5
           ]
          },
          {
           "marker": {
            "size": [
             3690.125
            ],
            "sizemode": "area",
            "sizeref": 30
           },
           "mode": "markers",
           "name": "Rust",
           "text": [
            "Rust"
           ],
           "type": "scatter",
           "x": [
            3
           ],
           "y": [
            134.5
           ]
          },
          {
           "marker": {
            "size": [
             114578.61607142858
            ],
            "sizemode": "area",
            "sizeref": 30
           },
           "mode": "markers",
           "name": "Shell",
           "text": [
            "Shell"
           ],
           "type": "scatter",
           "x": [
            20
           ],
           "y": [
            348.40714285714284
           ]
          },
          {
           "marker": {
            "size": [
             2725
            ],
            "sizemode": "area",
            "sizeref": 30
           },
           "mode": "markers",
           "name": "Swift",
           "text": [
            "Swift"
           ],
           "type": "scatter",
           "x": [
            2
           ],
           "y": [
            56
           ]
          }
         ],
         "name": "7"
        },
        {
         "data": [
          {
           "marker": {
            "size": [
             10486.653645833334
            ],
            "sizemode": "area",
            "sizeref": 30
           },
           "mode": "markers",
           "name": "C",
           "text": [
            "C"
           ],
           "type": "scatter",
           "x": [
            9
           ],
           "y": [
            168.5
           ]
          },
          {
           "marker": {
            "size": [
             14628.9375
            ],
            "sizemode": "area",
            "sizeref": 30
           },
           "mode": "markers",
           "name": "C#",
           "text": [
            "C#"
           ],
           "type": "scatter",
           "x": [
            1
           ],
           "y": [
            118
           ]
          },
          {
           "marker": {
            "size": [
             21979
            ],
            "sizemode": "area",
            "sizeref": 30
           },
           "mode": "markers",
           "name": "C++",
           "text": [
            "C++"
           ],
           "type": "scatter",
           "x": [
            6
           ],
           "y": [
            145.66666666666666
           ]
          },
          {
           "marker": {
            "size": [
             2166.8984375
            ],
            "sizemode": "area",
            "sizeref": 30
           },
           "mode": "markers",
           "name": "CSS",
           "text": [
            "CSS"
           ],
           "type": "scatter",
           "x": [
            3
           ],
           "y": [
            49.5
           ]
          },
          {
           "marker": {
            "size": [
             3413.8833333333337
            ],
            "sizemode": "area",
            "sizeref": 30
           },
           "mode": "markers",
           "name": "HTML",
           "text": [
            "HTML"
           ],
           "type": "scatter",
           "x": [
            10
           ],
           "y": [
            155.73333333333335
           ]
          },
          {
           "marker": {
            "size": [
             2715.5325520833335
            ],
            "sizemode": "area",
            "sizeref": 30
           },
           "mode": "markers",
           "name": "Java",
           "text": [
            "Java"
           ],
           "type": "scatter",
           "x": [
            40
           ],
           "y": [
            117.84375
           ]
          },
          {
           "marker": {
            "size": [
             20806.321484375
            ],
            "sizemode": "area",
            "sizeref": 30
           },
           "mode": "markers",
           "name": "JavaScript",
           "text": [
            "JavaScript"
           ],
           "type": "scatter",
           "x": [
            27
           ],
           "y": [
            339.9833333333333
           ]
          },
          {
           "marker": {
            "size": [
             3736.4166666666665
            ],
            "sizemode": "area",
            "sizeref": 30
           },
           "mode": "markers",
           "name": "OCaml",
           "text": [
            "OCaml"
           ],
           "type": "scatter",
           "x": [
            5
           ],
           "y": [
            3.333333333333333
           ]
          },
          {
           "marker": {
            "size": [
             2761.203125
            ],
            "sizemode": "area",
            "sizeref": 30
           },
           "mode": "markers",
           "name": "Objective-C",
           "text": [
            "Objective-C"
           ],
           "type": "scatter",
           "x": [
            2
           ],
           "y": [
            28
           ]
          },
          {
           "marker": {
            "size": [
             25103.90625
            ],
            "sizemode": "area",
            "sizeref": 30
           },
           "mode": "markers",
           "name": "Ruby",
           "text": [
            "Ruby"
           ],
           "type": "scatter",
           "x": [
            7
           ],
           "y": [
            348.5
           ]
          },
          {
           "marker": {
            "size": [
             1845.0625
            ],
            "sizemode": "area",
            "sizeref": 30
           },
           "mode": "markers",
           "name": "Rust",
           "text": [
            "Rust"
           ],
           "type": "scatter",
           "x": [
            3
           ],
           "y": [
            134.5
           ]
          },
          {
           "marker": {
            "size": [
             57289.30803571429
            ],
            "sizemode": "area",
            "sizeref": 30
           },
           "mode": "markers",
           "name": "Shell",
           "text": [
            "Shell"
           ],
           "type": "scatter",
           "x": [
            20
           ],
           "y": [
            348.40714285714284
           ]
          },
          {
           "marker": {
            "size": [
             1362.5
            ],
            "sizemode": "area",
            "sizeref": 30
           },
           "mode": "markers",
           "name": "Swift",
           "text": [
            "Swift"
           ],
           "type": "scatter",
           "x": [
            2
           ],
           "y": [
            56
           ]
          }
         ],
         "name": "8"
        },
        {
         "data": [
          {
           "marker": {
            "size": [
             104
            ],
            "sizemode": "area",
            "sizeref": 30
           },
           "mode": "markers",
           "name": "C",
           "text": [
            "C"
           ],
           "type": "scatter",
           "x": [
            1
           ],
           "y": [
            1
           ]
          },
          {
           "marker": {
            "size": [
             0
            ],
            "sizemode": "area",
            "sizeref": 30
           },
           "mode": "markers",
           "name": "C#",
           "text": [
            "C#"
           ],
           "type": "scatter",
           "x": [
            0
           ],
           "y": [
            0
           ]
          },
          {
           "marker": {
            "size": [
             0
            ],
            "sizemode": "area",
            "sizeref": 30
           },
           "mode": "markers",
           "name": "C++",
           "text": [
            "C++"
           ],
           "type": "scatter",
           "x": [
            0
           ],
           "y": [
            0
           ]
          },
          {
           "marker": {
            "size": [
             0
            ],
            "sizemode": "area",
            "sizeref": 30
           },
           "mode": "markers",
           "name": "CSS",
           "text": [
            "CSS"
           ],
           "type": "scatter",
           "x": [
            0
           ],
           "y": [
            0
           ]
          },
          {
           "marker": {
            "size": [
             0
            ],
            "sizemode": "area",
            "sizeref": 30
           },
           "mode": "markers",
           "name": "HTML",
           "text": [
            "HTML"
           ],
           "type": "scatter",
           "x": [
            0
           ],
           "y": [
            0
           ]
          },
          {
           "marker": {
            "size": [
             0
            ],
            "sizemode": "area",
            "sizeref": 30
           },
           "mode": "markers",
           "name": "Java",
           "text": [
            "Java"
           ],
           "type": "scatter",
           "x": [
            0
           ],
           "y": [
            0
           ]
          },
          {
           "marker": {
            "size": [
             18081.5
            ],
            "sizemode": "area",
            "sizeref": 30
           },
           "mode": "markers",
           "name": "JavaScript",
           "text": [
            "JavaScript"
           ],
           "type": "scatter",
           "x": [
            4
           ],
           "y": [
            4.5
           ]
          },
          {
           "marker": {
            "size": [
             0
            ],
            "sizemode": "area",
            "sizeref": 30
           },
           "mode": "markers",
           "name": "OCaml",
           "text": [
            "OCaml"
           ],
           "type": "scatter",
           "x": [
            0
           ],
           "y": [
            0
           ]
          },
          {
           "marker": {
            "size": [
             0
            ],
            "sizemode": "area",
            "sizeref": 30
           },
           "mode": "markers",
           "name": "Objective-C",
           "text": [
            "Objective-C"
           ],
           "type": "scatter",
           "x": [
            0
           ],
           "y": [
            0
           ]
          },
          {
           "marker": {
            "size": [
             0
            ],
            "sizemode": "area",
            "sizeref": 30
           },
           "mode": "markers",
           "name": "Ruby",
           "text": [
            "Ruby"
           ],
           "type": "scatter",
           "x": [
            0
           ],
           "y": [
            0
           ]
          },
          {
           "marker": {
            "size": [
             0
            ],
            "sizemode": "area",
            "sizeref": 30
           },
           "mode": "markers",
           "name": "Rust",
           "text": [
            "Rust"
           ],
           "type": "scatter",
           "x": [
            0
           ],
           "y": [
            0
           ]
          },
          {
           "marker": {
            "size": [
             0
            ],
            "sizemode": "area",
            "sizeref": 30
           },
           "mode": "markers",
           "name": "Shell",
           "text": [
            "Shell"
           ],
           "type": "scatter",
           "x": [
            0
           ],
           "y": [
            0
           ]
          },
          {
           "marker": {
            "size": [
             0
            ],
            "sizemode": "area",
            "sizeref": 30
           },
           "mode": "markers",
           "name": "Swift",
           "text": [
            "Swift"
           ],
           "type": "scatter",
           "x": [
            0
           ],
           "y": [
            0
           ]
          }
         ],
         "name": "0"
        },
        {
         "data": [
          {
           "marker": {
            "size": [
             52
            ],
            "sizemode": "area",
            "sizeref": 30
           },
           "mode": "markers",
           "name": "C",
           "text": [
            "C"
           ],
           "type": "scatter",
           "x": [
            1
           ],
           "y": [
            1
           ]
          },
          {
           "marker": {
            "size": [
             0
            ],
            "sizemode": "area",
            "sizeref": 30
           },
           "mode": "markers",
           "name": "C#",
           "text": [
            "C#"
           ],
           "type": "scatter",
           "x": [
            0
           ],
           "y": [
            0
           ]
          },
          {
           "marker": {
            "size": [
             0
            ],
            "sizemode": "area",
            "sizeref": 30
           },
           "mode": "markers",
           "name": "C++",
           "text": [
            "C++"
           ],
           "type": "scatter",
           "x": [
            0
           ],
           "y": [
            0
           ]
          },
          {
           "marker": {
            "size": [
             2371
            ],
            "sizemode": "area",
            "sizeref": 30
           },
           "mode": "markers",
           "name": "CSS",
           "text": [
            "CSS"
           ],
           "type": "scatter",
           "x": [
            1
           ],
           "y": [
            4
           ]
          },
          {
           "marker": {
            "size": [
             0
            ],
            "sizemode": "area",
            "sizeref": 30
           },
           "mode": "markers",
           "name": "HTML",
           "text": [
            "HTML"
           ],
           "type": "scatter",
           "x": [
            0
           ],
           "y": [
            0
           ]
          },
          {
           "marker": {
            "size": [
             112
            ],
            "sizemode": "area",
            "sizeref": 30
           },
           "mode": "markers",
           "name": "Java",
           "text": [
            "Java"
           ],
           "type": "scatter",
           "x": [
            1
           ],
           "y": [
            1
           ]
          },
          {
           "marker": {
            "size": [
             9040.75
            ],
            "sizemode": "area",
            "sizeref": 30
           },
           "mode": "markers",
           "name": "JavaScript",
           "text": [
            "JavaScript"
           ],
           "type": "scatter",
           "x": [
            4
           ],
           "y": [
            4.5
           ]
          },
          {
           "marker": {
            "size": [
             0
            ],
            "sizemode": "area",
            "sizeref": 30
           },
           "mode": "markers",
           "name": "OCaml",
           "text": [
            "OCaml"
           ],
           "type": "scatter",
           "x": [
            0
           ],
           "y": [
            0
           ]
          },
          {
           "marker": {
            "size": [
             0
            ],
            "sizemode": "area",
            "sizeref": 30
           },
           "mode": "markers",
           "name": "Objective-C",
           "text": [
            "Objective-C"
           ],
           "type": "scatter",
           "x": [
            0
           ],
           "y": [
            0
           ]
          },
          {
           "marker": {
            "size": [
             124
            ],
            "sizemode": "area",
            "sizeref": 30
           },
           "mode": "markers",
           "name": "Ruby",
           "text": [
            "Ruby"
           ],
           "type": "scatter",
           "x": [
            1
           ],
           "y": [
            1
           ]
          },
          {
           "marker": {
            "size": [
             0
            ],
            "sizemode": "area",
            "sizeref": 30
           },
           "mode": "markers",
           "name": "Rust",
           "text": [
            "Rust"
           ],
           "type": "scatter",
           "x": [
            0
           ],
           "y": [
            0
           ]
          },
          {
           "marker": {
            "size": [
             108
            ],
            "sizemode": "area",
            "sizeref": 30
           },
           "mode": "markers",
           "name": "Shell",
           "text": [
            "Shell"
           ],
           "type": "scatter",
           "x": [
            1
           ],
           "y": [
            1
           ]
          },
          {
           "marker": {
            "size": [
             0
            ],
            "sizemode": "area",
            "sizeref": 30
           },
           "mode": "markers",
           "name": "Swift",
           "text": [
            "Swift"
           ],
           "type": "scatter",
           "x": [
            0
           ],
           "y": [
            0
           ]
          }
         ],
         "name": "1"
        },
        {
         "data": [
          {
           "marker": {
            "size": [
             18020.5
            ],
            "sizemode": "area",
            "sizeref": 30
           },
           "mode": "markers",
           "name": "C",
           "text": [
            "C"
           ],
           "type": "scatter",
           "x": [
            3
           ],
           "y": [
            63.5
           ]
          },
          {
           "marker": {
            "size": [
             0
            ],
            "sizemode": "area",
            "sizeref": 30
           },
           "mode": "markers",
           "name": "C#",
           "text": [
            "C#"
           ],
           "type": "scatter",
           "x": [
            0
           ],
           "y": [
            0
           ]
          },
          {
           "marker": {
            "size": [
             0
            ],
            "sizemode": "area",
            "sizeref": 30
           },
           "mode": "markers",
           "name": "C++",
           "text": [
            "C++"
           ],
           "type": "scatter",
           "x": [
            0
           ],
           "y": [
            0
           ]
          },
          {
           "marker": {
            "size": [
             1185.5
            ],
            "sizemode": "area",
            "sizeref": 30
           },
           "mode": "markers",
           "name": "CSS",
           "text": [
            "CSS"
           ],
           "type": "scatter",
           "x": [
            1
           ],
           "y": [
            4
           ]
          },
          {
           "marker": {
            "size": [
             0
            ],
            "sizemode": "area",
            "sizeref": 30
           },
           "mode": "markers",
           "name": "HTML",
           "text": [
            "HTML"
           ],
           "type": "scatter",
           "x": [
            0
           ],
           "y": [
            0
           ]
          },
          {
           "marker": {
            "size": [
             56
            ],
            "sizemode": "area",
            "sizeref": 30
           },
           "mode": "markers",
           "name": "Java",
           "text": [
            "Java"
           ],
           "type": "scatter",
           "x": [
            1
           ],
           "y": [
            1
           ]
          },
          {
           "marker": {
            "size": [
             5013.041666666667
            ],
            "sizemode": "area",
            "sizeref": 30
           },
           "mode": "markers",
           "name": "JavaScript",
           "text": [
            "JavaScript"
           ],
           "type": "scatter",
           "x": [
            7
           ],
           "y": [
            5.5
           ]
          },
          {
           "marker": {
            "size": [
             0
            ],
            "sizemode": "area",
            "sizeref": 30
           },
           "mode": "markers",
           "name": "OCaml",
           "text": [
            "OCaml"
           ],
           "type": "scatter",
           "x": [
            0
           ],
           "y": [
            0
           ]
          },
          {
           "marker": {
            "size": [
             2693
            ],
            "sizemode": "area",
            "sizeref": 30
           },
           "mode": "markers",
           "name": "Objective-C",
           "text": [
            "Objective-C"
           ],
           "type": "scatter",
           "x": [
            1
           ],
           "y": [
            23
           ]
          },
          {
           "marker": {
            "size": [
             62
            ],
            "sizemode": "area",
            "sizeref": 30
           },
           "mode": "markers",
           "name": "Ruby",
           "text": [
            "Ruby"
           ],
           "type": "scatter",
           "x": [
            1
           ],
           "y": [
            1
           ]
          },
          {
           "marker": {
            "size": [
             0
            ],
            "sizemode": "area",
            "sizeref": 30
           },
           "mode": "markers",
           "name": "Rust",
           "text": [
            "Rust"
           ],
           "type": "scatter",
           "x": [
            0
           ],
           "y": [
            0
           ]
          },
          {
           "marker": {
            "size": [
             533
            ],
            "sizemode": "area",
            "sizeref": 30
           },
           "mode": "markers",
           "name": "Shell",
           "text": [
            "Shell"
           ],
           "type": "scatter",
           "x": [
            2
           ],
           "y": [
            2
           ]
          },
          {
           "marker": {
            "size": [
             0
            ],
            "sizemode": "area",
            "sizeref": 30
           },
           "mode": "markers",
           "name": "Swift",
           "text": [
            "Swift"
           ],
           "type": "scatter",
           "x": [
            0
           ],
           "y": [
            0
           ]
          }
         ],
         "name": "2"
        },
        {
         "data": [
          {
           "marker": {
            "size": [
             9010.25
            ],
            "sizemode": "area",
            "sizeref": 30
           },
           "mode": "markers",
           "name": "C",
           "text": [
            "C"
           ],
           "type": "scatter",
           "x": [
            3
           ],
           "y": [
            63.5
           ]
          },
          {
           "marker": {
            "size": [
             0
            ],
            "sizemode": "area",
            "sizeref": 30
           },
           "mode": "markers",
           "name": "C#",
           "text": [
            "C#"
           ],
           "type": "scatter",
           "x": [
            0
           ],
           "y": [
            0
           ]
          },
          {
           "marker": {
            "size": [
             0
            ],
            "sizemode": "area",
            "sizeref": 30
           },
           "mode": "markers",
           "name": "C++",
           "text": [
            "C++"
           ],
           "type": "scatter",
           "x": [
            0
           ],
           "y": [
            0
           ]
          },
          {
           "marker": {
            "size": [
             592.75
            ],
            "sizemode": "area",
            "sizeref": 30
           },
           "mode": "markers",
           "name": "CSS",
           "text": [
            "CSS"
           ],
           "type": "scatter",
           "x": [
            1
           ],
           "y": [
            4
           ]
          },
          {
           "marker": {
            "size": [
             0
            ],
            "sizemode": "area",
            "sizeref": 30
           },
           "mode": "markers",
           "name": "HTML",
           "text": [
            "HTML"
           ],
           "type": "scatter",
           "x": [
            0
           ],
           "y": [
            0
           ]
          },
          {
           "marker": {
            "size": [
             2012
            ],
            "sizemode": "area",
            "sizeref": 30
           },
           "mode": "markers",
           "name": "Java",
           "text": [
            "Java"
           ],
           "type": "scatter",
           "x": [
            2
           ],
           "y": [
            5
           ]
          },
          {
           "marker": {
            "size": [
             3981.1208333333334
            ],
            "sizemode": "area",
            "sizeref": 30
           },
           "mode": "markers",
           "name": "JavaScript",
           "text": [
            "JavaScript"
           ],
           "type": "scatter",
           "x": [
            12
           ],
           "y": [
            14.9
           ]
          },
          {
           "marker": {
            "size": [
             0
            ],
            "sizemode": "area",
            "sizeref": 30
           },
           "mode": "markers",
           "name": "OCaml",
           "text": [
            "OCaml"
           ],
           "type": "scatter",
           "x": [
            0
           ],
           "y": [
            0
           ]
          },
          {
           "marker": {
            "size": [
             1346.5
            ],
            "sizemode": "area",
            "sizeref": 30
           },
           "mode": "markers",
           "name": "Objective-C",
           "text": [
            "Objective-C"
           ],
           "type": "scatter",
           "x": [
            1
           ],
           "y": [
            23
           ]
          },
          {
           "marker": {
            "size": [
             31
            ],
            "sizemode": "area",
            "sizeref": 30
           },
           "mode": "markers",
           "name": "Ruby",
           "text": [
            "Ruby"
           ],
           "type": "scatter",
           "x": [
            1
           ],
           "y": [
            1
           ]
          },
          {
           "marker": {
            "size": [
             0
            ],
            "sizemode": "area",
            "sizeref": 30
           },
           "mode": "markers",
           "name": "Rust",
           "text": [
            "Rust"
           ],
           "type": "scatter",
           "x": [
            0
           ],
           "y": [
            0
           ]
          },
          {
           "marker": {
            "size": [
             313
            ],
            "sizemode": "area",
            "sizeref": 30
           },
           "mode": "markers",
           "name": "Shell",
           "text": [
            "Shell"
           ],
           "type": "scatter",
           "x": [
            6
           ],
           "y": [
            3.75
           ]
          },
          {
           "marker": {
            "size": [
             0
            ],
            "sizemode": "area",
            "sizeref": 30
           },
           "mode": "markers",
           "name": "Swift",
           "text": [
            "Swift"
           ],
           "type": "scatter",
           "x": [
            0
           ],
           "y": [
            0
           ]
          }
         ],
         "name": "3"
        },
        {
         "data": [
          {
           "marker": {
            "size": [
             4505.125
            ],
            "sizemode": "area",
            "sizeref": 30
           },
           "mode": "markers",
           "name": "C",
           "text": [
            "C"
           ],
           "type": "scatter",
           "x": [
            3
           ],
           "y": [
            63.5
           ]
          },
          {
           "marker": {
            "size": [
             234063
            ],
            "sizemode": "area",
            "sizeref": 30
           },
           "mode": "markers",
           "name": "C#",
           "text": [
            "C#"
           ],
           "type": "scatter",
           "x": [
            1
           ],
           "y": [
            118
           ]
          },
          {
           "marker": {
            "size": [
             163184
            ],
            "sizemode": "area",
            "sizeref": 30
           },
           "mode": "markers",
           "name": "C++",
           "text": [
            "C++"
           ],
           "type": "scatter",
           "x": [
            2
           ],
           "y": [
            124
           ]
          },
          {
           "marker": {
            "size": [
             296.375
            ],
            "sizemode": "area",
            "sizeref": 30
           },
           "mode": "markers",
           "name": "CSS",
           "text": [
            "CSS"
           ],
           "type": "scatter",
           "x": [
            1
           ],
           "y": [
            4
           ]
          },
          {
           "marker": {
            "size": [
             1131.3333333333333
            ],
            "sizemode": "area",
            "sizeref": 30
           },
           "mode": "markers",
           "name": "HTML",
           "text": [
            "HTML"
           ],
           "type": "scatter",
           "x": [
            3
           ],
           "y": [
            43.333333333333336
           ]
          },
          {
           "marker": {
            "size": [
             1139.1875
            ],
            "sizemode": "area",
            "sizeref": 30
           },
           "mode": "markers",
           "name": "Java",
           "text": [
            "Java"
           ],
           "type": "scatter",
           "x": [
            34
           ],
           "y": [
            11.84375
           ]
          },
          {
           "marker": {
            "size": [
             176663.22708333333
            ],
            "sizemode": "area",
            "sizeref": 30
           },
           "mode": "markers",
           "name": "JavaScript",
           "text": [
            "JavaScript"
           ],
           "type": "scatter",
           "x": [
            15
           ],
           "y": [
            273.2333333333333
           ]
          },
          {
           "marker": {
            "size": [
             0
            ],
            "sizemode": "area",
            "sizeref": 30
           },
           "mode": "markers",
           "name": "OCaml",
           "text": [
            "OCaml"
           ],
           "type": "scatter",
           "x": [
            0
           ],
           "y": [
            0
           ]
          },
          {
           "marker": {
            "size": [
             673.25
            ],
            "sizemode": "area",
            "sizeref": 30
           },
           "mode": "markers",
           "name": "Objective-C",
           "text": [
            "Objective-C"
           ],
           "type": "scatter",
           "x": [
            1
           ],
           "y": [
            23
           ]
          },
          {
           "marker": {
            "size": [
             15.5
            ],
            "sizemode": "area",
            "sizeref": 30
           },
           "mode": "markers",
           "name": "Ruby",
           "text": [
            "Ruby"
           ],
           "type": "scatter",
           "x": [
            1
           ],
           "y": [
            1
           ]
          },
          {
           "marker": {
            "size": [
             0
            ],
            "sizemode": "area",
            "sizeref": 30
           },
           "mode": "markers",
           "name": "Rust",
           "text": [
            "Rust"
           ],
           "type": "scatter",
           "x": [
            0
           ],
           "y": [
            0
           ]
          },
          {
           "marker": {
            "size": [
             3421.5
            ],
            "sizemode": "area",
            "sizeref": 30
           },
           "mode": "markers",
           "name": "Shell",
           "text": [
            "Shell"
           ],
           "type": "scatter",
           "x": [
            11
           ],
           "y": [
            10.55
           ]
          },
          {
           "marker": {
            "size": [
             0
            ],
            "sizemode": "area",
            "sizeref": 30
           },
           "mode": "markers",
           "name": "Swift",
           "text": [
            "Swift"
           ],
           "type": "scatter",
           "x": [
            0
           ],
           "y": [
            0
           ]
          }
         ],
         "name": "4"
        },
        {
         "data": [
          {
           "marker": {
            "size": [
             2252.5625
            ],
            "sizemode": "area",
            "sizeref": 30
           },
           "mode": "markers",
           "name": "C",
           "text": [
            "C"
           ],
           "type": "scatter",
           "x": [
            3
           ],
           "y": [
            63.5
           ]
          },
          {
           "marker": {
            "size": [
             117031.5
            ],
            "sizemode": "area",
            "sizeref": 30
           },
           "mode": "markers",
           "name": "C#",
           "text": [
            "C#"
           ],
           "type": "scatter",
           "x": [
            1
           ],
           "y": [
            118
           ]
          },
          {
           "marker": {
            "size": [
             81592
            ],
            "sizemode": "area",
            "sizeref": 30
           },
           "mode": "markers",
           "name": "C++",
           "text": [
            "C++"
           ],
           "type": "scatter",
           "x": [
            2
           ],
           "y": [
            124
           ]
          },
          {
           "marker": {
            "size": [
             17335.1875
            ],
            "sizemode": "area",
            "sizeref": 30
           },
           "mode": "markers",
           "name": "CSS",
           "text": [
            "CSS"
           ],
           "type": "scatter",
           "x": [
            3
           ],
           "y": [
            49.5
           ]
          },
          {
           "marker": {
            "size": [
             2596.6666666666665
            ],
            "sizemode": "area",
            "sizeref": 30
           },
           "mode": "markers",
           "name": "HTML",
           "text": [
            "HTML"
           ],
           "type": "scatter",
           "x": [
            4
           ],
           "y": [
            135.33333333333334
           ]
          },
          {
           "marker": {
            "size": [
             21724.260416666668
            ],
            "sizemode": "area",
            "sizeref": 30
           },
           "mode": "markers",
           "name": "Java",
           "text": [
            "Java"
           ],
           "type": "scatter",
           "x": [
            40
           ],
           "y": [
            117.84375
           ]
          },
          {
           "marker": {
            "size": [
             122807.23854166667
            ],
            "sizemode": "area",
            "sizeref": 30
           },
           "mode": "markers",
           "name": "JavaScript",
           "text": [
            "JavaScript"
           ],
           "type": "scatter",
           "x": [
            23
           ],
           "y": [
            299.9833333333333
           ]
          },
          {
           "marker": {
            "size": [
             0
            ],
            "sizemode": "area",
            "sizeref": 30
           },
           "mode": "markers",
           "name": "OCaml",
           "text": [
            "OCaml"
           ],
           "type": "scatter",
           "x": [
            0
           ],
           "y": [
            0
           ]
          },
          {
           "marker": {
            "size": [
             22089.625
            ],
            "sizemode": "area",
            "sizeref": 30
           },
           "mode": "markers",
           "name": "Objective-C",
           "text": [
            "Objective-C"
           ],
           "type": "scatter",
           "x": [
            2
           ],
           "y": [
            28
           ]
          },
          {
           "marker": {
            "size": [
             1109.25
            ],
            "sizemode": "area",
            "sizeref": 30
           },
           "mode": "markers",
           "name": "Ruby",
           "text": [
            "Ruby"
           ],
           "type": "scatter",
           "x": [
            3
           ],
           "y": [
            17
           ]
          },
          {
           "marker": {
            "size": [
             138.5
            ],
            "sizemode": "area",
            "sizeref": 30
           },
           "mode": "markers",
           "name": "Rust",
           "text": [
            "Rust"
           ],
           "type": "scatter",
           "x": [
            2
           ],
           "y": [
            15.5
           ]
          },
          {
           "marker": {
            "size": [
             3662.464285714286
            ],
            "sizemode": "area",
            "sizeref": 30
           },
           "mode": "markers",
           "name": "Shell",
           "text": [
            "Shell"
           ],
           "type": "scatter",
           "x": [
            18
           ],
           "y": [
            14.407142857142858
           ]
          },
          {
           "marker": {
            "size": [
             2128
            ],
            "sizemode": "area",
            "sizeref": 30
           },
           "mode": "markers",
           "name": "Swift",
           "text": [
            "Swift"
           ],
           "type": "scatter",
           "x": [
            1
           ],
           "y": [
            1
           ]
          }
         ],
         "name": "5"
        },
        {
         "data": [
          {
           "marker": {
            "size": [
             41946.614583333336
            ],
            "sizemode": "area",
            "sizeref": 30
           },
           "mode": "markers",
           "name": "C",
           "text": [
            "C"
           ],
           "type": "scatter",
           "x": [
            9
           ],
           "y": [
            168.5
           ]
          },
          {
           "marker": {
            "size": [
             58515.75
            ],
            "sizemode": "area",
            "sizeref": 30
           },
           "mode": "markers",
           "name": "C#",
           "text": [
            "C#"
           ],
           "type": "scatter",
           "x": [
            1
           ],
           "y": [
            118
           ]
          },
          {
           "marker": {
            "size": [
             86640
            ],
            "sizemode": "area",
            "sizeref": 30
           },
           "mode": "markers",
           "name": "C++",
           "text": [
            "C++"
           ],
           "type": "scatter",
           "x": [
            5
           ],
           "y": [
            144.66666666666666
           ]
          },
          {
           "marker": {
            "size": [
             8667.59375
            ],
            "sizemode": "area",
            "sizeref": 30
           },
           "mode": "markers",
           "name": "CSS",
           "text": [
            "CSS"
           ],
           "type": "scatter",
           "x": [
            3
           ],
           "y": [
            49.5
           ]
          },
          {
           "marker": {
            "size": [
             12967.533333333335
            ],
            "sizemode": "area",
            "sizeref": 30
           },
           "mode": "markers",
           "name": "HTML",
           "text": [
            "HTML"
           ],
           "type": "scatter",
           "x": [
            9
           ],
           "y": [
            152.73333333333335
           ]
          },
          {
           "marker": {
            "size": [
             10862.130208333334
            ],
            "sizemode": "area",
            "sizeref": 30
           },
           "mode": "markers",
           "name": "Java",
           "text": [
            "Java"
           ],
           "type": "scatter",
           "x": [
            40
           ],
           "y": [
            117.84375
           ]
          },
          {
           "marker": {
            "size": [
             64441.2859375
            ],
            "sizemode": "area",
            "sizeref": 30
           },
           "mode": "markers",
           "name": "JavaScript",
           "text": [
            "JavaScript"
           ],
           "type": "scatter",
           "x": [
            26
           ],
           "y": [
            338.9833333333333
           ]
          },
          {
           "marker": {
            "size": [
             187
            ],
            "sizemode": "area",
            "sizeref": 30
           },
           "mode": "markers",
           "name": "OCaml",
           "text": [
            "OCaml"
           ],
           "type": "scatter",
           "x": [
            1
           ],
           "y": [
            1
           ]
          },
          {
           "marker": {
            "size": [
             11044.8125
            ],
            "sizemode": "area",
            "sizeref": 30
           },
           "mode": "markers",
           "name": "Objective-C",
           "text": [
            "Objective-C"
           ],
           "type": "scatter",
           "x": [
            2
           ],
           "y": [
            28
           ]
          },
          {
           "marker": {
            "size": [
             100415.625
            ],
            "sizemode": "area",
            "sizeref": 30
           },
           "mode": "markers",
           "name": "Ruby",
           "text": [
            "Ruby"
           ],
           "type": "scatter",
           "x": [
            7
           ],
           "y": [
            348.5
           ]
          },
          {
           "marker": {
            "size": [
             7380.25
            ],
            "sizemode": "area",
            "sizeref": 30
           },
           "mode": "markers",
           "name": "Rust",
           "text": [
            "Rust"
           ],
           "type": "scatter",
           "x": [
            3
           ],
           "y": [
            134.5
           ]
          },
          {
           "marker": {
            "size": [
             83627.23214285714
            ],
            "sizemode": "area",
            "sizeref": 30
           },
           "mode": "markers",
           "name": "Shell",
           "text": [
            "Shell"
           ],
           "type": "scatter",
           "x": [
            19
           ],
           "y": [
            22.40714285714286
           ]
          },
          {
           "marker": {
            "size": [
             5450
            ],
            "sizemode": "area",
            "sizeref": 30
           },
           "mode": "markers",
           "name": "Swift",
           "text": [
            "Swift"
           ],
           "type": "scatter",
           "x": [
            2
           ],
           "y": [
            56
           ]
          }
         ],
         "name": "6"
        },
        {
         "data": [
          {
           "marker": {
            "size": [
             20973.307291666668
            ],
            "sizemode": "area",
            "sizeref": 30
           },
           "mode": "markers",
           "name": "C",
           "text": [
            "C"
           ],
           "type": "scatter",
           "x": [
            9
           ],
           "y": [
            168.5
           ]
          },
          {
           "marker": {
            "size": [
             29257.875
            ],
            "sizemode": "area",
            "sizeref": 30
           },
           "mode": "markers",
           "name": "C#",
           "text": [
            "C#"
           ],
           "type": "scatter",
           "x": [
            1
           ],
           "y": [
            118
           ]
          },
          {
           "marker": {
            "size": [
             43320
            ],
            "sizemode": "area",
            "sizeref": 30
           },
           "mode": "markers",
           "name": "C++",
           "text": [
            "C++"
           ],
           "type": "scatter",
           "x": [
            5
           ],
           "y": [
            144.66666666666666
           ]
          },
          {
           "marker": {
            "size": [
             4333.796875
            ],
            "sizemode": "area",
            "sizeref": 30
           },
           "mode": "markers",
           "name": "CSS",
           "text": [
            "CSS"
           ],
           "type": "scatter",
           "x": [
            3
           ],
           "y": [
            49.5
           ]
          },
          {
           "marker": {
            "size": [
             6827.766666666667
            ],
            "sizemode": "area",
            "sizeref": 30
           },
           "mode": "markers",
           "name": "HTML",
           "text": [
            "HTML"
           ],
           "type": "scatter",
           "x": [
            10
           ],
           "y": [
            155.73333333333335
           ]
          },
          {
           "marker": {
            "size": [
             5431.065104166667
            ],
            "sizemode": "area",
            "sizeref": 30
           },
           "mode": "markers",
           "name": "Java",
           "text": [
            "Java"
           ],
           "type": "scatter",
           "x": [
            40
           ],
           "y": [
            117.84375
           ]
          },
          {
           "marker": {
            "size": [
             32220.64296875
            ],
            "sizemode": "area",
            "sizeref": 30
           },
           "mode": "markers",
           "name": "JavaScript",
           "text": [
            "JavaScript"
           ],
           "type": "scatter",
           "x": [
            26
           ],
           "y": [
            338.9833333333333
           ]
          },
          {
           "marker": {
            "size": [
             5518.833333333333
            ],
            "sizemode": "area",
            "sizeref": 30
           },
           "mode": "markers",
           "name": "OCaml",
           "text": [
            "OCaml"
           ],
           "type": "scatter",
           "x": [
            4
           ],
           "y": [
            2.333333333333333
           ]
          },
          {
           "marker": {
            "size": [
             5522.40625
            ],
            "sizemode": "area",
            "sizeref": 30
           },
           "mode": "markers",
           "name": "Objective-C",
           "text": [
            "Objective-C"
           ],
           "type": "scatter",
           "x": [
            2
           ],
           "y": [
            28
           ]
          },
          {
           "marker": {
            "size": [
             50207.8125
            ],
            "sizemode": "area",
            "sizeref": 30
           },
           "mode": "markers",
           "name": "Ruby",
           "text": [
            "Ruby"
           ],
           "type": "scatter",
           "x": [
            7
           ],
           "y": [
            348.5
           ]
          },
          {
           "marker": {
            "size": [
             3690.125
            ],
            "sizemode": "area",
            "sizeref": 30
           },
           "mode": "markers",
           "name": "Rust",
           "text": [
            "Rust"
           ],
           "type": "scatter",
           "x": [
            3
           ],
           "y": [
            134.5
           ]
          },
          {
           "marker": {
            "size": [
             114578.61607142858
            ],
            "sizemode": "area",
            "sizeref": 30
           },
           "mode": "markers",
           "name": "Shell",
           "text": [
            "Shell"
           ],
           "type": "scatter",
           "x": [
            20
           ],
           "y": [
            348.40714285714284
           ]
          },
          {
           "marker": {
            "size": [
             2725
            ],
            "sizemode": "area",
            "sizeref": 30
           },
           "mode": "markers",
           "name": "Swift",
           "text": [
            "Swift"
           ],
           "type": "scatter",
           "x": [
            2
           ],
           "y": [
            56
           ]
          }
         ],
         "name": "7"
        },
        {
         "data": [
          {
           "marker": {
            "size": [
             10486.653645833334
            ],
            "sizemode": "area",
            "sizeref": 30
           },
           "mode": "markers",
           "name": "C",
           "text": [
            "C"
           ],
           "type": "scatter",
           "x": [
            9
           ],
           "y": [
            168.5
           ]
          },
          {
           "marker": {
            "size": [
             14628.9375
            ],
            "sizemode": "area",
            "sizeref": 30
           },
           "mode": "markers",
           "name": "C#",
           "text": [
            "C#"
           ],
           "type": "scatter",
           "x": [
            1
           ],
           "y": [
            118
           ]
          },
          {
           "marker": {
            "size": [
             21979
            ],
            "sizemode": "area",
            "sizeref": 30
           },
           "mode": "markers",
           "name": "C++",
           "text": [
            "C++"
           ],
           "type": "scatter",
           "x": [
            6
           ],
           "y": [
            145.66666666666666
           ]
          },
          {
           "marker": {
            "size": [
             2166.8984375
            ],
            "sizemode": "area",
            "sizeref": 30
           },
           "mode": "markers",
           "name": "CSS",
           "text": [
            "CSS"
           ],
           "type": "scatter",
           "x": [
            3
           ],
           "y": [
            49.5
           ]
          },
          {
           "marker": {
            "size": [
             3413.8833333333337
            ],
            "sizemode": "area",
            "sizeref": 30
           },
           "mode": "markers",
           "name": "HTML",
           "text": [
            "HTML"
           ],
           "type": "scatter",
           "x": [
            10
           ],
           "y": [
            155.73333333333335
           ]
          },
          {
           "marker": {
            "size": [
             2715.5325520833335
            ],
            "sizemode": "area",
            "sizeref": 30
           },
           "mode": "markers",
           "name": "Java",
           "text": [
            "Java"
           ],
           "type": "scatter",
           "x": [
            40
           ],
           "y": [
            117.84375
           ]
          },
          {
           "marker": {
            "size": [
             20806.321484375
            ],
            "sizemode": "area",
            "sizeref": 30
           },
           "mode": "markers",
           "name": "JavaScript",
           "text": [
            "JavaScript"
           ],
           "type": "scatter",
           "x": [
            27
           ],
           "y": [
            339.9833333333333
           ]
          },
          {
           "marker": {
            "size": [
             3736.4166666666665
            ],
            "sizemode": "area",
            "sizeref": 30
           },
           "mode": "markers",
           "name": "OCaml",
           "text": [
            "OCaml"
           ],
           "type": "scatter",
           "x": [
            5
           ],
           "y": [
            3.333333333333333
           ]
          },
          {
           "marker": {
            "size": [
             2761.203125
            ],
            "sizemode": "area",
            "sizeref": 30
           },
           "mode": "markers",
           "name": "Objective-C",
           "text": [
            "Objective-C"
           ],
           "type": "scatter",
           "x": [
            2
           ],
           "y": [
            28
           ]
          },
          {
           "marker": {
            "size": [
             25103.90625
            ],
            "sizemode": "area",
            "sizeref": 30
           },
           "mode": "markers",
           "name": "Ruby",
           "text": [
            "Ruby"
           ],
           "type": "scatter",
           "x": [
            7
           ],
           "y": [
            348.5
           ]
          },
          {
           "marker": {
            "size": [
             1845.0625
            ],
            "sizemode": "area",
            "sizeref": 30
           },
           "mode": "markers",
           "name": "Rust",
           "text": [
            "Rust"
           ],
           "type": "scatter",
           "x": [
            3
           ],
           "y": [
            134.5
           ]
          },
          {
           "marker": {
            "size": [
             57289.30803571429
            ],
            "sizemode": "area",
            "sizeref": 30
           },
           "mode": "markers",
           "name": "Shell",
           "text": [
            "Shell"
           ],
           "type": "scatter",
           "x": [
            20
           ],
           "y": [
            348.40714285714284
           ]
          },
          {
           "marker": {
            "size": [
             1362.5
            ],
            "sizemode": "area",
            "sizeref": 30
           },
           "mode": "markers",
           "name": "Swift",
           "text": [
            "Swift"
           ],
           "type": "scatter",
           "x": [
            2
           ],
           "y": [
            56
           ]
          }
         ],
         "name": "8"
        },
        {
         "data": [
          {
           "marker": {
            "size": [
             104
            ],
            "sizemode": "area",
            "sizeref": 30
           },
           "mode": "markers",
           "name": "C",
           "text": [
            "C"
           ],
           "type": "scatter",
           "x": [
            1
           ],
           "y": [
            1
           ]
          },
          {
           "marker": {
            "size": [
             0
            ],
            "sizemode": "area",
            "sizeref": 30
           },
           "mode": "markers",
           "name": "C#",
           "text": [
            "C#"
           ],
           "type": "scatter",
           "x": [
            0
           ],
           "y": [
            0
           ]
          },
          {
           "marker": {
            "size": [
             0
            ],
            "sizemode": "area",
            "sizeref": 30
           },
           "mode": "markers",
           "name": "C++",
           "text": [
            "C++"
           ],
           "type": "scatter",
           "x": [
            0
           ],
           "y": [
            0
           ]
          },
          {
           "marker": {
            "size": [
             0
            ],
            "sizemode": "area",
            "sizeref": 30
           },
           "mode": "markers",
           "name": "CSS",
           "text": [
            "CSS"
           ],
           "type": "scatter",
           "x": [
            0
           ],
           "y": [
            0
           ]
          },
          {
           "marker": {
            "size": [
             0
            ],
            "sizemode": "area",
            "sizeref": 30
           },
           "mode": "markers",
           "name": "HTML",
           "text": [
            "HTML"
           ],
           "type": "scatter",
           "x": [
            0
           ],
           "y": [
            0
           ]
          },
          {
           "marker": {
            "size": [
             0
            ],
            "sizemode": "area",
            "sizeref": 30
           },
           "mode": "markers",
           "name": "Java",
           "text": [
            "Java"
           ],
           "type": "scatter",
           "x": [
            0
           ],
           "y": [
            0
           ]
          },
          {
           "marker": {
            "size": [
             18081.5
            ],
            "sizemode": "area",
            "sizeref": 30
           },
           "mode": "markers",
           "name": "JavaScript",
           "text": [
            "JavaScript"
           ],
           "type": "scatter",
           "x": [
            4
           ],
           "y": [
            4.5
           ]
          },
          {
           "marker": {
            "size": [
             0
            ],
            "sizemode": "area",
            "sizeref": 30
           },
           "mode": "markers",
           "name": "OCaml",
           "text": [
            "OCaml"
           ],
           "type": "scatter",
           "x": [
            0
           ],
           "y": [
            0
           ]
          },
          {
           "marker": {
            "size": [
             0
            ],
            "sizemode": "area",
            "sizeref": 30
           },
           "mode": "markers",
           "name": "Objective-C",
           "text": [
            "Objective-C"
           ],
           "type": "scatter",
           "x": [
            0
           ],
           "y": [
            0
           ]
          },
          {
           "marker": {
            "size": [
             0
            ],
            "sizemode": "area",
            "sizeref": 30
           },
           "mode": "markers",
           "name": "Ruby",
           "text": [
            "Ruby"
           ],
           "type": "scatter",
           "x": [
            0
           ],
           "y": [
            0
           ]
          },
          {
           "marker": {
            "size": [
             0
            ],
            "sizemode": "area",
            "sizeref": 30
           },
           "mode": "markers",
           "name": "Rust",
           "text": [
            "Rust"
           ],
           "type": "scatter",
           "x": [
            0
           ],
           "y": [
            0
           ]
          },
          {
           "marker": {
            "size": [
             0
            ],
            "sizemode": "area",
            "sizeref": 30
           },
           "mode": "markers",
           "name": "Shell",
           "text": [
            "Shell"
           ],
           "type": "scatter",
           "x": [
            0
           ],
           "y": [
            0
           ]
          },
          {
           "marker": {
            "size": [
             0
            ],
            "sizemode": "area",
            "sizeref": 30
           },
           "mode": "markers",
           "name": "Swift",
           "text": [
            "Swift"
           ],
           "type": "scatter",
           "x": [
            0
           ],
           "y": [
            0
           ]
          }
         ],
         "name": "0"
        },
        {
         "data": [
          {
           "marker": {
            "size": [
             52
            ],
            "sizemode": "area",
            "sizeref": 30
           },
           "mode": "markers",
           "name": "C",
           "text": [
            "C"
           ],
           "type": "scatter",
           "x": [
            1
           ],
           "y": [
            1
           ]
          },
          {
           "marker": {
            "size": [
             0
            ],
            "sizemode": "area",
            "sizeref": 30
           },
           "mode": "markers",
           "name": "C#",
           "text": [
            "C#"
           ],
           "type": "scatter",
           "x": [
            0
           ],
           "y": [
            0
           ]
          },
          {
           "marker": {
            "size": [
             0
            ],
            "sizemode": "area",
            "sizeref": 30
           },
           "mode": "markers",
           "name": "C++",
           "text": [
            "C++"
           ],
           "type": "scatter",
           "x": [
            0
           ],
           "y": [
            0
           ]
          },
          {
           "marker": {
            "size": [
             2371
            ],
            "sizemode": "area",
            "sizeref": 30
           },
           "mode": "markers",
           "name": "CSS",
           "text": [
            "CSS"
           ],
           "type": "scatter",
           "x": [
            1
           ],
           "y": [
            4
           ]
          },
          {
           "marker": {
            "size": [
             0
            ],
            "sizemode": "area",
            "sizeref": 30
           },
           "mode": "markers",
           "name": "HTML",
           "text": [
            "HTML"
           ],
           "type": "scatter",
           "x": [
            0
           ],
           "y": [
            0
           ]
          },
          {
           "marker": {
            "size": [
             112
            ],
            "sizemode": "area",
            "sizeref": 30
           },
           "mode": "markers",
           "name": "Java",
           "text": [
            "Java"
           ],
           "type": "scatter",
           "x": [
            1
           ],
           "y": [
            1
           ]
          },
          {
           "marker": {
            "size": [
             9040.75
            ],
            "sizemode": "area",
            "sizeref": 30
           },
           "mode": "markers",
           "name": "JavaScript",
           "text": [
            "JavaScript"
           ],
           "type": "scatter",
           "x": [
            4
           ],
           "y": [
            4.5
           ]
          },
          {
           "marker": {
            "size": [
             0
            ],
            "sizemode": "area",
            "sizeref": 30
           },
           "mode": "markers",
           "name": "OCaml",
           "text": [
            "OCaml"
           ],
           "type": "scatter",
           "x": [
            0
           ],
           "y": [
            0
           ]
          },
          {
           "marker": {
            "size": [
             0
            ],
            "sizemode": "area",
            "sizeref": 30
           },
           "mode": "markers",
           "name": "Objective-C",
           "text": [
            "Objective-C"
           ],
           "type": "scatter",
           "x": [
            0
           ],
           "y": [
            0
           ]
          },
          {
           "marker": {
            "size": [
             124
            ],
            "sizemode": "area",
            "sizeref": 30
           },
           "mode": "markers",
           "name": "Ruby",
           "text": [
            "Ruby"
           ],
           "type": "scatter",
           "x": [
            1
           ],
           "y": [
            1
           ]
          },
          {
           "marker": {
            "size": [
             0
            ],
            "sizemode": "area",
            "sizeref": 30
           },
           "mode": "markers",
           "name": "Rust",
           "text": [
            "Rust"
           ],
           "type": "scatter",
           "x": [
            0
           ],
           "y": [
            0
           ]
          },
          {
           "marker": {
            "size": [
             108
            ],
            "sizemode": "area",
            "sizeref": 30
           },
           "mode": "markers",
           "name": "Shell",
           "text": [
            "Shell"
           ],
           "type": "scatter",
           "x": [
            1
           ],
           "y": [
            1
           ]
          },
          {
           "marker": {
            "size": [
             0
            ],
            "sizemode": "area",
            "sizeref": 30
           },
           "mode": "markers",
           "name": "Swift",
           "text": [
            "Swift"
           ],
           "type": "scatter",
           "x": [
            0
           ],
           "y": [
            0
           ]
          }
         ],
         "name": "1"
        },
        {
         "data": [
          {
           "marker": {
            "size": [
             18020.5
            ],
            "sizemode": "area",
            "sizeref": 30
           },
           "mode": "markers",
           "name": "C",
           "text": [
            "C"
           ],
           "type": "scatter",
           "x": [
            3
           ],
           "y": [
            63.5
           ]
          },
          {
           "marker": {
            "size": [
             0
            ],
            "sizemode": "area",
            "sizeref": 30
           },
           "mode": "markers",
           "name": "C#",
           "text": [
            "C#"
           ],
           "type": "scatter",
           "x": [
            0
           ],
           "y": [
            0
           ]
          },
          {
           "marker": {
            "size": [
             0
            ],
            "sizemode": "area",
            "sizeref": 30
           },
           "mode": "markers",
           "name": "C++",
           "text": [
            "C++"
           ],
           "type": "scatter",
           "x": [
            0
           ],
           "y": [
            0
           ]
          },
          {
           "marker": {
            "size": [
             1185.5
            ],
            "sizemode": "area",
            "sizeref": 30
           },
           "mode": "markers",
           "name": "CSS",
           "text": [
            "CSS"
           ],
           "type": "scatter",
           "x": [
            1
           ],
           "y": [
            4
           ]
          },
          {
           "marker": {
            "size": [
             0
            ],
            "sizemode": "area",
            "sizeref": 30
           },
           "mode": "markers",
           "name": "HTML",
           "text": [
            "HTML"
           ],
           "type": "scatter",
           "x": [
            0
           ],
           "y": [
            0
           ]
          },
          {
           "marker": {
            "size": [
             56
            ],
            "sizemode": "area",
            "sizeref": 30
           },
           "mode": "markers",
           "name": "Java",
           "text": [
            "Java"
           ],
           "type": "scatter",
           "x": [
            1
           ],
           "y": [
            1
           ]
          },
          {
           "marker": {
            "size": [
             5013.041666666667
            ],
            "sizemode": "area",
            "sizeref": 30
           },
           "mode": "markers",
           "name": "JavaScript",
           "text": [
            "JavaScript"
           ],
           "type": "scatter",
           "x": [
            7
           ],
           "y": [
            5.5
           ]
          },
          {
           "marker": {
            "size": [
             0
            ],
            "sizemode": "area",
            "sizeref": 30
           },
           "mode": "markers",
           "name": "OCaml",
           "text": [
            "OCaml"
           ],
           "type": "scatter",
           "x": [
            0
           ],
           "y": [
            0
           ]
          },
          {
           "marker": {
            "size": [
             2693
            ],
            "sizemode": "area",
            "sizeref": 30
           },
           "mode": "markers",
           "name": "Objective-C",
           "text": [
            "Objective-C"
           ],
           "type": "scatter",
           "x": [
            1
           ],
           "y": [
            23
           ]
          },
          {
           "marker": {
            "size": [
             62
            ],
            "sizemode": "area",
            "sizeref": 30
           },
           "mode": "markers",
           "name": "Ruby",
           "text": [
            "Ruby"
           ],
           "type": "scatter",
           "x": [
            1
           ],
           "y": [
            1
           ]
          },
          {
           "marker": {
            "size": [
             0
            ],
            "sizemode": "area",
            "sizeref": 30
           },
           "mode": "markers",
           "name": "Rust",
           "text": [
            "Rust"
           ],
           "type": "scatter",
           "x": [
            0
           ],
           "y": [
            0
           ]
          },
          {
           "marker": {
            "size": [
             533
            ],
            "sizemode": "area",
            "sizeref": 30
           },
           "mode": "markers",
           "name": "Shell",
           "text": [
            "Shell"
           ],
           "type": "scatter",
           "x": [
            2
           ],
           "y": [
            2
           ]
          },
          {
           "marker": {
            "size": [
             0
            ],
            "sizemode": "area",
            "sizeref": 30
           },
           "mode": "markers",
           "name": "Swift",
           "text": [
            "Swift"
           ],
           "type": "scatter",
           "x": [
            0
           ],
           "y": [
            0
           ]
          }
         ],
         "name": "2"
        },
        {
         "data": [
          {
           "marker": {
            "size": [
             9010.25
            ],
            "sizemode": "area",
            "sizeref": 30
           },
           "mode": "markers",
           "name": "C",
           "text": [
            "C"
           ],
           "type": "scatter",
           "x": [
            3
           ],
           "y": [
            63.5
           ]
          },
          {
           "marker": {
            "size": [
             0
            ],
            "sizemode": "area",
            "sizeref": 30
           },
           "mode": "markers",
           "name": "C#",
           "text": [
            "C#"
           ],
           "type": "scatter",
           "x": [
            0
           ],
           "y": [
            0
           ]
          },
          {
           "marker": {
            "size": [
             0
            ],
            "sizemode": "area",
            "sizeref": 30
           },
           "mode": "markers",
           "name": "C++",
           "text": [
            "C++"
           ],
           "type": "scatter",
           "x": [
            0
           ],
           "y": [
            0
           ]
          },
          {
           "marker": {
            "size": [
             592.75
            ],
            "sizemode": "area",
            "sizeref": 30
           },
           "mode": "markers",
           "name": "CSS",
           "text": [
            "CSS"
           ],
           "type": "scatter",
           "x": [
            1
           ],
           "y": [
            4
           ]
          },
          {
           "marker": {
            "size": [
             0
            ],
            "sizemode": "area",
            "sizeref": 30
           },
           "mode": "markers",
           "name": "HTML",
           "text": [
            "HTML"
           ],
           "type": "scatter",
           "x": [
            0
           ],
           "y": [
            0
           ]
          },
          {
           "marker": {
            "size": [
             2012
            ],
            "sizemode": "area",
            "sizeref": 30
           },
           "mode": "markers",
           "name": "Java",
           "text": [
            "Java"
           ],
           "type": "scatter",
           "x": [
            2
           ],
           "y": [
            5
           ]
          },
          {
           "marker": {
            "size": [
             3981.1208333333334
            ],
            "sizemode": "area",
            "sizeref": 30
           },
           "mode": "markers",
           "name": "JavaScript",
           "text": [
            "JavaScript"
           ],
           "type": "scatter",
           "x": [
            12
           ],
           "y": [
            14.9
           ]
          },
          {
           "marker": {
            "size": [
             0
            ],
            "sizemode": "area",
            "sizeref": 30
           },
           "mode": "markers",
           "name": "OCaml",
           "text": [
            "OCaml"
           ],
           "type": "scatter",
           "x": [
            0
           ],
           "y": [
            0
           ]
          },
          {
           "marker": {
            "size": [
             1346.5
            ],
            "sizemode": "area",
            "sizeref": 30
           },
           "mode": "markers",
           "name": "Objective-C",
           "text": [
            "Objective-C"
           ],
           "type": "scatter",
           "x": [
            1
           ],
           "y": [
            23
           ]
          },
          {
           "marker": {
            "size": [
             31
            ],
            "sizemode": "area",
            "sizeref": 30
           },
           "mode": "markers",
           "name": "Ruby",
           "text": [
            "Ruby"
           ],
           "type": "scatter",
           "x": [
            1
           ],
           "y": [
            1
           ]
          },
          {
           "marker": {
            "size": [
             0
            ],
            "sizemode": "area",
            "sizeref": 30
           },
           "mode": "markers",
           "name": "Rust",
           "text": [
            "Rust"
           ],
           "type": "scatter",
           "x": [
            0
           ],
           "y": [
            0
           ]
          },
          {
           "marker": {
            "size": [
             313
            ],
            "sizemode": "area",
            "sizeref": 30
           },
           "mode": "markers",
           "name": "Shell",
           "text": [
            "Shell"
           ],
           "type": "scatter",
           "x": [
            6
           ],
           "y": [
            3.75
           ]
          },
          {
           "marker": {
            "size": [
             0
            ],
            "sizemode": "area",
            "sizeref": 30
           },
           "mode": "markers",
           "name": "Swift",
           "text": [
            "Swift"
           ],
           "type": "scatter",
           "x": [
            0
           ],
           "y": [
            0
           ]
          }
         ],
         "name": "3"
        },
        {
         "data": [
          {
           "marker": {
            "size": [
             4505.125
            ],
            "sizemode": "area",
            "sizeref": 30
           },
           "mode": "markers",
           "name": "C",
           "text": [
            "C"
           ],
           "type": "scatter",
           "x": [
            3
           ],
           "y": [
            63.5
           ]
          },
          {
           "marker": {
            "size": [
             234063
            ],
            "sizemode": "area",
            "sizeref": 30
           },
           "mode": "markers",
           "name": "C#",
           "text": [
            "C#"
           ],
           "type": "scatter",
           "x": [
            1
           ],
           "y": [
            118
           ]
          },
          {
           "marker": {
            "size": [
             163184
            ],
            "sizemode": "area",
            "sizeref": 30
           },
           "mode": "markers",
           "name": "C++",
           "text": [
            "C++"
           ],
           "type": "scatter",
           "x": [
            2
           ],
           "y": [
            124
           ]
          },
          {
           "marker": {
            "size": [
             296.375
            ],
            "sizemode": "area",
            "sizeref": 30
           },
           "mode": "markers",
           "name": "CSS",
           "text": [
            "CSS"
           ],
           "type": "scatter",
           "x": [
            1
           ],
           "y": [
            4
           ]
          },
          {
           "marker": {
            "size": [
             1131.3333333333333
            ],
            "sizemode": "area",
            "sizeref": 30
           },
           "mode": "markers",
           "name": "HTML",
           "text": [
            "HTML"
           ],
           "type": "scatter",
           "x": [
            3
           ],
           "y": [
            43.333333333333336
           ]
          },
          {
           "marker": {
            "size": [
             1139.1875
            ],
            "sizemode": "area",
            "sizeref": 30
           },
           "mode": "markers",
           "name": "Java",
           "text": [
            "Java"
           ],
           "type": "scatter",
           "x": [
            34
           ],
           "y": [
            11.84375
           ]
          },
          {
           "marker": {
            "size": [
             176663.22708333333
            ],
            "sizemode": "area",
            "sizeref": 30
           },
           "mode": "markers",
           "name": "JavaScript",
           "text": [
            "JavaScript"
           ],
           "type": "scatter",
           "x": [
            15
           ],
           "y": [
            273.2333333333333
           ]
          },
          {
           "marker": {
            "size": [
             0
            ],
            "sizemode": "area",
            "sizeref": 30
           },
           "mode": "markers",
           "name": "OCaml",
           "text": [
            "OCaml"
           ],
           "type": "scatter",
           "x": [
            0
           ],
           "y": [
            0
           ]
          },
          {
           "marker": {
            "size": [
             673.25
            ],
            "sizemode": "area",
            "sizeref": 30
           },
           "mode": "markers",
           "name": "Objective-C",
           "text": [
            "Objective-C"
           ],
           "type": "scatter",
           "x": [
            1
           ],
           "y": [
            23
           ]
          },
          {
           "marker": {
            "size": [
             15.5
            ],
            "sizemode": "area",
            "sizeref": 30
           },
           "mode": "markers",
           "name": "Ruby",
           "text": [
            "Ruby"
           ],
           "type": "scatter",
           "x": [
            1
           ],
           "y": [
            1
           ]
          },
          {
           "marker": {
            "size": [
             0
            ],
            "sizemode": "area",
            "sizeref": 30
           },
           "mode": "markers",
           "name": "Rust",
           "text": [
            "Rust"
           ],
           "type": "scatter",
           "x": [
            0
           ],
           "y": [
            0
           ]
          },
          {
           "marker": {
            "size": [
             3421.5
            ],
            "sizemode": "area",
            "sizeref": 30
           },
           "mode": "markers",
           "name": "Shell",
           "text": [
            "Shell"
           ],
           "type": "scatter",
           "x": [
            11
           ],
           "y": [
            10.55
           ]
          },
          {
           "marker": {
            "size": [
             0
            ],
            "sizemode": "area",
            "sizeref": 30
           },
           "mode": "markers",
           "name": "Swift",
           "text": [
            "Swift"
           ],
           "type": "scatter",
           "x": [
            0
           ],
           "y": [
            0
           ]
          }
         ],
         "name": "4"
        },
        {
         "data": [
          {
           "marker": {
            "size": [
             2252.5625
            ],
            "sizemode": "area",
            "sizeref": 30
           },
           "mode": "markers",
           "name": "C",
           "text": [
            "C"
           ],
           "type": "scatter",
           "x": [
            3
           ],
           "y": [
            63.5
           ]
          },
          {
           "marker": {
            "size": [
             117031.5
            ],
            "sizemode": "area",
            "sizeref": 30
           },
           "mode": "markers",
           "name": "C#",
           "text": [
            "C#"
           ],
           "type": "scatter",
           "x": [
            1
           ],
           "y": [
            118
           ]
          },
          {
           "marker": {
            "size": [
             81592
            ],
            "sizemode": "area",
            "sizeref": 30
           },
           "mode": "markers",
           "name": "C++",
           "text": [
            "C++"
           ],
           "type": "scatter",
           "x": [
            2
           ],
           "y": [
            124
           ]
          },
          {
           "marker": {
            "size": [
             17335.1875
            ],
            "sizemode": "area",
            "sizeref": 30
           },
           "mode": "markers",
           "name": "CSS",
           "text": [
            "CSS"
           ],
           "type": "scatter",
           "x": [
            3
           ],
           "y": [
            49.5
           ]
          },
          {
           "marker": {
            "size": [
             2596.6666666666665
            ],
            "sizemode": "area",
            "sizeref": 30
           },
           "mode": "markers",
           "name": "HTML",
           "text": [
            "HTML"
           ],
           "type": "scatter",
           "x": [
            4
           ],
           "y": [
            135.33333333333334
           ]
          },
          {
           "marker": {
            "size": [
             21724.260416666668
            ],
            "sizemode": "area",
            "sizeref": 30
           },
           "mode": "markers",
           "name": "Java",
           "text": [
            "Java"
           ],
           "type": "scatter",
           "x": [
            40
           ],
           "y": [
            117.84375
           ]
          },
          {
           "marker": {
            "size": [
             122807.23854166667
            ],
            "sizemode": "area",
            "sizeref": 30
           },
           "mode": "markers",
           "name": "JavaScript",
           "text": [
            "JavaScript"
           ],
           "type": "scatter",
           "x": [
            23
           ],
           "y": [
            299.9833333333333
           ]
          },
          {
           "marker": {
            "size": [
             0
            ],
            "sizemode": "area",
            "sizeref": 30
           },
           "mode": "markers",
           "name": "OCaml",
           "text": [
            "OCaml"
           ],
           "type": "scatter",
           "x": [
            0
           ],
           "y": [
            0
           ]
          },
          {
           "marker": {
            "size": [
             22089.625
            ],
            "sizemode": "area",
            "sizeref": 30
           },
           "mode": "markers",
           "name": "Objective-C",
           "text": [
            "Objective-C"
           ],
           "type": "scatter",
           "x": [
            2
           ],
           "y": [
            28
           ]
          },
          {
           "marker": {
            "size": [
             1109.25
            ],
            "sizemode": "area",
            "sizeref": 30
           },
           "mode": "markers",
           "name": "Ruby",
           "text": [
            "Ruby"
           ],
           "type": "scatter",
           "x": [
            3
           ],
           "y": [
            17
           ]
          },
          {
           "marker": {
            "size": [
             138.5
            ],
            "sizemode": "area",
            "sizeref": 30
           },
           "mode": "markers",
           "name": "Rust",
           "text": [
            "Rust"
           ],
           "type": "scatter",
           "x": [
            2
           ],
           "y": [
            15.5
           ]
          },
          {
           "marker": {
            "size": [
             3662.464285714286
            ],
            "sizemode": "area",
            "sizeref": 30
           },
           "mode": "markers",
           "name": "Shell",
           "text": [
            "Shell"
           ],
           "type": "scatter",
           "x": [
            18
           ],
           "y": [
            14.407142857142858
           ]
          },
          {
           "marker": {
            "size": [
             2128
            ],
            "sizemode": "area",
            "sizeref": 30
           },
           "mode": "markers",
           "name": "Swift",
           "text": [
            "Swift"
           ],
           "type": "scatter",
           "x": [
            1
           ],
           "y": [
            1
           ]
          }
         ],
         "name": "5"
        },
        {
         "data": [
          {
           "marker": {
            "size": [
             41946.614583333336
            ],
            "sizemode": "area",
            "sizeref": 30
           },
           "mode": "markers",
           "name": "C",
           "text": [
            "C"
           ],
           "type": "scatter",
           "x": [
            9
           ],
           "y": [
            168.5
           ]
          },
          {
           "marker": {
            "size": [
             58515.75
            ],
            "sizemode": "area",
            "sizeref": 30
           },
           "mode": "markers",
           "name": "C#",
           "text": [
            "C#"
           ],
           "type": "scatter",
           "x": [
            1
           ],
           "y": [
            118
           ]
          },
          {
           "marker": {
            "size": [
             86640
            ],
            "sizemode": "area",
            "sizeref": 30
           },
           "mode": "markers",
           "name": "C++",
           "text": [
            "C++"
           ],
           "type": "scatter",
           "x": [
            5
           ],
           "y": [
            144.66666666666666
           ]
          },
          {
           "marker": {
            "size": [
             8667.59375
            ],
            "sizemode": "area",
            "sizeref": 30
           },
           "mode": "markers",
           "name": "CSS",
           "text": [
            "CSS"
           ],
           "type": "scatter",
           "x": [
            3
           ],
           "y": [
            49.5
           ]
          },
          {
           "marker": {
            "size": [
             12967.533333333335
            ],
            "sizemode": "area",
            "sizeref": 30
           },
           "mode": "markers",
           "name": "HTML",
           "text": [
            "HTML"
           ],
           "type": "scatter",
           "x": [
            9
           ],
           "y": [
            152.73333333333335
           ]
          },
          {
           "marker": {
            "size": [
             10862.130208333334
            ],
            "sizemode": "area",
            "sizeref": 30
           },
           "mode": "markers",
           "name": "Java",
           "text": [
            "Java"
           ],
           "type": "scatter",
           "x": [
            40
           ],
           "y": [
            117.84375
           ]
          },
          {
           "marker": {
            "size": [
             64441.2859375
            ],
            "sizemode": "area",
            "sizeref": 30
           },
           "mode": "markers",
           "name": "JavaScript",
           "text": [
            "JavaScript"
           ],
           "type": "scatter",
           "x": [
            26
           ],
           "y": [
            338.9833333333333
           ]
          },
          {
           "marker": {
            "size": [
             187
            ],
            "sizemode": "area",
            "sizeref": 30
           },
           "mode": "markers",
           "name": "OCaml",
           "text": [
            "OCaml"
           ],
           "type": "scatter",
           "x": [
            1
           ],
           "y": [
            1
           ]
          },
          {
           "marker": {
            "size": [
             11044.8125
            ],
            "sizemode": "area",
            "sizeref": 30
           },
           "mode": "markers",
           "name": "Objective-C",
           "text": [
            "Objective-C"
           ],
           "type": "scatter",
           "x": [
            2
           ],
           "y": [
            28
           ]
          },
          {
           "marker": {
            "size": [
             100415.625
            ],
            "sizemode": "area",
            "sizeref": 30
           },
           "mode": "markers",
           "name": "Ruby",
           "text": [
            "Ruby"
           ],
           "type": "scatter",
           "x": [
            7
           ],
           "y": [
            348.5
           ]
          },
          {
           "marker": {
            "size": [
             7380.25
            ],
            "sizemode": "area",
            "sizeref": 30
           },
           "mode": "markers",
           "name": "Rust",
           "text": [
            "Rust"
           ],
           "type": "scatter",
           "x": [
            3
           ],
           "y": [
            134.5
           ]
          },
          {
           "marker": {
            "size": [
             83627.23214285714
            ],
            "sizemode": "area",
            "sizeref": 30
           },
           "mode": "markers",
           "name": "Shell",
           "text": [
            "Shell"
           ],
           "type": "scatter",
           "x": [
            19
           ],
           "y": [
            22.40714285714286
           ]
          },
          {
           "marker": {
            "size": [
             5450
            ],
            "sizemode": "area",
            "sizeref": 30
           },
           "mode": "markers",
           "name": "Swift",
           "text": [
            "Swift"
           ],
           "type": "scatter",
           "x": [
            2
           ],
           "y": [
            56
           ]
          }
         ],
         "name": "6"
        },
        {
         "data": [
          {
           "marker": {
            "size": [
             20973.307291666668
            ],
            "sizemode": "area",
            "sizeref": 30
           },
           "mode": "markers",
           "name": "C",
           "text": [
            "C"
           ],
           "type": "scatter",
           "x": [
            9
           ],
           "y": [
            168.5
           ]
          },
          {
           "marker": {
            "size": [
             29257.875
            ],
            "sizemode": "area",
            "sizeref": 30
           },
           "mode": "markers",
           "name": "C#",
           "text": [
            "C#"
           ],
           "type": "scatter",
           "x": [
            1
           ],
           "y": [
            118
           ]
          },
          {
           "marker": {
            "size": [
             43320
            ],
            "sizemode": "area",
            "sizeref": 30
           },
           "mode": "markers",
           "name": "C++",
           "text": [
            "C++"
           ],
           "type": "scatter",
           "x": [
            5
           ],
           "y": [
            144.66666666666666
           ]
          },
          {
           "marker": {
            "size": [
             4333.796875
            ],
            "sizemode": "area",
            "sizeref": 30
           },
           "mode": "markers",
           "name": "CSS",
           "text": [
            "CSS"
           ],
           "type": "scatter",
           "x": [
            3
           ],
           "y": [
            49.5
           ]
          },
          {
           "marker": {
            "size": [
             6827.766666666667
            ],
            "sizemode": "area",
            "sizeref": 30
           },
           "mode": "markers",
           "name": "HTML",
           "text": [
            "HTML"
           ],
           "type": "scatter",
           "x": [
            10
           ],
           "y": [
            155.73333333333335
           ]
          },
          {
           "marker": {
            "size": [
             5431.065104166667
            ],
            "sizemode": "area",
            "sizeref": 30
           },
           "mode": "markers",
           "name": "Java",
           "text": [
            "Java"
           ],
           "type": "scatter",
           "x": [
            40
           ],
           "y": [
            117.84375
           ]
          },
          {
           "marker": {
            "size": [
             32220.64296875
            ],
            "sizemode": "area",
            "sizeref": 30
           },
           "mode": "markers",
           "name": "JavaScript",
           "text": [
            "JavaScript"
           ],
           "type": "scatter",
           "x": [
            26
           ],
           "y": [
            338.9833333333333
           ]
          },
          {
           "marker": {
            "size": [
             5518.833333333333
            ],
            "sizemode": "area",
            "sizeref": 30
           },
           "mode": "markers",
           "name": "OCaml",
           "text": [
            "OCaml"
           ],
           "type": "scatter",
           "x": [
            4
           ],
           "y": [
            2.333333333333333
           ]
          },
          {
           "marker": {
            "size": [
             5522.40625
            ],
            "sizemode": "area",
            "sizeref": 30
           },
           "mode": "markers",
           "name": "Objective-C",
           "text": [
            "Objective-C"
           ],
           "type": "scatter",
           "x": [
            2
           ],
           "y": [
            28
           ]
          },
          {
           "marker": {
            "size": [
             50207.8125
            ],
            "sizemode": "area",
            "sizeref": 30
           },
           "mode": "markers",
           "name": "Ruby",
           "text": [
            "Ruby"
           ],
           "type": "scatter",
           "x": [
            7
           ],
           "y": [
            348.5
           ]
          },
          {
           "marker": {
            "size": [
             3690.125
            ],
            "sizemode": "area",
            "sizeref": 30
           },
           "mode": "markers",
           "name": "Rust",
           "text": [
            "Rust"
           ],
           "type": "scatter",
           "x": [
            3
           ],
           "y": [
            134.5
           ]
          },
          {
           "marker": {
            "size": [
             114578.61607142858
            ],
            "sizemode": "area",
            "sizeref": 30
           },
           "mode": "markers",
           "name": "Shell",
           "text": [
            "Shell"
           ],
           "type": "scatter",
           "x": [
            20
           ],
           "y": [
            348.40714285714284
           ]
          },
          {
           "marker": {
            "size": [
             2725
            ],
            "sizemode": "area",
            "sizeref": 30
           },
           "mode": "markers",
           "name": "Swift",
           "text": [
            "Swift"
           ],
           "type": "scatter",
           "x": [
            2
           ],
           "y": [
            56
           ]
          }
         ],
         "name": "7"
        },
        {
         "data": [
          {
           "marker": {
            "size": [
             10486.653645833334
            ],
            "sizemode": "area",
            "sizeref": 30
           },
           "mode": "markers",
           "name": "C",
           "text": [
            "C"
           ],
           "type": "scatter",
           "x": [
            9
           ],
           "y": [
            168.5
           ]
          },
          {
           "marker": {
            "size": [
             14628.9375
            ],
            "sizemode": "area",
            "sizeref": 30
           },
           "mode": "markers",
           "name": "C#",
           "text": [
            "C#"
           ],
           "type": "scatter",
           "x": [
            1
           ],
           "y": [
            118
           ]
          },
          {
           "marker": {
            "size": [
             21979
            ],
            "sizemode": "area",
            "sizeref": 30
           },
           "mode": "markers",
           "name": "C++",
           "text": [
            "C++"
           ],
           "type": "scatter",
           "x": [
            6
           ],
           "y": [
            145.66666666666666
           ]
          },
          {
           "marker": {
            "size": [
             2166.8984375
            ],
            "sizemode": "area",
            "sizeref": 30
           },
           "mode": "markers",
           "name": "CSS",
           "text": [
            "CSS"
           ],
           "type": "scatter",
           "x": [
            3
           ],
           "y": [
            49.5
           ]
          },
          {
           "marker": {
            "size": [
             3413.8833333333337
            ],
            "sizemode": "area",
            "sizeref": 30
           },
           "mode": "markers",
           "name": "HTML",
           "text": [
            "HTML"
           ],
           "type": "scatter",
           "x": [
            10
           ],
           "y": [
            155.73333333333335
           ]
          },
          {
           "marker": {
            "size": [
             2715.5325520833335
            ],
            "sizemode": "area",
            "sizeref": 30
           },
           "mode": "markers",
           "name": "Java",
           "text": [
            "Java"
           ],
           "type": "scatter",
           "x": [
            40
           ],
           "y": [
            117.84375
           ]
          },
          {
           "marker": {
            "size": [
             20806.321484375
            ],
            "sizemode": "area",
            "sizeref": 30
           },
           "mode": "markers",
           "name": "JavaScript",
           "text": [
            "JavaScript"
           ],
           "type": "scatter",
           "x": [
            27
           ],
           "y": [
            339.9833333333333
           ]
          },
          {
           "marker": {
            "size": [
             3736.4166666666665
            ],
            "sizemode": "area",
            "sizeref": 30
           },
           "mode": "markers",
           "name": "OCaml",
           "text": [
            "OCaml"
           ],
           "type": "scatter",
           "x": [
            5
           ],
           "y": [
            3.333333333333333
           ]
          },
          {
           "marker": {
            "size": [
             2761.203125
            ],
            "sizemode": "area",
            "sizeref": 30
           },
           "mode": "markers",
           "name": "Objective-C",
           "text": [
            "Objective-C"
           ],
           "type": "scatter",
           "x": [
            2
           ],
           "y": [
            28
           ]
          },
          {
           "marker": {
            "size": [
             25103.90625
            ],
            "sizemode": "area",
            "sizeref": 30
           },
           "mode": "markers",
           "name": "Ruby",
           "text": [
            "Ruby"
           ],
           "type": "scatter",
           "x": [
            7
           ],
           "y": [
            348.5
           ]
          },
          {
           "marker": {
            "size": [
             1845.0625
            ],
            "sizemode": "area",
            "sizeref": 30
           },
           "mode": "markers",
           "name": "Rust",
           "text": [
            "Rust"
           ],
           "type": "scatter",
           "x": [
            3
           ],
           "y": [
            134.5
           ]
          },
          {
           "marker": {
            "size": [
             57289.30803571429
            ],
            "sizemode": "area",
            "sizeref": 30
           },
           "mode": "markers",
           "name": "Shell",
           "text": [
            "Shell"
           ],
           "type": "scatter",
           "x": [
            20
           ],
           "y": [
            348.40714285714284
           ]
          },
          {
           "marker": {
            "size": [
             1362.5
            ],
            "sizemode": "area",
            "sizeref": 30
           },
           "mode": "markers",
           "name": "Swift",
           "text": [
            "Swift"
           ],
           "type": "scatter",
           "x": [
            2
           ],
           "y": [
            56
           ]
          }
         ],
         "name": "8"
        },
        {
         "data": [
          {
           "marker": {
            "size": [
             104
            ],
            "sizemode": "area",
            "sizeref": 30
           },
           "mode": "markers",
           "name": "C",
           "text": [
            "C"
           ],
           "type": "scatter",
           "x": [
            1
           ],
           "y": [
            1
           ]
          },
          {
           "marker": {
            "size": [
             0
            ],
            "sizemode": "area",
            "sizeref": 30
           },
           "mode": "markers",
           "name": "C#",
           "text": [
            "C#"
           ],
           "type": "scatter",
           "x": [
            0
           ],
           "y": [
            0
           ]
          },
          {
           "marker": {
            "size": [
             0
            ],
            "sizemode": "area",
            "sizeref": 30
           },
           "mode": "markers",
           "name": "C++",
           "text": [
            "C++"
           ],
           "type": "scatter",
           "x": [
            0
           ],
           "y": [
            0
           ]
          },
          {
           "marker": {
            "size": [
             0
            ],
            "sizemode": "area",
            "sizeref": 30
           },
           "mode": "markers",
           "name": "CSS",
           "text": [
            "CSS"
           ],
           "type": "scatter",
           "x": [
            0
           ],
           "y": [
            0
           ]
          },
          {
           "marker": {
            "size": [
             0
            ],
            "sizemode": "area",
            "sizeref": 30
           },
           "mode": "markers",
           "name": "HTML",
           "text": [
            "HTML"
           ],
           "type": "scatter",
           "x": [
            0
           ],
           "y": [
            0
           ]
          },
          {
           "marker": {
            "size": [
             0
            ],
            "sizemode": "area",
            "sizeref": 30
           },
           "mode": "markers",
           "name": "Java",
           "text": [
            "Java"
           ],
           "type": "scatter",
           "x": [
            0
           ],
           "y": [
            0
           ]
          },
          {
           "marker": {
            "size": [
             18081.5
            ],
            "sizemode": "area",
            "sizeref": 30
           },
           "mode": "markers",
           "name": "JavaScript",
           "text": [
            "JavaScript"
           ],
           "type": "scatter",
           "x": [
            4
           ],
           "y": [
            4.5
           ]
          },
          {
           "marker": {
            "size": [
             0
            ],
            "sizemode": "area",
            "sizeref": 30
           },
           "mode": "markers",
           "name": "OCaml",
           "text": [
            "OCaml"
           ],
           "type": "scatter",
           "x": [
            0
           ],
           "y": [
            0
           ]
          },
          {
           "marker": {
            "size": [
             0
            ],
            "sizemode": "area",
            "sizeref": 30
           },
           "mode": "markers",
           "name": "Objective-C",
           "text": [
            "Objective-C"
           ],
           "type": "scatter",
           "x": [
            0
           ],
           "y": [
            0
           ]
          },
          {
           "marker": {
            "size": [
             0
            ],
            "sizemode": "area",
            "sizeref": 30
           },
           "mode": "markers",
           "name": "Ruby",
           "text": [
            "Ruby"
           ],
           "type": "scatter",
           "x": [
            0
           ],
           "y": [
            0
           ]
          },
          {
           "marker": {
            "size": [
             0
            ],
            "sizemode": "area",
            "sizeref": 30
           },
           "mode": "markers",
           "name": "Rust",
           "text": [
            "Rust"
           ],
           "type": "scatter",
           "x": [
            0
           ],
           "y": [
            0
           ]
          },
          {
           "marker": {
            "size": [
             0
            ],
            "sizemode": "area",
            "sizeref": 30
           },
           "mode": "markers",
           "name": "Shell",
           "text": [
            "Shell"
           ],
           "type": "scatter",
           "x": [
            0
           ],
           "y": [
            0
           ]
          },
          {
           "marker": {
            "size": [
             0
            ],
            "sizemode": "area",
            "sizeref": 30
           },
           "mode": "markers",
           "name": "Swift",
           "text": [
            "Swift"
           ],
           "type": "scatter",
           "x": [
            0
           ],
           "y": [
            0
           ]
          }
         ],
         "name": "0"
        },
        {
         "data": [
          {
           "marker": {
            "size": [
             52
            ],
            "sizemode": "area",
            "sizeref": 30
           },
           "mode": "markers",
           "name": "C",
           "text": [
            "C"
           ],
           "type": "scatter",
           "x": [
            1
           ],
           "y": [
            1
           ]
          },
          {
           "marker": {
            "size": [
             0
            ],
            "sizemode": "area",
            "sizeref": 30
           },
           "mode": "markers",
           "name": "C#",
           "text": [
            "C#"
           ],
           "type": "scatter",
           "x": [
            0
           ],
           "y": [
            0
           ]
          },
          {
           "marker": {
            "size": [
             0
            ],
            "sizemode": "area",
            "sizeref": 30
           },
           "mode": "markers",
           "name": "C++",
           "text": [
            "C++"
           ],
           "type": "scatter",
           "x": [
            0
           ],
           "y": [
            0
           ]
          },
          {
           "marker": {
            "size": [
             2371
            ],
            "sizemode": "area",
            "sizeref": 30
           },
           "mode": "markers",
           "name": "CSS",
           "text": [
            "CSS"
           ],
           "type": "scatter",
           "x": [
            1
           ],
           "y": [
            4
           ]
          },
          {
           "marker": {
            "size": [
             0
            ],
            "sizemode": "area",
            "sizeref": 30
           },
           "mode": "markers",
           "name": "HTML",
           "text": [
            "HTML"
           ],
           "type": "scatter",
           "x": [
            0
           ],
           "y": [
            0
           ]
          },
          {
           "marker": {
            "size": [
             112
            ],
            "sizemode": "area",
            "sizeref": 30
           },
           "mode": "markers",
           "name": "Java",
           "text": [
            "Java"
           ],
           "type": "scatter",
           "x": [
            1
           ],
           "y": [
            1
           ]
          },
          {
           "marker": {
            "size": [
             9040.75
            ],
            "sizemode": "area",
            "sizeref": 30
           },
           "mode": "markers",
           "name": "JavaScript",
           "text": [
            "JavaScript"
           ],
           "type": "scatter",
           "x": [
            4
           ],
           "y": [
            4.5
           ]
          },
          {
           "marker": {
            "size": [
             0
            ],
            "sizemode": "area",
            "sizeref": 30
           },
           "mode": "markers",
           "name": "OCaml",
           "text": [
            "OCaml"
           ],
           "type": "scatter",
           "x": [
            0
           ],
           "y": [
            0
           ]
          },
          {
           "marker": {
            "size": [
             0
            ],
            "sizemode": "area",
            "sizeref": 30
           },
           "mode": "markers",
           "name": "Objective-C",
           "text": [
            "Objective-C"
           ],
           "type": "scatter",
           "x": [
            0
           ],
           "y": [
            0
           ]
          },
          {
           "marker": {
            "size": [
             124
            ],
            "sizemode": "area",
            "sizeref": 30
           },
           "mode": "markers",
           "name": "Ruby",
           "text": [
            "Ruby"
           ],
           "type": "scatter",
           "x": [
            1
           ],
           "y": [
            1
           ]
          },
          {
           "marker": {
            "size": [
             0
            ],
            "sizemode": "area",
            "sizeref": 30
           },
           "mode": "markers",
           "name": "Rust",
           "text": [
            "Rust"
           ],
           "type": "scatter",
           "x": [
            0
           ],
           "y": [
            0
           ]
          },
          {
           "marker": {
            "size": [
             108
            ],
            "sizemode": "area",
            "sizeref": 30
           },
           "mode": "markers",
           "name": "Shell",
           "text": [
            "Shell"
           ],
           "type": "scatter",
           "x": [
            1
           ],
           "y": [
            1
           ]
          },
          {
           "marker": {
            "size": [
             0
            ],
            "sizemode": "area",
            "sizeref": 30
           },
           "mode": "markers",
           "name": "Swift",
           "text": [
            "Swift"
           ],
           "type": "scatter",
           "x": [
            0
           ],
           "y": [
            0
           ]
          }
         ],
         "name": "1"
        },
        {
         "data": [
          {
           "marker": {
            "size": [
             18020.5
            ],
            "sizemode": "area",
            "sizeref": 30
           },
           "mode": "markers",
           "name": "C",
           "text": [
            "C"
           ],
           "type": "scatter",
           "x": [
            3
           ],
           "y": [
            63.5
           ]
          },
          {
           "marker": {
            "size": [
             0
            ],
            "sizemode": "area",
            "sizeref": 30
           },
           "mode": "markers",
           "name": "C#",
           "text": [
            "C#"
           ],
           "type": "scatter",
           "x": [
            0
           ],
           "y": [
            0
           ]
          },
          {
           "marker": {
            "size": [
             0
            ],
            "sizemode": "area",
            "sizeref": 30
           },
           "mode": "markers",
           "name": "C++",
           "text": [
            "C++"
           ],
           "type": "scatter",
           "x": [
            0
           ],
           "y": [
            0
           ]
          },
          {
           "marker": {
            "size": [
             1185.5
            ],
            "sizemode": "area",
            "sizeref": 30
           },
           "mode": "markers",
           "name": "CSS",
           "text": [
            "CSS"
           ],
           "type": "scatter",
           "x": [
            1
           ],
           "y": [
            4
           ]
          },
          {
           "marker": {
            "size": [
             0
            ],
            "sizemode": "area",
            "sizeref": 30
           },
           "mode": "markers",
           "name": "HTML",
           "text": [
            "HTML"
           ],
           "type": "scatter",
           "x": [
            0
           ],
           "y": [
            0
           ]
          },
          {
           "marker": {
            "size": [
             56
            ],
            "sizemode": "area",
            "sizeref": 30
           },
           "mode": "markers",
           "name": "Java",
           "text": [
            "Java"
           ],
           "type": "scatter",
           "x": [
            1
           ],
           "y": [
            1
           ]
          },
          {
           "marker": {
            "size": [
             5013.041666666667
            ],
            "sizemode": "area",
            "sizeref": 30
           },
           "mode": "markers",
           "name": "JavaScript",
           "text": [
            "JavaScript"
           ],
           "type": "scatter",
           "x": [
            7
           ],
           "y": [
            5.5
           ]
          },
          {
           "marker": {
            "size": [
             0
            ],
            "sizemode": "area",
            "sizeref": 30
           },
           "mode": "markers",
           "name": "OCaml",
           "text": [
            "OCaml"
           ],
           "type": "scatter",
           "x": [
            0
           ],
           "y": [
            0
           ]
          },
          {
           "marker": {
            "size": [
             2693
            ],
            "sizemode": "area",
            "sizeref": 30
           },
           "mode": "markers",
           "name": "Objective-C",
           "text": [
            "Objective-C"
           ],
           "type": "scatter",
           "x": [
            1
           ],
           "y": [
            23
           ]
          },
          {
           "marker": {
            "size": [
             62
            ],
            "sizemode": "area",
            "sizeref": 30
           },
           "mode": "markers",
           "name": "Ruby",
           "text": [
            "Ruby"
           ],
           "type": "scatter",
           "x": [
            1
           ],
           "y": [
            1
           ]
          },
          {
           "marker": {
            "size": [
             0
            ],
            "sizemode": "area",
            "sizeref": 30
           },
           "mode": "markers",
           "name": "Rust",
           "text": [
            "Rust"
           ],
           "type": "scatter",
           "x": [
            0
           ],
           "y": [
            0
           ]
          },
          {
           "marker": {
            "size": [
             533
            ],
            "sizemode": "area",
            "sizeref": 30
           },
           "mode": "markers",
           "name": "Shell",
           "text": [
            "Shell"
           ],
           "type": "scatter",
           "x": [
            2
           ],
           "y": [
            2
           ]
          },
          {
           "marker": {
            "size": [
             0
            ],
            "sizemode": "area",
            "sizeref": 30
           },
           "mode": "markers",
           "name": "Swift",
           "text": [
            "Swift"
           ],
           "type": "scatter",
           "x": [
            0
           ],
           "y": [
            0
           ]
          }
         ],
         "name": "2"
        },
        {
         "data": [
          {
           "marker": {
            "size": [
             9010.25
            ],
            "sizemode": "area",
            "sizeref": 30
           },
           "mode": "markers",
           "name": "C",
           "text": [
            "C"
           ],
           "type": "scatter",
           "x": [
            3
           ],
           "y": [
            63.5
           ]
          },
          {
           "marker": {
            "size": [
             0
            ],
            "sizemode": "area",
            "sizeref": 30
           },
           "mode": "markers",
           "name": "C#",
           "text": [
            "C#"
           ],
           "type": "scatter",
           "x": [
            0
           ],
           "y": [
            0
           ]
          },
          {
           "marker": {
            "size": [
             0
            ],
            "sizemode": "area",
            "sizeref": 30
           },
           "mode": "markers",
           "name": "C++",
           "text": [
            "C++"
           ],
           "type": "scatter",
           "x": [
            0
           ],
           "y": [
            0
           ]
          },
          {
           "marker": {
            "size": [
             592.75
            ],
            "sizemode": "area",
            "sizeref": 30
           },
           "mode": "markers",
           "name": "CSS",
           "text": [
            "CSS"
           ],
           "type": "scatter",
           "x": [
            1
           ],
           "y": [
            4
           ]
          },
          {
           "marker": {
            "size": [
             0
            ],
            "sizemode": "area",
            "sizeref": 30
           },
           "mode": "markers",
           "name": "HTML",
           "text": [
            "HTML"
           ],
           "type": "scatter",
           "x": [
            0
           ],
           "y": [
            0
           ]
          },
          {
           "marker": {
            "size": [
             2012
            ],
            "sizemode": "area",
            "sizeref": 30
           },
           "mode": "markers",
           "name": "Java",
           "text": [
            "Java"
           ],
           "type": "scatter",
           "x": [
            2
           ],
           "y": [
            5
           ]
          },
          {
           "marker": {
            "size": [
             3981.1208333333334
            ],
            "sizemode": "area",
            "sizeref": 30
           },
           "mode": "markers",
           "name": "JavaScript",
           "text": [
            "JavaScript"
           ],
           "type": "scatter",
           "x": [
            12
           ],
           "y": [
            14.9
           ]
          },
          {
           "marker": {
            "size": [
             0
            ],
            "sizemode": "area",
            "sizeref": 30
           },
           "mode": "markers",
           "name": "OCaml",
           "text": [
            "OCaml"
           ],
           "type": "scatter",
           "x": [
            0
           ],
           "y": [
            0
           ]
          },
          {
           "marker": {
            "size": [
             1346.5
            ],
            "sizemode": "area",
            "sizeref": 30
           },
           "mode": "markers",
           "name": "Objective-C",
           "text": [
            "Objective-C"
           ],
           "type": "scatter",
           "x": [
            1
           ],
           "y": [
            23
           ]
          },
          {
           "marker": {
            "size": [
             31
            ],
            "sizemode": "area",
            "sizeref": 30
           },
           "mode": "markers",
           "name": "Ruby",
           "text": [
            "Ruby"
           ],
           "type": "scatter",
           "x": [
            1
           ],
           "y": [
            1
           ]
          },
          {
           "marker": {
            "size": [
             0
            ],
            "sizemode": "area",
            "sizeref": 30
           },
           "mode": "markers",
           "name": "Rust",
           "text": [
            "Rust"
           ],
           "type": "scatter",
           "x": [
            0
           ],
           "y": [
            0
           ]
          },
          {
           "marker": {
            "size": [
             313
            ],
            "sizemode": "area",
            "sizeref": 30
           },
           "mode": "markers",
           "name": "Shell",
           "text": [
            "Shell"
           ],
           "type": "scatter",
           "x": [
            6
           ],
           "y": [
            3.75
           ]
          },
          {
           "marker": {
            "size": [
             0
            ],
            "sizemode": "area",
            "sizeref": 30
           },
           "mode": "markers",
           "name": "Swift",
           "text": [
            "Swift"
           ],
           "type": "scatter",
           "x": [
            0
           ],
           "y": [
            0
           ]
          }
         ],
         "name": "3"
        },
        {
         "data": [
          {
           "marker": {
            "size": [
             4505.125
            ],
            "sizemode": "area",
            "sizeref": 30
           },
           "mode": "markers",
           "name": "C",
           "text": [
            "C"
           ],
           "type": "scatter",
           "x": [
            3
           ],
           "y": [
            63.5
           ]
          },
          {
           "marker": {
            "size": [
             234063
            ],
            "sizemode": "area",
            "sizeref": 30
           },
           "mode": "markers",
           "name": "C#",
           "text": [
            "C#"
           ],
           "type": "scatter",
           "x": [
            1
           ],
           "y": [
            118
           ]
          },
          {
           "marker": {
            "size": [
             163184
            ],
            "sizemode": "area",
            "sizeref": 30
           },
           "mode": "markers",
           "name": "C++",
           "text": [
            "C++"
           ],
           "type": "scatter",
           "x": [
            2
           ],
           "y": [
            124
           ]
          },
          {
           "marker": {
            "size": [
             296.375
            ],
            "sizemode": "area",
            "sizeref": 30
           },
           "mode": "markers",
           "name": "CSS",
           "text": [
            "CSS"
           ],
           "type": "scatter",
           "x": [
            1
           ],
           "y": [
            4
           ]
          },
          {
           "marker": {
            "size": [
             1131.3333333333333
            ],
            "sizemode": "area",
            "sizeref": 30
           },
           "mode": "markers",
           "name": "HTML",
           "text": [
            "HTML"
           ],
           "type": "scatter",
           "x": [
            3
           ],
           "y": [
            43.333333333333336
           ]
          },
          {
           "marker": {
            "size": [
             1139.1875
            ],
            "sizemode": "area",
            "sizeref": 30
           },
           "mode": "markers",
           "name": "Java",
           "text": [
            "Java"
           ],
           "type": "scatter",
           "x": [
            34
           ],
           "y": [
            11.84375
           ]
          },
          {
           "marker": {
            "size": [
             176663.22708333333
            ],
            "sizemode": "area",
            "sizeref": 30
           },
           "mode": "markers",
           "name": "JavaScript",
           "text": [
            "JavaScript"
           ],
           "type": "scatter",
           "x": [
            15
           ],
           "y": [
            273.2333333333333
           ]
          },
          {
           "marker": {
            "size": [
             0
            ],
            "sizemode": "area",
            "sizeref": 30
           },
           "mode": "markers",
           "name": "OCaml",
           "text": [
            "OCaml"
           ],
           "type": "scatter",
           "x": [
            0
           ],
           "y": [
            0
           ]
          },
          {
           "marker": {
            "size": [
             673.25
            ],
            "sizemode": "area",
            "sizeref": 30
           },
           "mode": "markers",
           "name": "Objective-C",
           "text": [
            "Objective-C"
           ],
           "type": "scatter",
           "x": [
            1
           ],
           "y": [
            23
           ]
          },
          {
           "marker": {
            "size": [
             15.5
            ],
            "sizemode": "area",
            "sizeref": 30
           },
           "mode": "markers",
           "name": "Ruby",
           "text": [
            "Ruby"
           ],
           "type": "scatter",
           "x": [
            1
           ],
           "y": [
            1
           ]
          },
          {
           "marker": {
            "size": [
             0
            ],
            "sizemode": "area",
            "sizeref": 30
           },
           "mode": "markers",
           "name": "Rust",
           "text": [
            "Rust"
           ],
           "type": "scatter",
           "x": [
            0
           ],
           "y": [
            0
           ]
          },
          {
           "marker": {
            "size": [
             3421.5
            ],
            "sizemode": "area",
            "sizeref": 30
           },
           "mode": "markers",
           "name": "Shell",
           "text": [
            "Shell"
           ],
           "type": "scatter",
           "x": [
            11
           ],
           "y": [
            10.55
           ]
          },
          {
           "marker": {
            "size": [
             0
            ],
            "sizemode": "area",
            "sizeref": 30
           },
           "mode": "markers",
           "name": "Swift",
           "text": [
            "Swift"
           ],
           "type": "scatter",
           "x": [
            0
           ],
           "y": [
            0
           ]
          }
         ],
         "name": "4"
        },
        {
         "data": [
          {
           "marker": {
            "size": [
             2252.5625
            ],
            "sizemode": "area",
            "sizeref": 30
           },
           "mode": "markers",
           "name": "C",
           "text": [
            "C"
           ],
           "type": "scatter",
           "x": [
            3
           ],
           "y": [
            63.5
           ]
          },
          {
           "marker": {
            "size": [
             117031.5
            ],
            "sizemode": "area",
            "sizeref": 30
           },
           "mode": "markers",
           "name": "C#",
           "text": [
            "C#"
           ],
           "type": "scatter",
           "x": [
            1
           ],
           "y": [
            118
           ]
          },
          {
           "marker": {
            "size": [
             81592
            ],
            "sizemode": "area",
            "sizeref": 30
           },
           "mode": "markers",
           "name": "C++",
           "text": [
            "C++"
           ],
           "type": "scatter",
           "x": [
            2
           ],
           "y": [
            124
           ]
          },
          {
           "marker": {
            "size": [
             17335.1875
            ],
            "sizemode": "area",
            "sizeref": 30
           },
           "mode": "markers",
           "name": "CSS",
           "text": [
            "CSS"
           ],
           "type": "scatter",
           "x": [
            3
           ],
           "y": [
            49.5
           ]
          },
          {
           "marker": {
            "size": [
             2596.6666666666665
            ],
            "sizemode": "area",
            "sizeref": 30
           },
           "mode": "markers",
           "name": "HTML",
           "text": [
            "HTML"
           ],
           "type": "scatter",
           "x": [
            4
           ],
           "y": [
            135.33333333333334
           ]
          },
          {
           "marker": {
            "size": [
             21724.260416666668
            ],
            "sizemode": "area",
            "sizeref": 30
           },
           "mode": "markers",
           "name": "Java",
           "text": [
            "Java"
           ],
           "type": "scatter",
           "x": [
            40
           ],
           "y": [
            117.84375
           ]
          },
          {
           "marker": {
            "size": [
             122807.23854166667
            ],
            "sizemode": "area",
            "sizeref": 30
           },
           "mode": "markers",
           "name": "JavaScript",
           "text": [
            "JavaScript"
           ],
           "type": "scatter",
           "x": [
            23
           ],
           "y": [
            299.9833333333333
           ]
          },
          {
           "marker": {
            "size": [
             0
            ],
            "sizemode": "area",
            "sizeref": 30
           },
           "mode": "markers",
           "name": "OCaml",
           "text": [
            "OCaml"
           ],
           "type": "scatter",
           "x": [
            0
           ],
           "y": [
            0
           ]
          },
          {
           "marker": {
            "size": [
             22089.625
            ],
            "sizemode": "area",
            "sizeref": 30
           },
           "mode": "markers",
           "name": "Objective-C",
           "text": [
            "Objective-C"
           ],
           "type": "scatter",
           "x": [
            2
           ],
           "y": [
            28
           ]
          },
          {
           "marker": {
            "size": [
             1109.25
            ],
            "sizemode": "area",
            "sizeref": 30
           },
           "mode": "markers",
           "name": "Ruby",
           "text": [
            "Ruby"
           ],
           "type": "scatter",
           "x": [
            3
           ],
           "y": [
            17
           ]
          },
          {
           "marker": {
            "size": [
             138.5
            ],
            "sizemode": "area",
            "sizeref": 30
           },
           "mode": "markers",
           "name": "Rust",
           "text": [
            "Rust"
           ],
           "type": "scatter",
           "x": [
            2
           ],
           "y": [
            15.5
           ]
          },
          {
           "marker": {
            "size": [
             3662.464285714286
            ],
            "sizemode": "area",
            "sizeref": 30
           },
           "mode": "markers",
           "name": "Shell",
           "text": [
            "Shell"
           ],
           "type": "scatter",
           "x": [
            18
           ],
           "y": [
            14.407142857142858
           ]
          },
          {
           "marker": {
            "size": [
             2128
            ],
            "sizemode": "area",
            "sizeref": 30
           },
           "mode": "markers",
           "name": "Swift",
           "text": [
            "Swift"
           ],
           "type": "scatter",
           "x": [
            1
           ],
           "y": [
            1
           ]
          }
         ],
         "name": "5"
        },
        {
         "data": [
          {
           "marker": {
            "size": [
             41946.614583333336
            ],
            "sizemode": "area",
            "sizeref": 30
           },
           "mode": "markers",
           "name": "C",
           "text": [
            "C"
           ],
           "type": "scatter",
           "x": [
            9
           ],
           "y": [
            168.5
           ]
          },
          {
           "marker": {
            "size": [
             58515.75
            ],
            "sizemode": "area",
            "sizeref": 30
           },
           "mode": "markers",
           "name": "C#",
           "text": [
            "C#"
           ],
           "type": "scatter",
           "x": [
            1
           ],
           "y": [
            118
           ]
          },
          {
           "marker": {
            "size": [
             86640
            ],
            "sizemode": "area",
            "sizeref": 30
           },
           "mode": "markers",
           "name": "C++",
           "text": [
            "C++"
           ],
           "type": "scatter",
           "x": [
            5
           ],
           "y": [
            144.66666666666666
           ]
          },
          {
           "marker": {
            "size": [
             8667.59375
            ],
            "sizemode": "area",
            "sizeref": 30
           },
           "mode": "markers",
           "name": "CSS",
           "text": [
            "CSS"
           ],
           "type": "scatter",
           "x": [
            3
           ],
           "y": [
            49.5
           ]
          },
          {
           "marker": {
            "size": [
             12967.533333333335
            ],
            "sizemode": "area",
            "sizeref": 30
           },
           "mode": "markers",
           "name": "HTML",
           "text": [
            "HTML"
           ],
           "type": "scatter",
           "x": [
            9
           ],
           "y": [
            152.73333333333335
           ]
          },
          {
           "marker": {
            "size": [
             10862.130208333334
            ],
            "sizemode": "area",
            "sizeref": 30
           },
           "mode": "markers",
           "name": "Java",
           "text": [
            "Java"
           ],
           "type": "scatter",
           "x": [
            40
           ],
           "y": [
            117.84375
           ]
          },
          {
           "marker": {
            "size": [
             64441.2859375
            ],
            "sizemode": "area",
            "sizeref": 30
           },
           "mode": "markers",
           "name": "JavaScript",
           "text": [
            "JavaScript"
           ],
           "type": "scatter",
           "x": [
            26
           ],
           "y": [
            338.9833333333333
           ]
          },
          {
           "marker": {
            "size": [
             187
            ],
            "sizemode": "area",
            "sizeref": 30
           },
           "mode": "markers",
           "name": "OCaml",
           "text": [
            "OCaml"
           ],
           "type": "scatter",
           "x": [
            1
           ],
           "y": [
            1
           ]
          },
          {
           "marker": {
            "size": [
             11044.8125
            ],
            "sizemode": "area",
            "sizeref": 30
           },
           "mode": "markers",
           "name": "Objective-C",
           "text": [
            "Objective-C"
           ],
           "type": "scatter",
           "x": [
            2
           ],
           "y": [
            28
           ]
          },
          {
           "marker": {
            "size": [
             100415.625
            ],
            "sizemode": "area",
            "sizeref": 30
           },
           "mode": "markers",
           "name": "Ruby",
           "text": [
            "Ruby"
           ],
           "type": "scatter",
           "x": [
            7
           ],
           "y": [
            348.5
           ]
          },
          {
           "marker": {
            "size": [
             7380.25
            ],
            "sizemode": "area",
            "sizeref": 30
           },
           "mode": "markers",
           "name": "Rust",
           "text": [
            "Rust"
           ],
           "type": "scatter",
           "x": [
            3
           ],
           "y": [
            134.5
           ]
          },
          {
           "marker": {
            "size": [
             83627.23214285714
            ],
            "sizemode": "area",
            "sizeref": 30
           },
           "mode": "markers",
           "name": "Shell",
           "text": [
            "Shell"
           ],
           "type": "scatter",
           "x": [
            19
           ],
           "y": [
            22.40714285714286
           ]
          },
          {
           "marker": {
            "size": [
             5450
            ],
            "sizemode": "area",
            "sizeref": 30
           },
           "mode": "markers",
           "name": "Swift",
           "text": [
            "Swift"
           ],
           "type": "scatter",
           "x": [
            2
           ],
           "y": [
            56
           ]
          }
         ],
         "name": "6"
        },
        {
         "data": [
          {
           "marker": {
            "size": [
             20973.307291666668
            ],
            "sizemode": "area",
            "sizeref": 30
           },
           "mode": "markers",
           "name": "C",
           "text": [
            "C"
           ],
           "type": "scatter",
           "x": [
            9
           ],
           "y": [
            168.5
           ]
          },
          {
           "marker": {
            "size": [
             29257.875
            ],
            "sizemode": "area",
            "sizeref": 30
           },
           "mode": "markers",
           "name": "C#",
           "text": [
            "C#"
           ],
           "type": "scatter",
           "x": [
            1
           ],
           "y": [
            118
           ]
          },
          {
           "marker": {
            "size": [
             43320
            ],
            "sizemode": "area",
            "sizeref": 30
           },
           "mode": "markers",
           "name": "C++",
           "text": [
            "C++"
           ],
           "type": "scatter",
           "x": [
            5
           ],
           "y": [
            144.66666666666666
           ]
          },
          {
           "marker": {
            "size": [
             4333.796875
            ],
            "sizemode": "area",
            "sizeref": 30
           },
           "mode": "markers",
           "name": "CSS",
           "text": [
            "CSS"
           ],
           "type": "scatter",
           "x": [
            3
           ],
           "y": [
            49.5
           ]
          },
          {
           "marker": {
            "size": [
             6827.766666666667
            ],
            "sizemode": "area",
            "sizeref": 30
           },
           "mode": "markers",
           "name": "HTML",
           "text": [
            "HTML"
           ],
           "type": "scatter",
           "x": [
            10
           ],
           "y": [
            155.73333333333335
           ]
          },
          {
           "marker": {
            "size": [
             5431.065104166667
            ],
            "sizemode": "area",
            "sizeref": 30
           },
           "mode": "markers",
           "name": "Java",
           "text": [
            "Java"
           ],
           "type": "scatter",
           "x": [
            40
           ],
           "y": [
            117.84375
           ]
          },
          {
           "marker": {
            "size": [
             32220.64296875
            ],
            "sizemode": "area",
            "sizeref": 30
           },
           "mode": "markers",
           "name": "JavaScript",
           "text": [
            "JavaScript"
           ],
           "type": "scatter",
           "x": [
            26
           ],
           "y": [
            338.9833333333333
           ]
          },
          {
           "marker": {
            "size": [
             5518.833333333333
            ],
            "sizemode": "area",
            "sizeref": 30
           },
           "mode": "markers",
           "name": "OCaml",
           "text": [
            "OCaml"
           ],
           "type": "scatter",
           "x": [
            4
           ],
           "y": [
            2.333333333333333
           ]
          },
          {
           "marker": {
            "size": [
             5522.40625
            ],
            "sizemode": "area",
            "sizeref": 30
           },
           "mode": "markers",
           "name": "Objective-C",
           "text": [
            "Objective-C"
           ],
           "type": "scatter",
           "x": [
            2
           ],
           "y": [
            28
           ]
          },
          {
           "marker": {
            "size": [
             50207.8125
            ],
            "sizemode": "area",
            "sizeref": 30
           },
           "mode": "markers",
           "name": "Ruby",
           "text": [
            "Ruby"
           ],
           "type": "scatter",
           "x": [
            7
           ],
           "y": [
            348.5
           ]
          },
          {
           "marker": {
            "size": [
             3690.125
            ],
            "sizemode": "area",
            "sizeref": 30
           },
           "mode": "markers",
           "name": "Rust",
           "text": [
            "Rust"
           ],
           "type": "scatter",
           "x": [
            3
           ],
           "y": [
            134.5
           ]
          },
          {
           "marker": {
            "size": [
             114578.61607142858
            ],
            "sizemode": "area",
            "sizeref": 30
           },
           "mode": "markers",
           "name": "Shell",
           "text": [
            "Shell"
           ],
           "type": "scatter",
           "x": [
            20
           ],
           "y": [
            348.40714285714284
           ]
          },
          {
           "marker": {
            "size": [
             2725
            ],
            "sizemode": "area",
            "sizeref": 30
           },
           "mode": "markers",
           "name": "Swift",
           "text": [
            "Swift"
           ],
           "type": "scatter",
           "x": [
            2
           ],
           "y": [
            56
           ]
          }
         ],
         "name": "7"
        },
        {
         "data": [
          {
           "marker": {
            "size": [
             10486.653645833334
            ],
            "sizemode": "area",
            "sizeref": 30
           },
           "mode": "markers",
           "name": "C",
           "text": [
            "C"
           ],
           "type": "scatter",
           "x": [
            9
           ],
           "y": [
            168.5
           ]
          },
          {
           "marker": {
            "size": [
             14628.9375
            ],
            "sizemode": "area",
            "sizeref": 30
           },
           "mode": "markers",
           "name": "C#",
           "text": [
            "C#"
           ],
           "type": "scatter",
           "x": [
            1
           ],
           "y": [
            118
           ]
          },
          {
           "marker": {
            "size": [
             21979
            ],
            "sizemode": "area",
            "sizeref": 30
           },
           "mode": "markers",
           "name": "C++",
           "text": [
            "C++"
           ],
           "type": "scatter",
           "x": [
            6
           ],
           "y": [
            145.66666666666666
           ]
          },
          {
           "marker": {
            "size": [
             2166.8984375
            ],
            "sizemode": "area",
            "sizeref": 30
           },
           "mode": "markers",
           "name": "CSS",
           "text": [
            "CSS"
           ],
           "type": "scatter",
           "x": [
            3
           ],
           "y": [
            49.5
           ]
          },
          {
           "marker": {
            "size": [
             3413.8833333333337
            ],
            "sizemode": "area",
            "sizeref": 30
           },
           "mode": "markers",
           "name": "HTML",
           "text": [
            "HTML"
           ],
           "type": "scatter",
           "x": [
            10
           ],
           "y": [
            155.73333333333335
           ]
          },
          {
           "marker": {
            "size": [
             2715.5325520833335
            ],
            "sizemode": "area",
            "sizeref": 30
           },
           "mode": "markers",
           "name": "Java",
           "text": [
            "Java"
           ],
           "type": "scatter",
           "x": [
            40
           ],
           "y": [
            117.84375
           ]
          },
          {
           "marker": {
            "size": [
             20806.321484375
            ],
            "sizemode": "area",
            "sizeref": 30
           },
           "mode": "markers",
           "name": "JavaScript",
           "text": [
            "JavaScript"
           ],
           "type": "scatter",
           "x": [
            27
           ],
           "y": [
            339.9833333333333
           ]
          },
          {
           "marker": {
            "size": [
             3736.4166666666665
            ],
            "sizemode": "area",
            "sizeref": 30
           },
           "mode": "markers",
           "name": "OCaml",
           "text": [
            "OCaml"
           ],
           "type": "scatter",
           "x": [
            5
           ],
           "y": [
            3.333333333333333
           ]
          },
          {
           "marker": {
            "size": [
             2761.203125
            ],
            "sizemode": "area",
            "sizeref": 30
           },
           "mode": "markers",
           "name": "Objective-C",
           "text": [
            "Objective-C"
           ],
           "type": "scatter",
           "x": [
            2
           ],
           "y": [
            28
           ]
          },
          {
           "marker": {
            "size": [
             25103.90625
            ],
            "sizemode": "area",
            "sizeref": 30
           },
           "mode": "markers",
           "name": "Ruby",
           "text": [
            "Ruby"
           ],
           "type": "scatter",
           "x": [
            7
           ],
           "y": [
            348.5
           ]
          },
          {
           "marker": {
            "size": [
             1845.0625
            ],
            "sizemode": "area",
            "sizeref": 30
           },
           "mode": "markers",
           "name": "Rust",
           "text": [
            "Rust"
           ],
           "type": "scatter",
           "x": [
            3
           ],
           "y": [
            134.5
           ]
          },
          {
           "marker": {
            "size": [
             57289.30803571429
            ],
            "sizemode": "area",
            "sizeref": 30
           },
           "mode": "markers",
           "name": "Shell",
           "text": [
            "Shell"
           ],
           "type": "scatter",
           "x": [
            20
           ],
           "y": [
            348.40714285714284
           ]
          },
          {
           "marker": {
            "size": [
             1362.5
            ],
            "sizemode": "area",
            "sizeref": 30
           },
           "mode": "markers",
           "name": "Swift",
           "text": [
            "Swift"
           ],
           "type": "scatter",
           "x": [
            2
           ],
           "y": [
            56
           ]
          }
         ],
         "name": "8"
        }
       ],
       "layout": {
        "hovermode": "closest",
        "sliders": [
         {
          "active": 0,
          "currentvalue": {
           "font": {
            "size": 20
           },
           "prefix": "Year:",
           "visible": true,
           "xanchor": "right"
          },
          "len": 0.9,
          "pad": {
           "b": 10,
           "t": 50
          },
          "steps": [
           {
            "args": [
             [
              0
             ],
             {
              "frame": {
               "duration": 300,
               "redraw": false
              },
              "mode": "immediate",
              "transition": {
               "duration": 300
              }
             }
            ],
            "label": "0",
            "method": "animate"
           },
           {
            "args": [
             [
              1
             ],
             {
              "frame": {
               "duration": 300,
               "redraw": false
              },
              "mode": "immediate",
              "transition": {
               "duration": 300
              }
             }
            ],
            "label": "1",
            "method": "animate"
           },
           {
            "args": [
             [
              2
             ],
             {
              "frame": {
               "duration": 300,
               "redraw": false
              },
              "mode": "immediate",
              "transition": {
               "duration": 300
              }
             }
            ],
            "label": "2",
            "method": "animate"
           },
           {
            "args": [
             [
              3
             ],
             {
              "frame": {
               "duration": 300,
               "redraw": false
              },
              "mode": "immediate",
              "transition": {
               "duration": 300
              }
             }
            ],
            "label": "3",
            "method": "animate"
           },
           {
            "args": [
             [
              4
             ],
             {
              "frame": {
               "duration": 300,
               "redraw": false
              },
              "mode": "immediate",
              "transition": {
               "duration": 300
              }
             }
            ],
            "label": "4",
            "method": "animate"
           },
           {
            "args": [
             [
              5
             ],
             {
              "frame": {
               "duration": 300,
               "redraw": false
              },
              "mode": "immediate",
              "transition": {
               "duration": 300
              }
             }
            ],
            "label": "5",
            "method": "animate"
           },
           {
            "args": [
             [
              6
             ],
             {
              "frame": {
               "duration": 300,
               "redraw": false
              },
              "mode": "immediate",
              "transition": {
               "duration": 300
              }
             }
            ],
            "label": "6",
            "method": "animate"
           },
           {
            "args": [
             [
              7
             ],
             {
              "frame": {
               "duration": 300,
               "redraw": false
              },
              "mode": "immediate",
              "transition": {
               "duration": 300
              }
             }
            ],
            "label": "7",
            "method": "animate"
           },
           {
            "args": [
             [
              8
             ],
             {
              "frame": {
               "duration": 300,
               "redraw": false
              },
              "mode": "immediate",
              "transition": {
               "duration": 300
              }
             }
            ],
            "label": "8",
            "method": "animate"
           }
          ],
          "transition": {
           "duration": 300,
           "easing": "cubic-in-out"
          },
          "x": 0.1,
          "xanchor": "left",
          "y": 0,
          "yanchor": "top"
         }
        ],
        "template": {
         "data": {
          "bar": [
           {
            "error_x": {
             "color": "#2a3f5f"
            },
            "error_y": {
             "color": "#2a3f5f"
            },
            "marker": {
             "line": {
              "color": "#E5ECF6",
              "width": 0.5
             }
            },
            "type": "bar"
           }
          ],
          "barpolar": [
           {
            "marker": {
             "line": {
              "color": "#E5ECF6",
              "width": 0.5
             }
            },
            "type": "barpolar"
           }
          ],
          "carpet": [
           {
            "aaxis": {
             "endlinecolor": "#2a3f5f",
             "gridcolor": "white",
             "linecolor": "white",
             "minorgridcolor": "white",
             "startlinecolor": "#2a3f5f"
            },
            "baxis": {
             "endlinecolor": "#2a3f5f",
             "gridcolor": "white",
             "linecolor": "white",
             "minorgridcolor": "white",
             "startlinecolor": "#2a3f5f"
            },
            "type": "carpet"
           }
          ],
          "choropleth": [
           {
            "colorbar": {
             "outlinewidth": 0,
             "ticks": ""
            },
            "type": "choropleth"
           }
          ],
          "contour": [
           {
            "colorbar": {
             "outlinewidth": 0,
             "ticks": ""
            },
            "colorscale": [
             [
              0,
              "#0d0887"
             ],
             [
              0.1111111111111111,
              "#46039f"
             ],
             [
              0.2222222222222222,
              "#7201a8"
             ],
             [
              0.3333333333333333,
              "#9c179e"
             ],
             [
              0.4444444444444444,
              "#bd3786"
             ],
             [
              0.5555555555555556,
              "#d8576b"
             ],
             [
              0.6666666666666666,
              "#ed7953"
             ],
             [
              0.7777777777777778,
              "#fb9f3a"
             ],
             [
              0.8888888888888888,
              "#fdca26"
             ],
             [
              1,
              "#f0f921"
             ]
            ],
            "type": "contour"
           }
          ],
          "contourcarpet": [
           {
            "colorbar": {
             "outlinewidth": 0,
             "ticks": ""
            },
            "type": "contourcarpet"
           }
          ],
          "heatmap": [
           {
            "colorbar": {
             "outlinewidth": 0,
             "ticks": ""
            },
            "colorscale": [
             [
              0,
              "#0d0887"
             ],
             [
              0.1111111111111111,
              "#46039f"
             ],
             [
              0.2222222222222222,
              "#7201a8"
             ],
             [
              0.3333333333333333,
              "#9c179e"
             ],
             [
              0.4444444444444444,
              "#bd3786"
             ],
             [
              0.5555555555555556,
              "#d8576b"
             ],
             [
              0.6666666666666666,
              "#ed7953"
             ],
             [
              0.7777777777777778,
              "#fb9f3a"
             ],
             [
              0.8888888888888888,
              "#fdca26"
             ],
             [
              1,
              "#f0f921"
             ]
            ],
            "type": "heatmap"
           }
          ],
          "heatmapgl": [
           {
            "colorbar": {
             "outlinewidth": 0,
             "ticks": ""
            },
            "colorscale": [
             [
              0,
              "#0d0887"
             ],
             [
              0.1111111111111111,
              "#46039f"
             ],
             [
              0.2222222222222222,
              "#7201a8"
             ],
             [
              0.3333333333333333,
              "#9c179e"
             ],
             [
              0.4444444444444444,
              "#bd3786"
             ],
             [
              0.5555555555555556,
              "#d8576b"
             ],
             [
              0.6666666666666666,
              "#ed7953"
             ],
             [
              0.7777777777777778,
              "#fb9f3a"
             ],
             [
              0.8888888888888888,
              "#fdca26"
             ],
             [
              1,
              "#f0f921"
             ]
            ],
            "type": "heatmapgl"
           }
          ],
          "histogram": [
           {
            "marker": {
             "colorbar": {
              "outlinewidth": 0,
              "ticks": ""
             }
            },
            "type": "histogram"
           }
          ],
          "histogram2d": [
           {
            "colorbar": {
             "outlinewidth": 0,
             "ticks": ""
            },
            "colorscale": [
             [
              0,
              "#0d0887"
             ],
             [
              0.1111111111111111,
              "#46039f"
             ],
             [
              0.2222222222222222,
              "#7201a8"
             ],
             [
              0.3333333333333333,
              "#9c179e"
             ],
             [
              0.4444444444444444,
              "#bd3786"
             ],
             [
              0.5555555555555556,
              "#d8576b"
             ],
             [
              0.6666666666666666,
              "#ed7953"
             ],
             [
              0.7777777777777778,
              "#fb9f3a"
             ],
             [
              0.8888888888888888,
              "#fdca26"
             ],
             [
              1,
              "#f0f921"
             ]
            ],
            "type": "histogram2d"
           }
          ],
          "histogram2dcontour": [
           {
            "colorbar": {
             "outlinewidth": 0,
             "ticks": ""
            },
            "colorscale": [
             [
              0,
              "#0d0887"
             ],
             [
              0.1111111111111111,
              "#46039f"
             ],
             [
              0.2222222222222222,
              "#7201a8"
             ],
             [
              0.3333333333333333,
              "#9c179e"
             ],
             [
              0.4444444444444444,
              "#bd3786"
             ],
             [
              0.5555555555555556,
              "#d8576b"
             ],
             [
              0.6666666666666666,
              "#ed7953"
             ],
             [
              0.7777777777777778,
              "#fb9f3a"
             ],
             [
              0.8888888888888888,
              "#fdca26"
             ],
             [
              1,
              "#f0f921"
             ]
            ],
            "type": "histogram2dcontour"
           }
          ],
          "mesh3d": [
           {
            "colorbar": {
             "outlinewidth": 0,
             "ticks": ""
            },
            "type": "mesh3d"
           }
          ],
          "parcoords": [
           {
            "line": {
             "colorbar": {
              "outlinewidth": 0,
              "ticks": ""
             }
            },
            "type": "parcoords"
           }
          ],
          "pie": [
           {
            "automargin": true,
            "type": "pie"
           }
          ],
          "scatter": [
           {
            "marker": {
             "colorbar": {
              "outlinewidth": 0,
              "ticks": ""
             }
            },
            "type": "scatter"
           }
          ],
          "scatter3d": [
           {
            "line": {
             "colorbar": {
              "outlinewidth": 0,
              "ticks": ""
             }
            },
            "marker": {
             "colorbar": {
              "outlinewidth": 0,
              "ticks": ""
             }
            },
            "type": "scatter3d"
           }
          ],
          "scattercarpet": [
           {
            "marker": {
             "colorbar": {
              "outlinewidth": 0,
              "ticks": ""
             }
            },
            "type": "scattercarpet"
           }
          ],
          "scattergeo": [
           {
            "marker": {
             "colorbar": {
              "outlinewidth": 0,
              "ticks": ""
             }
            },
            "type": "scattergeo"
           }
          ],
          "scattergl": [
           {
            "marker": {
             "colorbar": {
              "outlinewidth": 0,
              "ticks": ""
             }
            },
            "type": "scattergl"
           }
          ],
          "scattermapbox": [
           {
            "marker": {
             "colorbar": {
              "outlinewidth": 0,
              "ticks": ""
             }
            },
            "type": "scattermapbox"
           }
          ],
          "scatterpolar": [
           {
            "marker": {
             "colorbar": {
              "outlinewidth": 0,
              "ticks": ""
             }
            },
            "type": "scatterpolar"
           }
          ],
          "scatterpolargl": [
           {
            "marker": {
             "colorbar": {
              "outlinewidth": 0,
              "ticks": ""
             }
            },
            "type": "scatterpolargl"
           }
          ],
          "scatterternary": [
           {
            "marker": {
             "colorbar": {
              "outlinewidth": 0,
              "ticks": ""
             }
            },
            "type": "scatterternary"
           }
          ],
          "surface": [
           {
            "colorbar": {
             "outlinewidth": 0,
             "ticks": ""
            },
            "colorscale": [
             [
              0,
              "#0d0887"
             ],
             [
              0.1111111111111111,
              "#46039f"
             ],
             [
              0.2222222222222222,
              "#7201a8"
             ],
             [
              0.3333333333333333,
              "#9c179e"
             ],
             [
              0.4444444444444444,
              "#bd3786"
             ],
             [
              0.5555555555555556,
              "#d8576b"
             ],
             [
              0.6666666666666666,
              "#ed7953"
             ],
             [
              0.7777777777777778,
              "#fb9f3a"
             ],
             [
              0.8888888888888888,
              "#fdca26"
             ],
             [
              1,
              "#f0f921"
             ]
            ],
            "type": "surface"
           }
          ],
          "table": [
           {
            "cells": {
             "fill": {
              "color": "#EBF0F8"
             },
             "line": {
              "color": "white"
             }
            },
            "header": {
             "fill": {
              "color": "#C8D4E3"
             },
             "line": {
              "color": "white"
             }
            },
            "type": "table"
           }
          ]
         },
         "layout": {
          "annotationdefaults": {
           "arrowcolor": "#2a3f5f",
           "arrowhead": 0,
           "arrowwidth": 1
          },
          "coloraxis": {
           "colorbar": {
            "outlinewidth": 0,
            "ticks": ""
           }
          },
          "colorscale": {
           "diverging": [
            [
             0,
             "#8e0152"
            ],
            [
             0.1,
             "#c51b7d"
            ],
            [
             0.2,
             "#de77ae"
            ],
            [
             0.3,
             "#f1b6da"
            ],
            [
             0.4,
             "#fde0ef"
            ],
            [
             0.5,
             "#f7f7f7"
            ],
            [
             0.6,
             "#e6f5d0"
            ],
            [
             0.7,
             "#b8e186"
            ],
            [
             0.8,
             "#7fbc41"
            ],
            [
             0.9,
             "#4d9221"
            ],
            [
             1,
             "#276419"
            ]
           ],
           "sequential": [
            [
             0,
             "#0d0887"
            ],
            [
             0.1111111111111111,
             "#46039f"
            ],
            [
             0.2222222222222222,
             "#7201a8"
            ],
            [
             0.3333333333333333,
             "#9c179e"
            ],
            [
             0.4444444444444444,
             "#bd3786"
            ],
            [
             0.5555555555555556,
             "#d8576b"
            ],
            [
             0.6666666666666666,
             "#ed7953"
            ],
            [
             0.7777777777777778,
             "#fb9f3a"
            ],
            [
             0.8888888888888888,
             "#fdca26"
            ],
            [
             1,
             "#f0f921"
            ]
           ],
           "sequentialminus": [
            [
             0,
             "#0d0887"
            ],
            [
             0.1111111111111111,
             "#46039f"
            ],
            [
             0.2222222222222222,
             "#7201a8"
            ],
            [
             0.3333333333333333,
             "#9c179e"
            ],
            [
             0.4444444444444444,
             "#bd3786"
            ],
            [
             0.5555555555555556,
             "#d8576b"
            ],
            [
             0.6666666666666666,
             "#ed7953"
            ],
            [
             0.7777777777777778,
             "#fb9f3a"
            ],
            [
             0.8888888888888888,
             "#fdca26"
            ],
            [
             1,
             "#f0f921"
            ]
           ]
          },
          "colorway": [
           "#636efa",
           "#EF553B",
           "#00cc96",
           "#ab63fa",
           "#FFA15A",
           "#19d3f3",
           "#FF6692",
           "#B6E880",
           "#FF97FF",
           "#FECB52"
          ],
          "font": {
           "color": "#2a3f5f"
          },
          "geo": {
           "bgcolor": "white",
           "lakecolor": "white",
           "landcolor": "#E5ECF6",
           "showlakes": true,
           "showland": true,
           "subunitcolor": "white"
          },
          "hoverlabel": {
           "align": "left"
          },
          "hovermode": "closest",
          "mapbox": {
           "style": "light"
          },
          "paper_bgcolor": "white",
          "plot_bgcolor": "#E5ECF6",
          "polar": {
           "angularaxis": {
            "gridcolor": "white",
            "linecolor": "white",
            "ticks": ""
           },
           "bgcolor": "#E5ECF6",
           "radialaxis": {
            "gridcolor": "white",
            "linecolor": "white",
            "ticks": ""
           }
          },
          "scene": {
           "xaxis": {
            "backgroundcolor": "#E5ECF6",
            "gridcolor": "white",
            "gridwidth": 2,
            "linecolor": "white",
            "showbackground": true,
            "ticks": "",
            "zerolinecolor": "white"
           },
           "yaxis": {
            "backgroundcolor": "#E5ECF6",
            "gridcolor": "white",
            "gridwidth": 2,
            "linecolor": "white",
            "showbackground": true,
            "ticks": "",
            "zerolinecolor": "white"
           },
           "zaxis": {
            "backgroundcolor": "#E5ECF6",
            "gridcolor": "white",
            "gridwidth": 2,
            "linecolor": "white",
            "showbackground": true,
            "ticks": "",
            "zerolinecolor": "white"
           }
          },
          "shapedefaults": {
           "line": {
            "color": "#2a3f5f"
           }
          },
          "ternary": {
           "aaxis": {
            "gridcolor": "white",
            "linecolor": "white",
            "ticks": ""
           },
           "baxis": {
            "gridcolor": "white",
            "linecolor": "white",
            "ticks": ""
           },
           "bgcolor": "#E5ECF6",
           "caxis": {
            "gridcolor": "white",
            "linecolor": "white",
            "ticks": ""
           }
          },
          "title": {
           "x": 0.05
          },
          "xaxis": {
           "automargin": true,
           "gridcolor": "white",
           "linecolor": "white",
           "ticks": "",
           "title": {
            "standoff": 15
           },
           "zerolinecolor": "white",
           "zerolinewidth": 2
          },
          "yaxis": {
           "automargin": true,
           "gridcolor": "white",
           "linecolor": "white",
           "ticks": "",
           "title": {
            "standoff": 15
           },
           "zerolinecolor": "white",
           "zerolinewidth": 2
          }
         }
        },
        "updatemenus": [
         {
          "buttons": [
           {
            "args": [
             null,
             {
              "frame": {
               "duration": 500,
               "redraw": false
              },
              "fromcurrent": true,
              "transition": {
               "duration": 300,
               "easing": "quadratic-in-out"
              }
             }
            ],
            "label": "Play",
            "method": "animate"
           },
           {
            "args": [
             [
              null
             ],
             {
              "frame": {
               "duration": 0,
               "redraw": false
              },
              "mode": "immediate",
              "transition": {
               "duration": 0
              }
             }
            ],
            "label": "Pause",
            "method": "animate"
           }
          ],
          "direction": "left",
          "pad": {
           "r": 10,
           "t": 87
          },
          "showactive": false,
          "type": "buttons",
          "x": 0.1,
          "xanchor": "right",
          "y": 0,
          "yanchor": "top"
         }
        ],
        "xaxis": {
         "range": [
          0,
          45
         ],
         "title": {
          "text": "Number of Active Repositories"
         }
        },
        "yaxis": {
         "range": [
          0,
          400
         ],
         "title": {
          "text": "Number of Contributors"
         }
        }
       }
      },
      "text/html": [
       "<div>\n",
       "        \n",
       "        \n",
       "            <div id=\"94b24746-e21b-449f-b590-a9b0ac6d8088\" class=\"plotly-graph-div\" style=\"height:525px; width:100%;\"></div>\n",
       "            <script type=\"text/javascript\">\n",
       "                require([\"plotly\"], function(Plotly) {\n",
       "                    window.PLOTLYENV=window.PLOTLYENV || {};\n",
       "                    \n",
       "                if (document.getElementById(\"94b24746-e21b-449f-b590-a9b0ac6d8088\")) {\n",
       "                    Plotly.newPlot(\n",
       "                        '94b24746-e21b-449f-b590-a9b0ac6d8088',\n",
       "                        [{\"marker\": {\"size\": [104.0], \"sizemode\": \"area\", \"sizeref\": 30}, \"mode\": \"markers\", \"name\": \"C\", \"text\": [\"C\"], \"type\": \"scatter\", \"x\": [1], \"y\": [1.0]}, {\"marker\": {\"size\": [0.0], \"sizemode\": \"area\", \"sizeref\": 30}, \"mode\": \"markers\", \"name\": \"C#\", \"text\": [\"C#\"], \"type\": \"scatter\", \"x\": [0], \"y\": [0.0]}, {\"marker\": {\"size\": [0.0], \"sizemode\": \"area\", \"sizeref\": 30}, \"mode\": \"markers\", \"name\": \"C++\", \"text\": [\"C++\"], \"type\": \"scatter\", \"x\": [0], \"y\": [0.0]}, {\"marker\": {\"size\": [0.0], \"sizemode\": \"area\", \"sizeref\": 30}, \"mode\": \"markers\", \"name\": \"CSS\", \"text\": [\"CSS\"], \"type\": \"scatter\", \"x\": [0], \"y\": [0.0]}, {\"marker\": {\"size\": [0.0], \"sizemode\": \"area\", \"sizeref\": 30}, \"mode\": \"markers\", \"name\": \"HTML\", \"text\": [\"HTML\"], \"type\": \"scatter\", \"x\": [0], \"y\": [0.0]}, {\"marker\": {\"size\": [0.0], \"sizemode\": \"area\", \"sizeref\": 30}, \"mode\": \"markers\", \"name\": \"Java\", \"text\": [\"Java\"], \"type\": \"scatter\", \"x\": [0], \"y\": [0.0]}, {\"marker\": {\"size\": [18081.5], \"sizemode\": \"area\", \"sizeref\": 30}, \"mode\": \"markers\", \"name\": \"JavaScript\", \"text\": [\"JavaScript\"], \"type\": \"scatter\", \"x\": [4], \"y\": [4.5]}, {\"marker\": {\"size\": [0.0], \"sizemode\": \"area\", \"sizeref\": 30}, \"mode\": \"markers\", \"name\": \"OCaml\", \"text\": [\"OCaml\"], \"type\": \"scatter\", \"x\": [0], \"y\": [0.0]}, {\"marker\": {\"size\": [0.0], \"sizemode\": \"area\", \"sizeref\": 30}, \"mode\": \"markers\", \"name\": \"Objective-C\", \"text\": [\"Objective-C\"], \"type\": \"scatter\", \"x\": [0], \"y\": [0.0]}, {\"marker\": {\"size\": [0.0], \"sizemode\": \"area\", \"sizeref\": 30}, \"mode\": \"markers\", \"name\": \"Ruby\", \"text\": [\"Ruby\"], \"type\": \"scatter\", \"x\": [0], \"y\": [0.0]}, {\"marker\": {\"size\": [0.0], \"sizemode\": \"area\", \"sizeref\": 30}, \"mode\": \"markers\", \"name\": \"Rust\", \"text\": [\"Rust\"], \"type\": \"scatter\", \"x\": [0], \"y\": [0.0]}, {\"marker\": {\"size\": [0.0], \"sizemode\": \"area\", \"sizeref\": 30}, \"mode\": \"markers\", \"name\": \"Shell\", \"text\": [\"Shell\"], \"type\": \"scatter\", \"x\": [0], \"y\": [0.0]}, {\"marker\": {\"size\": [0.0], \"sizemode\": \"area\", \"sizeref\": 30}, \"mode\": \"markers\", \"name\": \"Swift\", \"text\": [\"Swift\"], \"type\": \"scatter\", \"x\": [0], \"y\": [0.0]}, {\"marker\": {\"size\": [104.0], \"sizemode\": \"area\", \"sizeref\": 30}, \"mode\": \"markers\", \"name\": \"C\", \"text\": [\"C\"], \"type\": \"scatter\", \"x\": [1], \"y\": [1.0]}, {\"marker\": {\"size\": [0.0], \"sizemode\": \"area\", \"sizeref\": 30}, \"mode\": \"markers\", \"name\": \"C#\", \"text\": [\"C#\"], \"type\": \"scatter\", \"x\": [0], \"y\": [0.0]}, {\"marker\": {\"size\": [0.0], \"sizemode\": \"area\", \"sizeref\": 30}, \"mode\": \"markers\", \"name\": \"C++\", \"text\": [\"C++\"], \"type\": \"scatter\", \"x\": [0], \"y\": [0.0]}, {\"marker\": {\"size\": [0.0], \"sizemode\": \"area\", \"sizeref\": 30}, \"mode\": \"markers\", \"name\": \"CSS\", \"text\": [\"CSS\"], \"type\": \"scatter\", \"x\": [0], \"y\": [0.0]}, {\"marker\": {\"size\": [0.0], \"sizemode\": \"area\", \"sizeref\": 30}, \"mode\": \"markers\", \"name\": \"HTML\", \"text\": [\"HTML\"], \"type\": \"scatter\", \"x\": [0], \"y\": [0.0]}, {\"marker\": {\"size\": [0.0], \"sizemode\": \"area\", \"sizeref\": 30}, \"mode\": \"markers\", \"name\": \"Java\", \"text\": [\"Java\"], \"type\": \"scatter\", \"x\": [0], \"y\": [0.0]}, {\"marker\": {\"size\": [18081.5], \"sizemode\": \"area\", \"sizeref\": 30}, \"mode\": \"markers\", \"name\": \"JavaScript\", \"text\": [\"JavaScript\"], \"type\": \"scatter\", \"x\": [4], \"y\": [4.5]}, {\"marker\": {\"size\": [0.0], \"sizemode\": \"area\", \"sizeref\": 30}, \"mode\": \"markers\", \"name\": \"OCaml\", \"text\": [\"OCaml\"], \"type\": \"scatter\", \"x\": [0], \"y\": [0.0]}, {\"marker\": {\"size\": [0.0], \"sizemode\": \"area\", \"sizeref\": 30}, \"mode\": \"markers\", \"name\": \"Objective-C\", \"text\": [\"Objective-C\"], \"type\": \"scatter\", \"x\": [0], \"y\": [0.0]}, {\"marker\": {\"size\": [0.0], \"sizemode\": \"area\", \"sizeref\": 30}, \"mode\": \"markers\", \"name\": \"Ruby\", \"text\": [\"Ruby\"], \"type\": \"scatter\", \"x\": [0], \"y\": [0.0]}, {\"marker\": {\"size\": [0.0], \"sizemode\": \"area\", \"sizeref\": 30}, \"mode\": \"markers\", \"name\": \"Rust\", \"text\": [\"Rust\"], \"type\": \"scatter\", \"x\": [0], \"y\": [0.0]}, {\"marker\": {\"size\": [0.0], \"sizemode\": \"area\", \"sizeref\": 30}, \"mode\": \"markers\", \"name\": \"Shell\", \"text\": [\"Shell\"], \"type\": \"scatter\", \"x\": [0], \"y\": [0.0]}, {\"marker\": {\"size\": [0.0], \"sizemode\": \"area\", \"sizeref\": 30}, \"mode\": \"markers\", \"name\": \"Swift\", \"text\": [\"Swift\"], \"type\": \"scatter\", \"x\": [0], \"y\": [0.0]}, {\"marker\": {\"size\": [104.0], \"sizemode\": \"area\", \"sizeref\": 30}, \"mode\": \"markers\", \"name\": \"C\", \"text\": [\"C\"], \"type\": \"scatter\", \"x\": [1], \"y\": [1.0]}, {\"marker\": {\"size\": [0.0], \"sizemode\": \"area\", \"sizeref\": 30}, \"mode\": \"markers\", \"name\": \"C#\", \"text\": [\"C#\"], \"type\": \"scatter\", \"x\": [0], \"y\": [0.0]}, {\"marker\": {\"size\": [0.0], \"sizemode\": \"area\", \"sizeref\": 30}, \"mode\": \"markers\", \"name\": \"C++\", \"text\": [\"C++\"], \"type\": \"scatter\", \"x\": [0], \"y\": [0.0]}, {\"marker\": {\"size\": [0.0], \"sizemode\": \"area\", \"sizeref\": 30}, \"mode\": \"markers\", \"name\": \"CSS\", \"text\": [\"CSS\"], \"type\": \"scatter\", \"x\": [0], \"y\": [0.0]}, {\"marker\": {\"size\": [0.0], \"sizemode\": \"area\", \"sizeref\": 30}, \"mode\": \"markers\", \"name\": \"HTML\", \"text\": [\"HTML\"], \"type\": \"scatter\", \"x\": [0], \"y\": [0.0]}, {\"marker\": {\"size\": [0.0], \"sizemode\": \"area\", \"sizeref\": 30}, \"mode\": \"markers\", \"name\": \"Java\", \"text\": [\"Java\"], \"type\": \"scatter\", \"x\": [0], \"y\": [0.0]}, {\"marker\": {\"size\": [18081.5], \"sizemode\": \"area\", \"sizeref\": 30}, \"mode\": \"markers\", \"name\": \"JavaScript\", \"text\": [\"JavaScript\"], \"type\": \"scatter\", \"x\": [4], \"y\": [4.5]}, {\"marker\": {\"size\": [0.0], \"sizemode\": \"area\", \"sizeref\": 30}, \"mode\": \"markers\", \"name\": \"OCaml\", \"text\": [\"OCaml\"], \"type\": \"scatter\", \"x\": [0], \"y\": [0.0]}, {\"marker\": {\"size\": [0.0], \"sizemode\": \"area\", \"sizeref\": 30}, \"mode\": \"markers\", \"name\": \"Objective-C\", \"text\": [\"Objective-C\"], \"type\": \"scatter\", \"x\": [0], \"y\": [0.0]}, {\"marker\": {\"size\": [0.0], \"sizemode\": \"area\", \"sizeref\": 30}, \"mode\": \"markers\", \"name\": \"Ruby\", \"text\": [\"Ruby\"], \"type\": \"scatter\", \"x\": [0], \"y\": [0.0]}, {\"marker\": {\"size\": [0.0], \"sizemode\": \"area\", \"sizeref\": 30}, \"mode\": \"markers\", \"name\": \"Rust\", \"text\": [\"Rust\"], \"type\": \"scatter\", \"x\": [0], \"y\": [0.0]}, {\"marker\": {\"size\": [0.0], \"sizemode\": \"area\", \"sizeref\": 30}, \"mode\": \"markers\", \"name\": \"Shell\", \"text\": [\"Shell\"], \"type\": \"scatter\", \"x\": [0], \"y\": [0.0]}, {\"marker\": {\"size\": [0.0], \"sizemode\": \"area\", \"sizeref\": 30}, \"mode\": \"markers\", \"name\": \"Swift\", \"text\": [\"Swift\"], \"type\": \"scatter\", \"x\": [0], \"y\": [0.0]}, {\"marker\": {\"size\": [104.0], \"sizemode\": \"area\", \"sizeref\": 30}, \"mode\": \"markers\", \"name\": \"C\", \"text\": [\"C\"], \"type\": \"scatter\", \"x\": [1], \"y\": [1.0]}, {\"marker\": {\"size\": [0.0], \"sizemode\": \"area\", \"sizeref\": 30}, \"mode\": \"markers\", \"name\": \"C#\", \"text\": [\"C#\"], \"type\": \"scatter\", \"x\": [0], \"y\": [0.0]}, {\"marker\": {\"size\": [0.0], \"sizemode\": \"area\", \"sizeref\": 30}, \"mode\": \"markers\", \"name\": \"C++\", \"text\": [\"C++\"], \"type\": \"scatter\", \"x\": [0], \"y\": [0.0]}, {\"marker\": {\"size\": [0.0], \"sizemode\": \"area\", \"sizeref\": 30}, \"mode\": \"markers\", \"name\": \"CSS\", \"text\": [\"CSS\"], \"type\": \"scatter\", \"x\": [0], \"y\": [0.0]}, {\"marker\": {\"size\": [0.0], \"sizemode\": \"area\", \"sizeref\": 30}, \"mode\": \"markers\", \"name\": \"HTML\", \"text\": [\"HTML\"], \"type\": \"scatter\", \"x\": [0], \"y\": [0.0]}, {\"marker\": {\"size\": [0.0], \"sizemode\": \"area\", \"sizeref\": 30}, \"mode\": \"markers\", \"name\": \"Java\", \"text\": [\"Java\"], \"type\": \"scatter\", \"x\": [0], \"y\": [0.0]}, {\"marker\": {\"size\": [18081.5], \"sizemode\": \"area\", \"sizeref\": 30}, \"mode\": \"markers\", \"name\": \"JavaScript\", \"text\": [\"JavaScript\"], \"type\": \"scatter\", \"x\": [4], \"y\": [4.5]}, {\"marker\": {\"size\": [0.0], \"sizemode\": \"area\", \"sizeref\": 30}, \"mode\": \"markers\", \"name\": \"OCaml\", \"text\": [\"OCaml\"], \"type\": \"scatter\", \"x\": [0], \"y\": [0.0]}, {\"marker\": {\"size\": [0.0], \"sizemode\": \"area\", \"sizeref\": 30}, \"mode\": \"markers\", \"name\": \"Objective-C\", \"text\": [\"Objective-C\"], \"type\": \"scatter\", \"x\": [0], \"y\": [0.0]}, {\"marker\": {\"size\": [0.0], \"sizemode\": \"area\", \"sizeref\": 30}, \"mode\": \"markers\", \"name\": \"Ruby\", \"text\": [\"Ruby\"], \"type\": \"scatter\", \"x\": [0], \"y\": [0.0]}, {\"marker\": {\"size\": [0.0], \"sizemode\": \"area\", \"sizeref\": 30}, \"mode\": \"markers\", \"name\": \"Rust\", \"text\": [\"Rust\"], \"type\": \"scatter\", \"x\": [0], \"y\": [0.0]}, {\"marker\": {\"size\": [0.0], \"sizemode\": \"area\", \"sizeref\": 30}, \"mode\": \"markers\", \"name\": \"Shell\", \"text\": [\"Shell\"], \"type\": \"scatter\", \"x\": [0], \"y\": [0.0]}, {\"marker\": {\"size\": [0.0], \"sizemode\": \"area\", \"sizeref\": 30}, \"mode\": \"markers\", \"name\": \"Swift\", \"text\": [\"Swift\"], \"type\": \"scatter\", \"x\": [0], \"y\": [0.0]}],\n",
       "                        {\"hovermode\": \"closest\", \"sliders\": [{\"active\": 0, \"currentvalue\": {\"font\": {\"size\": 20}, \"prefix\": \"Year:\", \"visible\": true, \"xanchor\": \"right\"}, \"len\": 0.9, \"pad\": {\"b\": 10, \"t\": 50}, \"steps\": [{\"args\": [[0], {\"frame\": {\"duration\": 300, \"redraw\": false}, \"mode\": \"immediate\", \"transition\": {\"duration\": 300}}], \"label\": \"0\", \"method\": \"animate\"}, {\"args\": [[1], {\"frame\": {\"duration\": 300, \"redraw\": false}, \"mode\": \"immediate\", \"transition\": {\"duration\": 300}}], \"label\": \"1\", \"method\": \"animate\"}, {\"args\": [[2], {\"frame\": {\"duration\": 300, \"redraw\": false}, \"mode\": \"immediate\", \"transition\": {\"duration\": 300}}], \"label\": \"2\", \"method\": \"animate\"}, {\"args\": [[3], {\"frame\": {\"duration\": 300, \"redraw\": false}, \"mode\": \"immediate\", \"transition\": {\"duration\": 300}}], \"label\": \"3\", \"method\": \"animate\"}, {\"args\": [[4], {\"frame\": {\"duration\": 300, \"redraw\": false}, \"mode\": \"immediate\", \"transition\": {\"duration\": 300}}], \"label\": \"4\", \"method\": \"animate\"}, {\"args\": [[5], {\"frame\": {\"duration\": 300, \"redraw\": false}, \"mode\": \"immediate\", \"transition\": {\"duration\": 300}}], \"label\": \"5\", \"method\": \"animate\"}, {\"args\": [[6], {\"frame\": {\"duration\": 300, \"redraw\": false}, \"mode\": \"immediate\", \"transition\": {\"duration\": 300}}], \"label\": \"6\", \"method\": \"animate\"}, {\"args\": [[7], {\"frame\": {\"duration\": 300, \"redraw\": false}, \"mode\": \"immediate\", \"transition\": {\"duration\": 300}}], \"label\": \"7\", \"method\": \"animate\"}, {\"args\": [[8], {\"frame\": {\"duration\": 300, \"redraw\": false}, \"mode\": \"immediate\", \"transition\": {\"duration\": 300}}], \"label\": \"8\", \"method\": \"animate\"}], \"transition\": {\"duration\": 300, \"easing\": \"cubic-in-out\"}, \"x\": 0.1, \"xanchor\": \"left\", \"y\": 0, \"yanchor\": \"top\"}], \"template\": {\"data\": {\"bar\": [{\"error_x\": {\"color\": \"#2a3f5f\"}, \"error_y\": {\"color\": \"#2a3f5f\"}, \"marker\": {\"line\": {\"color\": \"#E5ECF6\", \"width\": 0.5}}, \"type\": \"bar\"}], \"barpolar\": [{\"marker\": {\"line\": {\"color\": \"#E5ECF6\", \"width\": 0.5}}, \"type\": \"barpolar\"}], \"carpet\": [{\"aaxis\": {\"endlinecolor\": \"#2a3f5f\", \"gridcolor\": \"white\", \"linecolor\": \"white\", \"minorgridcolor\": \"white\", \"startlinecolor\": \"#2a3f5f\"}, \"baxis\": {\"endlinecolor\": \"#2a3f5f\", \"gridcolor\": \"white\", \"linecolor\": \"white\", \"minorgridcolor\": \"white\", \"startlinecolor\": \"#2a3f5f\"}, \"type\": \"carpet\"}], \"choropleth\": [{\"colorbar\": {\"outlinewidth\": 0, \"ticks\": \"\"}, \"type\": \"choropleth\"}], \"contour\": [{\"colorbar\": {\"outlinewidth\": 0, \"ticks\": \"\"}, \"colorscale\": [[0.0, \"#0d0887\"], [0.1111111111111111, \"#46039f\"], [0.2222222222222222, \"#7201a8\"], [0.3333333333333333, \"#9c179e\"], [0.4444444444444444, \"#bd3786\"], [0.5555555555555556, \"#d8576b\"], [0.6666666666666666, \"#ed7953\"], [0.7777777777777778, \"#fb9f3a\"], [0.8888888888888888, \"#fdca26\"], [1.0, \"#f0f921\"]], \"type\": \"contour\"}], \"contourcarpet\": [{\"colorbar\": {\"outlinewidth\": 0, \"ticks\": \"\"}, \"type\": \"contourcarpet\"}], \"heatmap\": [{\"colorbar\": {\"outlinewidth\": 0, \"ticks\": \"\"}, \"colorscale\": [[0.0, \"#0d0887\"], [0.1111111111111111, \"#46039f\"], [0.2222222222222222, \"#7201a8\"], [0.3333333333333333, \"#9c179e\"], [0.4444444444444444, \"#bd3786\"], [0.5555555555555556, \"#d8576b\"], [0.6666666666666666, \"#ed7953\"], [0.7777777777777778, \"#fb9f3a\"], [0.8888888888888888, \"#fdca26\"], [1.0, \"#f0f921\"]], \"type\": \"heatmap\"}], \"heatmapgl\": [{\"colorbar\": {\"outlinewidth\": 0, \"ticks\": \"\"}, \"colorscale\": [[0.0, \"#0d0887\"], [0.1111111111111111, \"#46039f\"], [0.2222222222222222, \"#7201a8\"], [0.3333333333333333, \"#9c179e\"], [0.4444444444444444, \"#bd3786\"], [0.5555555555555556, \"#d8576b\"], [0.6666666666666666, \"#ed7953\"], [0.7777777777777778, \"#fb9f3a\"], [0.8888888888888888, \"#fdca26\"], [1.0, \"#f0f921\"]], \"type\": \"heatmapgl\"}], \"histogram\": [{\"marker\": {\"colorbar\": {\"outlinewidth\": 0, \"ticks\": \"\"}}, \"type\": \"histogram\"}], \"histogram2d\": [{\"colorbar\": {\"outlinewidth\": 0, \"ticks\": \"\"}, \"colorscale\": [[0.0, \"#0d0887\"], [0.1111111111111111, \"#46039f\"], [0.2222222222222222, \"#7201a8\"], [0.3333333333333333, \"#9c179e\"], [0.4444444444444444, \"#bd3786\"], [0.5555555555555556, \"#d8576b\"], [0.6666666666666666, \"#ed7953\"], [0.7777777777777778, \"#fb9f3a\"], [0.8888888888888888, \"#fdca26\"], [1.0, \"#f0f921\"]], \"type\": \"histogram2d\"}], \"histogram2dcontour\": [{\"colorbar\": {\"outlinewidth\": 0, \"ticks\": \"\"}, \"colorscale\": [[0.0, \"#0d0887\"], [0.1111111111111111, \"#46039f\"], [0.2222222222222222, \"#7201a8\"], [0.3333333333333333, \"#9c179e\"], [0.4444444444444444, \"#bd3786\"], [0.5555555555555556, \"#d8576b\"], [0.6666666666666666, \"#ed7953\"], [0.7777777777777778, \"#fb9f3a\"], [0.8888888888888888, \"#fdca26\"], [1.0, \"#f0f921\"]], \"type\": \"histogram2dcontour\"}], \"mesh3d\": [{\"colorbar\": {\"outlinewidth\": 0, \"ticks\": \"\"}, \"type\": \"mesh3d\"}], \"parcoords\": [{\"line\": {\"colorbar\": {\"outlinewidth\": 0, \"ticks\": \"\"}}, \"type\": \"parcoords\"}], \"pie\": [{\"automargin\": true, \"type\": \"pie\"}], \"scatter\": [{\"marker\": {\"colorbar\": {\"outlinewidth\": 0, \"ticks\": \"\"}}, \"type\": \"scatter\"}], \"scatter3d\": [{\"line\": {\"colorbar\": {\"outlinewidth\": 0, \"ticks\": \"\"}}, \"marker\": {\"colorbar\": {\"outlinewidth\": 0, \"ticks\": \"\"}}, \"type\": \"scatter3d\"}], \"scattercarpet\": [{\"marker\": {\"colorbar\": {\"outlinewidth\": 0, \"ticks\": \"\"}}, \"type\": \"scattercarpet\"}], \"scattergeo\": [{\"marker\": {\"colorbar\": {\"outlinewidth\": 0, \"ticks\": \"\"}}, \"type\": \"scattergeo\"}], \"scattergl\": [{\"marker\": {\"colorbar\": {\"outlinewidth\": 0, \"ticks\": \"\"}}, \"type\": \"scattergl\"}], \"scattermapbox\": [{\"marker\": {\"colorbar\": {\"outlinewidth\": 0, \"ticks\": \"\"}}, \"type\": \"scattermapbox\"}], \"scatterpolar\": [{\"marker\": {\"colorbar\": {\"outlinewidth\": 0, \"ticks\": \"\"}}, \"type\": \"scatterpolar\"}], \"scatterpolargl\": [{\"marker\": {\"colorbar\": {\"outlinewidth\": 0, \"ticks\": \"\"}}, \"type\": \"scatterpolargl\"}], \"scatterternary\": [{\"marker\": {\"colorbar\": {\"outlinewidth\": 0, \"ticks\": \"\"}}, \"type\": \"scatterternary\"}], \"surface\": [{\"colorbar\": {\"outlinewidth\": 0, \"ticks\": \"\"}, \"colorscale\": [[0.0, \"#0d0887\"], [0.1111111111111111, \"#46039f\"], [0.2222222222222222, \"#7201a8\"], [0.3333333333333333, \"#9c179e\"], [0.4444444444444444, \"#bd3786\"], [0.5555555555555556, \"#d8576b\"], [0.6666666666666666, \"#ed7953\"], [0.7777777777777778, \"#fb9f3a\"], [0.8888888888888888, \"#fdca26\"], [1.0, \"#f0f921\"]], \"type\": \"surface\"}], \"table\": [{\"cells\": {\"fill\": {\"color\": \"#EBF0F8\"}, \"line\": {\"color\": \"white\"}}, \"header\": {\"fill\": {\"color\": \"#C8D4E3\"}, \"line\": {\"color\": \"white\"}}, \"type\": \"table\"}]}, \"layout\": {\"annotationdefaults\": {\"arrowcolor\": \"#2a3f5f\", \"arrowhead\": 0, \"arrowwidth\": 1}, \"coloraxis\": {\"colorbar\": {\"outlinewidth\": 0, \"ticks\": \"\"}}, \"colorscale\": {\"diverging\": [[0, \"#8e0152\"], [0.1, \"#c51b7d\"], [0.2, \"#de77ae\"], [0.3, \"#f1b6da\"], [0.4, \"#fde0ef\"], [0.5, \"#f7f7f7\"], [0.6, \"#e6f5d0\"], [0.7, \"#b8e186\"], [0.8, \"#7fbc41\"], [0.9, \"#4d9221\"], [1, \"#276419\"]], \"sequential\": [[0.0, \"#0d0887\"], [0.1111111111111111, \"#46039f\"], [0.2222222222222222, \"#7201a8\"], [0.3333333333333333, \"#9c179e\"], [0.4444444444444444, \"#bd3786\"], [0.5555555555555556, \"#d8576b\"], [0.6666666666666666, \"#ed7953\"], [0.7777777777777778, \"#fb9f3a\"], [0.8888888888888888, \"#fdca26\"], [1.0, \"#f0f921\"]], \"sequentialminus\": [[0.0, \"#0d0887\"], [0.1111111111111111, \"#46039f\"], [0.2222222222222222, \"#7201a8\"], [0.3333333333333333, \"#9c179e\"], [0.4444444444444444, \"#bd3786\"], [0.5555555555555556, \"#d8576b\"], [0.6666666666666666, \"#ed7953\"], [0.7777777777777778, \"#fb9f3a\"], [0.8888888888888888, \"#fdca26\"], [1.0, \"#f0f921\"]]}, \"colorway\": [\"#636efa\", \"#EF553B\", \"#00cc96\", \"#ab63fa\", \"#FFA15A\", \"#19d3f3\", \"#FF6692\", \"#B6E880\", \"#FF97FF\", \"#FECB52\"], \"font\": {\"color\": \"#2a3f5f\"}, \"geo\": {\"bgcolor\": \"white\", \"lakecolor\": \"white\", \"landcolor\": \"#E5ECF6\", \"showlakes\": true, \"showland\": true, \"subunitcolor\": \"white\"}, \"hoverlabel\": {\"align\": \"left\"}, \"hovermode\": \"closest\", \"mapbox\": {\"style\": \"light\"}, \"paper_bgcolor\": \"white\", \"plot_bgcolor\": \"#E5ECF6\", \"polar\": {\"angularaxis\": {\"gridcolor\": \"white\", \"linecolor\": \"white\", \"ticks\": \"\"}, \"bgcolor\": \"#E5ECF6\", \"radialaxis\": {\"gridcolor\": \"white\", \"linecolor\": \"white\", \"ticks\": \"\"}}, \"scene\": {\"xaxis\": {\"backgroundcolor\": \"#E5ECF6\", \"gridcolor\": \"white\", \"gridwidth\": 2, \"linecolor\": \"white\", \"showbackground\": true, \"ticks\": \"\", \"zerolinecolor\": \"white\"}, \"yaxis\": {\"backgroundcolor\": \"#E5ECF6\", \"gridcolor\": \"white\", \"gridwidth\": 2, \"linecolor\": \"white\", \"showbackground\": true, \"ticks\": \"\", \"zerolinecolor\": \"white\"}, \"zaxis\": {\"backgroundcolor\": \"#E5ECF6\", \"gridcolor\": \"white\", \"gridwidth\": 2, \"linecolor\": \"white\", \"showbackground\": true, \"ticks\": \"\", \"zerolinecolor\": \"white\"}}, \"shapedefaults\": {\"line\": {\"color\": \"#2a3f5f\"}}, \"ternary\": {\"aaxis\": {\"gridcolor\": \"white\", \"linecolor\": \"white\", \"ticks\": \"\"}, \"baxis\": {\"gridcolor\": \"white\", \"linecolor\": \"white\", \"ticks\": \"\"}, \"bgcolor\": \"#E5ECF6\", \"caxis\": {\"gridcolor\": \"white\", \"linecolor\": \"white\", \"ticks\": \"\"}}, \"title\": {\"x\": 0.05}, \"xaxis\": {\"automargin\": true, \"gridcolor\": \"white\", \"linecolor\": \"white\", \"ticks\": \"\", \"title\": {\"standoff\": 15}, \"zerolinecolor\": \"white\", \"zerolinewidth\": 2}, \"yaxis\": {\"automargin\": true, \"gridcolor\": \"white\", \"linecolor\": \"white\", \"ticks\": \"\", \"title\": {\"standoff\": 15}, \"zerolinecolor\": \"white\", \"zerolinewidth\": 2}}}, \"updatemenus\": [{\"buttons\": [{\"args\": [null, {\"frame\": {\"duration\": 500, \"redraw\": false}, \"fromcurrent\": true, \"transition\": {\"duration\": 300, \"easing\": \"quadratic-in-out\"}}], \"label\": \"Play\", \"method\": \"animate\"}, {\"args\": [[null], {\"frame\": {\"duration\": 0, \"redraw\": false}, \"mode\": \"immediate\", \"transition\": {\"duration\": 0}}], \"label\": \"Pause\", \"method\": \"animate\"}], \"direction\": \"left\", \"pad\": {\"r\": 10, \"t\": 87}, \"showactive\": false, \"type\": \"buttons\", \"x\": 0.1, \"xanchor\": \"right\", \"y\": 0, \"yanchor\": \"top\"}], \"xaxis\": {\"range\": [0, 45], \"title\": {\"text\": \"Number of Active Repositories\"}}, \"yaxis\": {\"range\": [0, 400], \"title\": {\"text\": \"Number of Contributors\"}}},\n",
       "                        {\"responsive\": true}\n",
       "                    ).then(function(){\n",
       "                            Plotly.addFrames('94b24746-e21b-449f-b590-a9b0ac6d8088', [{\"data\": [{\"marker\": {\"size\": [104.0], \"sizemode\": \"area\", \"sizeref\": 30}, \"mode\": \"markers\", \"name\": \"C\", \"text\": [\"C\"], \"x\": [1], \"y\": [1.0], \"type\": \"scatter\"}, {\"marker\": {\"size\": [0.0], \"sizemode\": \"area\", \"sizeref\": 30}, \"mode\": \"markers\", \"name\": \"C#\", \"text\": [\"C#\"], \"x\": [0], \"y\": [0.0], \"type\": \"scatter\"}, {\"marker\": {\"size\": [0.0], \"sizemode\": \"area\", \"sizeref\": 30}, \"mode\": \"markers\", \"name\": \"C++\", \"text\": [\"C++\"], \"x\": [0], \"y\": [0.0], \"type\": \"scatter\"}, {\"marker\": {\"size\": [0.0], \"sizemode\": \"area\", \"sizeref\": 30}, \"mode\": \"markers\", \"name\": \"CSS\", \"text\": [\"CSS\"], \"x\": [0], \"y\": [0.0], \"type\": \"scatter\"}, {\"marker\": {\"size\": [0.0], \"sizemode\": \"area\", \"sizeref\": 30}, \"mode\": \"markers\", \"name\": \"HTML\", \"text\": [\"HTML\"], \"x\": [0], \"y\": [0.0], \"type\": \"scatter\"}, {\"marker\": {\"size\": [0.0], \"sizemode\": \"area\", \"sizeref\": 30}, \"mode\": \"markers\", \"name\": \"Java\", \"text\": [\"Java\"], \"x\": [0], \"y\": [0.0], \"type\": \"scatter\"}, {\"marker\": {\"size\": [18081.5], \"sizemode\": \"area\", \"sizeref\": 30}, \"mode\": \"markers\", \"name\": \"JavaScript\", \"text\": [\"JavaScript\"], \"x\": [4], \"y\": [4.5], \"type\": \"scatter\"}, {\"marker\": {\"size\": [0.0], \"sizemode\": \"area\", \"sizeref\": 30}, \"mode\": \"markers\", \"name\": \"OCaml\", \"text\": [\"OCaml\"], \"x\": [0], \"y\": [0.0], \"type\": \"scatter\"}, {\"marker\": {\"size\": [0.0], \"sizemode\": \"area\", \"sizeref\": 30}, \"mode\": \"markers\", \"name\": \"Objective-C\", \"text\": [\"Objective-C\"], \"x\": [0], \"y\": [0.0], \"type\": \"scatter\"}, {\"marker\": {\"size\": [0.0], \"sizemode\": \"area\", \"sizeref\": 30}, \"mode\": \"markers\", \"name\": \"Ruby\", \"text\": [\"Ruby\"], \"x\": [0], \"y\": [0.0], \"type\": \"scatter\"}, {\"marker\": {\"size\": [0.0], \"sizemode\": \"area\", \"sizeref\": 30}, \"mode\": \"markers\", \"name\": \"Rust\", \"text\": [\"Rust\"], \"x\": [0], \"y\": [0.0], \"type\": \"scatter\"}, {\"marker\": {\"size\": [0.0], \"sizemode\": \"area\", \"sizeref\": 30}, \"mode\": \"markers\", \"name\": \"Shell\", \"text\": [\"Shell\"], \"x\": [0], \"y\": [0.0], \"type\": \"scatter\"}, {\"marker\": {\"size\": [0.0], \"sizemode\": \"area\", \"sizeref\": 30}, \"mode\": \"markers\", \"name\": \"Swift\", \"text\": [\"Swift\"], \"x\": [0], \"y\": [0.0], \"type\": \"scatter\"}], \"name\": \"0\"}, {\"data\": [{\"marker\": {\"size\": [52.0], \"sizemode\": \"area\", \"sizeref\": 30}, \"mode\": \"markers\", \"name\": \"C\", \"text\": [\"C\"], \"x\": [1], \"y\": [1.0], \"type\": \"scatter\"}, {\"marker\": {\"size\": [0.0], \"sizemode\": \"area\", \"sizeref\": 30}, \"mode\": \"markers\", \"name\": \"C#\", \"text\": [\"C#\"], \"x\": [0], \"y\": [0.0], \"type\": \"scatter\"}, {\"marker\": {\"size\": [0.0], \"sizemode\": \"area\", \"sizeref\": 30}, \"mode\": \"markers\", \"name\": \"C++\", \"text\": [\"C++\"], \"x\": [0], \"y\": [0.0], \"type\": \"scatter\"}, {\"marker\": {\"size\": [2371.0], \"sizemode\": \"area\", \"sizeref\": 30}, \"mode\": \"markers\", \"name\": \"CSS\", \"text\": [\"CSS\"], \"x\": [1], \"y\": [4.0], \"type\": \"scatter\"}, {\"marker\": {\"size\": [0.0], \"sizemode\": \"area\", \"sizeref\": 30}, \"mode\": \"markers\", \"name\": \"HTML\", \"text\": [\"HTML\"], \"x\": [0], \"y\": [0.0], \"type\": \"scatter\"}, {\"marker\": {\"size\": [112.0], \"sizemode\": \"area\", \"sizeref\": 30}, \"mode\": \"markers\", \"name\": \"Java\", \"text\": [\"Java\"], \"x\": [1], \"y\": [1.0], \"type\": \"scatter\"}, {\"marker\": {\"size\": [9040.75], \"sizemode\": \"area\", \"sizeref\": 30}, \"mode\": \"markers\", \"name\": \"JavaScript\", \"text\": [\"JavaScript\"], \"x\": [4], \"y\": [4.5], \"type\": \"scatter\"}, {\"marker\": {\"size\": [0.0], \"sizemode\": \"area\", \"sizeref\": 30}, \"mode\": \"markers\", \"name\": \"OCaml\", \"text\": [\"OCaml\"], \"x\": [0], \"y\": [0.0], \"type\": \"scatter\"}, {\"marker\": {\"size\": [0.0], \"sizemode\": \"area\", \"sizeref\": 30}, \"mode\": \"markers\", \"name\": \"Objective-C\", \"text\": [\"Objective-C\"], \"x\": [0], \"y\": [0.0], \"type\": \"scatter\"}, {\"marker\": {\"size\": [124.0], \"sizemode\": \"area\", \"sizeref\": 30}, \"mode\": \"markers\", \"name\": \"Ruby\", \"text\": [\"Ruby\"], \"x\": [1], \"y\": [1.0], \"type\": \"scatter\"}, {\"marker\": {\"size\": [0.0], \"sizemode\": \"area\", \"sizeref\": 30}, \"mode\": \"markers\", \"name\": \"Rust\", \"text\": [\"Rust\"], \"x\": [0], \"y\": [0.0], \"type\": \"scatter\"}, {\"marker\": {\"size\": [108.0], \"sizemode\": \"area\", \"sizeref\": 30}, \"mode\": \"markers\", \"name\": \"Shell\", \"text\": [\"Shell\"], \"x\": [1], \"y\": [1.0], \"type\": \"scatter\"}, {\"marker\": {\"size\": [0.0], \"sizemode\": \"area\", \"sizeref\": 30}, \"mode\": \"markers\", \"name\": \"Swift\", \"text\": [\"Swift\"], \"x\": [0], \"y\": [0.0], \"type\": \"scatter\"}], \"name\": \"1\"}, {\"data\": [{\"marker\": {\"size\": [18020.5], \"sizemode\": \"area\", \"sizeref\": 30}, \"mode\": \"markers\", \"name\": \"C\", \"text\": [\"C\"], \"x\": [3], \"y\": [63.5], \"type\": \"scatter\"}, {\"marker\": {\"size\": [0.0], \"sizemode\": \"area\", \"sizeref\": 30}, \"mode\": \"markers\", \"name\": \"C#\", \"text\": [\"C#\"], \"x\": [0], \"y\": [0.0], \"type\": \"scatter\"}, {\"marker\": {\"size\": [0.0], \"sizemode\": \"area\", \"sizeref\": 30}, \"mode\": \"markers\", \"name\": \"C++\", \"text\": [\"C++\"], \"x\": [0], \"y\": [0.0], \"type\": \"scatter\"}, {\"marker\": {\"size\": [1185.5], \"sizemode\": \"area\", \"sizeref\": 30}, \"mode\": \"markers\", \"name\": \"CSS\", \"text\": [\"CSS\"], \"x\": [1], \"y\": [4.0], \"type\": \"scatter\"}, {\"marker\": {\"size\": [0.0], \"sizemode\": \"area\", \"sizeref\": 30}, \"mode\": \"markers\", \"name\": \"HTML\", \"text\": [\"HTML\"], \"x\": [0], \"y\": [0.0], \"type\": \"scatter\"}, {\"marker\": {\"size\": [56.0], \"sizemode\": \"area\", \"sizeref\": 30}, \"mode\": \"markers\", \"name\": \"Java\", \"text\": [\"Java\"], \"x\": [1], \"y\": [1.0], \"type\": \"scatter\"}, {\"marker\": {\"size\": [5013.041666666667], \"sizemode\": \"area\", \"sizeref\": 30}, \"mode\": \"markers\", \"name\": \"JavaScript\", \"text\": [\"JavaScript\"], \"x\": [7], \"y\": [5.5], \"type\": \"scatter\"}, {\"marker\": {\"size\": [0.0], \"sizemode\": \"area\", \"sizeref\": 30}, \"mode\": \"markers\", \"name\": \"OCaml\", \"text\": [\"OCaml\"], \"x\": [0], \"y\": [0.0], \"type\": \"scatter\"}, {\"marker\": {\"size\": [2693.0], \"sizemode\": \"area\", \"sizeref\": 30}, \"mode\": \"markers\", \"name\": \"Objective-C\", \"text\": [\"Objective-C\"], \"x\": [1], \"y\": [23.0], \"type\": \"scatter\"}, {\"marker\": {\"size\": [62.0], \"sizemode\": \"area\", \"sizeref\": 30}, \"mode\": \"markers\", \"name\": \"Ruby\", \"text\": [\"Ruby\"], \"x\": [1], \"y\": [1.0], \"type\": \"scatter\"}, {\"marker\": {\"size\": [0.0], \"sizemode\": \"area\", \"sizeref\": 30}, \"mode\": \"markers\", \"name\": \"Rust\", \"text\": [\"Rust\"], \"x\": [0], \"y\": [0.0], \"type\": \"scatter\"}, {\"marker\": {\"size\": [533.0], \"sizemode\": \"area\", \"sizeref\": 30}, \"mode\": \"markers\", \"name\": \"Shell\", \"text\": [\"Shell\"], \"x\": [2], \"y\": [2.0], \"type\": \"scatter\"}, {\"marker\": {\"size\": [0.0], \"sizemode\": \"area\", \"sizeref\": 30}, \"mode\": \"markers\", \"name\": \"Swift\", \"text\": [\"Swift\"], \"x\": [0], \"y\": [0.0], \"type\": \"scatter\"}], \"name\": \"2\"}, {\"data\": [{\"marker\": {\"size\": [9010.25], \"sizemode\": \"area\", \"sizeref\": 30}, \"mode\": \"markers\", \"name\": \"C\", \"text\": [\"C\"], \"x\": [3], \"y\": [63.5], \"type\": \"scatter\"}, {\"marker\": {\"size\": [0.0], \"sizemode\": \"area\", \"sizeref\": 30}, \"mode\": \"markers\", \"name\": \"C#\", \"text\": [\"C#\"], \"x\": [0], \"y\": [0.0], \"type\": \"scatter\"}, {\"marker\": {\"size\": [0.0], \"sizemode\": \"area\", \"sizeref\": 30}, \"mode\": \"markers\", \"name\": \"C++\", \"text\": [\"C++\"], \"x\": [0], \"y\": [0.0], \"type\": \"scatter\"}, {\"marker\": {\"size\": [592.75], \"sizemode\": \"area\", \"sizeref\": 30}, \"mode\": \"markers\", \"name\": \"CSS\", \"text\": [\"CSS\"], \"x\": [1], \"y\": [4.0], \"type\": \"scatter\"}, {\"marker\": {\"size\": [0.0], \"sizemode\": \"area\", \"sizeref\": 30}, \"mode\": \"markers\", \"name\": \"HTML\", \"text\": [\"HTML\"], \"x\": [0], \"y\": [0.0], \"type\": \"scatter\"}, {\"marker\": {\"size\": [2012.0], \"sizemode\": \"area\", \"sizeref\": 30}, \"mode\": \"markers\", \"name\": \"Java\", \"text\": [\"Java\"], \"x\": [2], \"y\": [5.0], \"type\": \"scatter\"}, {\"marker\": {\"size\": [3981.1208333333334], \"sizemode\": \"area\", \"sizeref\": 30}, \"mode\": \"markers\", \"name\": \"JavaScript\", \"text\": [\"JavaScript\"], \"x\": [12], \"y\": [14.9], \"type\": \"scatter\"}, {\"marker\": {\"size\": [0.0], \"sizemode\": \"area\", \"sizeref\": 30}, \"mode\": \"markers\", \"name\": \"OCaml\", \"text\": [\"OCaml\"], \"x\": [0], \"y\": [0.0], \"type\": \"scatter\"}, {\"marker\": {\"size\": [1346.5], \"sizemode\": \"area\", \"sizeref\": 30}, \"mode\": \"markers\", \"name\": \"Objective-C\", \"text\": [\"Objective-C\"], \"x\": [1], \"y\": [23.0], \"type\": \"scatter\"}, {\"marker\": {\"size\": [31.0], \"sizemode\": \"area\", \"sizeref\": 30}, \"mode\": \"markers\", \"name\": \"Ruby\", \"text\": [\"Ruby\"], \"x\": [1], \"y\": [1.0], \"type\": \"scatter\"}, {\"marker\": {\"size\": [0.0], \"sizemode\": \"area\", \"sizeref\": 30}, \"mode\": \"markers\", \"name\": \"Rust\", \"text\": [\"Rust\"], \"x\": [0], \"y\": [0.0], \"type\": \"scatter\"}, {\"marker\": {\"size\": [313.0], \"sizemode\": \"area\", \"sizeref\": 30}, \"mode\": \"markers\", \"name\": \"Shell\", \"text\": [\"Shell\"], \"x\": [6], \"y\": [3.75], \"type\": \"scatter\"}, {\"marker\": {\"size\": [0.0], \"sizemode\": \"area\", \"sizeref\": 30}, \"mode\": \"markers\", \"name\": \"Swift\", \"text\": [\"Swift\"], \"x\": [0], \"y\": [0.0], \"type\": \"scatter\"}], \"name\": \"3\"}, {\"data\": [{\"marker\": {\"size\": [4505.125], \"sizemode\": \"area\", \"sizeref\": 30}, \"mode\": \"markers\", \"name\": \"C\", \"text\": [\"C\"], \"x\": [3], \"y\": [63.5], \"type\": \"scatter\"}, {\"marker\": {\"size\": [234063.0], \"sizemode\": \"area\", \"sizeref\": 30}, \"mode\": \"markers\", \"name\": \"C#\", \"text\": [\"C#\"], \"x\": [1], \"y\": [118.0], \"type\": \"scatter\"}, {\"marker\": {\"size\": [163184.0], \"sizemode\": \"area\", \"sizeref\": 30}, \"mode\": \"markers\", \"name\": \"C++\", \"text\": [\"C++\"], \"x\": [2], \"y\": [124.0], \"type\": \"scatter\"}, {\"marker\": {\"size\": [296.375], \"sizemode\": \"area\", \"sizeref\": 30}, \"mode\": \"markers\", \"name\": \"CSS\", \"text\": [\"CSS\"], \"x\": [1], \"y\": [4.0], \"type\": \"scatter\"}, {\"marker\": {\"size\": [1131.3333333333333], \"sizemode\": \"area\", \"sizeref\": 30}, \"mode\": \"markers\", \"name\": \"HTML\", \"text\": [\"HTML\"], \"x\": [3], \"y\": [43.333333333333336], \"type\": \"scatter\"}, {\"marker\": {\"size\": [1139.1875], \"sizemode\": \"area\", \"sizeref\": 30}, \"mode\": \"markers\", \"name\": \"Java\", \"text\": [\"Java\"], \"x\": [34], \"y\": [11.84375], \"type\": \"scatter\"}, {\"marker\": {\"size\": [176663.22708333333], \"sizemode\": \"area\", \"sizeref\": 30}, \"mode\": \"markers\", \"name\": \"JavaScript\", \"text\": [\"JavaScript\"], \"x\": [15], \"y\": [273.2333333333333], \"type\": \"scatter\"}, {\"marker\": {\"size\": [0.0], \"sizemode\": \"area\", \"sizeref\": 30}, \"mode\": \"markers\", \"name\": \"OCaml\", \"text\": [\"OCaml\"], \"x\": [0], \"y\": [0.0], \"type\": \"scatter\"}, {\"marker\": {\"size\": [673.25], \"sizemode\": \"area\", \"sizeref\": 30}, \"mode\": \"markers\", \"name\": \"Objective-C\", \"text\": [\"Objective-C\"], \"x\": [1], \"y\": [23.0], \"type\": \"scatter\"}, {\"marker\": {\"size\": [15.5], \"sizemode\": \"area\", \"sizeref\": 30}, \"mode\": \"markers\", \"name\": \"Ruby\", \"text\": [\"Ruby\"], \"x\": [1], \"y\": [1.0], \"type\": \"scatter\"}, {\"marker\": {\"size\": [0.0], \"sizemode\": \"area\", \"sizeref\": 30}, \"mode\": \"markers\", \"name\": \"Rust\", \"text\": [\"Rust\"], \"x\": [0], \"y\": [0.0], \"type\": \"scatter\"}, {\"marker\": {\"size\": [3421.5], \"sizemode\": \"area\", \"sizeref\": 30}, \"mode\": \"markers\", \"name\": \"Shell\", \"text\": [\"Shell\"], \"x\": [11], \"y\": [10.55], \"type\": \"scatter\"}, {\"marker\": {\"size\": [0.0], \"sizemode\": \"area\", \"sizeref\": 30}, \"mode\": \"markers\", \"name\": \"Swift\", \"text\": [\"Swift\"], \"x\": [0], \"y\": [0.0], \"type\": \"scatter\"}], \"name\": \"4\"}, {\"data\": [{\"marker\": {\"size\": [2252.5625], \"sizemode\": \"area\", \"sizeref\": 30}, \"mode\": \"markers\", \"name\": \"C\", \"text\": [\"C\"], \"x\": [3], \"y\": [63.5], \"type\": \"scatter\"}, {\"marker\": {\"size\": [117031.5], \"sizemode\": \"area\", \"sizeref\": 30}, \"mode\": \"markers\", \"name\": \"C#\", \"text\": [\"C#\"], \"x\": [1], \"y\": [118.0], \"type\": \"scatter\"}, {\"marker\": {\"size\": [81592.0], \"sizemode\": \"area\", \"sizeref\": 30}, \"mode\": \"markers\", \"name\": \"C++\", \"text\": [\"C++\"], \"x\": [2], \"y\": [124.0], \"type\": \"scatter\"}, {\"marker\": {\"size\": [17335.1875], \"sizemode\": \"area\", \"sizeref\": 30}, \"mode\": \"markers\", \"name\": \"CSS\", \"text\": [\"CSS\"], \"x\": [3], \"y\": [49.5], \"type\": \"scatter\"}, {\"marker\": {\"size\": [2596.6666666666665], \"sizemode\": \"area\", \"sizeref\": 30}, \"mode\": \"markers\", \"name\": \"HTML\", \"text\": [\"HTML\"], \"x\": [4], \"y\": [135.33333333333334], \"type\": \"scatter\"}, {\"marker\": {\"size\": [21724.260416666668], \"sizemode\": \"area\", \"sizeref\": 30}, \"mode\": \"markers\", \"name\": \"Java\", \"text\": [\"Java\"], \"x\": [40], \"y\": [117.84375], \"type\": \"scatter\"}, {\"marker\": {\"size\": [122807.23854166667], \"sizemode\": \"area\", \"sizeref\": 30}, \"mode\": \"markers\", \"name\": \"JavaScript\", \"text\": [\"JavaScript\"], \"x\": [23], \"y\": [299.9833333333333], \"type\": \"scatter\"}, {\"marker\": {\"size\": [0.0], \"sizemode\": \"area\", \"sizeref\": 30}, \"mode\": \"markers\", \"name\": \"OCaml\", \"text\": [\"OCaml\"], \"x\": [0], \"y\": [0.0], \"type\": \"scatter\"}, {\"marker\": {\"size\": [22089.625], \"sizemode\": \"area\", \"sizeref\": 30}, \"mode\": \"markers\", \"name\": \"Objective-C\", \"text\": [\"Objective-C\"], \"x\": [2], \"y\": [28.0], \"type\": \"scatter\"}, {\"marker\": {\"size\": [1109.25], \"sizemode\": \"area\", \"sizeref\": 30}, \"mode\": \"markers\", \"name\": \"Ruby\", \"text\": [\"Ruby\"], \"x\": [3], \"y\": [17.0], \"type\": \"scatter\"}, {\"marker\": {\"size\": [138.5], \"sizemode\": \"area\", \"sizeref\": 30}, \"mode\": \"markers\", \"name\": \"Rust\", \"text\": [\"Rust\"], \"x\": [2], \"y\": [15.5], \"type\": \"scatter\"}, {\"marker\": {\"size\": [3662.464285714286], \"sizemode\": \"area\", \"sizeref\": 30}, \"mode\": \"markers\", \"name\": \"Shell\", \"text\": [\"Shell\"], \"x\": [18], \"y\": [14.407142857142858], \"type\": \"scatter\"}, {\"marker\": {\"size\": [2128.0], \"sizemode\": \"area\", \"sizeref\": 30}, \"mode\": \"markers\", \"name\": \"Swift\", \"text\": [\"Swift\"], \"x\": [1], \"y\": [1.0], \"type\": \"scatter\"}], \"name\": \"5\"}, {\"data\": [{\"marker\": {\"size\": [41946.614583333336], \"sizemode\": \"area\", \"sizeref\": 30}, \"mode\": \"markers\", \"name\": \"C\", \"text\": [\"C\"], \"x\": [9], \"y\": [168.5], \"type\": \"scatter\"}, {\"marker\": {\"size\": [58515.75], \"sizemode\": \"area\", \"sizeref\": 30}, \"mode\": \"markers\", \"name\": \"C#\", \"text\": [\"C#\"], \"x\": [1], \"y\": [118.0], \"type\": \"scatter\"}, {\"marker\": {\"size\": [86640.0], \"sizemode\": \"area\", \"sizeref\": 30}, \"mode\": \"markers\", \"name\": \"C++\", \"text\": [\"C++\"], \"x\": [5], \"y\": [144.66666666666666], \"type\": \"scatter\"}, {\"marker\": {\"size\": [8667.59375], \"sizemode\": \"area\", \"sizeref\": 30}, \"mode\": \"markers\", \"name\": \"CSS\", \"text\": [\"CSS\"], \"x\": [3], \"y\": [49.5], \"type\": \"scatter\"}, {\"marker\": {\"size\": [12967.533333333335], \"sizemode\": \"area\", \"sizeref\": 30}, \"mode\": \"markers\", \"name\": \"HTML\", \"text\": [\"HTML\"], \"x\": [9], \"y\": [152.73333333333335], \"type\": \"scatter\"}, {\"marker\": {\"size\": [10862.130208333334], \"sizemode\": \"area\", \"sizeref\": 30}, \"mode\": \"markers\", \"name\": \"Java\", \"text\": [\"Java\"], \"x\": [40], \"y\": [117.84375], \"type\": \"scatter\"}, {\"marker\": {\"size\": [64441.2859375], \"sizemode\": \"area\", \"sizeref\": 30}, \"mode\": \"markers\", \"name\": \"JavaScript\", \"text\": [\"JavaScript\"], \"x\": [26], \"y\": [338.9833333333333], \"type\": \"scatter\"}, {\"marker\": {\"size\": [187.0], \"sizemode\": \"area\", \"sizeref\": 30}, \"mode\": \"markers\", \"name\": \"OCaml\", \"text\": [\"OCaml\"], \"x\": [1], \"y\": [1.0], \"type\": \"scatter\"}, {\"marker\": {\"size\": [11044.8125], \"sizemode\": \"area\", \"sizeref\": 30}, \"mode\": \"markers\", \"name\": \"Objective-C\", \"text\": [\"Objective-C\"], \"x\": [2], \"y\": [28.0], \"type\": \"scatter\"}, {\"marker\": {\"size\": [100415.625], \"sizemode\": \"area\", \"sizeref\": 30}, \"mode\": \"markers\", \"name\": \"Ruby\", \"text\": [\"Ruby\"], \"x\": [7], \"y\": [348.5], \"type\": \"scatter\"}, {\"marker\": {\"size\": [7380.25], \"sizemode\": \"area\", \"sizeref\": 30}, \"mode\": \"markers\", \"name\": \"Rust\", \"text\": [\"Rust\"], \"x\": [3], \"y\": [134.5], \"type\": \"scatter\"}, {\"marker\": {\"size\": [83627.23214285714], \"sizemode\": \"area\", \"sizeref\": 30}, \"mode\": \"markers\", \"name\": \"Shell\", \"text\": [\"Shell\"], \"x\": [19], \"y\": [22.40714285714286], \"type\": \"scatter\"}, {\"marker\": {\"size\": [5450.0], \"sizemode\": \"area\", \"sizeref\": 30}, \"mode\": \"markers\", \"name\": \"Swift\", \"text\": [\"Swift\"], \"x\": [2], \"y\": [56.0], \"type\": \"scatter\"}], \"name\": \"6\"}, {\"data\": [{\"marker\": {\"size\": [20973.307291666668], \"sizemode\": \"area\", \"sizeref\": 30}, \"mode\": \"markers\", \"name\": \"C\", \"text\": [\"C\"], \"x\": [9], \"y\": [168.5], \"type\": \"scatter\"}, {\"marker\": {\"size\": [29257.875], \"sizemode\": \"area\", \"sizeref\": 30}, \"mode\": \"markers\", \"name\": \"C#\", \"text\": [\"C#\"], \"x\": [1], \"y\": [118.0], \"type\": \"scatter\"}, {\"marker\": {\"size\": [43320.0], \"sizemode\": \"area\", \"sizeref\": 30}, \"mode\": \"markers\", \"name\": \"C++\", \"text\": [\"C++\"], \"x\": [5], \"y\": [144.66666666666666], \"type\": \"scatter\"}, {\"marker\": {\"size\": [4333.796875], \"sizemode\": \"area\", \"sizeref\": 30}, \"mode\": \"markers\", \"name\": \"CSS\", \"text\": [\"CSS\"], \"x\": [3], \"y\": [49.5], \"type\": \"scatter\"}, {\"marker\": {\"size\": [6827.766666666667], \"sizemode\": \"area\", \"sizeref\": 30}, \"mode\": \"markers\", \"name\": \"HTML\", \"text\": [\"HTML\"], \"x\": [10], \"y\": [155.73333333333335], \"type\": \"scatter\"}, {\"marker\": {\"size\": [5431.065104166667], \"sizemode\": \"area\", \"sizeref\": 30}, \"mode\": \"markers\", \"name\": \"Java\", \"text\": [\"Java\"], \"x\": [40], \"y\": [117.84375], \"type\": \"scatter\"}, {\"marker\": {\"size\": [32220.64296875], \"sizemode\": \"area\", \"sizeref\": 30}, \"mode\": \"markers\", \"name\": \"JavaScript\", \"text\": [\"JavaScript\"], \"x\": [26], \"y\": [338.9833333333333], \"type\": \"scatter\"}, {\"marker\": {\"size\": [5518.833333333333], \"sizemode\": \"area\", \"sizeref\": 30}, \"mode\": \"markers\", \"name\": \"OCaml\", \"text\": [\"OCaml\"], \"x\": [4], \"y\": [2.333333333333333], \"type\": \"scatter\"}, {\"marker\": {\"size\": [5522.40625], \"sizemode\": \"area\", \"sizeref\": 30}, \"mode\": \"markers\", \"name\": \"Objective-C\", \"text\": [\"Objective-C\"], \"x\": [2], \"y\": [28.0], \"type\": \"scatter\"}, {\"marker\": {\"size\": [50207.8125], \"sizemode\": \"area\", \"sizeref\": 30}, \"mode\": \"markers\", \"name\": \"Ruby\", \"text\": [\"Ruby\"], \"x\": [7], \"y\": [348.5], \"type\": \"scatter\"}, {\"marker\": {\"size\": [3690.125], \"sizemode\": \"area\", \"sizeref\": 30}, \"mode\": \"markers\", \"name\": \"Rust\", \"text\": [\"Rust\"], \"x\": [3], \"y\": [134.5], \"type\": \"scatter\"}, {\"marker\": {\"size\": [114578.61607142858], \"sizemode\": \"area\", \"sizeref\": 30}, \"mode\": \"markers\", \"name\": \"Shell\", \"text\": [\"Shell\"], \"x\": [20], \"y\": [348.40714285714284], \"type\": \"scatter\"}, {\"marker\": {\"size\": [2725.0], \"sizemode\": \"area\", \"sizeref\": 30}, \"mode\": \"markers\", \"name\": \"Swift\", \"text\": [\"Swift\"], \"x\": [2], \"y\": [56.0], \"type\": \"scatter\"}], \"name\": \"7\"}, {\"data\": [{\"marker\": {\"size\": [10486.653645833334], \"sizemode\": \"area\", \"sizeref\": 30}, \"mode\": \"markers\", \"name\": \"C\", \"text\": [\"C\"], \"x\": [9], \"y\": [168.5], \"type\": \"scatter\"}, {\"marker\": {\"size\": [14628.9375], \"sizemode\": \"area\", \"sizeref\": 30}, \"mode\": \"markers\", \"name\": \"C#\", \"text\": [\"C#\"], \"x\": [1], \"y\": [118.0], \"type\": \"scatter\"}, {\"marker\": {\"size\": [21979.0], \"sizemode\": \"area\", \"sizeref\": 30}, \"mode\": \"markers\", \"name\": \"C++\", \"text\": [\"C++\"], \"x\": [6], \"y\": [145.66666666666666], \"type\": \"scatter\"}, {\"marker\": {\"size\": [2166.8984375], \"sizemode\": \"area\", \"sizeref\": 30}, \"mode\": \"markers\", \"name\": \"CSS\", \"text\": [\"CSS\"], \"x\": [3], \"y\": [49.5], \"type\": \"scatter\"}, {\"marker\": {\"size\": [3413.8833333333337], \"sizemode\": \"area\", \"sizeref\": 30}, \"mode\": \"markers\", \"name\": \"HTML\", \"text\": [\"HTML\"], \"x\": [10], \"y\": [155.73333333333335], \"type\": \"scatter\"}, {\"marker\": {\"size\": [2715.5325520833335], \"sizemode\": \"area\", \"sizeref\": 30}, \"mode\": \"markers\", \"name\": \"Java\", \"text\": [\"Java\"], \"x\": [40], \"y\": [117.84375], \"type\": \"scatter\"}, {\"marker\": {\"size\": [20806.321484375], \"sizemode\": \"area\", \"sizeref\": 30}, \"mode\": \"markers\", \"name\": \"JavaScript\", \"text\": [\"JavaScript\"], \"x\": [27], \"y\": [339.9833333333333], \"type\": \"scatter\"}, {\"marker\": {\"size\": [3736.4166666666665], \"sizemode\": \"area\", \"sizeref\": 30}, \"mode\": \"markers\", \"name\": \"OCaml\", \"text\": [\"OCaml\"], \"x\": [5], \"y\": [3.333333333333333], \"type\": \"scatter\"}, {\"marker\": {\"size\": [2761.203125], \"sizemode\": \"area\", \"sizeref\": 30}, \"mode\": \"markers\", \"name\": \"Objective-C\", \"text\": [\"Objective-C\"], \"x\": [2], \"y\": [28.0], \"type\": \"scatter\"}, {\"marker\": {\"size\": [25103.90625], \"sizemode\": \"area\", \"sizeref\": 30}, \"mode\": \"markers\", \"name\": \"Ruby\", \"text\": [\"Ruby\"], \"x\": [7], \"y\": [348.5], \"type\": \"scatter\"}, {\"marker\": {\"size\": [1845.0625], \"sizemode\": \"area\", \"sizeref\": 30}, \"mode\": \"markers\", \"name\": \"Rust\", \"text\": [\"Rust\"], \"x\": [3], \"y\": [134.5], \"type\": \"scatter\"}, {\"marker\": {\"size\": [57289.30803571429], \"sizemode\": \"area\", \"sizeref\": 30}, \"mode\": \"markers\", \"name\": \"Shell\", \"text\": [\"Shell\"], \"x\": [20], \"y\": [348.40714285714284], \"type\": \"scatter\"}, {\"marker\": {\"size\": [1362.5], \"sizemode\": \"area\", \"sizeref\": 30}, \"mode\": \"markers\", \"name\": \"Swift\", \"text\": [\"Swift\"], \"x\": [2], \"y\": [56.0], \"type\": \"scatter\"}], \"name\": \"8\"}, {\"data\": [{\"marker\": {\"size\": [104.0], \"sizemode\": \"area\", \"sizeref\": 30}, \"mode\": \"markers\", \"name\": \"C\", \"text\": [\"C\"], \"x\": [1], \"y\": [1.0], \"type\": \"scatter\"}, {\"marker\": {\"size\": [0.0], \"sizemode\": \"area\", \"sizeref\": 30}, \"mode\": \"markers\", \"name\": \"C#\", \"text\": [\"C#\"], \"x\": [0], \"y\": [0.0], \"type\": \"scatter\"}, {\"marker\": {\"size\": [0.0], \"sizemode\": \"area\", \"sizeref\": 30}, \"mode\": \"markers\", \"name\": \"C++\", \"text\": [\"C++\"], \"x\": [0], \"y\": [0.0], \"type\": \"scatter\"}, {\"marker\": {\"size\": [0.0], \"sizemode\": \"area\", \"sizeref\": 30}, \"mode\": \"markers\", \"name\": \"CSS\", \"text\": [\"CSS\"], \"x\": [0], \"y\": [0.0], \"type\": \"scatter\"}, {\"marker\": {\"size\": [0.0], \"sizemode\": \"area\", \"sizeref\": 30}, \"mode\": \"markers\", \"name\": \"HTML\", \"text\": [\"HTML\"], \"x\": [0], \"y\": [0.0], \"type\": \"scatter\"}, {\"marker\": {\"size\": [0.0], \"sizemode\": \"area\", \"sizeref\": 30}, \"mode\": \"markers\", \"name\": \"Java\", \"text\": [\"Java\"], \"x\": [0], \"y\": [0.0], \"type\": \"scatter\"}, {\"marker\": {\"size\": [18081.5], \"sizemode\": \"area\", \"sizeref\": 30}, \"mode\": \"markers\", \"name\": \"JavaScript\", \"text\": [\"JavaScript\"], \"x\": [4], \"y\": [4.5], \"type\": \"scatter\"}, {\"marker\": {\"size\": [0.0], \"sizemode\": \"area\", \"sizeref\": 30}, \"mode\": \"markers\", \"name\": \"OCaml\", \"text\": [\"OCaml\"], \"x\": [0], \"y\": [0.0], \"type\": \"scatter\"}, {\"marker\": {\"size\": [0.0], \"sizemode\": \"area\", \"sizeref\": 30}, \"mode\": \"markers\", \"name\": \"Objective-C\", \"text\": [\"Objective-C\"], \"x\": [0], \"y\": [0.0], \"type\": \"scatter\"}, {\"marker\": {\"size\": [0.0], \"sizemode\": \"area\", \"sizeref\": 30}, \"mode\": \"markers\", \"name\": \"Ruby\", \"text\": [\"Ruby\"], \"x\": [0], \"y\": [0.0], \"type\": \"scatter\"}, {\"marker\": {\"size\": [0.0], \"sizemode\": \"area\", \"sizeref\": 30}, \"mode\": \"markers\", \"name\": \"Rust\", \"text\": [\"Rust\"], \"x\": [0], \"y\": [0.0], \"type\": \"scatter\"}, {\"marker\": {\"size\": [0.0], \"sizemode\": \"area\", \"sizeref\": 30}, \"mode\": \"markers\", \"name\": \"Shell\", \"text\": [\"Shell\"], \"x\": [0], \"y\": [0.0], \"type\": \"scatter\"}, {\"marker\": {\"size\": [0.0], \"sizemode\": \"area\", \"sizeref\": 30}, \"mode\": \"markers\", \"name\": \"Swift\", \"text\": [\"Swift\"], \"x\": [0], \"y\": [0.0], \"type\": \"scatter\"}], \"name\": \"0\"}, {\"data\": [{\"marker\": {\"size\": [52.0], \"sizemode\": \"area\", \"sizeref\": 30}, \"mode\": \"markers\", \"name\": \"C\", \"text\": [\"C\"], \"x\": [1], \"y\": [1.0], \"type\": \"scatter\"}, {\"marker\": {\"size\": [0.0], \"sizemode\": \"area\", \"sizeref\": 30}, \"mode\": \"markers\", \"name\": \"C#\", \"text\": [\"C#\"], \"x\": [0], \"y\": [0.0], \"type\": \"scatter\"}, {\"marker\": {\"size\": [0.0], \"sizemode\": \"area\", \"sizeref\": 30}, \"mode\": \"markers\", \"name\": \"C++\", \"text\": [\"C++\"], \"x\": [0], \"y\": [0.0], \"type\": \"scatter\"}, {\"marker\": {\"size\": [2371.0], \"sizemode\": \"area\", \"sizeref\": 30}, \"mode\": \"markers\", \"name\": \"CSS\", \"text\": [\"CSS\"], \"x\": [1], \"y\": [4.0], \"type\": \"scatter\"}, {\"marker\": {\"size\": [0.0], \"sizemode\": \"area\", \"sizeref\": 30}, \"mode\": \"markers\", \"name\": \"HTML\", \"text\": [\"HTML\"], \"x\": [0], \"y\": [0.0], \"type\": \"scatter\"}, {\"marker\": {\"size\": [112.0], \"sizemode\": \"area\", \"sizeref\": 30}, \"mode\": \"markers\", \"name\": \"Java\", \"text\": [\"Java\"], \"x\": [1], \"y\": [1.0], \"type\": \"scatter\"}, {\"marker\": {\"size\": [9040.75], \"sizemode\": \"area\", \"sizeref\": 30}, \"mode\": \"markers\", \"name\": \"JavaScript\", \"text\": [\"JavaScript\"], \"x\": [4], \"y\": [4.5], \"type\": \"scatter\"}, {\"marker\": {\"size\": [0.0], \"sizemode\": \"area\", \"sizeref\": 30}, \"mode\": \"markers\", \"name\": \"OCaml\", \"text\": [\"OCaml\"], \"x\": [0], \"y\": [0.0], \"type\": \"scatter\"}, {\"marker\": {\"size\": [0.0], \"sizemode\": \"area\", \"sizeref\": 30}, \"mode\": \"markers\", \"name\": \"Objective-C\", \"text\": [\"Objective-C\"], \"x\": [0], \"y\": [0.0], \"type\": \"scatter\"}, {\"marker\": {\"size\": [124.0], \"sizemode\": \"area\", \"sizeref\": 30}, \"mode\": \"markers\", \"name\": \"Ruby\", \"text\": [\"Ruby\"], \"x\": [1], \"y\": [1.0], \"type\": \"scatter\"}, {\"marker\": {\"size\": [0.0], \"sizemode\": \"area\", \"sizeref\": 30}, \"mode\": \"markers\", \"name\": \"Rust\", \"text\": [\"Rust\"], \"x\": [0], \"y\": [0.0], \"type\": \"scatter\"}, {\"marker\": {\"size\": [108.0], \"sizemode\": \"area\", \"sizeref\": 30}, \"mode\": \"markers\", \"name\": \"Shell\", \"text\": [\"Shell\"], \"x\": [1], \"y\": [1.0], \"type\": \"scatter\"}, {\"marker\": {\"size\": [0.0], \"sizemode\": \"area\", \"sizeref\": 30}, \"mode\": \"markers\", \"name\": \"Swift\", \"text\": [\"Swift\"], \"x\": [0], \"y\": [0.0], \"type\": \"scatter\"}], \"name\": \"1\"}, {\"data\": [{\"marker\": {\"size\": [18020.5], \"sizemode\": \"area\", \"sizeref\": 30}, \"mode\": \"markers\", \"name\": \"C\", \"text\": [\"C\"], \"x\": [3], \"y\": [63.5], \"type\": \"scatter\"}, {\"marker\": {\"size\": [0.0], \"sizemode\": \"area\", \"sizeref\": 30}, \"mode\": \"markers\", \"name\": \"C#\", \"text\": [\"C#\"], \"x\": [0], \"y\": [0.0], \"type\": \"scatter\"}, {\"marker\": {\"size\": [0.0], \"sizemode\": \"area\", \"sizeref\": 30}, \"mode\": \"markers\", \"name\": \"C++\", \"text\": [\"C++\"], \"x\": [0], \"y\": [0.0], \"type\": \"scatter\"}, {\"marker\": {\"size\": [1185.5], \"sizemode\": \"area\", \"sizeref\": 30}, \"mode\": \"markers\", \"name\": \"CSS\", \"text\": [\"CSS\"], \"x\": [1], \"y\": [4.0], \"type\": \"scatter\"}, {\"marker\": {\"size\": [0.0], \"sizemode\": \"area\", \"sizeref\": 30}, \"mode\": \"markers\", \"name\": \"HTML\", \"text\": [\"HTML\"], \"x\": [0], \"y\": [0.0], \"type\": \"scatter\"}, {\"marker\": {\"size\": [56.0], \"sizemode\": \"area\", \"sizeref\": 30}, \"mode\": \"markers\", \"name\": \"Java\", \"text\": [\"Java\"], \"x\": [1], \"y\": [1.0], \"type\": \"scatter\"}, {\"marker\": {\"size\": [5013.041666666667], \"sizemode\": \"area\", \"sizeref\": 30}, \"mode\": \"markers\", \"name\": \"JavaScript\", \"text\": [\"JavaScript\"], \"x\": [7], \"y\": [5.5], \"type\": \"scatter\"}, {\"marker\": {\"size\": [0.0], \"sizemode\": \"area\", \"sizeref\": 30}, \"mode\": \"markers\", \"name\": \"OCaml\", \"text\": [\"OCaml\"], \"x\": [0], \"y\": [0.0], \"type\": \"scatter\"}, {\"marker\": {\"size\": [2693.0], \"sizemode\": \"area\", \"sizeref\": 30}, \"mode\": \"markers\", \"name\": \"Objective-C\", \"text\": [\"Objective-C\"], \"x\": [1], \"y\": [23.0], \"type\": \"scatter\"}, {\"marker\": {\"size\": [62.0], \"sizemode\": \"area\", \"sizeref\": 30}, \"mode\": \"markers\", \"name\": \"Ruby\", \"text\": [\"Ruby\"], \"x\": [1], \"y\": [1.0], \"type\": \"scatter\"}, {\"marker\": {\"size\": [0.0], \"sizemode\": \"area\", \"sizeref\": 30}, \"mode\": \"markers\", \"name\": \"Rust\", \"text\": [\"Rust\"], \"x\": [0], \"y\": [0.0], \"type\": \"scatter\"}, {\"marker\": {\"size\": [533.0], \"sizemode\": \"area\", \"sizeref\": 30}, \"mode\": \"markers\", \"name\": \"Shell\", \"text\": [\"Shell\"], \"x\": [2], \"y\": [2.0], \"type\": \"scatter\"}, {\"marker\": {\"size\": [0.0], \"sizemode\": \"area\", \"sizeref\": 30}, \"mode\": \"markers\", \"name\": \"Swift\", \"text\": [\"Swift\"], \"x\": [0], \"y\": [0.0], \"type\": \"scatter\"}], \"name\": \"2\"}, {\"data\": [{\"marker\": {\"size\": [9010.25], \"sizemode\": \"area\", \"sizeref\": 30}, \"mode\": \"markers\", \"name\": \"C\", \"text\": [\"C\"], \"x\": [3], \"y\": [63.5], \"type\": \"scatter\"}, {\"marker\": {\"size\": [0.0], \"sizemode\": \"area\", \"sizeref\": 30}, \"mode\": \"markers\", \"name\": \"C#\", \"text\": [\"C#\"], \"x\": [0], \"y\": [0.0], \"type\": \"scatter\"}, {\"marker\": {\"size\": [0.0], \"sizemode\": \"area\", \"sizeref\": 30}, \"mode\": \"markers\", \"name\": \"C++\", \"text\": [\"C++\"], \"x\": [0], \"y\": [0.0], \"type\": \"scatter\"}, {\"marker\": {\"size\": [592.75], \"sizemode\": \"area\", \"sizeref\": 30}, \"mode\": \"markers\", \"name\": \"CSS\", \"text\": [\"CSS\"], \"x\": [1], \"y\": [4.0], \"type\": \"scatter\"}, {\"marker\": {\"size\": [0.0], \"sizemode\": \"area\", \"sizeref\": 30}, \"mode\": \"markers\", \"name\": \"HTML\", \"text\": [\"HTML\"], \"x\": [0], \"y\": [0.0], \"type\": \"scatter\"}, {\"marker\": {\"size\": [2012.0], \"sizemode\": \"area\", \"sizeref\": 30}, \"mode\": \"markers\", \"name\": \"Java\", \"text\": [\"Java\"], \"x\": [2], \"y\": [5.0], \"type\": \"scatter\"}, {\"marker\": {\"size\": [3981.1208333333334], \"sizemode\": \"area\", \"sizeref\": 30}, \"mode\": \"markers\", \"name\": \"JavaScript\", \"text\": [\"JavaScript\"], \"x\": [12], \"y\": [14.9], \"type\": \"scatter\"}, {\"marker\": {\"size\": [0.0], \"sizemode\": \"area\", \"sizeref\": 30}, \"mode\": \"markers\", \"name\": \"OCaml\", \"text\": [\"OCaml\"], \"x\": [0], \"y\": [0.0], \"type\": \"scatter\"}, {\"marker\": {\"size\": [1346.5], \"sizemode\": \"area\", \"sizeref\": 30}, \"mode\": \"markers\", \"name\": \"Objective-C\", \"text\": [\"Objective-C\"], \"x\": [1], \"y\": [23.0], \"type\": \"scatter\"}, {\"marker\": {\"size\": [31.0], \"sizemode\": \"area\", \"sizeref\": 30}, \"mode\": \"markers\", \"name\": \"Ruby\", \"text\": [\"Ruby\"], \"x\": [1], \"y\": [1.0], \"type\": \"scatter\"}, {\"marker\": {\"size\": [0.0], \"sizemode\": \"area\", \"sizeref\": 30}, \"mode\": \"markers\", \"name\": \"Rust\", \"text\": [\"Rust\"], \"x\": [0], \"y\": [0.0], \"type\": \"scatter\"}, {\"marker\": {\"size\": [313.0], \"sizemode\": \"area\", \"sizeref\": 30}, \"mode\": \"markers\", \"name\": \"Shell\", \"text\": [\"Shell\"], \"x\": [6], \"y\": [3.75], \"type\": \"scatter\"}, {\"marker\": {\"size\": [0.0], \"sizemode\": \"area\", \"sizeref\": 30}, \"mode\": \"markers\", \"name\": \"Swift\", \"text\": [\"Swift\"], \"x\": [0], \"y\": [0.0], \"type\": \"scatter\"}], \"name\": \"3\"}, {\"data\": [{\"marker\": {\"size\": [4505.125], \"sizemode\": \"area\", \"sizeref\": 30}, \"mode\": \"markers\", \"name\": \"C\", \"text\": [\"C\"], \"x\": [3], \"y\": [63.5], \"type\": \"scatter\"}, {\"marker\": {\"size\": [234063.0], \"sizemode\": \"area\", \"sizeref\": 30}, \"mode\": \"markers\", \"name\": \"C#\", \"text\": [\"C#\"], \"x\": [1], \"y\": [118.0], \"type\": \"scatter\"}, {\"marker\": {\"size\": [163184.0], \"sizemode\": \"area\", \"sizeref\": 30}, \"mode\": \"markers\", \"name\": \"C++\", \"text\": [\"C++\"], \"x\": [2], \"y\": [124.0], \"type\": \"scatter\"}, {\"marker\": {\"size\": [296.375], \"sizemode\": \"area\", \"sizeref\": 30}, \"mode\": \"markers\", \"name\": \"CSS\", \"text\": [\"CSS\"], \"x\": [1], \"y\": [4.0], \"type\": \"scatter\"}, {\"marker\": {\"size\": [1131.3333333333333], \"sizemode\": \"area\", \"sizeref\": 30}, \"mode\": \"markers\", \"name\": \"HTML\", \"text\": [\"HTML\"], \"x\": [3], \"y\": [43.333333333333336], \"type\": \"scatter\"}, {\"marker\": {\"size\": [1139.1875], \"sizemode\": \"area\", \"sizeref\": 30}, \"mode\": \"markers\", \"name\": \"Java\", \"text\": [\"Java\"], \"x\": [34], \"y\": [11.84375], \"type\": \"scatter\"}, {\"marker\": {\"size\": [176663.22708333333], \"sizemode\": \"area\", \"sizeref\": 30}, \"mode\": \"markers\", \"name\": \"JavaScript\", \"text\": [\"JavaScript\"], \"x\": [15], \"y\": [273.2333333333333], \"type\": \"scatter\"}, {\"marker\": {\"size\": [0.0], \"sizemode\": \"area\", \"sizeref\": 30}, \"mode\": \"markers\", \"name\": \"OCaml\", \"text\": [\"OCaml\"], \"x\": [0], \"y\": [0.0], \"type\": \"scatter\"}, {\"marker\": {\"size\": [673.25], \"sizemode\": \"area\", \"sizeref\": 30}, \"mode\": \"markers\", \"name\": \"Objective-C\", \"text\": [\"Objective-C\"], \"x\": [1], \"y\": [23.0], \"type\": \"scatter\"}, {\"marker\": {\"size\": [15.5], \"sizemode\": \"area\", \"sizeref\": 30}, \"mode\": \"markers\", \"name\": \"Ruby\", \"text\": [\"Ruby\"], \"x\": [1], \"y\": [1.0], \"type\": \"scatter\"}, {\"marker\": {\"size\": [0.0], \"sizemode\": \"area\", \"sizeref\": 30}, \"mode\": \"markers\", \"name\": \"Rust\", \"text\": [\"Rust\"], \"x\": [0], \"y\": [0.0], \"type\": \"scatter\"}, {\"marker\": {\"size\": [3421.5], \"sizemode\": \"area\", \"sizeref\": 30}, \"mode\": \"markers\", \"name\": \"Shell\", \"text\": [\"Shell\"], \"x\": [11], \"y\": [10.55], \"type\": \"scatter\"}, {\"marker\": {\"size\": [0.0], \"sizemode\": \"area\", \"sizeref\": 30}, \"mode\": \"markers\", \"name\": \"Swift\", \"text\": [\"Swift\"], \"x\": [0], \"y\": [0.0], \"type\": \"scatter\"}], \"name\": \"4\"}, {\"data\": [{\"marker\": {\"size\": [2252.5625], \"sizemode\": \"area\", \"sizeref\": 30}, \"mode\": \"markers\", \"name\": \"C\", \"text\": [\"C\"], \"x\": [3], \"y\": [63.5], \"type\": \"scatter\"}, {\"marker\": {\"size\": [117031.5], \"sizemode\": \"area\", \"sizeref\": 30}, \"mode\": \"markers\", \"name\": \"C#\", \"text\": [\"C#\"], \"x\": [1], \"y\": [118.0], \"type\": \"scatter\"}, {\"marker\": {\"size\": [81592.0], \"sizemode\": \"area\", \"sizeref\": 30}, \"mode\": \"markers\", \"name\": \"C++\", \"text\": [\"C++\"], \"x\": [2], \"y\": [124.0], \"type\": \"scatter\"}, {\"marker\": {\"size\": [17335.1875], \"sizemode\": \"area\", \"sizeref\": 30}, \"mode\": \"markers\", \"name\": \"CSS\", \"text\": [\"CSS\"], \"x\": [3], \"y\": [49.5], \"type\": \"scatter\"}, {\"marker\": {\"size\": [2596.6666666666665], \"sizemode\": \"area\", \"sizeref\": 30}, \"mode\": \"markers\", \"name\": \"HTML\", \"text\": [\"HTML\"], \"x\": [4], \"y\": [135.33333333333334], \"type\": \"scatter\"}, {\"marker\": {\"size\": [21724.260416666668], \"sizemode\": \"area\", \"sizeref\": 30}, \"mode\": \"markers\", \"name\": \"Java\", \"text\": [\"Java\"], \"x\": [40], \"y\": [117.84375], \"type\": \"scatter\"}, {\"marker\": {\"size\": [122807.23854166667], \"sizemode\": \"area\", \"sizeref\": 30}, \"mode\": \"markers\", \"name\": \"JavaScript\", \"text\": [\"JavaScript\"], \"x\": [23], \"y\": [299.9833333333333], \"type\": \"scatter\"}, {\"marker\": {\"size\": [0.0], \"sizemode\": \"area\", \"sizeref\": 30}, \"mode\": \"markers\", \"name\": \"OCaml\", \"text\": [\"OCaml\"], \"x\": [0], \"y\": [0.0], \"type\": \"scatter\"}, {\"marker\": {\"size\": [22089.625], \"sizemode\": \"area\", \"sizeref\": 30}, \"mode\": \"markers\", \"name\": \"Objective-C\", \"text\": [\"Objective-C\"], \"x\": [2], \"y\": [28.0], \"type\": \"scatter\"}, {\"marker\": {\"size\": [1109.25], \"sizemode\": \"area\", \"sizeref\": 30}, \"mode\": \"markers\", \"name\": \"Ruby\", \"text\": [\"Ruby\"], \"x\": [3], \"y\": [17.0], \"type\": \"scatter\"}, {\"marker\": {\"size\": [138.5], \"sizemode\": \"area\", \"sizeref\": 30}, \"mode\": \"markers\", \"name\": \"Rust\", \"text\": [\"Rust\"], \"x\": [2], \"y\": [15.5], \"type\": \"scatter\"}, {\"marker\": {\"size\": [3662.464285714286], \"sizemode\": \"area\", \"sizeref\": 30}, \"mode\": \"markers\", \"name\": \"Shell\", \"text\": [\"Shell\"], \"x\": [18], \"y\": [14.407142857142858], \"type\": \"scatter\"}, {\"marker\": {\"size\": [2128.0], \"sizemode\": \"area\", \"sizeref\": 30}, \"mode\": \"markers\", \"name\": \"Swift\", \"text\": [\"Swift\"], \"x\": [1], \"y\": [1.0], \"type\": \"scatter\"}], \"name\": \"5\"}, {\"data\": [{\"marker\": {\"size\": [41946.614583333336], \"sizemode\": \"area\", \"sizeref\": 30}, \"mode\": \"markers\", \"name\": \"C\", \"text\": [\"C\"], \"x\": [9], \"y\": [168.5], \"type\": \"scatter\"}, {\"marker\": {\"size\": [58515.75], \"sizemode\": \"area\", \"sizeref\": 30}, \"mode\": \"markers\", \"name\": \"C#\", \"text\": [\"C#\"], \"x\": [1], \"y\": [118.0], \"type\": \"scatter\"}, {\"marker\": {\"size\": [86640.0], \"sizemode\": \"area\", \"sizeref\": 30}, \"mode\": \"markers\", \"name\": \"C++\", \"text\": [\"C++\"], \"x\": [5], \"y\": [144.66666666666666], \"type\": \"scatter\"}, {\"marker\": {\"size\": [8667.59375], \"sizemode\": \"area\", \"sizeref\": 30}, \"mode\": \"markers\", \"name\": \"CSS\", \"text\": [\"CSS\"], \"x\": [3], \"y\": [49.5], \"type\": \"scatter\"}, {\"marker\": {\"size\": [12967.533333333335], \"sizemode\": \"area\", \"sizeref\": 30}, \"mode\": \"markers\", \"name\": \"HTML\", \"text\": [\"HTML\"], \"x\": [9], \"y\": [152.73333333333335], \"type\": \"scatter\"}, {\"marker\": {\"size\": [10862.130208333334], \"sizemode\": \"area\", \"sizeref\": 30}, \"mode\": \"markers\", \"name\": \"Java\", \"text\": [\"Java\"], \"x\": [40], \"y\": [117.84375], \"type\": \"scatter\"}, {\"marker\": {\"size\": [64441.2859375], \"sizemode\": \"area\", \"sizeref\": 30}, \"mode\": \"markers\", \"name\": \"JavaScript\", \"text\": [\"JavaScript\"], \"x\": [26], \"y\": [338.9833333333333], \"type\": \"scatter\"}, {\"marker\": {\"size\": [187.0], \"sizemode\": \"area\", \"sizeref\": 30}, \"mode\": \"markers\", \"name\": \"OCaml\", \"text\": [\"OCaml\"], \"x\": [1], \"y\": [1.0], \"type\": \"scatter\"}, {\"marker\": {\"size\": [11044.8125], \"sizemode\": \"area\", \"sizeref\": 30}, \"mode\": \"markers\", \"name\": \"Objective-C\", \"text\": [\"Objective-C\"], \"x\": [2], \"y\": [28.0], \"type\": \"scatter\"}, {\"marker\": {\"size\": [100415.625], \"sizemode\": \"area\", \"sizeref\": 30}, \"mode\": \"markers\", \"name\": \"Ruby\", \"text\": [\"Ruby\"], \"x\": [7], \"y\": [348.5], \"type\": \"scatter\"}, {\"marker\": {\"size\": [7380.25], \"sizemode\": \"area\", \"sizeref\": 30}, \"mode\": \"markers\", \"name\": \"Rust\", \"text\": [\"Rust\"], \"x\": [3], \"y\": [134.5], \"type\": \"scatter\"}, {\"marker\": {\"size\": [83627.23214285714], \"sizemode\": \"area\", \"sizeref\": 30}, \"mode\": \"markers\", \"name\": \"Shell\", \"text\": [\"Shell\"], \"x\": [19], \"y\": [22.40714285714286], \"type\": \"scatter\"}, {\"marker\": {\"size\": [5450.0], \"sizemode\": \"area\", \"sizeref\": 30}, \"mode\": \"markers\", \"name\": \"Swift\", \"text\": [\"Swift\"], \"x\": [2], \"y\": [56.0], \"type\": \"scatter\"}], \"name\": \"6\"}, {\"data\": [{\"marker\": {\"size\": [20973.307291666668], \"sizemode\": \"area\", \"sizeref\": 30}, \"mode\": \"markers\", \"name\": \"C\", \"text\": [\"C\"], \"x\": [9], \"y\": [168.5], \"type\": \"scatter\"}, {\"marker\": {\"size\": [29257.875], \"sizemode\": \"area\", \"sizeref\": 30}, \"mode\": \"markers\", \"name\": \"C#\", \"text\": [\"C#\"], \"x\": [1], \"y\": [118.0], \"type\": \"scatter\"}, {\"marker\": {\"size\": [43320.0], \"sizemode\": \"area\", \"sizeref\": 30}, \"mode\": \"markers\", \"name\": \"C++\", \"text\": [\"C++\"], \"x\": [5], \"y\": [144.66666666666666], \"type\": \"scatter\"}, {\"marker\": {\"size\": [4333.796875], \"sizemode\": \"area\", \"sizeref\": 30}, \"mode\": \"markers\", \"name\": \"CSS\", \"text\": [\"CSS\"], \"x\": [3], \"y\": [49.5], \"type\": \"scatter\"}, {\"marker\": {\"size\": [6827.766666666667], \"sizemode\": \"area\", \"sizeref\": 30}, \"mode\": \"markers\", \"name\": \"HTML\", \"text\": [\"HTML\"], \"x\": [10], \"y\": [155.73333333333335], \"type\": \"scatter\"}, {\"marker\": {\"size\": [5431.065104166667], \"sizemode\": \"area\", \"sizeref\": 30}, \"mode\": \"markers\", \"name\": \"Java\", \"text\": [\"Java\"], \"x\": [40], \"y\": [117.84375], \"type\": \"scatter\"}, {\"marker\": {\"size\": [32220.64296875], \"sizemode\": \"area\", \"sizeref\": 30}, \"mode\": \"markers\", \"name\": \"JavaScript\", \"text\": [\"JavaScript\"], \"x\": [26], \"y\": [338.9833333333333], \"type\": \"scatter\"}, {\"marker\": {\"size\": [5518.833333333333], \"sizemode\": \"area\", \"sizeref\": 30}, \"mode\": \"markers\", \"name\": \"OCaml\", \"text\": [\"OCaml\"], \"x\": [4], \"y\": [2.333333333333333], \"type\": \"scatter\"}, {\"marker\": {\"size\": [5522.40625], \"sizemode\": \"area\", \"sizeref\": 30}, \"mode\": \"markers\", \"name\": \"Objective-C\", \"text\": [\"Objective-C\"], \"x\": [2], \"y\": [28.0], \"type\": \"scatter\"}, {\"marker\": {\"size\": [50207.8125], \"sizemode\": \"area\", \"sizeref\": 30}, \"mode\": \"markers\", \"name\": \"Ruby\", \"text\": [\"Ruby\"], \"x\": [7], \"y\": [348.5], \"type\": \"scatter\"}, {\"marker\": {\"size\": [3690.125], \"sizemode\": \"area\", \"sizeref\": 30}, \"mode\": \"markers\", \"name\": \"Rust\", \"text\": [\"Rust\"], \"x\": [3], \"y\": [134.5], \"type\": \"scatter\"}, {\"marker\": {\"size\": [114578.61607142858], \"sizemode\": \"area\", \"sizeref\": 30}, \"mode\": \"markers\", \"name\": \"Shell\", \"text\": [\"Shell\"], \"x\": [20], \"y\": [348.40714285714284], \"type\": \"scatter\"}, {\"marker\": {\"size\": [2725.0], \"sizemode\": \"area\", \"sizeref\": 30}, \"mode\": \"markers\", \"name\": \"Swift\", \"text\": [\"Swift\"], \"x\": [2], \"y\": [56.0], \"type\": \"scatter\"}], \"name\": \"7\"}, {\"data\": [{\"marker\": {\"size\": [10486.653645833334], \"sizemode\": \"area\", \"sizeref\": 30}, \"mode\": \"markers\", \"name\": \"C\", \"text\": [\"C\"], \"x\": [9], \"y\": [168.5], \"type\": \"scatter\"}, {\"marker\": {\"size\": [14628.9375], \"sizemode\": \"area\", \"sizeref\": 30}, \"mode\": \"markers\", \"name\": \"C#\", \"text\": [\"C#\"], \"x\": [1], \"y\": [118.0], \"type\": \"scatter\"}, {\"marker\": {\"size\": [21979.0], \"sizemode\": \"area\", \"sizeref\": 30}, \"mode\": \"markers\", \"name\": \"C++\", \"text\": [\"C++\"], \"x\": [6], \"y\": [145.66666666666666], \"type\": \"scatter\"}, {\"marker\": {\"size\": [2166.8984375], \"sizemode\": \"area\", \"sizeref\": 30}, \"mode\": \"markers\", \"name\": \"CSS\", \"text\": [\"CSS\"], \"x\": [3], \"y\": [49.5], \"type\": \"scatter\"}, {\"marker\": {\"size\": [3413.8833333333337], \"sizemode\": \"area\", \"sizeref\": 30}, \"mode\": \"markers\", \"name\": \"HTML\", \"text\": [\"HTML\"], \"x\": [10], \"y\": [155.73333333333335], \"type\": \"scatter\"}, {\"marker\": {\"size\": [2715.5325520833335], \"sizemode\": \"area\", \"sizeref\": 30}, \"mode\": \"markers\", \"name\": \"Java\", \"text\": [\"Java\"], \"x\": [40], \"y\": [117.84375], \"type\": \"scatter\"}, {\"marker\": {\"size\": [20806.321484375], \"sizemode\": \"area\", \"sizeref\": 30}, \"mode\": \"markers\", \"name\": \"JavaScript\", \"text\": [\"JavaScript\"], \"x\": [27], \"y\": [339.9833333333333], \"type\": \"scatter\"}, {\"marker\": {\"size\": [3736.4166666666665], \"sizemode\": \"area\", \"sizeref\": 30}, \"mode\": \"markers\", \"name\": \"OCaml\", \"text\": [\"OCaml\"], \"x\": [5], \"y\": [3.333333333333333], \"type\": \"scatter\"}, {\"marker\": {\"size\": [2761.203125], \"sizemode\": \"area\", \"sizeref\": 30}, \"mode\": \"markers\", \"name\": \"Objective-C\", \"text\": [\"Objective-C\"], \"x\": [2], \"y\": [28.0], \"type\": \"scatter\"}, {\"marker\": {\"size\": [25103.90625], \"sizemode\": \"area\", \"sizeref\": 30}, \"mode\": \"markers\", \"name\": \"Ruby\", \"text\": [\"Ruby\"], \"x\": [7], \"y\": [348.5], \"type\": \"scatter\"}, {\"marker\": {\"size\": [1845.0625], \"sizemode\": \"area\", \"sizeref\": 30}, \"mode\": \"markers\", \"name\": \"Rust\", \"text\": [\"Rust\"], \"x\": [3], \"y\": [134.5], \"type\": \"scatter\"}, {\"marker\": {\"size\": [57289.30803571429], \"sizemode\": \"area\", \"sizeref\": 30}, \"mode\": \"markers\", \"name\": \"Shell\", \"text\": [\"Shell\"], \"x\": [20], \"y\": [348.40714285714284], \"type\": \"scatter\"}, {\"marker\": {\"size\": [1362.5], \"sizemode\": \"area\", \"sizeref\": 30}, \"mode\": \"markers\", \"name\": \"Swift\", \"text\": [\"Swift\"], \"x\": [2], \"y\": [56.0], \"type\": \"scatter\"}], \"name\": \"8\"}, {\"data\": [{\"marker\": {\"size\": [104.0], \"sizemode\": \"area\", \"sizeref\": 30}, \"mode\": \"markers\", \"name\": \"C\", \"text\": [\"C\"], \"x\": [1], \"y\": [1.0], \"type\": \"scatter\"}, {\"marker\": {\"size\": [0.0], \"sizemode\": \"area\", \"sizeref\": 30}, \"mode\": \"markers\", \"name\": \"C#\", \"text\": [\"C#\"], \"x\": [0], \"y\": [0.0], \"type\": \"scatter\"}, {\"marker\": {\"size\": [0.0], \"sizemode\": \"area\", \"sizeref\": 30}, \"mode\": \"markers\", \"name\": \"C++\", \"text\": [\"C++\"], \"x\": [0], \"y\": [0.0], \"type\": \"scatter\"}, {\"marker\": {\"size\": [0.0], \"sizemode\": \"area\", \"sizeref\": 30}, \"mode\": \"markers\", \"name\": \"CSS\", \"text\": [\"CSS\"], \"x\": [0], \"y\": [0.0], \"type\": \"scatter\"}, {\"marker\": {\"size\": [0.0], \"sizemode\": \"area\", \"sizeref\": 30}, \"mode\": \"markers\", \"name\": \"HTML\", \"text\": [\"HTML\"], \"x\": [0], \"y\": [0.0], \"type\": \"scatter\"}, {\"marker\": {\"size\": [0.0], \"sizemode\": \"area\", \"sizeref\": 30}, \"mode\": \"markers\", \"name\": \"Java\", \"text\": [\"Java\"], \"x\": [0], \"y\": [0.0], \"type\": \"scatter\"}, {\"marker\": {\"size\": [18081.5], \"sizemode\": \"area\", \"sizeref\": 30}, \"mode\": \"markers\", \"name\": \"JavaScript\", \"text\": [\"JavaScript\"], \"x\": [4], \"y\": [4.5], \"type\": \"scatter\"}, {\"marker\": {\"size\": [0.0], \"sizemode\": \"area\", \"sizeref\": 30}, \"mode\": \"markers\", \"name\": \"OCaml\", \"text\": [\"OCaml\"], \"x\": [0], \"y\": [0.0], \"type\": \"scatter\"}, {\"marker\": {\"size\": [0.0], \"sizemode\": \"area\", \"sizeref\": 30}, \"mode\": \"markers\", \"name\": \"Objective-C\", \"text\": [\"Objective-C\"], \"x\": [0], \"y\": [0.0], \"type\": \"scatter\"}, {\"marker\": {\"size\": [0.0], \"sizemode\": \"area\", \"sizeref\": 30}, \"mode\": \"markers\", \"name\": \"Ruby\", \"text\": [\"Ruby\"], \"x\": [0], \"y\": [0.0], \"type\": \"scatter\"}, {\"marker\": {\"size\": [0.0], \"sizemode\": \"area\", \"sizeref\": 30}, \"mode\": \"markers\", \"name\": \"Rust\", \"text\": [\"Rust\"], \"x\": [0], \"y\": [0.0], \"type\": \"scatter\"}, {\"marker\": {\"size\": [0.0], \"sizemode\": \"area\", \"sizeref\": 30}, \"mode\": \"markers\", \"name\": \"Shell\", \"text\": [\"Shell\"], \"x\": [0], \"y\": [0.0], \"type\": \"scatter\"}, {\"marker\": {\"size\": [0.0], \"sizemode\": \"area\", \"sizeref\": 30}, \"mode\": \"markers\", \"name\": \"Swift\", \"text\": [\"Swift\"], \"x\": [0], \"y\": [0.0], \"type\": \"scatter\"}], \"name\": \"0\"}, {\"data\": [{\"marker\": {\"size\": [52.0], \"sizemode\": \"area\", \"sizeref\": 30}, \"mode\": \"markers\", \"name\": \"C\", \"text\": [\"C\"], \"x\": [1], \"y\": [1.0], \"type\": \"scatter\"}, {\"marker\": {\"size\": [0.0], \"sizemode\": \"area\", \"sizeref\": 30}, \"mode\": \"markers\", \"name\": \"C#\", \"text\": [\"C#\"], \"x\": [0], \"y\": [0.0], \"type\": \"scatter\"}, {\"marker\": {\"size\": [0.0], \"sizemode\": \"area\", \"sizeref\": 30}, \"mode\": \"markers\", \"name\": \"C++\", \"text\": [\"C++\"], \"x\": [0], \"y\": [0.0], \"type\": \"scatter\"}, {\"marker\": {\"size\": [2371.0], \"sizemode\": \"area\", \"sizeref\": 30}, \"mode\": \"markers\", \"name\": \"CSS\", \"text\": [\"CSS\"], \"x\": [1], \"y\": [4.0], \"type\": \"scatter\"}, {\"marker\": {\"size\": [0.0], \"sizemode\": \"area\", \"sizeref\": 30}, \"mode\": \"markers\", \"name\": \"HTML\", \"text\": [\"HTML\"], \"x\": [0], \"y\": [0.0], \"type\": \"scatter\"}, {\"marker\": {\"size\": [112.0], \"sizemode\": \"area\", \"sizeref\": 30}, \"mode\": \"markers\", \"name\": \"Java\", \"text\": [\"Java\"], \"x\": [1], \"y\": [1.0], \"type\": \"scatter\"}, {\"marker\": {\"size\": [9040.75], \"sizemode\": \"area\", \"sizeref\": 30}, \"mode\": \"markers\", \"name\": \"JavaScript\", \"text\": [\"JavaScript\"], \"x\": [4], \"y\": [4.5], \"type\": \"scatter\"}, {\"marker\": {\"size\": [0.0], \"sizemode\": \"area\", \"sizeref\": 30}, \"mode\": \"markers\", \"name\": \"OCaml\", \"text\": [\"OCaml\"], \"x\": [0], \"y\": [0.0], \"type\": \"scatter\"}, {\"marker\": {\"size\": [0.0], \"sizemode\": \"area\", \"sizeref\": 30}, \"mode\": \"markers\", \"name\": \"Objective-C\", \"text\": [\"Objective-C\"], \"x\": [0], \"y\": [0.0], \"type\": \"scatter\"}, {\"marker\": {\"size\": [124.0], \"sizemode\": \"area\", \"sizeref\": 30}, \"mode\": \"markers\", \"name\": \"Ruby\", \"text\": [\"Ruby\"], \"x\": [1], \"y\": [1.0], \"type\": \"scatter\"}, {\"marker\": {\"size\": [0.0], \"sizemode\": \"area\", \"sizeref\": 30}, \"mode\": \"markers\", \"name\": \"Rust\", \"text\": [\"Rust\"], \"x\": [0], \"y\": [0.0], \"type\": \"scatter\"}, {\"marker\": {\"size\": [108.0], \"sizemode\": \"area\", \"sizeref\": 30}, \"mode\": \"markers\", \"name\": \"Shell\", \"text\": [\"Shell\"], \"x\": [1], \"y\": [1.0], \"type\": \"scatter\"}, {\"marker\": {\"size\": [0.0], \"sizemode\": \"area\", \"sizeref\": 30}, \"mode\": \"markers\", \"name\": \"Swift\", \"text\": [\"Swift\"], \"x\": [0], \"y\": [0.0], \"type\": \"scatter\"}], \"name\": \"1\"}, {\"data\": [{\"marker\": {\"size\": [18020.5], \"sizemode\": \"area\", \"sizeref\": 30}, \"mode\": \"markers\", \"name\": \"C\", \"text\": [\"C\"], \"x\": [3], \"y\": [63.5], \"type\": \"scatter\"}, {\"marker\": {\"size\": [0.0], \"sizemode\": \"area\", \"sizeref\": 30}, \"mode\": \"markers\", \"name\": \"C#\", \"text\": [\"C#\"], \"x\": [0], \"y\": [0.0], \"type\": \"scatter\"}, {\"marker\": {\"size\": [0.0], \"sizemode\": \"area\", \"sizeref\": 30}, \"mode\": \"markers\", \"name\": \"C++\", \"text\": [\"C++\"], \"x\": [0], \"y\": [0.0], \"type\": \"scatter\"}, {\"marker\": {\"size\": [1185.5], \"sizemode\": \"area\", \"sizeref\": 30}, \"mode\": \"markers\", \"name\": \"CSS\", \"text\": [\"CSS\"], \"x\": [1], \"y\": [4.0], \"type\": \"scatter\"}, {\"marker\": {\"size\": [0.0], \"sizemode\": \"area\", \"sizeref\": 30}, \"mode\": \"markers\", \"name\": \"HTML\", \"text\": [\"HTML\"], \"x\": [0], \"y\": [0.0], \"type\": \"scatter\"}, {\"marker\": {\"size\": [56.0], \"sizemode\": \"area\", \"sizeref\": 30}, \"mode\": \"markers\", \"name\": \"Java\", \"text\": [\"Java\"], \"x\": [1], \"y\": [1.0], \"type\": \"scatter\"}, {\"marker\": {\"size\": [5013.041666666667], \"sizemode\": \"area\", \"sizeref\": 30}, \"mode\": \"markers\", \"name\": \"JavaScript\", \"text\": [\"JavaScript\"], \"x\": [7], \"y\": [5.5], \"type\": \"scatter\"}, {\"marker\": {\"size\": [0.0], \"sizemode\": \"area\", \"sizeref\": 30}, \"mode\": \"markers\", \"name\": \"OCaml\", \"text\": [\"OCaml\"], \"x\": [0], \"y\": [0.0], \"type\": \"scatter\"}, {\"marker\": {\"size\": [2693.0], \"sizemode\": \"area\", \"sizeref\": 30}, \"mode\": \"markers\", \"name\": \"Objective-C\", \"text\": [\"Objective-C\"], \"x\": [1], \"y\": [23.0], \"type\": \"scatter\"}, {\"marker\": {\"size\": [62.0], \"sizemode\": \"area\", \"sizeref\": 30}, \"mode\": \"markers\", \"name\": \"Ruby\", \"text\": [\"Ruby\"], \"x\": [1], \"y\": [1.0], \"type\": \"scatter\"}, {\"marker\": {\"size\": [0.0], \"sizemode\": \"area\", \"sizeref\": 30}, \"mode\": \"markers\", \"name\": \"Rust\", \"text\": [\"Rust\"], \"x\": [0], \"y\": [0.0], \"type\": \"scatter\"}, {\"marker\": {\"size\": [533.0], \"sizemode\": \"area\", \"sizeref\": 30}, \"mode\": \"markers\", \"name\": \"Shell\", \"text\": [\"Shell\"], \"x\": [2], \"y\": [2.0], \"type\": \"scatter\"}, {\"marker\": {\"size\": [0.0], \"sizemode\": \"area\", \"sizeref\": 30}, \"mode\": \"markers\", \"name\": \"Swift\", \"text\": [\"Swift\"], \"x\": [0], \"y\": [0.0], \"type\": \"scatter\"}], \"name\": \"2\"}, {\"data\": [{\"marker\": {\"size\": [9010.25], \"sizemode\": \"area\", \"sizeref\": 30}, \"mode\": \"markers\", \"name\": \"C\", \"text\": [\"C\"], \"x\": [3], \"y\": [63.5], \"type\": \"scatter\"}, {\"marker\": {\"size\": [0.0], \"sizemode\": \"area\", \"sizeref\": 30}, \"mode\": \"markers\", \"name\": \"C#\", \"text\": [\"C#\"], \"x\": [0], \"y\": [0.0], \"type\": \"scatter\"}, {\"marker\": {\"size\": [0.0], \"sizemode\": \"area\", \"sizeref\": 30}, \"mode\": \"markers\", \"name\": \"C++\", \"text\": [\"C++\"], \"x\": [0], \"y\": [0.0], \"type\": \"scatter\"}, {\"marker\": {\"size\": [592.75], \"sizemode\": \"area\", \"sizeref\": 30}, \"mode\": \"markers\", \"name\": \"CSS\", \"text\": [\"CSS\"], \"x\": [1], \"y\": [4.0], \"type\": \"scatter\"}, {\"marker\": {\"size\": [0.0], \"sizemode\": \"area\", \"sizeref\": 30}, \"mode\": \"markers\", \"name\": \"HTML\", \"text\": [\"HTML\"], \"x\": [0], \"y\": [0.0], \"type\": \"scatter\"}, {\"marker\": {\"size\": [2012.0], \"sizemode\": \"area\", \"sizeref\": 30}, \"mode\": \"markers\", \"name\": \"Java\", \"text\": [\"Java\"], \"x\": [2], \"y\": [5.0], \"type\": \"scatter\"}, {\"marker\": {\"size\": [3981.1208333333334], \"sizemode\": \"area\", \"sizeref\": 30}, \"mode\": \"markers\", \"name\": \"JavaScript\", \"text\": [\"JavaScript\"], \"x\": [12], \"y\": [14.9], \"type\": \"scatter\"}, {\"marker\": {\"size\": [0.0], \"sizemode\": \"area\", \"sizeref\": 30}, \"mode\": \"markers\", \"name\": \"OCaml\", \"text\": [\"OCaml\"], \"x\": [0], \"y\": [0.0], \"type\": \"scatter\"}, {\"marker\": {\"size\": [1346.5], \"sizemode\": \"area\", \"sizeref\": 30}, \"mode\": \"markers\", \"name\": \"Objective-C\", \"text\": [\"Objective-C\"], \"x\": [1], \"y\": [23.0], \"type\": \"scatter\"}, {\"marker\": {\"size\": [31.0], \"sizemode\": \"area\", \"sizeref\": 30}, \"mode\": \"markers\", \"name\": \"Ruby\", \"text\": [\"Ruby\"], \"x\": [1], \"y\": [1.0], \"type\": \"scatter\"}, {\"marker\": {\"size\": [0.0], \"sizemode\": \"area\", \"sizeref\": 30}, \"mode\": \"markers\", \"name\": \"Rust\", \"text\": [\"Rust\"], \"x\": [0], \"y\": [0.0], \"type\": \"scatter\"}, {\"marker\": {\"size\": [313.0], \"sizemode\": \"area\", \"sizeref\": 30}, \"mode\": \"markers\", \"name\": \"Shell\", \"text\": [\"Shell\"], \"x\": [6], \"y\": [3.75], \"type\": \"scatter\"}, {\"marker\": {\"size\": [0.0], \"sizemode\": \"area\", \"sizeref\": 30}, \"mode\": \"markers\", \"name\": \"Swift\", \"text\": [\"Swift\"], \"x\": [0], \"y\": [0.0], \"type\": \"scatter\"}], \"name\": \"3\"}, {\"data\": [{\"marker\": {\"size\": [4505.125], \"sizemode\": \"area\", \"sizeref\": 30}, \"mode\": \"markers\", \"name\": \"C\", \"text\": [\"C\"], \"x\": [3], \"y\": [63.5], \"type\": \"scatter\"}, {\"marker\": {\"size\": [234063.0], \"sizemode\": \"area\", \"sizeref\": 30}, \"mode\": \"markers\", \"name\": \"C#\", \"text\": [\"C#\"], \"x\": [1], \"y\": [118.0], \"type\": \"scatter\"}, {\"marker\": {\"size\": [163184.0], \"sizemode\": \"area\", \"sizeref\": 30}, \"mode\": \"markers\", \"name\": \"C++\", \"text\": [\"C++\"], \"x\": [2], \"y\": [124.0], \"type\": \"scatter\"}, {\"marker\": {\"size\": [296.375], \"sizemode\": \"area\", \"sizeref\": 30}, \"mode\": \"markers\", \"name\": \"CSS\", \"text\": [\"CSS\"], \"x\": [1], \"y\": [4.0], \"type\": \"scatter\"}, {\"marker\": {\"size\": [1131.3333333333333], \"sizemode\": \"area\", \"sizeref\": 30}, \"mode\": \"markers\", \"name\": \"HTML\", \"text\": [\"HTML\"], \"x\": [3], \"y\": [43.333333333333336], \"type\": \"scatter\"}, {\"marker\": {\"size\": [1139.1875], \"sizemode\": \"area\", \"sizeref\": 30}, \"mode\": \"markers\", \"name\": \"Java\", \"text\": [\"Java\"], \"x\": [34], \"y\": [11.84375], \"type\": \"scatter\"}, {\"marker\": {\"size\": [176663.22708333333], \"sizemode\": \"area\", \"sizeref\": 30}, \"mode\": \"markers\", \"name\": \"JavaScript\", \"text\": [\"JavaScript\"], \"x\": [15], \"y\": [273.2333333333333], \"type\": \"scatter\"}, {\"marker\": {\"size\": [0.0], \"sizemode\": \"area\", \"sizeref\": 30}, \"mode\": \"markers\", \"name\": \"OCaml\", \"text\": [\"OCaml\"], \"x\": [0], \"y\": [0.0], \"type\": \"scatter\"}, {\"marker\": {\"size\": [673.25], \"sizemode\": \"area\", \"sizeref\": 30}, \"mode\": \"markers\", \"name\": \"Objective-C\", \"text\": [\"Objective-C\"], \"x\": [1], \"y\": [23.0], \"type\": \"scatter\"}, {\"marker\": {\"size\": [15.5], \"sizemode\": \"area\", \"sizeref\": 30}, \"mode\": \"markers\", \"name\": \"Ruby\", \"text\": [\"Ruby\"], \"x\": [1], \"y\": [1.0], \"type\": \"scatter\"}, {\"marker\": {\"size\": [0.0], \"sizemode\": \"area\", \"sizeref\": 30}, \"mode\": \"markers\", \"name\": \"Rust\", \"text\": [\"Rust\"], \"x\": [0], \"y\": [0.0], \"type\": \"scatter\"}, {\"marker\": {\"size\": [3421.5], \"sizemode\": \"area\", \"sizeref\": 30}, \"mode\": \"markers\", \"name\": \"Shell\", \"text\": [\"Shell\"], \"x\": [11], \"y\": [10.55], \"type\": \"scatter\"}, {\"marker\": {\"size\": [0.0], \"sizemode\": \"area\", \"sizeref\": 30}, \"mode\": \"markers\", \"name\": \"Swift\", \"text\": [\"Swift\"], \"x\": [0], \"y\": [0.0], \"type\": \"scatter\"}], \"name\": \"4\"}, {\"data\": [{\"marker\": {\"size\": [2252.5625], \"sizemode\": \"area\", \"sizeref\": 30}, \"mode\": \"markers\", \"name\": \"C\", \"text\": [\"C\"], \"x\": [3], \"y\": [63.5], \"type\": \"scatter\"}, {\"marker\": {\"size\": [117031.5], \"sizemode\": \"area\", \"sizeref\": 30}, \"mode\": \"markers\", \"name\": \"C#\", \"text\": [\"C#\"], \"x\": [1], \"y\": [118.0], \"type\": \"scatter\"}, {\"marker\": {\"size\": [81592.0], \"sizemode\": \"area\", \"sizeref\": 30}, \"mode\": \"markers\", \"name\": \"C++\", \"text\": [\"C++\"], \"x\": [2], \"y\": [124.0], \"type\": \"scatter\"}, {\"marker\": {\"size\": [17335.1875], \"sizemode\": \"area\", \"sizeref\": 30}, \"mode\": \"markers\", \"name\": \"CSS\", \"text\": [\"CSS\"], \"x\": [3], \"y\": [49.5], \"type\": \"scatter\"}, {\"marker\": {\"size\": [2596.6666666666665], \"sizemode\": \"area\", \"sizeref\": 30}, \"mode\": \"markers\", \"name\": \"HTML\", \"text\": [\"HTML\"], \"x\": [4], \"y\": [135.33333333333334], \"type\": \"scatter\"}, {\"marker\": {\"size\": [21724.260416666668], \"sizemode\": \"area\", \"sizeref\": 30}, \"mode\": \"markers\", \"name\": \"Java\", \"text\": [\"Java\"], \"x\": [40], \"y\": [117.84375], \"type\": \"scatter\"}, {\"marker\": {\"size\": [122807.23854166667], \"sizemode\": \"area\", \"sizeref\": 30}, \"mode\": \"markers\", \"name\": \"JavaScript\", \"text\": [\"JavaScript\"], \"x\": [23], \"y\": [299.9833333333333], \"type\": \"scatter\"}, {\"marker\": {\"size\": [0.0], \"sizemode\": \"area\", \"sizeref\": 30}, \"mode\": \"markers\", \"name\": \"OCaml\", \"text\": [\"OCaml\"], \"x\": [0], \"y\": [0.0], \"type\": \"scatter\"}, {\"marker\": {\"size\": [22089.625], \"sizemode\": \"area\", \"sizeref\": 30}, \"mode\": \"markers\", \"name\": \"Objective-C\", \"text\": [\"Objective-C\"], \"x\": [2], \"y\": [28.0], \"type\": \"scatter\"}, {\"marker\": {\"size\": [1109.25], \"sizemode\": \"area\", \"sizeref\": 30}, \"mode\": \"markers\", \"name\": \"Ruby\", \"text\": [\"Ruby\"], \"x\": [3], \"y\": [17.0], \"type\": \"scatter\"}, {\"marker\": {\"size\": [138.5], \"sizemode\": \"area\", \"sizeref\": 30}, \"mode\": \"markers\", \"name\": \"Rust\", \"text\": [\"Rust\"], \"x\": [2], \"y\": [15.5], \"type\": \"scatter\"}, {\"marker\": {\"size\": [3662.464285714286], \"sizemode\": \"area\", \"sizeref\": 30}, \"mode\": \"markers\", \"name\": \"Shell\", \"text\": [\"Shell\"], \"x\": [18], \"y\": [14.407142857142858], \"type\": \"scatter\"}, {\"marker\": {\"size\": [2128.0], \"sizemode\": \"area\", \"sizeref\": 30}, \"mode\": \"markers\", \"name\": \"Swift\", \"text\": [\"Swift\"], \"x\": [1], \"y\": [1.0], \"type\": \"scatter\"}], \"name\": \"5\"}, {\"data\": [{\"marker\": {\"size\": [41946.614583333336], \"sizemode\": \"area\", \"sizeref\": 30}, \"mode\": \"markers\", \"name\": \"C\", \"text\": [\"C\"], \"x\": [9], \"y\": [168.5], \"type\": \"scatter\"}, {\"marker\": {\"size\": [58515.75], \"sizemode\": \"area\", \"sizeref\": 30}, \"mode\": \"markers\", \"name\": \"C#\", \"text\": [\"C#\"], \"x\": [1], \"y\": [118.0], \"type\": \"scatter\"}, {\"marker\": {\"size\": [86640.0], \"sizemode\": \"area\", \"sizeref\": 30}, \"mode\": \"markers\", \"name\": \"C++\", \"text\": [\"C++\"], \"x\": [5], \"y\": [144.66666666666666], \"type\": \"scatter\"}, {\"marker\": {\"size\": [8667.59375], \"sizemode\": \"area\", \"sizeref\": 30}, \"mode\": \"markers\", \"name\": \"CSS\", \"text\": [\"CSS\"], \"x\": [3], \"y\": [49.5], \"type\": \"scatter\"}, {\"marker\": {\"size\": [12967.533333333335], \"sizemode\": \"area\", \"sizeref\": 30}, \"mode\": \"markers\", \"name\": \"HTML\", \"text\": [\"HTML\"], \"x\": [9], \"y\": [152.73333333333335], \"type\": \"scatter\"}, {\"marker\": {\"size\": [10862.130208333334], \"sizemode\": \"area\", \"sizeref\": 30}, \"mode\": \"markers\", \"name\": \"Java\", \"text\": [\"Java\"], \"x\": [40], \"y\": [117.84375], \"type\": \"scatter\"}, {\"marker\": {\"size\": [64441.2859375], \"sizemode\": \"area\", \"sizeref\": 30}, \"mode\": \"markers\", \"name\": \"JavaScript\", \"text\": [\"JavaScript\"], \"x\": [26], \"y\": [338.9833333333333], \"type\": \"scatter\"}, {\"marker\": {\"size\": [187.0], \"sizemode\": \"area\", \"sizeref\": 30}, \"mode\": \"markers\", \"name\": \"OCaml\", \"text\": [\"OCaml\"], \"x\": [1], \"y\": [1.0], \"type\": \"scatter\"}, {\"marker\": {\"size\": [11044.8125], \"sizemode\": \"area\", \"sizeref\": 30}, \"mode\": \"markers\", \"name\": \"Objective-C\", \"text\": [\"Objective-C\"], \"x\": [2], \"y\": [28.0], \"type\": \"scatter\"}, {\"marker\": {\"size\": [100415.625], \"sizemode\": \"area\", \"sizeref\": 30}, \"mode\": \"markers\", \"name\": \"Ruby\", \"text\": [\"Ruby\"], \"x\": [7], \"y\": [348.5], \"type\": \"scatter\"}, {\"marker\": {\"size\": [7380.25], \"sizemode\": \"area\", \"sizeref\": 30}, \"mode\": \"markers\", \"name\": \"Rust\", \"text\": [\"Rust\"], \"x\": [3], \"y\": [134.5], \"type\": \"scatter\"}, {\"marker\": {\"size\": [83627.23214285714], \"sizemode\": \"area\", \"sizeref\": 30}, \"mode\": \"markers\", \"name\": \"Shell\", \"text\": [\"Shell\"], \"x\": [19], \"y\": [22.40714285714286], \"type\": \"scatter\"}, {\"marker\": {\"size\": [5450.0], \"sizemode\": \"area\", \"sizeref\": 30}, \"mode\": \"markers\", \"name\": \"Swift\", \"text\": [\"Swift\"], \"x\": [2], \"y\": [56.0], \"type\": \"scatter\"}], \"name\": \"6\"}, {\"data\": [{\"marker\": {\"size\": [20973.307291666668], \"sizemode\": \"area\", \"sizeref\": 30}, \"mode\": \"markers\", \"name\": \"C\", \"text\": [\"C\"], \"x\": [9], \"y\": [168.5], \"type\": \"scatter\"}, {\"marker\": {\"size\": [29257.875], \"sizemode\": \"area\", \"sizeref\": 30}, \"mode\": \"markers\", \"name\": \"C#\", \"text\": [\"C#\"], \"x\": [1], \"y\": [118.0], \"type\": \"scatter\"}, {\"marker\": {\"size\": [43320.0], \"sizemode\": \"area\", \"sizeref\": 30}, \"mode\": \"markers\", \"name\": \"C++\", \"text\": [\"C++\"], \"x\": [5], \"y\": [144.66666666666666], \"type\": \"scatter\"}, {\"marker\": {\"size\": [4333.796875], \"sizemode\": \"area\", \"sizeref\": 30}, \"mode\": \"markers\", \"name\": \"CSS\", \"text\": [\"CSS\"], \"x\": [3], \"y\": [49.5], \"type\": \"scatter\"}, {\"marker\": {\"size\": [6827.766666666667], \"sizemode\": \"area\", \"sizeref\": 30}, \"mode\": \"markers\", \"name\": \"HTML\", \"text\": [\"HTML\"], \"x\": [10], \"y\": [155.73333333333335], \"type\": \"scatter\"}, {\"marker\": {\"size\": [5431.065104166667], \"sizemode\": \"area\", \"sizeref\": 30}, \"mode\": \"markers\", \"name\": \"Java\", \"text\": [\"Java\"], \"x\": [40], \"y\": [117.84375], \"type\": \"scatter\"}, {\"marker\": {\"size\": [32220.64296875], \"sizemode\": \"area\", \"sizeref\": 30}, \"mode\": \"markers\", \"name\": \"JavaScript\", \"text\": [\"JavaScript\"], \"x\": [26], \"y\": [338.9833333333333], \"type\": \"scatter\"}, {\"marker\": {\"size\": [5518.833333333333], \"sizemode\": \"area\", \"sizeref\": 30}, \"mode\": \"markers\", \"name\": \"OCaml\", \"text\": [\"OCaml\"], \"x\": [4], \"y\": [2.333333333333333], \"type\": \"scatter\"}, {\"marker\": {\"size\": [5522.40625], \"sizemode\": \"area\", \"sizeref\": 30}, \"mode\": \"markers\", \"name\": \"Objective-C\", \"text\": [\"Objective-C\"], \"x\": [2], \"y\": [28.0], \"type\": \"scatter\"}, {\"marker\": {\"size\": [50207.8125], \"sizemode\": \"area\", \"sizeref\": 30}, \"mode\": \"markers\", \"name\": \"Ruby\", \"text\": [\"Ruby\"], \"x\": [7], \"y\": [348.5], \"type\": \"scatter\"}, {\"marker\": {\"size\": [3690.125], \"sizemode\": \"area\", \"sizeref\": 30}, \"mode\": \"markers\", \"name\": \"Rust\", \"text\": [\"Rust\"], \"x\": [3], \"y\": [134.5], \"type\": \"scatter\"}, {\"marker\": {\"size\": [114578.61607142858], \"sizemode\": \"area\", \"sizeref\": 30}, \"mode\": \"markers\", \"name\": \"Shell\", \"text\": [\"Shell\"], \"x\": [20], \"y\": [348.40714285714284], \"type\": \"scatter\"}, {\"marker\": {\"size\": [2725.0], \"sizemode\": \"area\", \"sizeref\": 30}, \"mode\": \"markers\", \"name\": \"Swift\", \"text\": [\"Swift\"], \"x\": [2], \"y\": [56.0], \"type\": \"scatter\"}], \"name\": \"7\"}, {\"data\": [{\"marker\": {\"size\": [10486.653645833334], \"sizemode\": \"area\", \"sizeref\": 30}, \"mode\": \"markers\", \"name\": \"C\", \"text\": [\"C\"], \"x\": [9], \"y\": [168.5], \"type\": \"scatter\"}, {\"marker\": {\"size\": [14628.9375], \"sizemode\": \"area\", \"sizeref\": 30}, \"mode\": \"markers\", \"name\": \"C#\", \"text\": [\"C#\"], \"x\": [1], \"y\": [118.0], \"type\": \"scatter\"}, {\"marker\": {\"size\": [21979.0], \"sizemode\": \"area\", \"sizeref\": 30}, \"mode\": \"markers\", \"name\": \"C++\", \"text\": [\"C++\"], \"x\": [6], \"y\": [145.66666666666666], \"type\": \"scatter\"}, {\"marker\": {\"size\": [2166.8984375], \"sizemode\": \"area\", \"sizeref\": 30}, \"mode\": \"markers\", \"name\": \"CSS\", \"text\": [\"CSS\"], \"x\": [3], \"y\": [49.5], \"type\": \"scatter\"}, {\"marker\": {\"size\": [3413.8833333333337], \"sizemode\": \"area\", \"sizeref\": 30}, \"mode\": \"markers\", \"name\": \"HTML\", \"text\": [\"HTML\"], \"x\": [10], \"y\": [155.73333333333335], \"type\": \"scatter\"}, {\"marker\": {\"size\": [2715.5325520833335], \"sizemode\": \"area\", \"sizeref\": 30}, \"mode\": \"markers\", \"name\": \"Java\", \"text\": [\"Java\"], \"x\": [40], \"y\": [117.84375], \"type\": \"scatter\"}, {\"marker\": {\"size\": [20806.321484375], \"sizemode\": \"area\", \"sizeref\": 30}, \"mode\": \"markers\", \"name\": \"JavaScript\", \"text\": [\"JavaScript\"], \"x\": [27], \"y\": [339.9833333333333], \"type\": \"scatter\"}, {\"marker\": {\"size\": [3736.4166666666665], \"sizemode\": \"area\", \"sizeref\": 30}, \"mode\": \"markers\", \"name\": \"OCaml\", \"text\": [\"OCaml\"], \"x\": [5], \"y\": [3.333333333333333], \"type\": \"scatter\"}, {\"marker\": {\"size\": [2761.203125], \"sizemode\": \"area\", \"sizeref\": 30}, \"mode\": \"markers\", \"name\": \"Objective-C\", \"text\": [\"Objective-C\"], \"x\": [2], \"y\": [28.0], \"type\": \"scatter\"}, {\"marker\": {\"size\": [25103.90625], \"sizemode\": \"area\", \"sizeref\": 30}, \"mode\": \"markers\", \"name\": \"Ruby\", \"text\": [\"Ruby\"], \"x\": [7], \"y\": [348.5], \"type\": \"scatter\"}, {\"marker\": {\"size\": [1845.0625], \"sizemode\": \"area\", \"sizeref\": 30}, \"mode\": \"markers\", \"name\": \"Rust\", \"text\": [\"Rust\"], \"x\": [3], \"y\": [134.5], \"type\": \"scatter\"}, {\"marker\": {\"size\": [57289.30803571429], \"sizemode\": \"area\", \"sizeref\": 30}, \"mode\": \"markers\", \"name\": \"Shell\", \"text\": [\"Shell\"], \"x\": [20], \"y\": [348.40714285714284], \"type\": \"scatter\"}, {\"marker\": {\"size\": [1362.5], \"sizemode\": \"area\", \"sizeref\": 30}, \"mode\": \"markers\", \"name\": \"Swift\", \"text\": [\"Swift\"], \"x\": [2], \"y\": [56.0], \"type\": \"scatter\"}], \"name\": \"8\"}, {\"data\": [{\"marker\": {\"size\": [104.0], \"sizemode\": \"area\", \"sizeref\": 30}, \"mode\": \"markers\", \"name\": \"C\", \"text\": [\"C\"], \"x\": [1], \"y\": [1.0], \"type\": \"scatter\"}, {\"marker\": {\"size\": [0.0], \"sizemode\": \"area\", \"sizeref\": 30}, \"mode\": \"markers\", \"name\": \"C#\", \"text\": [\"C#\"], \"x\": [0], \"y\": [0.0], \"type\": \"scatter\"}, {\"marker\": {\"size\": [0.0], \"sizemode\": \"area\", \"sizeref\": 30}, \"mode\": \"markers\", \"name\": \"C++\", \"text\": [\"C++\"], \"x\": [0], \"y\": [0.0], \"type\": \"scatter\"}, {\"marker\": {\"size\": [0.0], \"sizemode\": \"area\", \"sizeref\": 30}, \"mode\": \"markers\", \"name\": \"CSS\", \"text\": [\"CSS\"], \"x\": [0], \"y\": [0.0], \"type\": \"scatter\"}, {\"marker\": {\"size\": [0.0], \"sizemode\": \"area\", \"sizeref\": 30}, \"mode\": \"markers\", \"name\": \"HTML\", \"text\": [\"HTML\"], \"x\": [0], \"y\": [0.0], \"type\": \"scatter\"}, {\"marker\": {\"size\": [0.0], \"sizemode\": \"area\", \"sizeref\": 30}, \"mode\": \"markers\", \"name\": \"Java\", \"text\": [\"Java\"], \"x\": [0], \"y\": [0.0], \"type\": \"scatter\"}, {\"marker\": {\"size\": [18081.5], \"sizemode\": \"area\", \"sizeref\": 30}, \"mode\": \"markers\", \"name\": \"JavaScript\", \"text\": [\"JavaScript\"], \"x\": [4], \"y\": [4.5], \"type\": \"scatter\"}, {\"marker\": {\"size\": [0.0], \"sizemode\": \"area\", \"sizeref\": 30}, \"mode\": \"markers\", \"name\": \"OCaml\", \"text\": [\"OCaml\"], \"x\": [0], \"y\": [0.0], \"type\": \"scatter\"}, {\"marker\": {\"size\": [0.0], \"sizemode\": \"area\", \"sizeref\": 30}, \"mode\": \"markers\", \"name\": \"Objective-C\", \"text\": [\"Objective-C\"], \"x\": [0], \"y\": [0.0], \"type\": \"scatter\"}, {\"marker\": {\"size\": [0.0], \"sizemode\": \"area\", \"sizeref\": 30}, \"mode\": \"markers\", \"name\": \"Ruby\", \"text\": [\"Ruby\"], \"x\": [0], \"y\": [0.0], \"type\": \"scatter\"}, {\"marker\": {\"size\": [0.0], \"sizemode\": \"area\", \"sizeref\": 30}, \"mode\": \"markers\", \"name\": \"Rust\", \"text\": [\"Rust\"], \"x\": [0], \"y\": [0.0], \"type\": \"scatter\"}, {\"marker\": {\"size\": [0.0], \"sizemode\": \"area\", \"sizeref\": 30}, \"mode\": \"markers\", \"name\": \"Shell\", \"text\": [\"Shell\"], \"x\": [0], \"y\": [0.0], \"type\": \"scatter\"}, {\"marker\": {\"size\": [0.0], \"sizemode\": \"area\", \"sizeref\": 30}, \"mode\": \"markers\", \"name\": \"Swift\", \"text\": [\"Swift\"], \"x\": [0], \"y\": [0.0], \"type\": \"scatter\"}], \"name\": \"0\"}, {\"data\": [{\"marker\": {\"size\": [52.0], \"sizemode\": \"area\", \"sizeref\": 30}, \"mode\": \"markers\", \"name\": \"C\", \"text\": [\"C\"], \"x\": [1], \"y\": [1.0], \"type\": \"scatter\"}, {\"marker\": {\"size\": [0.0], \"sizemode\": \"area\", \"sizeref\": 30}, \"mode\": \"markers\", \"name\": \"C#\", \"text\": [\"C#\"], \"x\": [0], \"y\": [0.0], \"type\": \"scatter\"}, {\"marker\": {\"size\": [0.0], \"sizemode\": \"area\", \"sizeref\": 30}, \"mode\": \"markers\", \"name\": \"C++\", \"text\": [\"C++\"], \"x\": [0], \"y\": [0.0], \"type\": \"scatter\"}, {\"marker\": {\"size\": [2371.0], \"sizemode\": \"area\", \"sizeref\": 30}, \"mode\": \"markers\", \"name\": \"CSS\", \"text\": [\"CSS\"], \"x\": [1], \"y\": [4.0], \"type\": \"scatter\"}, {\"marker\": {\"size\": [0.0], \"sizemode\": \"area\", \"sizeref\": 30}, \"mode\": \"markers\", \"name\": \"HTML\", \"text\": [\"HTML\"], \"x\": [0], \"y\": [0.0], \"type\": \"scatter\"}, {\"marker\": {\"size\": [112.0], \"sizemode\": \"area\", \"sizeref\": 30}, \"mode\": \"markers\", \"name\": \"Java\", \"text\": [\"Java\"], \"x\": [1], \"y\": [1.0], \"type\": \"scatter\"}, {\"marker\": {\"size\": [9040.75], \"sizemode\": \"area\", \"sizeref\": 30}, \"mode\": \"markers\", \"name\": \"JavaScript\", \"text\": [\"JavaScript\"], \"x\": [4], \"y\": [4.5], \"type\": \"scatter\"}, {\"marker\": {\"size\": [0.0], \"sizemode\": \"area\", \"sizeref\": 30}, \"mode\": \"markers\", \"name\": \"OCaml\", \"text\": [\"OCaml\"], \"x\": [0], \"y\": [0.0], \"type\": \"scatter\"}, {\"marker\": {\"size\": [0.0], \"sizemode\": \"area\", \"sizeref\": 30}, \"mode\": \"markers\", \"name\": \"Objective-C\", \"text\": [\"Objective-C\"], \"x\": [0], \"y\": [0.0], \"type\": \"scatter\"}, {\"marker\": {\"size\": [124.0], \"sizemode\": \"area\", \"sizeref\": 30}, \"mode\": \"markers\", \"name\": \"Ruby\", \"text\": [\"Ruby\"], \"x\": [1], \"y\": [1.0], \"type\": \"scatter\"}, {\"marker\": {\"size\": [0.0], \"sizemode\": \"area\", \"sizeref\": 30}, \"mode\": \"markers\", \"name\": \"Rust\", \"text\": [\"Rust\"], \"x\": [0], \"y\": [0.0], \"type\": \"scatter\"}, {\"marker\": {\"size\": [108.0], \"sizemode\": \"area\", \"sizeref\": 30}, \"mode\": \"markers\", \"name\": \"Shell\", \"text\": [\"Shell\"], \"x\": [1], \"y\": [1.0], \"type\": \"scatter\"}, {\"marker\": {\"size\": [0.0], \"sizemode\": \"area\", \"sizeref\": 30}, \"mode\": \"markers\", \"name\": \"Swift\", \"text\": [\"Swift\"], \"x\": [0], \"y\": [0.0], \"type\": \"scatter\"}], \"name\": \"1\"}, {\"data\": [{\"marker\": {\"size\": [18020.5], \"sizemode\": \"area\", \"sizeref\": 30}, \"mode\": \"markers\", \"name\": \"C\", \"text\": [\"C\"], \"x\": [3], \"y\": [63.5], \"type\": \"scatter\"}, {\"marker\": {\"size\": [0.0], \"sizemode\": \"area\", \"sizeref\": 30}, \"mode\": \"markers\", \"name\": \"C#\", \"text\": [\"C#\"], \"x\": [0], \"y\": [0.0], \"type\": \"scatter\"}, {\"marker\": {\"size\": [0.0], \"sizemode\": \"area\", \"sizeref\": 30}, \"mode\": \"markers\", \"name\": \"C++\", \"text\": [\"C++\"], \"x\": [0], \"y\": [0.0], \"type\": \"scatter\"}, {\"marker\": {\"size\": [1185.5], \"sizemode\": \"area\", \"sizeref\": 30}, \"mode\": \"markers\", \"name\": \"CSS\", \"text\": [\"CSS\"], \"x\": [1], \"y\": [4.0], \"type\": \"scatter\"}, {\"marker\": {\"size\": [0.0], \"sizemode\": \"area\", \"sizeref\": 30}, \"mode\": \"markers\", \"name\": \"HTML\", \"text\": [\"HTML\"], \"x\": [0], \"y\": [0.0], \"type\": \"scatter\"}, {\"marker\": {\"size\": [56.0], \"sizemode\": \"area\", \"sizeref\": 30}, \"mode\": \"markers\", \"name\": \"Java\", \"text\": [\"Java\"], \"x\": [1], \"y\": [1.0], \"type\": \"scatter\"}, {\"marker\": {\"size\": [5013.041666666667], \"sizemode\": \"area\", \"sizeref\": 30}, \"mode\": \"markers\", \"name\": \"JavaScript\", \"text\": [\"JavaScript\"], \"x\": [7], \"y\": [5.5], \"type\": \"scatter\"}, {\"marker\": {\"size\": [0.0], \"sizemode\": \"area\", \"sizeref\": 30}, \"mode\": \"markers\", \"name\": \"OCaml\", \"text\": [\"OCaml\"], \"x\": [0], \"y\": [0.0], \"type\": \"scatter\"}, {\"marker\": {\"size\": [2693.0], \"sizemode\": \"area\", \"sizeref\": 30}, \"mode\": \"markers\", \"name\": \"Objective-C\", \"text\": [\"Objective-C\"], \"x\": [1], \"y\": [23.0], \"type\": \"scatter\"}, {\"marker\": {\"size\": [62.0], \"sizemode\": \"area\", \"sizeref\": 30}, \"mode\": \"markers\", \"name\": \"Ruby\", \"text\": [\"Ruby\"], \"x\": [1], \"y\": [1.0], \"type\": \"scatter\"}, {\"marker\": {\"size\": [0.0], \"sizemode\": \"area\", \"sizeref\": 30}, \"mode\": \"markers\", \"name\": \"Rust\", \"text\": [\"Rust\"], \"x\": [0], \"y\": [0.0], \"type\": \"scatter\"}, {\"marker\": {\"size\": [533.0], \"sizemode\": \"area\", \"sizeref\": 30}, \"mode\": \"markers\", \"name\": \"Shell\", \"text\": [\"Shell\"], \"x\": [2], \"y\": [2.0], \"type\": \"scatter\"}, {\"marker\": {\"size\": [0.0], \"sizemode\": \"area\", \"sizeref\": 30}, \"mode\": \"markers\", \"name\": \"Swift\", \"text\": [\"Swift\"], \"x\": [0], \"y\": [0.0], \"type\": \"scatter\"}], \"name\": \"2\"}, {\"data\": [{\"marker\": {\"size\": [9010.25], \"sizemode\": \"area\", \"sizeref\": 30}, \"mode\": \"markers\", \"name\": \"C\", \"text\": [\"C\"], \"x\": [3], \"y\": [63.5], \"type\": \"scatter\"}, {\"marker\": {\"size\": [0.0], \"sizemode\": \"area\", \"sizeref\": 30}, \"mode\": \"markers\", \"name\": \"C#\", \"text\": [\"C#\"], \"x\": [0], \"y\": [0.0], \"type\": \"scatter\"}, {\"marker\": {\"size\": [0.0], \"sizemode\": \"area\", \"sizeref\": 30}, \"mode\": \"markers\", \"name\": \"C++\", \"text\": [\"C++\"], \"x\": [0], \"y\": [0.0], \"type\": \"scatter\"}, {\"marker\": {\"size\": [592.75], \"sizemode\": \"area\", \"sizeref\": 30}, \"mode\": \"markers\", \"name\": \"CSS\", \"text\": [\"CSS\"], \"x\": [1], \"y\": [4.0], \"type\": \"scatter\"}, {\"marker\": {\"size\": [0.0], \"sizemode\": \"area\", \"sizeref\": 30}, \"mode\": \"markers\", \"name\": \"HTML\", \"text\": [\"HTML\"], \"x\": [0], \"y\": [0.0], \"type\": \"scatter\"}, {\"marker\": {\"size\": [2012.0], \"sizemode\": \"area\", \"sizeref\": 30}, \"mode\": \"markers\", \"name\": \"Java\", \"text\": [\"Java\"], \"x\": [2], \"y\": [5.0], \"type\": \"scatter\"}, {\"marker\": {\"size\": [3981.1208333333334], \"sizemode\": \"area\", \"sizeref\": 30}, \"mode\": \"markers\", \"name\": \"JavaScript\", \"text\": [\"JavaScript\"], \"x\": [12], \"y\": [14.9], \"type\": \"scatter\"}, {\"marker\": {\"size\": [0.0], \"sizemode\": \"area\", \"sizeref\": 30}, \"mode\": \"markers\", \"name\": \"OCaml\", \"text\": [\"OCaml\"], \"x\": [0], \"y\": [0.0], \"type\": \"scatter\"}, {\"marker\": {\"size\": [1346.5], \"sizemode\": \"area\", \"sizeref\": 30}, \"mode\": \"markers\", \"name\": \"Objective-C\", \"text\": [\"Objective-C\"], \"x\": [1], \"y\": [23.0], \"type\": \"scatter\"}, {\"marker\": {\"size\": [31.0], \"sizemode\": \"area\", \"sizeref\": 30}, \"mode\": \"markers\", \"name\": \"Ruby\", \"text\": [\"Ruby\"], \"x\": [1], \"y\": [1.0], \"type\": \"scatter\"}, {\"marker\": {\"size\": [0.0], \"sizemode\": \"area\", \"sizeref\": 30}, \"mode\": \"markers\", \"name\": \"Rust\", \"text\": [\"Rust\"], \"x\": [0], \"y\": [0.0], \"type\": \"scatter\"}, {\"marker\": {\"size\": [313.0], \"sizemode\": \"area\", \"sizeref\": 30}, \"mode\": \"markers\", \"name\": \"Shell\", \"text\": [\"Shell\"], \"x\": [6], \"y\": [3.75], \"type\": \"scatter\"}, {\"marker\": {\"size\": [0.0], \"sizemode\": \"area\", \"sizeref\": 30}, \"mode\": \"markers\", \"name\": \"Swift\", \"text\": [\"Swift\"], \"x\": [0], \"y\": [0.0], \"type\": \"scatter\"}], \"name\": \"3\"}, {\"data\": [{\"marker\": {\"size\": [4505.125], \"sizemode\": \"area\", \"sizeref\": 30}, \"mode\": \"markers\", \"name\": \"C\", \"text\": [\"C\"], \"x\": [3], \"y\": [63.5], \"type\": \"scatter\"}, {\"marker\": {\"size\": [234063.0], \"sizemode\": \"area\", \"sizeref\": 30}, \"mode\": \"markers\", \"name\": \"C#\", \"text\": [\"C#\"], \"x\": [1], \"y\": [118.0], \"type\": \"scatter\"}, {\"marker\": {\"size\": [163184.0], \"sizemode\": \"area\", \"sizeref\": 30}, \"mode\": \"markers\", \"name\": \"C++\", \"text\": [\"C++\"], \"x\": [2], \"y\": [124.0], \"type\": \"scatter\"}, {\"marker\": {\"size\": [296.375], \"sizemode\": \"area\", \"sizeref\": 30}, \"mode\": \"markers\", \"name\": \"CSS\", \"text\": [\"CSS\"], \"x\": [1], \"y\": [4.0], \"type\": \"scatter\"}, {\"marker\": {\"size\": [1131.3333333333333], \"sizemode\": \"area\", \"sizeref\": 30}, \"mode\": \"markers\", \"name\": \"HTML\", \"text\": [\"HTML\"], \"x\": [3], \"y\": [43.333333333333336], \"type\": \"scatter\"}, {\"marker\": {\"size\": [1139.1875], \"sizemode\": \"area\", \"sizeref\": 30}, \"mode\": \"markers\", \"name\": \"Java\", \"text\": [\"Java\"], \"x\": [34], \"y\": [11.84375], \"type\": \"scatter\"}, {\"marker\": {\"size\": [176663.22708333333], \"sizemode\": \"area\", \"sizeref\": 30}, \"mode\": \"markers\", \"name\": \"JavaScript\", \"text\": [\"JavaScript\"], \"x\": [15], \"y\": [273.2333333333333], \"type\": \"scatter\"}, {\"marker\": {\"size\": [0.0], \"sizemode\": \"area\", \"sizeref\": 30}, \"mode\": \"markers\", \"name\": \"OCaml\", \"text\": [\"OCaml\"], \"x\": [0], \"y\": [0.0], \"type\": \"scatter\"}, {\"marker\": {\"size\": [673.25], \"sizemode\": \"area\", \"sizeref\": 30}, \"mode\": \"markers\", \"name\": \"Objective-C\", \"text\": [\"Objective-C\"], \"x\": [1], \"y\": [23.0], \"type\": \"scatter\"}, {\"marker\": {\"size\": [15.5], \"sizemode\": \"area\", \"sizeref\": 30}, \"mode\": \"markers\", \"name\": \"Ruby\", \"text\": [\"Ruby\"], \"x\": [1], \"y\": [1.0], \"type\": \"scatter\"}, {\"marker\": {\"size\": [0.0], \"sizemode\": \"area\", \"sizeref\": 30}, \"mode\": \"markers\", \"name\": \"Rust\", \"text\": [\"Rust\"], \"x\": [0], \"y\": [0.0], \"type\": \"scatter\"}, {\"marker\": {\"size\": [3421.5], \"sizemode\": \"area\", \"sizeref\": 30}, \"mode\": \"markers\", \"name\": \"Shell\", \"text\": [\"Shell\"], \"x\": [11], \"y\": [10.55], \"type\": \"scatter\"}, {\"marker\": {\"size\": [0.0], \"sizemode\": \"area\", \"sizeref\": 30}, \"mode\": \"markers\", \"name\": \"Swift\", \"text\": [\"Swift\"], \"x\": [0], \"y\": [0.0], \"type\": \"scatter\"}], \"name\": \"4\"}, {\"data\": [{\"marker\": {\"size\": [2252.5625], \"sizemode\": \"area\", \"sizeref\": 30}, \"mode\": \"markers\", \"name\": \"C\", \"text\": [\"C\"], \"x\": [3], \"y\": [63.5], \"type\": \"scatter\"}, {\"marker\": {\"size\": [117031.5], \"sizemode\": \"area\", \"sizeref\": 30}, \"mode\": \"markers\", \"name\": \"C#\", \"text\": [\"C#\"], \"x\": [1], \"y\": [118.0], \"type\": \"scatter\"}, {\"marker\": {\"size\": [81592.0], \"sizemode\": \"area\", \"sizeref\": 30}, \"mode\": \"markers\", \"name\": \"C++\", \"text\": [\"C++\"], \"x\": [2], \"y\": [124.0], \"type\": \"scatter\"}, {\"marker\": {\"size\": [17335.1875], \"sizemode\": \"area\", \"sizeref\": 30}, \"mode\": \"markers\", \"name\": \"CSS\", \"text\": [\"CSS\"], \"x\": [3], \"y\": [49.5], \"type\": \"scatter\"}, {\"marker\": {\"size\": [2596.6666666666665], \"sizemode\": \"area\", \"sizeref\": 30}, \"mode\": \"markers\", \"name\": \"HTML\", \"text\": [\"HTML\"], \"x\": [4], \"y\": [135.33333333333334], \"type\": \"scatter\"}, {\"marker\": {\"size\": [21724.260416666668], \"sizemode\": \"area\", \"sizeref\": 30}, \"mode\": \"markers\", \"name\": \"Java\", \"text\": [\"Java\"], \"x\": [40], \"y\": [117.84375], \"type\": \"scatter\"}, {\"marker\": {\"size\": [122807.23854166667], \"sizemode\": \"area\", \"sizeref\": 30}, \"mode\": \"markers\", \"name\": \"JavaScript\", \"text\": [\"JavaScript\"], \"x\": [23], \"y\": [299.9833333333333], \"type\": \"scatter\"}, {\"marker\": {\"size\": [0.0], \"sizemode\": \"area\", \"sizeref\": 30}, \"mode\": \"markers\", \"name\": \"OCaml\", \"text\": [\"OCaml\"], \"x\": [0], \"y\": [0.0], \"type\": \"scatter\"}, {\"marker\": {\"size\": [22089.625], \"sizemode\": \"area\", \"sizeref\": 30}, \"mode\": \"markers\", \"name\": \"Objective-C\", \"text\": [\"Objective-C\"], \"x\": [2], \"y\": [28.0], \"type\": \"scatter\"}, {\"marker\": {\"size\": [1109.25], \"sizemode\": \"area\", \"sizeref\": 30}, \"mode\": \"markers\", \"name\": \"Ruby\", \"text\": [\"Ruby\"], \"x\": [3], \"y\": [17.0], \"type\": \"scatter\"}, {\"marker\": {\"size\": [138.5], \"sizemode\": \"area\", \"sizeref\": 30}, \"mode\": \"markers\", \"name\": \"Rust\", \"text\": [\"Rust\"], \"x\": [2], \"y\": [15.5], \"type\": \"scatter\"}, {\"marker\": {\"size\": [3662.464285714286], \"sizemode\": \"area\", \"sizeref\": 30}, \"mode\": \"markers\", \"name\": \"Shell\", \"text\": [\"Shell\"], \"x\": [18], \"y\": [14.407142857142858], \"type\": \"scatter\"}, {\"marker\": {\"size\": [2128.0], \"sizemode\": \"area\", \"sizeref\": 30}, \"mode\": \"markers\", \"name\": \"Swift\", \"text\": [\"Swift\"], \"x\": [1], \"y\": [1.0], \"type\": \"scatter\"}], \"name\": \"5\"}, {\"data\": [{\"marker\": {\"size\": [41946.614583333336], \"sizemode\": \"area\", \"sizeref\": 30}, \"mode\": \"markers\", \"name\": \"C\", \"text\": [\"C\"], \"x\": [9], \"y\": [168.5], \"type\": \"scatter\"}, {\"marker\": {\"size\": [58515.75], \"sizemode\": \"area\", \"sizeref\": 30}, \"mode\": \"markers\", \"name\": \"C#\", \"text\": [\"C#\"], \"x\": [1], \"y\": [118.0], \"type\": \"scatter\"}, {\"marker\": {\"size\": [86640.0], \"sizemode\": \"area\", \"sizeref\": 30}, \"mode\": \"markers\", \"name\": \"C++\", \"text\": [\"C++\"], \"x\": [5], \"y\": [144.66666666666666], \"type\": \"scatter\"}, {\"marker\": {\"size\": [8667.59375], \"sizemode\": \"area\", \"sizeref\": 30}, \"mode\": \"markers\", \"name\": \"CSS\", \"text\": [\"CSS\"], \"x\": [3], \"y\": [49.5], \"type\": \"scatter\"}, {\"marker\": {\"size\": [12967.533333333335], \"sizemode\": \"area\", \"sizeref\": 30}, \"mode\": \"markers\", \"name\": \"HTML\", \"text\": [\"HTML\"], \"x\": [9], \"y\": [152.73333333333335], \"type\": \"scatter\"}, {\"marker\": {\"size\": [10862.130208333334], \"sizemode\": \"area\", \"sizeref\": 30}, \"mode\": \"markers\", \"name\": \"Java\", \"text\": [\"Java\"], \"x\": [40], \"y\": [117.84375], \"type\": \"scatter\"}, {\"marker\": {\"size\": [64441.2859375], \"sizemode\": \"area\", \"sizeref\": 30}, \"mode\": \"markers\", \"name\": \"JavaScript\", \"text\": [\"JavaScript\"], \"x\": [26], \"y\": [338.9833333333333], \"type\": \"scatter\"}, {\"marker\": {\"size\": [187.0], \"sizemode\": \"area\", \"sizeref\": 30}, \"mode\": \"markers\", \"name\": \"OCaml\", \"text\": [\"OCaml\"], \"x\": [1], \"y\": [1.0], \"type\": \"scatter\"}, {\"marker\": {\"size\": [11044.8125], \"sizemode\": \"area\", \"sizeref\": 30}, \"mode\": \"markers\", \"name\": \"Objective-C\", \"text\": [\"Objective-C\"], \"x\": [2], \"y\": [28.0], \"type\": \"scatter\"}, {\"marker\": {\"size\": [100415.625], \"sizemode\": \"area\", \"sizeref\": 30}, \"mode\": \"markers\", \"name\": \"Ruby\", \"text\": [\"Ruby\"], \"x\": [7], \"y\": [348.5], \"type\": \"scatter\"}, {\"marker\": {\"size\": [7380.25], \"sizemode\": \"area\", \"sizeref\": 30}, \"mode\": \"markers\", \"name\": \"Rust\", \"text\": [\"Rust\"], \"x\": [3], \"y\": [134.5], \"type\": \"scatter\"}, {\"marker\": {\"size\": [83627.23214285714], \"sizemode\": \"area\", \"sizeref\": 30}, \"mode\": \"markers\", \"name\": \"Shell\", \"text\": [\"Shell\"], \"x\": [19], \"y\": [22.40714285714286], \"type\": \"scatter\"}, {\"marker\": {\"size\": [5450.0], \"sizemode\": \"area\", \"sizeref\": 30}, \"mode\": \"markers\", \"name\": \"Swift\", \"text\": [\"Swift\"], \"x\": [2], \"y\": [56.0], \"type\": \"scatter\"}], \"name\": \"6\"}, {\"data\": [{\"marker\": {\"size\": [20973.307291666668], \"sizemode\": \"area\", \"sizeref\": 30}, \"mode\": \"markers\", \"name\": \"C\", \"text\": [\"C\"], \"x\": [9], \"y\": [168.5], \"type\": \"scatter\"}, {\"marker\": {\"size\": [29257.875], \"sizemode\": \"area\", \"sizeref\": 30}, \"mode\": \"markers\", \"name\": \"C#\", \"text\": [\"C#\"], \"x\": [1], \"y\": [118.0], \"type\": \"scatter\"}, {\"marker\": {\"size\": [43320.0], \"sizemode\": \"area\", \"sizeref\": 30}, \"mode\": \"markers\", \"name\": \"C++\", \"text\": [\"C++\"], \"x\": [5], \"y\": [144.66666666666666], \"type\": \"scatter\"}, {\"marker\": {\"size\": [4333.796875], \"sizemode\": \"area\", \"sizeref\": 30}, \"mode\": \"markers\", \"name\": \"CSS\", \"text\": [\"CSS\"], \"x\": [3], \"y\": [49.5], \"type\": \"scatter\"}, {\"marker\": {\"size\": [6827.766666666667], \"sizemode\": \"area\", \"sizeref\": 30}, \"mode\": \"markers\", \"name\": \"HTML\", \"text\": [\"HTML\"], \"x\": [10], \"y\": [155.73333333333335], \"type\": \"scatter\"}, {\"marker\": {\"size\": [5431.065104166667], \"sizemode\": \"area\", \"sizeref\": 30}, \"mode\": \"markers\", \"name\": \"Java\", \"text\": [\"Java\"], \"x\": [40], \"y\": [117.84375], \"type\": \"scatter\"}, {\"marker\": {\"size\": [32220.64296875], \"sizemode\": \"area\", \"sizeref\": 30}, \"mode\": \"markers\", \"name\": \"JavaScript\", \"text\": [\"JavaScript\"], \"x\": [26], \"y\": [338.9833333333333], \"type\": \"scatter\"}, {\"marker\": {\"size\": [5518.833333333333], \"sizemode\": \"area\", \"sizeref\": 30}, \"mode\": \"markers\", \"name\": \"OCaml\", \"text\": [\"OCaml\"], \"x\": [4], \"y\": [2.333333333333333], \"type\": \"scatter\"}, {\"marker\": {\"size\": [5522.40625], \"sizemode\": \"area\", \"sizeref\": 30}, \"mode\": \"markers\", \"name\": \"Objective-C\", \"text\": [\"Objective-C\"], \"x\": [2], \"y\": [28.0], \"type\": \"scatter\"}, {\"marker\": {\"size\": [50207.8125], \"sizemode\": \"area\", \"sizeref\": 30}, \"mode\": \"markers\", \"name\": \"Ruby\", \"text\": [\"Ruby\"], \"x\": [7], \"y\": [348.5], \"type\": \"scatter\"}, {\"marker\": {\"size\": [3690.125], \"sizemode\": \"area\", \"sizeref\": 30}, \"mode\": \"markers\", \"name\": \"Rust\", \"text\": [\"Rust\"], \"x\": [3], \"y\": [134.5], \"type\": \"scatter\"}, {\"marker\": {\"size\": [114578.61607142858], \"sizemode\": \"area\", \"sizeref\": 30}, \"mode\": \"markers\", \"name\": \"Shell\", \"text\": [\"Shell\"], \"x\": [20], \"y\": [348.40714285714284], \"type\": \"scatter\"}, {\"marker\": {\"size\": [2725.0], \"sizemode\": \"area\", \"sizeref\": 30}, \"mode\": \"markers\", \"name\": \"Swift\", \"text\": [\"Swift\"], \"x\": [2], \"y\": [56.0], \"type\": \"scatter\"}], \"name\": \"7\"}, {\"data\": [{\"marker\": {\"size\": [10486.653645833334], \"sizemode\": \"area\", \"sizeref\": 30}, \"mode\": \"markers\", \"name\": \"C\", \"text\": [\"C\"], \"x\": [9], \"y\": [168.5], \"type\": \"scatter\"}, {\"marker\": {\"size\": [14628.9375], \"sizemode\": \"area\", \"sizeref\": 30}, \"mode\": \"markers\", \"name\": \"C#\", \"text\": [\"C#\"], \"x\": [1], \"y\": [118.0], \"type\": \"scatter\"}, {\"marker\": {\"size\": [21979.0], \"sizemode\": \"area\", \"sizeref\": 30}, \"mode\": \"markers\", \"name\": \"C++\", \"text\": [\"C++\"], \"x\": [6], \"y\": [145.66666666666666], \"type\": \"scatter\"}, {\"marker\": {\"size\": [2166.8984375], \"sizemode\": \"area\", \"sizeref\": 30}, \"mode\": \"markers\", \"name\": \"CSS\", \"text\": [\"CSS\"], \"x\": [3], \"y\": [49.5], \"type\": \"scatter\"}, {\"marker\": {\"size\": [3413.8833333333337], \"sizemode\": \"area\", \"sizeref\": 30}, \"mode\": \"markers\", \"name\": \"HTML\", \"text\": [\"HTML\"], \"x\": [10], \"y\": [155.73333333333335], \"type\": \"scatter\"}, {\"marker\": {\"size\": [2715.5325520833335], \"sizemode\": \"area\", \"sizeref\": 30}, \"mode\": \"markers\", \"name\": \"Java\", \"text\": [\"Java\"], \"x\": [40], \"y\": [117.84375], \"type\": \"scatter\"}, {\"marker\": {\"size\": [20806.321484375], \"sizemode\": \"area\", \"sizeref\": 30}, \"mode\": \"markers\", \"name\": \"JavaScript\", \"text\": [\"JavaScript\"], \"x\": [27], \"y\": [339.9833333333333], \"type\": \"scatter\"}, {\"marker\": {\"size\": [3736.4166666666665], \"sizemode\": \"area\", \"sizeref\": 30}, \"mode\": \"markers\", \"name\": \"OCaml\", \"text\": [\"OCaml\"], \"x\": [5], \"y\": [3.333333333333333], \"type\": \"scatter\"}, {\"marker\": {\"size\": [2761.203125], \"sizemode\": \"area\", \"sizeref\": 30}, \"mode\": \"markers\", \"name\": \"Objective-C\", \"text\": [\"Objective-C\"], \"x\": [2], \"y\": [28.0], \"type\": \"scatter\"}, {\"marker\": {\"size\": [25103.90625], \"sizemode\": \"area\", \"sizeref\": 30}, \"mode\": \"markers\", \"name\": \"Ruby\", \"text\": [\"Ruby\"], \"x\": [7], \"y\": [348.5], \"type\": \"scatter\"}, {\"marker\": {\"size\": [1845.0625], \"sizemode\": \"area\", \"sizeref\": 30}, \"mode\": \"markers\", \"name\": \"Rust\", \"text\": [\"Rust\"], \"x\": [3], \"y\": [134.5], \"type\": \"scatter\"}, {\"marker\": {\"size\": [57289.30803571429], \"sizemode\": \"area\", \"sizeref\": 30}, \"mode\": \"markers\", \"name\": \"Shell\", \"text\": [\"Shell\"], \"x\": [20], \"y\": [348.40714285714284], \"type\": \"scatter\"}, {\"marker\": {\"size\": [1362.5], \"sizemode\": \"area\", \"sizeref\": 30}, \"mode\": \"markers\", \"name\": \"Swift\", \"text\": [\"Swift\"], \"x\": [2], \"y\": [56.0], \"type\": \"scatter\"}], \"name\": \"8\"}]);\n",
       "                        }).then(function(){\n",
       "                            \n",
       "var gd = document.getElementById('94b24746-e21b-449f-b590-a9b0ac6d8088');\n",
       "var x = new MutationObserver(function (mutations, observer) {{\n",
       "        var display = window.getComputedStyle(gd).display;\n",
       "        if (!display || display === 'none') {{\n",
       "            console.log([gd, 'removed!']);\n",
       "            Plotly.purge(gd);\n",
       "            observer.disconnect();\n",
       "        }}\n",
       "}});\n",
       "\n",
       "// Listen for the removal of the full notebook cells\n",
       "var notebookContainer = gd.closest('#notebook-container');\n",
       "if (notebookContainer) {{\n",
       "    x.observe(notebookContainer, {childList: true});\n",
       "}}\n",
       "\n",
       "// Listen for the clearing of the current output cell\n",
       "var outputEl = gd.closest('.output');\n",
       "if (outputEl) {{\n",
       "    x.observe(outputEl, {childList: true});\n",
       "}}\n",
       "\n",
       "                        })\n",
       "                };\n",
       "                });\n",
       "            </script>\n",
       "        </div>"
      ]
     },
     "metadata": {},
     "output_type": "display_data"
    }
   ],
   "source": [
    "fig_dict[\"layout\"][\"sliders\"] = [sliders_dict]\n",
    "fig = go.Figure(fig_dict)\n",
    "fig.show()"
   ]
  },
  {
   "cell_type": "code",
   "execution_count": null,
   "metadata": {},
   "outputs": [],
   "source": []
  },
  {
   "cell_type": "code",
   "execution_count": null,
   "metadata": {},
   "outputs": [],
   "source": []
  }
 ],
 "metadata": {
  "kernelspec": {
   "display_name": "Python 3",
   "language": "python",
   "name": "python3"
  },
  "language_info": {
   "codemirror_mode": {
    "name": "ipython",
    "version": 3
   },
   "file_extension": ".py",
   "mimetype": "text/x-python",
   "name": "python",
   "nbconvert_exporter": "python",
   "pygments_lexer": "ipython3",
   "version": "3.7.4"
  }
 },
 "nbformat": 4,
 "nbformat_minor": 2
}
